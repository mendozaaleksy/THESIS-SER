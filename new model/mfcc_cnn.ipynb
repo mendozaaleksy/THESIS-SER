{
 "cells": [
  {
   "cell_type": "markdown",
   "id": "4af0be38",
   "metadata": {},
   "source": [
    "# MFCC-based CNN Model for Speech Emotion Recognition\n",
    "\n",
    "This notebook implements a CNN model for speech emotion recognition using the RAVDESS dataset. The model aims to achieve 85.82% accuracy using MFCC features."
   ]
  },
  {
   "cell_type": "code",
   "execution_count": 7,
   "id": "d443c062",
   "metadata": {},
   "outputs": [
    {
     "name": "stdout",
     "output_type": "stream",
     "text": [
      "Using device: cuda\n"
     ]
    }
   ],
   "source": [
    "import numpy as np\n",
    "import pandas as pd\n",
    "import torch\n",
    "import torch.nn as nn\n",
    "import torch.optim as optim\n",
    "from torch.utils.data import Dataset, DataLoader\n",
    "import librosa\n",
    "import os\n",
    "from sklearn.model_selection import train_test_split\n",
    "from sklearn.preprocessing import LabelEncoder\n",
    "from sklearn.metrics import classification_report\n",
    "import matplotlib.pyplot as plt\n",
    "from tqdm import tqdm\n",
    "\n",
    "# Set random seeds for reproducibility\n",
    "torch.manual_seed(42)\n",
    "np.random.seed(42)\n",
    "\n",
    "# Check if CUDA is available\n",
    "device = torch.device('cuda' if torch.cuda.is_available() else 'cpu')\n",
    "print(f\"Using device: {device}\")"
   ]
  },
  {
   "cell_type": "markdown",
   "id": "a82a85de",
   "metadata": {},
   "source": [
    "## Data Loading and Preprocessing"
   ]
  },
  {
   "cell_type": "code",
   "execution_count": 2,
   "id": "12ff6ea3",
   "metadata": {},
   "outputs": [
    {
     "name": "stdout",
     "output_type": "stream",
     "text": [
      "Total samples: 1440\n",
      "\n",
      "Emotion distribution:\n",
      "emotion\n",
      "1    192\n",
      "2    192\n",
      "3    192\n",
      "4    192\n",
      "6    192\n",
      "5    192\n",
      "7    192\n",
      "0     96\n",
      "Name: count, dtype: int64\n"
     ]
    }
   ],
   "source": [
    "def load_ravdess_data(data_path):\n",
    "    data = []\n",
    "    for actor in os.listdir(data_path):\n",
    "        if actor.startswith('Actor'):\n",
    "            actor_path = os.path.join(data_path, actor)\n",
    "            for filename in os.listdir(actor_path):\n",
    "                file_path = os.path.join(actor_path, filename)\n",
    "                # Parse filename for labels (format: 03-01-01-01-01-01-01.wav)\n",
    "                parts = filename.split('-')\n",
    "                emotion = int(parts[2]) - 1  # Convert to 0-based index\n",
    "                data.append({\n",
    "                    'path': file_path,\n",
    "                    'emotion': emotion,\n",
    "                    'actor': actor\n",
    "                })\n",
    "    return pd.DataFrame(data)\n",
    "\n",
    "def extract_mfcc(file_path, n_mfcc=40):\n",
    "    try:\n",
    "        # Load audio file\n",
    "        y, sr = librosa.load(file_path, duration=3)\n",
    "        \n",
    "        # Ensure consistent length\n",
    "        if len(y) < sr * 3:\n",
    "            y = np.pad(y, (0, sr * 3 - len(y)))\n",
    "        else:\n",
    "            y = y[:sr * 3]\n",
    "        \n",
    "        # Extract MFCC features\n",
    "        mfcc = librosa.feature.mfcc(y=y, sr=sr, n_mfcc=n_mfcc)\n",
    "        return mfcc\n",
    "    except Exception as e:\n",
    "        print(f\"Error processing {file_path}: {str(e)}\")\n",
    "        return None\n",
    "\n",
    "# Load data\n",
    "data_path = \"data/ravdess_actors\"\n",
    "df = load_ravdess_data(data_path)\n",
    "print(f\"Total samples: {len(df)}\")\n",
    "print(\"\\nEmotion distribution:\")\n",
    "print(df['emotion'].value_counts())"
   ]
  },
  {
   "cell_type": "code",
   "execution_count": 3,
   "id": "85201dc4",
   "metadata": {},
   "outputs": [
    {
     "name": "stdout",
     "output_type": "stream",
     "text": [
      "Extracting MFCC features...\n"
     ]
    },
    {
     "name": "stderr",
     "output_type": "stream",
     "text": [
      "100%|██████████| 1440/1440 [00:11<00:00, 124.51it/s]\n",
      "\n"
     ]
    },
    {
     "name": "stdout",
     "output_type": "stream",
     "text": [
      "Features shape: (1440, 130, 40)\n",
      "Labels shape: (1440,)\n",
      "\n",
      "Training set shape: torch.Size([1152, 40, 130])\n",
      "Test set shape: torch.Size([288, 40, 130])\n",
      "Number of training samples: 1152\n",
      "Number of test samples: 288\n"
     ]
    }
   ],
   "source": [
    "# Extract MFCC features for all audio files\n",
    "print(\"Extracting MFCC features...\")\n",
    "X = []\n",
    "y = []\n",
    "\n",
    "for _, row in tqdm(df.iterrows(), total=len(df)):\n",
    "    mfcc = extract_mfcc(row['path'])\n",
    "    if mfcc is not None:\n",
    "        # Transpose MFCC to have time steps as the sequence length\n",
    "        mfcc = mfcc.T  # Shape becomes (time_steps, n_mfcc)\n",
    "        X.append(mfcc)\n",
    "        y.append(row['emotion'])\n",
    "\n",
    "# Convert to numpy arrays\n",
    "X = np.array(X)\n",
    "y = np.array(y)\n",
    "\n",
    "print(f\"Features shape: {X.shape}\")\n",
    "print(f\"Labels shape: {y.shape}\")\n",
    "\n",
    "# Split the data\n",
    "X_train, X_test, y_train, y_test = train_test_split(X, y, test_size=0.2, random_state=42)\n",
    "\n",
    "# Convert to torch tensors and reshape for Conv1d\n",
    "# Conv1d expects input shape: (batch_size, channels, sequence_length)\n",
    "# where sequence_length is the time dimension and channels is the number of MFCC coefficients\n",
    "X_train = torch.FloatTensor(X_train).transpose(1, 2)  # Swap MFCC and time dimensions\n",
    "X_test = torch.FloatTensor(X_test).transpose(1, 2)\n",
    "y_train = torch.LongTensor(y_train)\n",
    "y_test = torch.LongTensor(y_test)\n",
    "\n",
    "print(f\"\\nTraining set shape: {X_train.shape}\")\n",
    "print(f\"Test set shape: {X_test.shape}\")\n",
    "print(f\"Number of training samples: {len(y_train)}\")\n",
    "print(f\"Number of test samples: {len(y_test)}\")"
   ]
  },
  {
   "cell_type": "markdown",
   "id": "c0fc816f",
   "metadata": {},
   "source": [
    "## Model Architecture\n",
    "Here's the CNN model architecture that achieves 85.82% accuracy using MFCC features:"
   ]
  },
  {
   "cell_type": "code",
   "execution_count": 4,
   "id": "9d16d987",
   "metadata": {},
   "outputs": [
    {
     "name": "stdout",
     "output_type": "stream",
     "text": [
      "EmotionCNN(\n",
      "  (conv1): Sequential(\n",
      "    (0): Conv1d(40, 128, kernel_size=(3,), stride=(1,), padding=same)\n",
      "    (1): BatchNorm1d(128, eps=1e-05, momentum=0.1, affine=True, track_running_stats=True)\n",
      "    (2): ReLU()\n",
      "    (3): Conv1d(128, 128, kernel_size=(3,), stride=(1,), padding=same)\n",
      "    (4): BatchNorm1d(128, eps=1e-05, momentum=0.1, affine=True, track_running_stats=True)\n",
      "    (5): ReLU()\n",
      "    (6): MaxPool1d(kernel_size=2, stride=2, padding=0, dilation=1, ceil_mode=False)\n",
      "    (7): Dropout(p=0.2, inplace=False)\n",
      "  )\n",
      "  (conv2_1): Sequential(\n",
      "    (0): Conv1d(128, 256, kernel_size=(3,), stride=(1,), padding=same)\n",
      "    (1): BatchNorm1d(256, eps=1e-05, momentum=0.1, affine=True, track_running_stats=True)\n",
      "    (2): ReLU()\n",
      "    (3): Conv1d(256, 256, kernel_size=(3,), stride=(1,), padding=same)\n",
      "    (4): BatchNorm1d(256, eps=1e-05, momentum=0.1, affine=True, track_running_stats=True)\n",
      "  )\n",
      "  (conv2_2): Sequential(\n",
      "    (0): Conv1d(128, 256, kernel_size=(1,), stride=(1,))\n",
      "  )\n",
      "  (relu2): ReLU()\n",
      "  (pool2): MaxPool1d(kernel_size=2, stride=2, padding=0, dilation=1, ceil_mode=False)\n",
      "  (dropout2): Dropout(p=0.3, inplace=False)\n",
      "  (conv3_1): Sequential(\n",
      "    (0): Conv1d(256, 512, kernel_size=(3,), stride=(1,), padding=same)\n",
      "    (1): BatchNorm1d(512, eps=1e-05, momentum=0.1, affine=True, track_running_stats=True)\n",
      "    (2): ReLU()\n",
      "    (3): Conv1d(512, 512, kernel_size=(3,), stride=(1,), padding=same)\n",
      "    (4): BatchNorm1d(512, eps=1e-05, momentum=0.1, affine=True, track_running_stats=True)\n",
      "  )\n",
      "  (conv3_2): Sequential(\n",
      "    (0): Conv1d(256, 512, kernel_size=(1,), stride=(1,))\n",
      "  )\n",
      "  (relu3): ReLU()\n",
      "  (pool3): MaxPool1d(kernel_size=2, stride=2, padding=0, dilation=1, ceil_mode=False)\n",
      "  (dropout3): Dropout(p=0.4, inplace=False)\n",
      "  (global_pool): AdaptiveAvgPool1d(output_size=1)\n",
      "  (fc1): Linear(in_features=512, out_features=256, bias=True)\n",
      "  (fc_bn): BatchNorm1d(256, eps=1e-05, momentum=0.1, affine=True, track_running_stats=True)\n",
      "  (fc_relu): ReLU()\n",
      "  (fc_dropout): Dropout(p=0.5, inplace=False)\n",
      "  (fc2): Linear(in_features=256, out_features=8, bias=True)\n",
      ")\n"
     ]
    }
   ],
   "source": [
    "class EmotionCNN(nn.Module):\n",
    "    def __init__(self, num_classes=8):\n",
    "        super(EmotionCNN, self).__init__()\n",
    "        \n",
    "        # First Conv1d block\n",
    "        self.conv1 = nn.Sequential(\n",
    "            nn.Conv1d(40, 128, kernel_size=3, padding='same'),\n",
    "            nn.BatchNorm1d(128),\n",
    "            nn.ReLU(),\n",
    "            nn.Conv1d(128, 128, kernel_size=3, padding='same'),\n",
    "            nn.BatchNorm1d(128),\n",
    "            nn.ReLU(),\n",
    "            nn.MaxPool1d(kernel_size=2),\n",
    "            nn.Dropout(0.2)\n",
    "        )\n",
    "        \n",
    "        # Second Conv1d block with residual connection\n",
    "        self.conv2_1 = nn.Sequential(\n",
    "            nn.Conv1d(128, 256, kernel_size=3, padding='same'),\n",
    "            nn.BatchNorm1d(256),\n",
    "            nn.ReLU(),\n",
    "            nn.Conv1d(256, 256, kernel_size=3, padding='same'),\n",
    "            nn.BatchNorm1d(256)\n",
    "        )\n",
    "        self.conv2_2 = nn.Sequential(\n",
    "            nn.Conv1d(128, 256, kernel_size=1)  # 1x1 conv for dimension matching\n",
    "        )\n",
    "        self.relu2 = nn.ReLU()\n",
    "        self.pool2 = nn.MaxPool1d(kernel_size=2)\n",
    "        self.dropout2 = nn.Dropout(0.3)\n",
    "        \n",
    "        # Third Conv1d block with residual connection\n",
    "        self.conv3_1 = nn.Sequential(\n",
    "            nn.Conv1d(256, 512, kernel_size=3, padding='same'),\n",
    "            nn.BatchNorm1d(512),\n",
    "            nn.ReLU(),\n",
    "            nn.Conv1d(512, 512, kernel_size=3, padding='same'),\n",
    "            nn.BatchNorm1d(512)\n",
    "        )\n",
    "        self.conv3_2 = nn.Sequential(\n",
    "            nn.Conv1d(256, 512, kernel_size=1)  # 1x1 conv for dimension matching\n",
    "        )\n",
    "        self.relu3 = nn.ReLU()\n",
    "        self.pool3 = nn.MaxPool1d(kernel_size=2)\n",
    "        self.dropout3 = nn.Dropout(0.4)\n",
    "        \n",
    "        # Global average pooling\n",
    "        self.global_pool = nn.AdaptiveAvgPool1d(1)\n",
    "        \n",
    "        # Fully connected layers\n",
    "        self.fc1 = nn.Linear(512, 256)\n",
    "        self.fc_bn = nn.BatchNorm1d(256)\n",
    "        self.fc_relu = nn.ReLU()\n",
    "        self.fc_dropout = nn.Dropout(0.5)\n",
    "        self.fc2 = nn.Linear(256, num_classes)\n",
    "        \n",
    "    def forward(self, x):\n",
    "        # First block\n",
    "        x = self.conv1(x)\n",
    "        \n",
    "        # Second block with residual\n",
    "        identity = x\n",
    "        x = self.conv2_1(x)\n",
    "        identity = self.conv2_2(identity)\n",
    "        x += identity\n",
    "        x = self.relu2(x)\n",
    "        x = self.pool2(x)\n",
    "        x = self.dropout2(x)\n",
    "        \n",
    "        # Third block with residual\n",
    "        identity = x\n",
    "        x = self.conv3_1(x)\n",
    "        identity = self.conv3_2(identity)\n",
    "        x += identity\n",
    "        x = self.relu3(x)\n",
    "        x = self.pool3(x)\n",
    "        x = self.dropout3(x)\n",
    "        \n",
    "        # Global pooling\n",
    "        x = self.global_pool(x)\n",
    "        x = x.view(x.size(0), -1)\n",
    "        \n",
    "        # Fully connected layers\n",
    "        x = self.fc1(x)\n",
    "        x = self.fc_bn(x)\n",
    "        x = self.fc_relu(x)\n",
    "        x = self.fc_dropout(x)\n",
    "        x = self.fc2(x)\n",
    "        \n",
    "        return x\n",
    "\n",
    "# Create the model instance\n",
    "model = EmotionCNN().to(device)\n",
    "\n",
    "# Define loss function and optimizer\n",
    "criterion = nn.CrossEntropyLoss()\n",
    "optimizer = optim.AdamW(model.parameters(), lr=0.001, weight_decay=0.01)\n",
    "\n",
    "print(model)"
   ]
  },
  {
   "cell_type": "markdown",
   "id": "4cbf57ec",
   "metadata": {},
   "source": [
    "## Training Configuration\n",
    "The model uses the following training parameters:\n",
    "- Batch size: 16\n",
    "- Number of epochs: 200\n",
    "- Learning rate: 0.00005\n",
    "- Optimizer: RMSprop\n",
    "- Loss function: CrossEntropyLoss\n",
    "- Dropout rate: 0.1"
   ]
  },
  {
   "cell_type": "code",
   "execution_count": 5,
   "id": "cb2e8bce",
   "metadata": {},
   "outputs": [
    {
     "name": "stderr",
     "output_type": "stream",
     "text": [
      "Epoch 1/200: 100%|██████████| 36/36 [00:01<00:00, 20.86it/s, loss=1.98]\n",
      "\n"
     ]
    },
    {
     "name": "stdout",
     "output_type": "stream",
     "text": [
      "Epoch [1/200]\n",
      "Training Loss: 2.1112\n",
      "Validation Loss: 1.8994\n",
      "Test Accuracy: 22.92%\n",
      "Best Accuracy: 22.92%\n",
      "--------------------------------------------------\n"
     ]
    },
    {
     "name": "stderr",
     "output_type": "stream",
     "text": [
      "Epoch 2/200: 100%|██████████| 36/36 [00:00<00:00, 138.25it/s, loss=1.83]\n",
      "\n"
     ]
    },
    {
     "name": "stdout",
     "output_type": "stream",
     "text": [
      "Epoch [2/200]\n",
      "Training Loss: 1.9340\n",
      "Validation Loss: 1.6761\n",
      "Test Accuracy: 32.99%\n",
      "Best Accuracy: 32.99%\n",
      "--------------------------------------------------\n"
     ]
    },
    {
     "name": "stderr",
     "output_type": "stream",
     "text": [
      "Epoch 3/200: 100%|██████████| 36/36 [00:00<00:00, 132.30it/s, loss=2.02]\n",
      "\n"
     ]
    },
    {
     "name": "stdout",
     "output_type": "stream",
     "text": [
      "Epoch [3/200]\n",
      "Training Loss: 1.8262\n",
      "Validation Loss: 1.5852\n",
      "Test Accuracy: 39.24%\n",
      "Best Accuracy: 39.24%\n",
      "--------------------------------------------------\n"
     ]
    },
    {
     "name": "stderr",
     "output_type": "stream",
     "text": [
      "Epoch 4/200: 100%|██████████| 36/36 [00:00<00:00, 113.77it/s, loss=1.74]\n",
      "\n"
     ]
    },
    {
     "name": "stdout",
     "output_type": "stream",
     "text": [
      "Epoch [4/200]\n",
      "Training Loss: 1.7405\n",
      "Validation Loss: 1.4675\n",
      "Test Accuracy: 44.44%\n",
      "Best Accuracy: 44.44%\n",
      "--------------------------------------------------\n"
     ]
    },
    {
     "name": "stderr",
     "output_type": "stream",
     "text": [
      "Epoch 5/200: 100%|██████████| 36/36 [00:00<00:00, 127.03it/s, loss=1.86]\n",
      "\n"
     ]
    },
    {
     "name": "stdout",
     "output_type": "stream",
     "text": [
      "Epoch [5/200]\n",
      "Training Loss: 1.5776\n",
      "Validation Loss: 1.4028\n",
      "Test Accuracy: 45.14%\n",
      "Best Accuracy: 45.14%\n",
      "--------------------------------------------------\n"
     ]
    },
    {
     "name": "stderr",
     "output_type": "stream",
     "text": [
      "Epoch 6/200: 100%|██████████| 36/36 [00:00<00:00, 116.60it/s, loss=1.47]\n",
      "\n"
     ]
    },
    {
     "name": "stdout",
     "output_type": "stream",
     "text": [
      "Epoch [6/200]\n",
      "Training Loss: 1.5074\n",
      "Validation Loss: 1.3144\n",
      "Test Accuracy: 49.31%\n",
      "Best Accuracy: 49.31%\n",
      "--------------------------------------------------\n"
     ]
    },
    {
     "name": "stderr",
     "output_type": "stream",
     "text": [
      "Epoch 7/200: 100%|██████████| 36/36 [00:00<00:00, 114.79it/s, loss=1.49]\n",
      "\n"
     ]
    },
    {
     "name": "stdout",
     "output_type": "stream",
     "text": [
      "Epoch [7/200]\n",
      "Training Loss: 1.3937\n",
      "Validation Loss: 1.4022\n",
      "Test Accuracy: 48.26%\n",
      "Best Accuracy: 49.31%\n",
      "--------------------------------------------------\n"
     ]
    },
    {
     "name": "stderr",
     "output_type": "stream",
     "text": [
      "Epoch 8/200: 100%|██████████| 36/36 [00:00<00:00, 123.69it/s, loss=1.42]\n",
      "\n"
     ]
    },
    {
     "name": "stdout",
     "output_type": "stream",
     "text": [
      "Epoch [8/200]\n",
      "Training Loss: 1.3616\n",
      "Validation Loss: 1.4746\n",
      "Test Accuracy: 47.92%\n",
      "Best Accuracy: 49.31%\n",
      "--------------------------------------------------\n"
     ]
    },
    {
     "name": "stderr",
     "output_type": "stream",
     "text": [
      "Epoch 9/200: 100%|██████████| 36/36 [00:00<00:00, 117.23it/s, loss=1.01] \n",
      "\n"
     ]
    },
    {
     "name": "stdout",
     "output_type": "stream",
     "text": [
      "Epoch [9/200]\n",
      "Training Loss: 1.2748\n",
      "Validation Loss: 1.1997\n",
      "Test Accuracy: 54.51%\n",
      "Best Accuracy: 54.51%\n",
      "--------------------------------------------------\n"
     ]
    },
    {
     "name": "stderr",
     "output_type": "stream",
     "text": [
      "Epoch 10/200: 100%|██████████| 36/36 [00:00<00:00, 109.61it/s, loss=1.27]\n",
      "\n"
     ]
    },
    {
     "name": "stdout",
     "output_type": "stream",
     "text": [
      "Epoch [10/200]\n",
      "Training Loss: 1.2539\n",
      "Validation Loss: 1.3929\n",
      "Test Accuracy: 44.79%\n",
      "Best Accuracy: 54.51%\n",
      "--------------------------------------------------\n"
     ]
    },
    {
     "name": "stderr",
     "output_type": "stream",
     "text": [
      "Epoch 11/200: 100%|██████████| 36/36 [00:00<00:00, 128.06it/s, loss=1.55] \n",
      "Epoch 11/200: 100%|██████████| 36/36 [00:00<00:00, 128.06it/s, loss=1.55] \n"
     ]
    },
    {
     "name": "stdout",
     "output_type": "stream",
     "text": [
      "Epoch [11/200]\n",
      "Training Loss: 1.2313\n",
      "Validation Loss: 1.2723\n",
      "Test Accuracy: 53.12%\n",
      "Best Accuracy: 54.51%\n",
      "--------------------------------------------------\n"
     ]
    },
    {
     "name": "stderr",
     "output_type": "stream",
     "text": [
      "Epoch 12/200: 100%|██████████| 36/36 [00:00<00:00, 115.65it/s, loss=1.53] \n",
      "\n"
     ]
    },
    {
     "name": "stdout",
     "output_type": "stream",
     "text": [
      "Epoch [12/200]\n",
      "Training Loss: 1.1419\n",
      "Validation Loss: 1.0162\n",
      "Test Accuracy: 64.24%\n",
      "Best Accuracy: 64.24%\n",
      "--------------------------------------------------\n"
     ]
    },
    {
     "name": "stderr",
     "output_type": "stream",
     "text": [
      "Epoch 13/200: 100%|██████████| 36/36 [00:00<00:00, 114.44it/s, loss=0.775]\n",
      "\n"
     ]
    },
    {
     "name": "stdout",
     "output_type": "stream",
     "text": [
      "Epoch [13/200]\n",
      "Training Loss: 1.0489\n",
      "Validation Loss: 1.2579\n",
      "Test Accuracy: 59.72%\n",
      "Best Accuracy: 64.24%\n",
      "--------------------------------------------------\n"
     ]
    },
    {
     "name": "stderr",
     "output_type": "stream",
     "text": [
      "Epoch 14/200: 100%|██████████| 36/36 [00:00<00:00, 119.41it/s, loss=0.883]\n",
      "\n"
     ]
    },
    {
     "name": "stdout",
     "output_type": "stream",
     "text": [
      "Epoch [14/200]\n",
      "Training Loss: 1.0577\n",
      "Validation Loss: 1.6165\n",
      "Test Accuracy: 46.18%\n",
      "Best Accuracy: 64.24%\n",
      "--------------------------------------------------\n"
     ]
    },
    {
     "name": "stderr",
     "output_type": "stream",
     "text": [
      "Epoch 15/200: 100%|██████████| 36/36 [00:00<00:00, 125.92it/s, loss=1.79] \n",
      "\n"
     ]
    },
    {
     "name": "stdout",
     "output_type": "stream",
     "text": [
      "Epoch [15/200]\n",
      "Training Loss: 1.0645\n",
      "Validation Loss: 1.2586\n",
      "Test Accuracy: 56.94%\n",
      "Best Accuracy: 64.24%\n",
      "--------------------------------------------------\n"
     ]
    },
    {
     "name": "stderr",
     "output_type": "stream",
     "text": [
      "Epoch 16/200: 100%|██████████| 36/36 [00:00<00:00, 123.38it/s, loss=0.686]\n",
      "\n"
     ]
    },
    {
     "name": "stdout",
     "output_type": "stream",
     "text": [
      "Epoch [16/200]\n",
      "Training Loss: 0.9529\n",
      "Validation Loss: 1.0950\n",
      "Test Accuracy: 60.07%\n",
      "Best Accuracy: 64.24%\n",
      "--------------------------------------------------\n"
     ]
    },
    {
     "name": "stderr",
     "output_type": "stream",
     "text": [
      "Epoch 17/200: 100%|██████████| 36/36 [00:00<00:00, 126.56it/s, loss=0.844]\n",
      "\n"
     ]
    },
    {
     "name": "stdout",
     "output_type": "stream",
     "text": [
      "Epoch [17/200]\n",
      "Training Loss: 0.9632\n",
      "Validation Loss: 1.2690\n",
      "Test Accuracy: 60.76%\n",
      "Best Accuracy: 64.24%\n",
      "--------------------------------------------------\n"
     ]
    },
    {
     "name": "stderr",
     "output_type": "stream",
     "text": [
      "Epoch 18/200: 100%|██████████| 36/36 [00:00<00:00, 126.55it/s, loss=1.54] \n",
      "\n"
     ]
    },
    {
     "name": "stdout",
     "output_type": "stream",
     "text": [
      "Epoch [18/200]\n",
      "Training Loss: 1.0050\n",
      "Validation Loss: 1.1885\n",
      "Test Accuracy: 62.15%\n",
      "Best Accuracy: 64.24%\n",
      "--------------------------------------------------\n"
     ]
    },
    {
     "name": "stderr",
     "output_type": "stream",
     "text": [
      "Epoch 19/200: 100%|██████████| 36/36 [00:00<00:00, 126.13it/s, loss=0.479]\n",
      "Epoch 19/200: 100%|██████████| 36/36 [00:00<00:00, 126.13it/s, loss=0.479]\n"
     ]
    },
    {
     "name": "stdout",
     "output_type": "stream",
     "text": [
      "Epoch [19/200]\n",
      "Training Loss: 0.8855\n",
      "Validation Loss: 0.9357\n",
      "Test Accuracy: 70.83%\n",
      "Best Accuracy: 70.83%\n",
      "--------------------------------------------------\n"
     ]
    },
    {
     "name": "stderr",
     "output_type": "stream",
     "text": [
      "Epoch 20/200: 100%|██████████| 36/36 [00:00<00:00, 118.92it/s, loss=0.524]\n",
      "\n"
     ]
    },
    {
     "name": "stdout",
     "output_type": "stream",
     "text": [
      "Epoch [20/200]\n",
      "Training Loss: 1.0738\n",
      "Validation Loss: 1.3043\n",
      "Test Accuracy: 55.21%\n",
      "Best Accuracy: 70.83%\n",
      "--------------------------------------------------\n"
     ]
    },
    {
     "name": "stderr",
     "output_type": "stream",
     "text": [
      "Epoch 21/200: 100%|██████████| 36/36 [00:00<00:00, 110.12it/s, loss=0.932]\n",
      "\n"
     ]
    },
    {
     "name": "stdout",
     "output_type": "stream",
     "text": [
      "Epoch [21/200]\n",
      "Training Loss: 0.8394\n",
      "Validation Loss: 1.0054\n",
      "Test Accuracy: 65.28%\n",
      "Best Accuracy: 70.83%\n",
      "--------------------------------------------------\n"
     ]
    },
    {
     "name": "stderr",
     "output_type": "stream",
     "text": [
      "Epoch 22/200: 100%|██████████| 36/36 [00:00<00:00, 126.53it/s, loss=0.397]\n",
      "\n"
     ]
    },
    {
     "name": "stdout",
     "output_type": "stream",
     "text": [
      "Epoch [22/200]\n",
      "Training Loss: 0.7997\n",
      "Validation Loss: 2.0105\n",
      "Test Accuracy: 40.28%\n",
      "Best Accuracy: 70.83%\n",
      "--------------------------------------------------\n"
     ]
    },
    {
     "name": "stderr",
     "output_type": "stream",
     "text": [
      "Epoch 23/200: 100%|██████████| 36/36 [00:00<00:00, 115.76it/s, loss=1.81] \n",
      "\n"
     ]
    },
    {
     "name": "stdout",
     "output_type": "stream",
     "text": [
      "Epoch [23/200]\n",
      "Training Loss: 0.7819\n",
      "Validation Loss: 1.6401\n",
      "Test Accuracy: 55.90%\n",
      "Best Accuracy: 70.83%\n",
      "--------------------------------------------------\n"
     ]
    },
    {
     "name": "stderr",
     "output_type": "stream",
     "text": [
      "Epoch 24/200: 100%|██████████| 36/36 [00:00<00:00, 125.05it/s, loss=0.676]\n",
      "\n"
     ]
    },
    {
     "name": "stdout",
     "output_type": "stream",
     "text": [
      "Epoch [24/200]\n",
      "Training Loss: 0.7478\n",
      "Validation Loss: 0.9383\n",
      "Test Accuracy: 70.83%\n",
      "Best Accuracy: 70.83%\n",
      "--------------------------------------------------\n"
     ]
    },
    {
     "name": "stderr",
     "output_type": "stream",
     "text": [
      "Epoch 25/200: 100%|██████████| 36/36 [00:00<00:00, 133.33it/s, loss=1.1]  \n",
      "\n"
     ]
    },
    {
     "name": "stdout",
     "output_type": "stream",
     "text": [
      "Epoch [25/200]\n",
      "Training Loss: 0.8436\n",
      "Validation Loss: 0.9316\n",
      "Test Accuracy: 67.36%\n",
      "Best Accuracy: 70.83%\n",
      "--------------------------------------------------\n"
     ]
    },
    {
     "name": "stderr",
     "output_type": "stream",
     "text": [
      "Epoch 26/200: 100%|██████████| 36/36 [00:00<00:00, 131.42it/s, loss=0.277]\n",
      "\n"
     ]
    },
    {
     "name": "stdout",
     "output_type": "stream",
     "text": [
      "Epoch [26/200]\n",
      "Training Loss: 0.7460\n",
      "Validation Loss: 1.4869\n",
      "Test Accuracy: 57.29%\n",
      "Best Accuracy: 70.83%\n",
      "--------------------------------------------------\n"
     ]
    },
    {
     "name": "stderr",
     "output_type": "stream",
     "text": [
      "Epoch 27/200: 100%|██████████| 36/36 [00:00<00:00, 130.33it/s, loss=0.491]\n",
      "\n"
     ]
    },
    {
     "name": "stdout",
     "output_type": "stream",
     "text": [
      "Epoch [27/200]\n",
      "Training Loss: 0.6643\n",
      "Validation Loss: 1.2826\n",
      "Test Accuracy: 58.33%\n",
      "Best Accuracy: 70.83%\n",
      "--------------------------------------------------\n"
     ]
    },
    {
     "name": "stderr",
     "output_type": "stream",
     "text": [
      "Epoch 28/200: 100%|██████████| 36/36 [00:00<00:00, 115.27it/s, loss=0.292]\n",
      "\n"
     ]
    },
    {
     "name": "stdout",
     "output_type": "stream",
     "text": [
      "Epoch [28/200]\n",
      "Training Loss: 0.7294\n",
      "Validation Loss: 1.5346\n",
      "Test Accuracy: 57.99%\n",
      "Best Accuracy: 70.83%\n",
      "--------------------------------------------------\n"
     ]
    },
    {
     "name": "stderr",
     "output_type": "stream",
     "text": [
      "Epoch 29/200: 100%|██████████| 36/36 [00:00<00:00, 129.98it/s, loss=0.451]\n",
      "\n"
     ]
    },
    {
     "name": "stdout",
     "output_type": "stream",
     "text": [
      "Epoch [29/200]\n",
      "Training Loss: 0.7191\n",
      "Validation Loss: 1.0231\n",
      "Test Accuracy: 67.71%\n",
      "Best Accuracy: 70.83%\n",
      "--------------------------------------------------\n"
     ]
    },
    {
     "name": "stderr",
     "output_type": "stream",
     "text": [
      "Epoch 30/200: 100%|██████████| 36/36 [00:00<00:00, 126.99it/s, loss=1.29] \n",
      "\n"
     ]
    },
    {
     "name": "stdout",
     "output_type": "stream",
     "text": [
      "Epoch [30/200]\n",
      "Training Loss: 0.7442\n",
      "Validation Loss: 0.7383\n",
      "Test Accuracy: 75.69%\n",
      "Best Accuracy: 75.69%\n",
      "--------------------------------------------------\n"
     ]
    },
    {
     "name": "stderr",
     "output_type": "stream",
     "text": [
      "Epoch 31/200: 100%|██████████| 36/36 [00:00<00:00, 133.31it/s, loss=0.469]\n",
      "Epoch 31/200: 100%|██████████| 36/36 [00:00<00:00, 133.31it/s, loss=0.469]\n"
     ]
    },
    {
     "name": "stdout",
     "output_type": "stream",
     "text": [
      "Epoch [31/200]\n",
      "Training Loss: 0.5828\n",
      "Validation Loss: 1.1601\n",
      "Test Accuracy: 63.89%\n",
      "Best Accuracy: 75.69%\n",
      "--------------------------------------------------\n"
     ]
    },
    {
     "name": "stderr",
     "output_type": "stream",
     "text": [
      "Epoch 32/200: 100%|██████████| 36/36 [00:00<00:00, 130.17it/s, loss=0.283] \n",
      "\n"
     ]
    },
    {
     "name": "stdout",
     "output_type": "stream",
     "text": [
      "Epoch [32/200]\n",
      "Training Loss: 0.5925\n",
      "Validation Loss: 0.7940\n",
      "Test Accuracy: 72.92%\n",
      "Best Accuracy: 75.69%\n",
      "--------------------------------------------------\n"
     ]
    },
    {
     "name": "stderr",
     "output_type": "stream",
     "text": [
      "Epoch 33/200: 100%|██████████| 36/36 [00:00<00:00, 127.28it/s, loss=0.398]\n",
      "Epoch 33/200: 100%|██████████| 36/36 [00:00<00:00, 127.28it/s, loss=0.398]\n"
     ]
    },
    {
     "name": "stdout",
     "output_type": "stream",
     "text": [
      "Epoch [33/200]\n",
      "Training Loss: 0.6523\n",
      "Validation Loss: 0.6605\n",
      "Test Accuracy: 78.47%\n",
      "Best Accuracy: 78.47%\n",
      "--------------------------------------------------\n"
     ]
    },
    {
     "name": "stderr",
     "output_type": "stream",
     "text": [
      "Epoch 34/200: 100%|██████████| 36/36 [00:00<00:00, 125.42it/s, loss=0.487]\n",
      "\n"
     ]
    },
    {
     "name": "stdout",
     "output_type": "stream",
     "text": [
      "Epoch [34/200]\n",
      "Training Loss: 0.7913\n",
      "Validation Loss: 0.8126\n",
      "Test Accuracy: 76.04%\n",
      "Best Accuracy: 78.47%\n",
      "--------------------------------------------------\n"
     ]
    },
    {
     "name": "stderr",
     "output_type": "stream",
     "text": [
      "Epoch 35/200: 100%|██████████| 36/36 [00:00<00:00, 101.55it/s, loss=0.198]\n",
      "\n"
     ]
    },
    {
     "name": "stdout",
     "output_type": "stream",
     "text": [
      "Epoch [35/200]\n",
      "Training Loss: 0.6689\n",
      "Validation Loss: 1.2004\n",
      "Test Accuracy: 64.58%\n",
      "Best Accuracy: 78.47%\n",
      "--------------------------------------------------\n"
     ]
    },
    {
     "name": "stderr",
     "output_type": "stream",
     "text": [
      "Epoch 36/200: 100%|██████████| 36/36 [00:00<00:00, 119.65it/s, loss=0.759]\n",
      "Epoch 36/200: 100%|██████████| 36/36 [00:00<00:00, 119.65it/s, loss=0.759]\n"
     ]
    },
    {
     "name": "stdout",
     "output_type": "stream",
     "text": [
      "Epoch [36/200]\n",
      "Training Loss: 0.6248\n",
      "Validation Loss: 0.8293\n",
      "Test Accuracy: 72.92%\n",
      "Best Accuracy: 78.47%\n",
      "--------------------------------------------------\n"
     ]
    },
    {
     "name": "stderr",
     "output_type": "stream",
     "text": [
      "Epoch 37/200: 100%|██████████| 36/36 [00:00<00:00, 123.19it/s, loss=0.304]\n",
      "\n"
     ]
    },
    {
     "name": "stdout",
     "output_type": "stream",
     "text": [
      "Epoch [37/200]\n",
      "Training Loss: 0.5175\n",
      "Validation Loss: 0.6002\n",
      "Test Accuracy: 81.94%\n",
      "Best Accuracy: 81.94%\n",
      "--------------------------------------------------\n"
     ]
    },
    {
     "name": "stderr",
     "output_type": "stream",
     "text": [
      "Epoch 38/200: 100%|██████████| 36/36 [00:00<00:00, 124.64it/s, loss=0.3]   \n",
      "\n"
     ]
    },
    {
     "name": "stdout",
     "output_type": "stream",
     "text": [
      "Epoch [38/200]\n",
      "Training Loss: 0.4225\n",
      "Validation Loss: 0.6825\n",
      "Test Accuracy: 78.12%\n",
      "Best Accuracy: 81.94%\n",
      "--------------------------------------------------\n"
     ]
    },
    {
     "name": "stderr",
     "output_type": "stream",
     "text": [
      "Epoch 39/200: 100%|██████████| 36/36 [00:00<00:00, 123.88it/s, loss=0.682] \n",
      "\n"
     ]
    },
    {
     "name": "stdout",
     "output_type": "stream",
     "text": [
      "Epoch [39/200]\n",
      "Training Loss: 0.5787\n",
      "Validation Loss: 0.6596\n",
      "Test Accuracy: 78.12%\n",
      "Best Accuracy: 81.94%\n",
      "--------------------------------------------------\n"
     ]
    },
    {
     "name": "stderr",
     "output_type": "stream",
     "text": [
      "Epoch 40/200: 100%|██████████| 36/36 [00:00<00:00, 121.07it/s, loss=0.71] \n",
      "\n"
     ]
    },
    {
     "name": "stdout",
     "output_type": "stream",
     "text": [
      "Epoch [40/200]\n",
      "Training Loss: 0.6380\n",
      "Validation Loss: 0.9027\n",
      "Test Accuracy: 68.40%\n",
      "Best Accuracy: 81.94%\n",
      "--------------------------------------------------\n"
     ]
    },
    {
     "name": "stderr",
     "output_type": "stream",
     "text": [
      "Epoch 41/200: 100%|██████████| 36/36 [00:00<00:00, 117.57it/s, loss=0.14] \n",
      "Epoch 41/200: 100%|██████████| 36/36 [00:00<00:00, 117.57it/s, loss=0.14] \n"
     ]
    },
    {
     "name": "stdout",
     "output_type": "stream",
     "text": [
      "Epoch [41/200]\n",
      "Training Loss: 0.6640\n",
      "Validation Loss: 0.7510\n",
      "Test Accuracy: 76.74%\n",
      "Best Accuracy: 81.94%\n",
      "--------------------------------------------------\n"
     ]
    },
    {
     "name": "stderr",
     "output_type": "stream",
     "text": [
      "Epoch 42/200: 100%|██████████| 36/36 [00:00<00:00, 115.91it/s, loss=1.82]  \n",
      "\n"
     ]
    },
    {
     "name": "stdout",
     "output_type": "stream",
     "text": [
      "Epoch [42/200]\n",
      "Training Loss: 0.6437\n",
      "Validation Loss: 0.6802\n",
      "Test Accuracy: 78.47%\n",
      "Best Accuracy: 81.94%\n",
      "--------------------------------------------------\n"
     ]
    },
    {
     "name": "stderr",
     "output_type": "stream",
     "text": [
      "Epoch 43/200: 100%|██████████| 36/36 [00:00<00:00, 118.55it/s, loss=1.37]  \n",
      "\n"
     ]
    },
    {
     "name": "stdout",
     "output_type": "stream",
     "text": [
      "Epoch [43/200]\n",
      "Training Loss: 0.7837\n",
      "Validation Loss: 0.9095\n",
      "Test Accuracy: 73.26%\n",
      "Best Accuracy: 81.94%\n",
      "--------------------------------------------------\n"
     ]
    },
    {
     "name": "stderr",
     "output_type": "stream",
     "text": [
      "Epoch 44/200: 100%|██████████| 36/36 [00:00<00:00, 131.50it/s, loss=0.0849]\n",
      "\n"
     ]
    },
    {
     "name": "stdout",
     "output_type": "stream",
     "text": [
      "Epoch [44/200]\n",
      "Training Loss: 0.5346\n",
      "Validation Loss: 0.7103\n",
      "Test Accuracy: 75.69%\n",
      "Best Accuracy: 81.94%\n",
      "--------------------------------------------------\n"
     ]
    },
    {
     "name": "stderr",
     "output_type": "stream",
     "text": [
      "Epoch 45/200: 100%|██████████| 36/36 [00:00<00:00, 130.66it/s, loss=0.12] \n",
      "Epoch 45/200: 100%|██████████| 36/36 [00:00<00:00, 130.66it/s, loss=0.12]\n"
     ]
    },
    {
     "name": "stdout",
     "output_type": "stream",
     "text": [
      "Epoch [45/200]\n",
      "Training Loss: 0.6945\n",
      "Validation Loss: 0.6130\n",
      "Test Accuracy: 79.51%\n",
      "Best Accuracy: 81.94%\n",
      "--------------------------------------------------\n"
     ]
    },
    {
     "name": "stderr",
     "output_type": "stream",
     "text": [
      "Epoch 46/200: 100%|██████████| 36/36 [00:00<00:00, 132.89it/s, loss=2.05]  \n",
      "\n"
     ]
    },
    {
     "name": "stdout",
     "output_type": "stream",
     "text": [
      "Epoch [46/200]\n",
      "Training Loss: 0.6948\n",
      "Validation Loss: 0.6766\n",
      "Test Accuracy: 77.78%\n",
      "Best Accuracy: 81.94%\n",
      "--------------------------------------------------\n"
     ]
    },
    {
     "name": "stderr",
     "output_type": "stream",
     "text": [
      "Epoch 47/200: 100%|██████████| 36/36 [00:00<00:00, 130.81it/s, loss=0.399] \n",
      "\n"
     ]
    },
    {
     "name": "stdout",
     "output_type": "stream",
     "text": [
      "Epoch [47/200]\n",
      "Training Loss: 0.4457\n",
      "Validation Loss: 0.9730\n",
      "Test Accuracy: 68.06%\n",
      "Best Accuracy: 81.94%\n",
      "--------------------------------------------------\n"
     ]
    },
    {
     "name": "stderr",
     "output_type": "stream",
     "text": [
      "Epoch 48/200: 100%|██████████| 36/36 [00:00<00:00, 115.29it/s, loss=1.29]  \n",
      "\n"
     ]
    },
    {
     "name": "stdout",
     "output_type": "stream",
     "text": [
      "Epoch [48/200]\n",
      "Training Loss: 0.5624\n",
      "Validation Loss: 0.8125\n",
      "Test Accuracy: 75.35%\n",
      "Best Accuracy: 81.94%\n",
      "--------------------------------------------------\n"
     ]
    },
    {
     "name": "stderr",
     "output_type": "stream",
     "text": [
      "Epoch 49/200: 100%|██████████| 36/36 [00:00<00:00, 119.27it/s, loss=0.128] \n",
      "\n"
     ]
    },
    {
     "name": "stdout",
     "output_type": "stream",
     "text": [
      "Epoch [49/200]\n",
      "Training Loss: 0.5178\n",
      "Validation Loss: 0.6172\n",
      "Test Accuracy: 80.56%\n",
      "Best Accuracy: 81.94%\n",
      "--------------------------------------------------\n"
     ]
    },
    {
     "name": "stderr",
     "output_type": "stream",
     "text": [
      "Epoch 50/200: 100%|██████████| 36/36 [00:00<00:00, 120.40it/s, loss=0.167]\n",
      "\n"
     ]
    },
    {
     "name": "stdout",
     "output_type": "stream",
     "text": [
      "Epoch [50/200]\n",
      "Training Loss: 0.5869\n",
      "Validation Loss: 0.7935\n",
      "Test Accuracy: 73.96%\n",
      "Best Accuracy: 81.94%\n",
      "--------------------------------------------------\n"
     ]
    },
    {
     "name": "stderr",
     "output_type": "stream",
     "text": [
      "Epoch 51/200: 100%|██████████| 36/36 [00:00<00:00, 119.03it/s, loss=0.608]\n",
      "\n"
     ]
    },
    {
     "name": "stdout",
     "output_type": "stream",
     "text": [
      "Epoch [51/200]\n",
      "Training Loss: 0.5195\n",
      "Validation Loss: 0.7448\n",
      "Test Accuracy: 77.08%\n",
      "Best Accuracy: 81.94%\n",
      "--------------------------------------------------\n"
     ]
    },
    {
     "name": "stderr",
     "output_type": "stream",
     "text": [
      "Epoch 52/200: 100%|██████████| 36/36 [00:00<00:00, 121.77it/s, loss=0.0823]\n",
      "Epoch 52/200: 100%|██████████| 36/36 [00:00<00:00, 121.77it/s, loss=0.0823]\n"
     ]
    },
    {
     "name": "stdout",
     "output_type": "stream",
     "text": [
      "Epoch [52/200]\n",
      "Training Loss: 0.4597\n",
      "Validation Loss: 0.6290\n",
      "Test Accuracy: 77.08%\n",
      "Best Accuracy: 81.94%\n",
      "--------------------------------------------------\n"
     ]
    },
    {
     "name": "stderr",
     "output_type": "stream",
     "text": [
      "Epoch 53/200: 100%|██████████| 36/36 [00:00<00:00, 117.04it/s, loss=0.412] \n",
      "\n"
     ]
    },
    {
     "name": "stdout",
     "output_type": "stream",
     "text": [
      "Epoch [53/200]\n",
      "Training Loss: 0.5425\n",
      "Validation Loss: 0.9900\n",
      "Test Accuracy: 67.71%\n",
      "Best Accuracy: 81.94%\n",
      "--------------------------------------------------\n"
     ]
    },
    {
     "name": "stderr",
     "output_type": "stream",
     "text": [
      "Epoch 54/200: 100%|██████████| 36/36 [00:00<00:00, 112.86it/s, loss=1.07] \n",
      "\n"
     ]
    },
    {
     "name": "stdout",
     "output_type": "stream",
     "text": [
      "Epoch [54/200]\n",
      "Training Loss: 0.5997\n",
      "Validation Loss: 0.6484\n",
      "Test Accuracy: 78.47%\n",
      "Best Accuracy: 81.94%\n",
      "--------------------------------------------------\n"
     ]
    },
    {
     "name": "stderr",
     "output_type": "stream",
     "text": [
      "Epoch 55/200: 100%|██████████| 36/36 [00:00<00:00, 116.92it/s, loss=0.104] \n",
      "\n"
     ]
    },
    {
     "name": "stdout",
     "output_type": "stream",
     "text": [
      "Epoch [55/200]\n",
      "Training Loss: 0.5436\n",
      "Validation Loss: 0.5560\n",
      "Test Accuracy: 83.33%\n",
      "Best Accuracy: 83.33%\n",
      "--------------------------------------------------\n"
     ]
    },
    {
     "name": "stderr",
     "output_type": "stream",
     "text": [
      "Epoch 56/200: 100%|██████████| 36/36 [00:00<00:00, 119.05it/s, loss=0.151] \n",
      "\n"
     ]
    },
    {
     "name": "stdout",
     "output_type": "stream",
     "text": [
      "Epoch [56/200]\n",
      "Training Loss: 0.5636\n",
      "Validation Loss: 0.9529\n",
      "Test Accuracy: 70.14%\n",
      "Best Accuracy: 83.33%\n",
      "--------------------------------------------------\n"
     ]
    },
    {
     "name": "stderr",
     "output_type": "stream",
     "text": [
      "Epoch 57/200: 100%|██████████| 36/36 [00:00<00:00, 119.74it/s, loss=0.102]\n",
      "\n"
     ]
    },
    {
     "name": "stdout",
     "output_type": "stream",
     "text": [
      "Epoch [57/200]\n",
      "Training Loss: 0.6080\n",
      "Validation Loss: 0.6921\n",
      "Test Accuracy: 76.74%\n",
      "Best Accuracy: 83.33%\n",
      "--------------------------------------------------\n"
     ]
    },
    {
     "name": "stderr",
     "output_type": "stream",
     "text": [
      "Epoch 58/200: 100%|██████████| 36/36 [00:00<00:00, 117.66it/s, loss=0.139] \n",
      "\n"
     ]
    },
    {
     "name": "stdout",
     "output_type": "stream",
     "text": [
      "Epoch [58/200]\n",
      "Training Loss: 0.5372\n",
      "Validation Loss: 0.5201\n",
      "Test Accuracy: 84.72%\n",
      "Best Accuracy: 84.72%\n",
      "--------------------------------------------------\n"
     ]
    },
    {
     "name": "stderr",
     "output_type": "stream",
     "text": [
      "Epoch 59/200: 100%|██████████| 36/36 [00:00<00:00, 119.54it/s, loss=0.0722]\n",
      "\n"
     ]
    },
    {
     "name": "stdout",
     "output_type": "stream",
     "text": [
      "Epoch [59/200]\n",
      "Training Loss: 0.5801\n",
      "Validation Loss: 0.5329\n",
      "Test Accuracy: 83.33%\n",
      "Best Accuracy: 84.72%\n",
      "--------------------------------------------------\n"
     ]
    },
    {
     "name": "stderr",
     "output_type": "stream",
     "text": [
      "Epoch 60/200: 100%|██████████| 36/36 [00:00<00:00, 106.24it/s, loss=0.921] \n",
      "\n"
     ]
    },
    {
     "name": "stdout",
     "output_type": "stream",
     "text": [
      "Epoch [60/200]\n",
      "Training Loss: 0.6393\n",
      "Validation Loss: 0.7872\n",
      "Test Accuracy: 73.61%\n",
      "Best Accuracy: 84.72%\n",
      "--------------------------------------------------\n"
     ]
    },
    {
     "name": "stderr",
     "output_type": "stream",
     "text": [
      "Epoch 61/200: 100%|██████████| 36/36 [00:00<00:00, 110.41it/s, loss=0.0859]\n",
      "\n"
     ]
    },
    {
     "name": "stdout",
     "output_type": "stream",
     "text": [
      "Epoch [61/200]\n",
      "Training Loss: 0.6190\n",
      "Validation Loss: 0.7257\n",
      "Test Accuracy: 77.43%\n",
      "Best Accuracy: 84.72%\n",
      "--------------------------------------------------\n"
     ]
    },
    {
     "name": "stderr",
     "output_type": "stream",
     "text": [
      "Epoch 62/200: 100%|██████████| 36/36 [00:00<00:00, 121.42it/s, loss=1.43]  \n",
      "\n"
     ]
    },
    {
     "name": "stdout",
     "output_type": "stream",
     "text": [
      "Epoch [62/200]\n",
      "Training Loss: 0.5982\n",
      "Validation Loss: 0.5806\n",
      "Test Accuracy: 84.03%\n",
      "Best Accuracy: 84.72%\n",
      "--------------------------------------------------\n"
     ]
    },
    {
     "name": "stderr",
     "output_type": "stream",
     "text": [
      "Epoch 63/200: 100%|██████████| 36/36 [00:00<00:00, 122.76it/s, loss=1.69]  \n",
      "\n"
     ]
    },
    {
     "name": "stdout",
     "output_type": "stream",
     "text": [
      "Epoch [63/200]\n",
      "Training Loss: 0.5593\n",
      "Validation Loss: 0.5704\n",
      "Test Accuracy: 82.29%\n",
      "Best Accuracy: 84.72%\n",
      "--------------------------------------------------\n"
     ]
    },
    {
     "name": "stderr",
     "output_type": "stream",
     "text": [
      "Epoch 64/200: 100%|██████████| 36/36 [00:00<00:00, 120.10it/s, loss=1.36]  \n",
      "\n"
     ]
    },
    {
     "name": "stdout",
     "output_type": "stream",
     "text": [
      "Epoch [64/200]\n",
      "Training Loss: 0.4934\n",
      "Validation Loss: 0.8953\n",
      "Test Accuracy: 71.53%\n",
      "Best Accuracy: 84.72%\n",
      "--------------------------------------------------\n"
     ]
    },
    {
     "name": "stderr",
     "output_type": "stream",
     "text": [
      "Epoch 65/200: 100%|██████████| 36/36 [00:00<00:00, 111.10it/s, loss=0.0396]\n",
      "\n"
     ]
    },
    {
     "name": "stdout",
     "output_type": "stream",
     "text": [
      "Epoch [65/200]\n",
      "Training Loss: 0.2741\n",
      "Validation Loss: 0.5546\n",
      "Test Accuracy: 83.33%\n",
      "Best Accuracy: 84.72%\n",
      "--------------------------------------------------\n"
     ]
    },
    {
     "name": "stderr",
     "output_type": "stream",
     "text": [
      "Epoch 66/200: 100%|██████████| 36/36 [00:00<00:00, 98.46it/s, loss=0.0863]\n",
      "\n"
     ]
    },
    {
     "name": "stdout",
     "output_type": "stream",
     "text": [
      "Epoch [66/200]\n",
      "Training Loss: 0.5825\n",
      "Validation Loss: 0.7387\n",
      "Test Accuracy: 74.65%\n",
      "Best Accuracy: 84.72%\n",
      "--------------------------------------------------\n"
     ]
    },
    {
     "name": "stderr",
     "output_type": "stream",
     "text": [
      "Epoch 67/200: 100%|██████████| 36/36 [00:00<00:00, 115.98it/s, loss=0.577] \n",
      "\n"
     ]
    },
    {
     "name": "stdout",
     "output_type": "stream",
     "text": [
      "Epoch [67/200]\n",
      "Training Loss: 0.6635\n",
      "Validation Loss: 0.7035\n",
      "Test Accuracy: 76.04%\n",
      "Best Accuracy: 84.72%\n",
      "--------------------------------------------------\n"
     ]
    },
    {
     "name": "stderr",
     "output_type": "stream",
     "text": [
      "Epoch 68/200: 100%|██████████| 36/36 [00:00<00:00, 107.40it/s, loss=0.118] \n",
      "\n"
     ]
    },
    {
     "name": "stdout",
     "output_type": "stream",
     "text": [
      "Epoch [68/200]\n",
      "Training Loss: 0.4153\n",
      "Validation Loss: 0.5484\n",
      "Test Accuracy: 81.60%\n",
      "Best Accuracy: 84.72%\n",
      "--------------------------------------------------\n"
     ]
    },
    {
     "name": "stderr",
     "output_type": "stream",
     "text": [
      "Epoch 69/200: 100%|██████████| 36/36 [00:00<00:00, 122.16it/s, loss=0.317] \n",
      "\n"
     ]
    },
    {
     "name": "stdout",
     "output_type": "stream",
     "text": [
      "Epoch [69/200]\n",
      "Training Loss: 0.4445\n",
      "Validation Loss: 0.5731\n",
      "Test Accuracy: 82.64%\n",
      "Best Accuracy: 84.72%\n",
      "--------------------------------------------------\n"
     ]
    },
    {
     "name": "stderr",
     "output_type": "stream",
     "text": [
      "Epoch 70/200: 100%|██████████| 36/36 [00:00<00:00, 119.08it/s, loss=0.146] \n",
      "Epoch 70/200: 100%|██████████| 36/36 [00:00<00:00, 119.08it/s, loss=0.146]\n"
     ]
    },
    {
     "name": "stdout",
     "output_type": "stream",
     "text": [
      "Epoch [70/200]\n",
      "Training Loss: 0.3997\n",
      "Validation Loss: 0.4963\n",
      "Test Accuracy: 83.68%\n",
      "Best Accuracy: 84.72%\n",
      "--------------------------------------------------\n"
     ]
    },
    {
     "name": "stderr",
     "output_type": "stream",
     "text": [
      "Epoch 71/200: 100%|██████████| 36/36 [00:00<00:00, 114.95it/s, loss=0.901] \n",
      "\n"
     ]
    },
    {
     "name": "stdout",
     "output_type": "stream",
     "text": [
      "Epoch [71/200]\n",
      "Training Loss: 0.5272\n",
      "Validation Loss: 0.5306\n",
      "Test Accuracy: 82.29%\n",
      "Best Accuracy: 84.72%\n",
      "--------------------------------------------------\n"
     ]
    },
    {
     "name": "stderr",
     "output_type": "stream",
     "text": [
      "Epoch 72/200: 100%|██████████| 36/36 [00:00<00:00, 111.13it/s, loss=1.1]   \n",
      "\n"
     ]
    },
    {
     "name": "stdout",
     "output_type": "stream",
     "text": [
      "Epoch [72/200]\n",
      "Training Loss: 0.4275\n",
      "Validation Loss: 0.5951\n",
      "Test Accuracy: 81.60%\n",
      "Best Accuracy: 84.72%\n",
      "--------------------------------------------------\n"
     ]
    },
    {
     "name": "stderr",
     "output_type": "stream",
     "text": [
      "Epoch 73/200: 100%|██████████| 36/36 [00:00<00:00, 123.51it/s, loss=0.0562]\n",
      "Epoch 73/200: 100%|██████████| 36/36 [00:00<00:00, 123.51it/s, loss=0.0562]\n"
     ]
    },
    {
     "name": "stdout",
     "output_type": "stream",
     "text": [
      "Epoch [73/200]\n",
      "Training Loss: 0.3766\n",
      "Validation Loss: 0.6393\n",
      "Test Accuracy: 78.82%\n",
      "Best Accuracy: 84.72%\n",
      "--------------------------------------------------\n"
     ]
    },
    {
     "name": "stderr",
     "output_type": "stream",
     "text": [
      "Epoch 74/200: 100%|██████████| 36/36 [00:00<00:00, 113.15it/s, loss=1.6]   \n",
      "\n"
     ]
    },
    {
     "name": "stdout",
     "output_type": "stream",
     "text": [
      "Epoch [74/200]\n",
      "Training Loss: 0.6371\n",
      "Validation Loss: 0.6472\n",
      "Test Accuracy: 79.51%\n",
      "Best Accuracy: 84.72%\n",
      "--------------------------------------------------\n"
     ]
    },
    {
     "name": "stderr",
     "output_type": "stream",
     "text": [
      "Epoch 75/200: 100%|██████████| 36/36 [00:00<00:00, 125.53it/s, loss=0.369] \n",
      "Epoch 75/200: 100%|██████████| 36/36 [00:00<00:00, 125.53it/s, loss=0.369]\n"
     ]
    },
    {
     "name": "stdout",
     "output_type": "stream",
     "text": [
      "Epoch [75/200]\n",
      "Training Loss: 0.7019\n",
      "Validation Loss: 0.6099\n",
      "Test Accuracy: 81.94%\n",
      "Best Accuracy: 84.72%\n",
      "--------------------------------------------------\n"
     ]
    },
    {
     "name": "stderr",
     "output_type": "stream",
     "text": [
      "Epoch 76/200: 100%|██████████| 36/36 [00:00<00:00, 126.04it/s, loss=1.25]  \n",
      "Epoch 76/200: 100%|██████████| 36/36 [00:00<00:00, 126.04it/s, loss=1.25] \n"
     ]
    },
    {
     "name": "stdout",
     "output_type": "stream",
     "text": [
      "Epoch [76/200]\n",
      "Training Loss: 0.4272\n",
      "Validation Loss: 0.5741\n",
      "Test Accuracy: 82.99%\n",
      "Best Accuracy: 84.72%\n",
      "--------------------------------------------------\n"
     ]
    },
    {
     "name": "stderr",
     "output_type": "stream",
     "text": [
      "Epoch 77/200: 100%|██████████| 36/36 [00:00<00:00, 123.60it/s, loss=0.0561]\n",
      "\n"
     ]
    },
    {
     "name": "stdout",
     "output_type": "stream",
     "text": [
      "Epoch [77/200]\n",
      "Training Loss: 0.3205\n",
      "Validation Loss: 0.5465\n",
      "Test Accuracy: 83.33%\n",
      "Best Accuracy: 84.72%\n",
      "--------------------------------------------------\n"
     ]
    },
    {
     "name": "stderr",
     "output_type": "stream",
     "text": [
      "Epoch 78/200: 100%|██████████| 36/36 [00:00<00:00, 124.72it/s, loss=0.467] \n",
      "\n"
     ]
    },
    {
     "name": "stdout",
     "output_type": "stream",
     "text": [
      "Epoch [78/200]\n",
      "Training Loss: 0.6266\n",
      "Validation Loss: 0.5699\n",
      "Test Accuracy: 82.64%\n",
      "Best Accuracy: 84.72%\n",
      "--------------------------------------------------\n"
     ]
    },
    {
     "name": "stderr",
     "output_type": "stream",
     "text": [
      "Epoch 79/200: 100%|██████████| 36/36 [00:00<00:00, 113.37it/s, loss=0.201] \n",
      "\n"
     ]
    },
    {
     "name": "stdout",
     "output_type": "stream",
     "text": [
      "Epoch [79/200]\n",
      "Training Loss: 0.4921\n",
      "Validation Loss: 0.7817\n",
      "Test Accuracy: 74.65%\n",
      "Best Accuracy: 84.72%\n",
      "--------------------------------------------------\n"
     ]
    },
    {
     "name": "stderr",
     "output_type": "stream",
     "text": [
      "Epoch 80/200: 100%|██████████| 36/36 [00:00<00:00, 126.41it/s, loss=0.0764]\n",
      "\n"
     ]
    },
    {
     "name": "stdout",
     "output_type": "stream",
     "text": [
      "Epoch [80/200]\n",
      "Training Loss: 0.3605\n",
      "Validation Loss: 0.6382\n",
      "Test Accuracy: 78.12%\n",
      "Best Accuracy: 84.72%\n",
      "--------------------------------------------------\n"
     ]
    },
    {
     "name": "stderr",
     "output_type": "stream",
     "text": [
      "Epoch 81/200: 100%|██████████| 36/36 [00:00<00:00, 126.02it/s, loss=0.0701]\n",
      "\n"
     ]
    },
    {
     "name": "stdout",
     "output_type": "stream",
     "text": [
      "Epoch [81/200]\n",
      "Training Loss: 0.4734\n",
      "Validation Loss: 0.6075\n",
      "Test Accuracy: 79.51%\n",
      "Best Accuracy: 84.72%\n",
      "--------------------------------------------------\n"
     ]
    },
    {
     "name": "stderr",
     "output_type": "stream",
     "text": [
      "Epoch 82/200: 100%|██████████| 36/36 [00:00<00:00, 126.98it/s, loss=0.0969]\n",
      "\n"
     ]
    },
    {
     "name": "stdout",
     "output_type": "stream",
     "text": [
      "Epoch [82/200]\n",
      "Training Loss: 0.4751\n",
      "Validation Loss: 0.8249\n",
      "Test Accuracy: 77.08%\n",
      "Best Accuracy: 84.72%\n",
      "--------------------------------------------------\n"
     ]
    },
    {
     "name": "stderr",
     "output_type": "stream",
     "text": [
      "Epoch 83/200: 100%|██████████| 36/36 [00:00<00:00, 125.62it/s, loss=0.0448]\n",
      "\n"
     ]
    },
    {
     "name": "stdout",
     "output_type": "stream",
     "text": [
      "Epoch [83/200]\n",
      "Training Loss: 0.5236\n",
      "Validation Loss: 0.5823\n",
      "Test Accuracy: 82.64%\n",
      "Best Accuracy: 84.72%\n",
      "--------------------------------------------------\n"
     ]
    },
    {
     "name": "stderr",
     "output_type": "stream",
     "text": [
      "Epoch 84/200: 100%|██████████| 36/36 [00:00<00:00, 122.26it/s, loss=1.33]  \n",
      "\n"
     ]
    },
    {
     "name": "stdout",
     "output_type": "stream",
     "text": [
      "Epoch [84/200]\n",
      "Training Loss: 0.4763\n",
      "Validation Loss: 0.7393\n",
      "Test Accuracy: 74.31%\n",
      "Best Accuracy: 84.72%\n",
      "--------------------------------------------------\n"
     ]
    },
    {
     "name": "stderr",
     "output_type": "stream",
     "text": [
      "Epoch 85/200: 100%|██████████| 36/36 [00:00<00:00, 95.11it/s, loss=0.0587]\n",
      "\n"
     ]
    },
    {
     "name": "stdout",
     "output_type": "stream",
     "text": [
      "Epoch [85/200]\n",
      "Training Loss: 0.5390\n",
      "Validation Loss: 0.5832\n",
      "Test Accuracy: 81.94%\n",
      "Best Accuracy: 84.72%\n",
      "--------------------------------------------------\n"
     ]
    },
    {
     "name": "stderr",
     "output_type": "stream",
     "text": [
      "Epoch 86/200: 100%|██████████| 36/36 [00:00<00:00, 116.56it/s, loss=0.121] \n",
      "\n"
     ]
    },
    {
     "name": "stdout",
     "output_type": "stream",
     "text": [
      "Epoch [86/200]\n",
      "Training Loss: 0.3773\n",
      "Validation Loss: 0.5627\n",
      "Test Accuracy: 81.94%\n",
      "Best Accuracy: 84.72%\n",
      "--------------------------------------------------\n"
     ]
    },
    {
     "name": "stderr",
     "output_type": "stream",
     "text": [
      "Epoch 87/200: 100%|██████████| 36/36 [00:00<00:00, 113.67it/s, loss=0.945] \n",
      "\n"
     ]
    },
    {
     "name": "stdout",
     "output_type": "stream",
     "text": [
      "Epoch [87/200]\n",
      "Training Loss: 0.4488\n",
      "Validation Loss: 0.5860\n",
      "Test Accuracy: 81.94%\n",
      "Best Accuracy: 84.72%\n",
      "--------------------------------------------------\n"
     ]
    },
    {
     "name": "stderr",
     "output_type": "stream",
     "text": [
      "Epoch 88/200: 100%|██████████| 36/36 [00:00<00:00, 118.28it/s, loss=0.263] \n",
      "\n"
     ]
    },
    {
     "name": "stdout",
     "output_type": "stream",
     "text": [
      "Epoch [88/200]\n",
      "Training Loss: 0.4697\n",
      "Validation Loss: 0.5799\n",
      "Test Accuracy: 81.60%\n",
      "Best Accuracy: 84.72%\n",
      "--------------------------------------------------\n"
     ]
    },
    {
     "name": "stderr",
     "output_type": "stream",
     "text": [
      "Epoch 89/200: 100%|██████████| 36/36 [00:00<00:00, 124.73it/s, loss=0.878] \n",
      "\n"
     ]
    },
    {
     "name": "stdout",
     "output_type": "stream",
     "text": [
      "Epoch [89/200]\n",
      "Training Loss: 0.5983\n",
      "Validation Loss: 0.5280\n",
      "Test Accuracy: 85.42%\n",
      "Best Accuracy: 85.42%\n",
      "--------------------------------------------------\n"
     ]
    },
    {
     "name": "stderr",
     "output_type": "stream",
     "text": [
      "Epoch 90/200: 100%|██████████| 36/36 [00:00<00:00, 98.07it/s, loss=0.491]  \n",
      "\n"
     ]
    },
    {
     "name": "stdout",
     "output_type": "stream",
     "text": [
      "Epoch [90/200]\n",
      "Training Loss: 0.3189\n",
      "Validation Loss: 0.5434\n",
      "Test Accuracy: 82.64%\n",
      "Best Accuracy: 85.42%\n",
      "--------------------------------------------------\n"
     ]
    },
    {
     "name": "stderr",
     "output_type": "stream",
     "text": [
      "Epoch 91/200: 100%|██████████| 36/36 [00:00<00:00, 111.58it/s, loss=0.803] \n",
      "\n"
     ]
    },
    {
     "name": "stdout",
     "output_type": "stream",
     "text": [
      "Epoch [91/200]\n",
      "Training Loss: 0.4844\n",
      "Validation Loss: 0.4992\n",
      "Test Accuracy: 85.76%\n",
      "Best Accuracy: 85.76%\n",
      "--------------------------------------------------\n"
     ]
    },
    {
     "name": "stderr",
     "output_type": "stream",
     "text": [
      "Epoch 92/200: 100%|██████████| 36/36 [00:00<00:00, 124.19it/s, loss=0.0714]\n",
      "\n"
     ]
    },
    {
     "name": "stdout",
     "output_type": "stream",
     "text": [
      "Epoch [92/200]\n",
      "Training Loss: 0.3712\n",
      "Validation Loss: 0.5244\n",
      "Test Accuracy: 81.94%\n",
      "Best Accuracy: 85.76%\n",
      "--------------------------------------------------\n"
     ]
    },
    {
     "name": "stderr",
     "output_type": "stream",
     "text": [
      "Epoch 93/200: 100%|██████████| 36/36 [00:00<00:00, 123.95it/s, loss=0.048] \n",
      "Epoch 93/200: 100%|██████████| 36/36 [00:00<00:00, 123.95it/s, loss=0.048]\n"
     ]
    },
    {
     "name": "stdout",
     "output_type": "stream",
     "text": [
      "Epoch [93/200]\n",
      "Training Loss: 0.5119\n",
      "Validation Loss: 0.6026\n",
      "Test Accuracy: 82.29%\n",
      "Best Accuracy: 85.76%\n",
      "--------------------------------------------------\n"
     ]
    },
    {
     "name": "stderr",
     "output_type": "stream",
     "text": [
      "Epoch 94/200: 100%|██████████| 36/36 [00:00<00:00, 118.22it/s, loss=1.17]  \n",
      "\n"
     ]
    },
    {
     "name": "stdout",
     "output_type": "stream",
     "text": [
      "Epoch [94/200]\n",
      "Training Loss: 0.4952\n",
      "Validation Loss: 0.6016\n",
      "Test Accuracy: 80.90%\n",
      "Best Accuracy: 85.76%\n",
      "--------------------------------------------------\n"
     ]
    },
    {
     "name": "stderr",
     "output_type": "stream",
     "text": [
      "Epoch 95/200: 100%|██████████| 36/36 [00:00<00:00, 97.61it/s, loss=1.26]   \n",
      "\n"
     ]
    },
    {
     "name": "stdout",
     "output_type": "stream",
     "text": [
      "Epoch [95/200]\n",
      "Training Loss: 0.3714\n",
      "Validation Loss: 0.4812\n",
      "Test Accuracy: 84.72%\n",
      "Best Accuracy: 85.76%\n",
      "--------------------------------------------------\n"
     ]
    },
    {
     "name": "stderr",
     "output_type": "stream",
     "text": [
      "Epoch 96/200: 100%|██████████| 36/36 [00:00<00:00, 117.07it/s, loss=0.648] \n",
      "\n"
     ]
    },
    {
     "name": "stdout",
     "output_type": "stream",
     "text": [
      "Epoch [96/200]\n",
      "Training Loss: 0.4083\n",
      "Validation Loss: 0.5046\n",
      "Test Accuracy: 83.33%\n",
      "Best Accuracy: 85.76%\n",
      "--------------------------------------------------\n"
     ]
    },
    {
     "name": "stderr",
     "output_type": "stream",
     "text": [
      "Epoch 97/200: 100%|██████████| 36/36 [00:00<00:00, 119.50it/s, loss=1.26]  \n",
      "\n"
     ]
    },
    {
     "name": "stdout",
     "output_type": "stream",
     "text": [
      "Epoch [97/200]\n",
      "Training Loss: 0.3398\n",
      "Validation Loss: 0.4532\n",
      "Test Accuracy: 86.81%\n",
      "Best Accuracy: 86.81%\n",
      "--------------------------------------------------\n"
     ]
    },
    {
     "name": "stderr",
     "output_type": "stream",
     "text": [
      "Epoch 98/200: 100%|██████████| 36/36 [00:00<00:00, 123.85it/s, loss=0.0559]\n",
      "\n"
     ]
    },
    {
     "name": "stdout",
     "output_type": "stream",
     "text": [
      "Epoch [98/200]\n",
      "Training Loss: 0.4450\n",
      "Validation Loss: 0.5340\n",
      "Test Accuracy: 83.33%\n",
      "Best Accuracy: 86.81%\n",
      "--------------------------------------------------\n"
     ]
    },
    {
     "name": "stderr",
     "output_type": "stream",
     "text": [
      "Epoch 99/200: 100%|██████████| 36/36 [00:00<00:00, 120.01it/s, loss=0.917] \n",
      "\n"
     ]
    },
    {
     "name": "stdout",
     "output_type": "stream",
     "text": [
      "Epoch [99/200]\n",
      "Training Loss: 0.5590\n",
      "Validation Loss: 0.5182\n",
      "Test Accuracy: 83.33%\n",
      "Best Accuracy: 86.81%\n",
      "--------------------------------------------------\n"
     ]
    },
    {
     "name": "stderr",
     "output_type": "stream",
     "text": [
      "Epoch 100/200: 100%|██████████| 36/36 [00:00<00:00, 108.01it/s, loss=1.19]  \n",
      "Epoch 100/200: 100%|██████████| 36/36 [00:00<00:00, 108.01it/s, loss=1.19] \n"
     ]
    },
    {
     "name": "stdout",
     "output_type": "stream",
     "text": [
      "Epoch [100/200]\n",
      "Training Loss: 0.5911\n",
      "Validation Loss: 0.5272\n",
      "Test Accuracy: 84.38%\n",
      "Best Accuracy: 86.81%\n",
      "--------------------------------------------------\n"
     ]
    },
    {
     "name": "stderr",
     "output_type": "stream",
     "text": [
      "Epoch 101/200: 100%|██████████| 36/36 [00:00<00:00, 117.65it/s, loss=0.46]  \n",
      "\n"
     ]
    },
    {
     "name": "stdout",
     "output_type": "stream",
     "text": [
      "Epoch [101/200]\n",
      "Training Loss: 0.4121\n",
      "Validation Loss: 0.5059\n",
      "Test Accuracy: 82.99%\n",
      "Best Accuracy: 86.81%\n",
      "--------------------------------------------------\n"
     ]
    },
    {
     "name": "stderr",
     "output_type": "stream",
     "text": [
      "Epoch 102/200: 100%|██████████| 36/36 [00:00<00:00, 115.91it/s, loss=1.03]  \n",
      "\n"
     ]
    },
    {
     "name": "stdout",
     "output_type": "stream",
     "text": [
      "Epoch [102/200]\n",
      "Training Loss: 0.5465\n",
      "Validation Loss: 0.4944\n",
      "Test Accuracy: 83.68%\n",
      "Best Accuracy: 86.81%\n",
      "--------------------------------------------------\n"
     ]
    },
    {
     "name": "stderr",
     "output_type": "stream",
     "text": [
      "Epoch 103/200: 100%|██████████| 36/36 [00:00<00:00, 116.32it/s, loss=0.0742]\n",
      "\n"
     ]
    },
    {
     "name": "stdout",
     "output_type": "stream",
     "text": [
      "Epoch [103/200]\n",
      "Training Loss: 0.2431\n",
      "Validation Loss: 0.4902\n",
      "Test Accuracy: 84.38%\n",
      "Best Accuracy: 86.81%\n",
      "--------------------------------------------------\n"
     ]
    },
    {
     "name": "stderr",
     "output_type": "stream",
     "text": [
      "Epoch 104/200: 100%|██████████| 36/36 [00:00<00:00, 120.29it/s, loss=0.0305]\n",
      "\n"
     ]
    },
    {
     "name": "stdout",
     "output_type": "stream",
     "text": [
      "Epoch [104/200]\n",
      "Training Loss: 0.3930\n",
      "Validation Loss: 0.5188\n",
      "Test Accuracy: 83.68%\n",
      "Best Accuracy: 86.81%\n",
      "--------------------------------------------------\n"
     ]
    },
    {
     "name": "stderr",
     "output_type": "stream",
     "text": [
      "Epoch 105/200: 100%|██████████| 36/36 [00:00<00:00, 102.01it/s, loss=0.0503]\n",
      "\n"
     ]
    },
    {
     "name": "stdout",
     "output_type": "stream",
     "text": [
      "Epoch [105/200]\n",
      "Training Loss: 0.3716\n",
      "Validation Loss: 0.4877\n",
      "Test Accuracy: 86.46%\n",
      "Best Accuracy: 86.81%\n",
      "--------------------------------------------------\n"
     ]
    },
    {
     "name": "stderr",
     "output_type": "stream",
     "text": [
      "Epoch 106/200: 100%|██████████| 36/36 [00:00<00:00, 116.15it/s, loss=1.28]  \n",
      "\n"
     ]
    },
    {
     "name": "stdout",
     "output_type": "stream",
     "text": [
      "Epoch [106/200]\n",
      "Training Loss: 0.4321\n",
      "Validation Loss: 0.4879\n",
      "Test Accuracy: 84.72%\n",
      "Best Accuracy: 86.81%\n",
      "--------------------------------------------------\n"
     ]
    },
    {
     "name": "stderr",
     "output_type": "stream",
     "text": [
      "Epoch 107/200: 100%|██████████| 36/36 [00:00<00:00, 120.10it/s, loss=0.0426]\n",
      "\n"
     ]
    },
    {
     "name": "stdout",
     "output_type": "stream",
     "text": [
      "Epoch [107/200]\n",
      "Training Loss: 0.3979\n",
      "Validation Loss: 0.4777\n",
      "Test Accuracy: 86.11%\n",
      "Best Accuracy: 86.81%\n",
      "--------------------------------------------------\n"
     ]
    },
    {
     "name": "stderr",
     "output_type": "stream",
     "text": [
      "Epoch 108/200: 100%|██████████| 36/36 [00:00<00:00, 115.79it/s, loss=0.0806]\n",
      "\n"
     ]
    },
    {
     "name": "stdout",
     "output_type": "stream",
     "text": [
      "Epoch [108/200]\n",
      "Training Loss: 0.5852\n",
      "Validation Loss: 0.4947\n",
      "Test Accuracy: 86.46%\n",
      "Best Accuracy: 86.81%\n",
      "--------------------------------------------------\n"
     ]
    },
    {
     "name": "stderr",
     "output_type": "stream",
     "text": [
      "Epoch 109/200: 100%|██████████| 36/36 [00:00<00:00, 116.73it/s, loss=0.103] \n",
      "\n"
     ]
    },
    {
     "name": "stdout",
     "output_type": "stream",
     "text": [
      "Epoch [109/200]\n",
      "Training Loss: 0.3575\n",
      "Validation Loss: 0.4595\n",
      "Test Accuracy: 87.50%\n",
      "Best Accuracy: 87.50%\n",
      "--------------------------------------------------\n"
     ]
    },
    {
     "name": "stderr",
     "output_type": "stream",
     "text": [
      "Epoch 110/200: 100%|██████████| 36/36 [00:00<00:00, 101.74it/s, loss=0.0452]\n",
      "\n"
     ]
    },
    {
     "name": "stdout",
     "output_type": "stream",
     "text": [
      "Epoch [110/200]\n",
      "Training Loss: 0.3670\n",
      "Validation Loss: 0.4667\n",
      "Test Accuracy: 85.42%\n",
      "Best Accuracy: 87.50%\n",
      "--------------------------------------------------\n"
     ]
    },
    {
     "name": "stderr",
     "output_type": "stream",
     "text": [
      "Epoch 111/200: 100%|██████████| 36/36 [00:00<00:00, 113.89it/s, loss=0.0521]\n",
      "\n"
     ]
    },
    {
     "name": "stdout",
     "output_type": "stream",
     "text": [
      "Epoch [111/200]\n",
      "Training Loss: 0.4082\n",
      "Validation Loss: 0.5046\n",
      "Test Accuracy: 84.72%\n",
      "Best Accuracy: 87.50%\n",
      "--------------------------------------------------\n"
     ]
    },
    {
     "name": "stderr",
     "output_type": "stream",
     "text": [
      "Epoch 112/200: 100%|██████████| 36/36 [00:00<00:00, 110.30it/s, loss=0.15]  \n",
      "\n"
     ]
    },
    {
     "name": "stdout",
     "output_type": "stream",
     "text": [
      "Epoch [112/200]\n",
      "Training Loss: 0.4518\n",
      "Validation Loss: 0.5114\n",
      "Test Accuracy: 85.76%\n",
      "Best Accuracy: 87.50%\n",
      "--------------------------------------------------\n"
     ]
    },
    {
     "name": "stderr",
     "output_type": "stream",
     "text": [
      "Epoch 113/200: 100%|██████████| 36/36 [00:00<00:00, 118.63it/s, loss=0.262] \n",
      "\n"
     ]
    },
    {
     "name": "stdout",
     "output_type": "stream",
     "text": [
      "Epoch [113/200]\n",
      "Training Loss: 0.3427\n",
      "Validation Loss: 0.5368\n",
      "Test Accuracy: 82.99%\n",
      "Best Accuracy: 87.50%\n",
      "--------------------------------------------------\n"
     ]
    },
    {
     "name": "stderr",
     "output_type": "stream",
     "text": [
      "Epoch 114/200: 100%|██████████| 36/36 [00:00<00:00, 110.50it/s, loss=0.0728]\n",
      "\n"
     ]
    },
    {
     "name": "stdout",
     "output_type": "stream",
     "text": [
      "Epoch [114/200]\n",
      "Training Loss: 0.5915\n",
      "Validation Loss: 0.4770\n",
      "Test Accuracy: 85.07%\n",
      "Best Accuracy: 87.50%\n",
      "--------------------------------------------------\n"
     ]
    },
    {
     "name": "stderr",
     "output_type": "stream",
     "text": [
      "Epoch 115/200: 100%|██████████| 36/36 [00:00<00:00, 107.77it/s, loss=0.051]\n",
      "\n"
     ]
    },
    {
     "name": "stdout",
     "output_type": "stream",
     "text": [
      "Epoch [115/200]\n",
      "Training Loss: 0.4275\n",
      "Validation Loss: 0.5166\n",
      "Test Accuracy: 82.64%\n",
      "Best Accuracy: 87.50%\n",
      "--------------------------------------------------\n"
     ]
    },
    {
     "name": "stderr",
     "output_type": "stream",
     "text": [
      "Epoch 116/200: 100%|██████████| 36/36 [00:00<00:00, 107.51it/s, loss=0.105] \n",
      "\n"
     ]
    },
    {
     "name": "stdout",
     "output_type": "stream",
     "text": [
      "Epoch [116/200]\n",
      "Training Loss: 0.4457\n",
      "Validation Loss: 0.5011\n",
      "Test Accuracy: 82.64%\n",
      "Best Accuracy: 87.50%\n",
      "--------------------------------------------------\n"
     ]
    },
    {
     "name": "stderr",
     "output_type": "stream",
     "text": [
      "Epoch 117/200: 100%|██████████| 36/36 [00:00<00:00, 118.40it/s, loss=1.59]  \n",
      "\n"
     ]
    },
    {
     "name": "stdout",
     "output_type": "stream",
     "text": [
      "Epoch [117/200]\n",
      "Training Loss: 0.4443\n",
      "Validation Loss: 0.4686\n",
      "Test Accuracy: 84.72%\n",
      "Best Accuracy: 87.50%\n",
      "--------------------------------------------------\n"
     ]
    },
    {
     "name": "stderr",
     "output_type": "stream",
     "text": [
      "Epoch 118/200: 100%|██████████| 36/36 [00:00<00:00, 121.07it/s, loss=0.803] \n",
      "\n"
     ]
    },
    {
     "name": "stdout",
     "output_type": "stream",
     "text": [
      "Epoch [118/200]\n",
      "Training Loss: 0.4057\n",
      "Validation Loss: 0.4969\n",
      "Test Accuracy: 84.38%\n",
      "Best Accuracy: 87.50%\n",
      "--------------------------------------------------\n"
     ]
    },
    {
     "name": "stderr",
     "output_type": "stream",
     "text": [
      "Epoch 119/200: 100%|██████████| 36/36 [00:00<00:00, 108.22it/s, loss=1.06]  \n",
      "\n"
     ]
    },
    {
     "name": "stdout",
     "output_type": "stream",
     "text": [
      "Epoch [119/200]\n",
      "Training Loss: 0.4770\n",
      "Validation Loss: 0.4480\n",
      "Test Accuracy: 85.76%\n",
      "Best Accuracy: 87.50%\n",
      "--------------------------------------------------\n"
     ]
    },
    {
     "name": "stderr",
     "output_type": "stream",
     "text": [
      "Epoch 120/200: 100%|██████████| 36/36 [00:00<00:00, 111.29it/s, loss=0.48]  \n",
      "\n"
     ]
    },
    {
     "name": "stdout",
     "output_type": "stream",
     "text": [
      "Epoch [120/200]\n",
      "Training Loss: 0.5420\n",
      "Validation Loss: 0.4981\n",
      "Test Accuracy: 85.42%\n",
      "Best Accuracy: 87.50%\n",
      "--------------------------------------------------\n"
     ]
    },
    {
     "name": "stderr",
     "output_type": "stream",
     "text": [
      "Epoch 121/200: 100%|██████████| 36/36 [00:00<00:00, 120.89it/s, loss=0.0983]\n",
      "\n"
     ]
    },
    {
     "name": "stdout",
     "output_type": "stream",
     "text": [
      "Epoch [121/200]\n",
      "Training Loss: 0.3878\n",
      "Validation Loss: 0.4524\n",
      "Test Accuracy: 85.07%\n",
      "Best Accuracy: 87.50%\n",
      "--------------------------------------------------\n"
     ]
    },
    {
     "name": "stderr",
     "output_type": "stream",
     "text": [
      "Epoch 122/200: 100%|██████████| 36/36 [00:00<00:00, 106.34it/s, loss=0.153] \n",
      "\n"
     ]
    },
    {
     "name": "stdout",
     "output_type": "stream",
     "text": [
      "Epoch [122/200]\n",
      "Training Loss: 0.4789\n",
      "Validation Loss: 0.4822\n",
      "Test Accuracy: 86.11%\n",
      "Best Accuracy: 87.50%\n",
      "--------------------------------------------------\n"
     ]
    },
    {
     "name": "stderr",
     "output_type": "stream",
     "text": [
      "Epoch 123/200: 100%|██████████| 36/36 [00:00<00:00, 107.44it/s, loss=1.25]  \n",
      "\n"
     ]
    },
    {
     "name": "stdout",
     "output_type": "stream",
     "text": [
      "Epoch [123/200]\n",
      "Training Loss: 0.4345\n",
      "Validation Loss: 0.4355\n",
      "Test Accuracy: 87.15%\n",
      "Best Accuracy: 87.50%\n",
      "--------------------------------------------------\n"
     ]
    },
    {
     "name": "stderr",
     "output_type": "stream",
     "text": [
      "Epoch 124/200: 100%|██████████| 36/36 [00:00<00:00, 117.64it/s, loss=0.078] \n",
      "Epoch 124/200: 100%|██████████| 36/36 [00:00<00:00, 117.64it/s, loss=0.078]\n"
     ]
    },
    {
     "name": "stdout",
     "output_type": "stream",
     "text": [
      "Epoch [124/200]\n",
      "Training Loss: 0.5145\n",
      "Validation Loss: 0.4938\n",
      "Test Accuracy: 86.11%\n",
      "Best Accuracy: 87.50%\n",
      "--------------------------------------------------\n"
     ]
    },
    {
     "name": "stderr",
     "output_type": "stream",
     "text": [
      "Epoch 125/200: 100%|██████████| 36/36 [00:00<00:00, 116.63it/s, loss=0.1]   \n",
      "Epoch 125/200: 100%|██████████| 36/36 [00:00<00:00, 116.63it/s, loss=0.1]\n"
     ]
    },
    {
     "name": "stdout",
     "output_type": "stream",
     "text": [
      "Epoch [125/200]\n",
      "Training Loss: 0.4430\n",
      "Validation Loss: 0.4792\n",
      "Test Accuracy: 83.68%\n",
      "Best Accuracy: 87.50%\n",
      "--------------------------------------------------\n"
     ]
    },
    {
     "name": "stderr",
     "output_type": "stream",
     "text": [
      "Epoch 126/200: 100%|██████████| 36/36 [00:00<00:00, 105.14it/s, loss=0.0778]\n",
      "\n"
     ]
    },
    {
     "name": "stdout",
     "output_type": "stream",
     "text": [
      "Epoch [126/200]\n",
      "Training Loss: 0.3443\n",
      "Validation Loss: 0.4733\n",
      "Test Accuracy: 86.11%\n",
      "Best Accuracy: 87.50%\n",
      "--------------------------------------------------\n"
     ]
    },
    {
     "name": "stderr",
     "output_type": "stream",
     "text": [
      "Epoch 127/200: 100%|██████████| 36/36 [00:00<00:00, 120.94it/s, loss=1.49]  \n",
      "\n"
     ]
    },
    {
     "name": "stdout",
     "output_type": "stream",
     "text": [
      "Epoch [127/200]\n",
      "Training Loss: 0.4680\n",
      "Validation Loss: 0.4758\n",
      "Test Accuracy: 85.76%\n",
      "Best Accuracy: 87.50%\n",
      "--------------------------------------------------\n"
     ]
    },
    {
     "name": "stderr",
     "output_type": "stream",
     "text": [
      "Epoch 128/200: 100%|██████████| 36/36 [00:00<00:00, 106.52it/s, loss=0.0462]\n",
      "\n"
     ]
    },
    {
     "name": "stdout",
     "output_type": "stream",
     "text": [
      "Epoch [128/200]\n",
      "Training Loss: 0.5293\n",
      "Validation Loss: 0.5388\n",
      "Test Accuracy: 85.07%\n",
      "Best Accuracy: 87.50%\n",
      "--------------------------------------------------\n"
     ]
    },
    {
     "name": "stderr",
     "output_type": "stream",
     "text": [
      "Epoch 129/200: 100%|██████████| 36/36 [00:00<00:00, 113.74it/s, loss=0.0664]\n",
      "\n"
     ]
    },
    {
     "name": "stdout",
     "output_type": "stream",
     "text": [
      "Epoch [129/200]\n",
      "Training Loss: 0.4416\n",
      "Validation Loss: 0.4847\n",
      "Test Accuracy: 83.68%\n",
      "Best Accuracy: 87.50%\n",
      "--------------------------------------------------\n"
     ]
    },
    {
     "name": "stderr",
     "output_type": "stream",
     "text": [
      "Epoch 130/200: 100%|██████████| 36/36 [00:00<00:00, 101.71it/s, loss=0.391] \n",
      "Epoch 130/200: 100%|██████████| 36/36 [00:00<00:00, 101.71it/s, loss=0.391]\n"
     ]
    },
    {
     "name": "stdout",
     "output_type": "stream",
     "text": [
      "Epoch [130/200]\n",
      "Training Loss: 0.4263\n",
      "Validation Loss: 0.4453\n",
      "Test Accuracy: 88.19%\n",
      "Best Accuracy: 88.19%\n",
      "--------------------------------------------------\n"
     ]
    },
    {
     "name": "stderr",
     "output_type": "stream",
     "text": [
      "Epoch 131/200: 100%|██████████| 36/36 [00:00<00:00, 120.14it/s, loss=0.584] \n",
      "\n"
     ]
    },
    {
     "name": "stdout",
     "output_type": "stream",
     "text": [
      "Epoch [131/200]\n",
      "Training Loss: 0.5517\n",
      "Validation Loss: 0.4993\n",
      "Test Accuracy: 84.38%\n",
      "Best Accuracy: 88.19%\n",
      "--------------------------------------------------\n"
     ]
    },
    {
     "name": "stderr",
     "output_type": "stream",
     "text": [
      "Epoch 132/200: 100%|██████████| 36/36 [00:00<00:00, 119.33it/s, loss=0.0382]\n",
      "\n"
     ]
    },
    {
     "name": "stdout",
     "output_type": "stream",
     "text": [
      "Epoch [132/200]\n",
      "Training Loss: 0.3349\n",
      "Validation Loss: 0.4708\n",
      "Test Accuracy: 84.72%\n",
      "Best Accuracy: 88.19%\n",
      "--------------------------------------------------\n"
     ]
    },
    {
     "name": "stderr",
     "output_type": "stream",
     "text": [
      "Epoch 133/200: 100%|██████████| 36/36 [00:00<00:00, 119.72it/s, loss=1.39]  \n",
      "\n"
     ]
    },
    {
     "name": "stdout",
     "output_type": "stream",
     "text": [
      "Epoch [133/200]\n",
      "Training Loss: 0.5877\n",
      "Validation Loss: 0.4298\n",
      "Test Accuracy: 87.15%\n",
      "Best Accuracy: 88.19%\n",
      "--------------------------------------------------\n"
     ]
    },
    {
     "name": "stderr",
     "output_type": "stream",
     "text": [
      "Epoch 134/200: 100%|██████████| 36/36 [00:00<00:00, 111.36it/s, loss=1.45]  \n",
      "\n"
     ]
    },
    {
     "name": "stdout",
     "output_type": "stream",
     "text": [
      "Epoch [134/200]\n",
      "Training Loss: 0.3581\n",
      "Validation Loss: 0.4692\n",
      "Test Accuracy: 85.07%\n",
      "Best Accuracy: 88.19%\n",
      "--------------------------------------------------\n"
     ]
    },
    {
     "name": "stderr",
     "output_type": "stream",
     "text": [
      "Epoch 135/200: 100%|██████████| 36/36 [00:00<00:00, 102.27it/s, loss=0.0403]\n",
      "Epoch 135/200: 100%|██████████| 36/36 [00:00<00:00, 102.27it/s, loss=0.0403]\n"
     ]
    },
    {
     "name": "stdout",
     "output_type": "stream",
     "text": [
      "Epoch [135/200]\n",
      "Training Loss: 0.3896\n",
      "Validation Loss: 0.4604\n",
      "Test Accuracy: 85.42%\n",
      "Best Accuracy: 88.19%\n",
      "--------------------------------------------------\n"
     ]
    },
    {
     "name": "stderr",
     "output_type": "stream",
     "text": [
      "Epoch 136/200: 100%|██████████| 36/36 [00:00<00:00, 104.09it/s, loss=0.0689]\n",
      "\n"
     ]
    },
    {
     "name": "stdout",
     "output_type": "stream",
     "text": [
      "Epoch [136/200]\n",
      "Training Loss: 0.6471\n",
      "Validation Loss: 0.4530\n",
      "Test Accuracy: 85.76%\n",
      "Best Accuracy: 88.19%\n",
      "--------------------------------------------------\n"
     ]
    },
    {
     "name": "stderr",
     "output_type": "stream",
     "text": [
      "Epoch 137/200: 100%|██████████| 36/36 [00:00<00:00, 110.45it/s, loss=0.0533]\n",
      "\n"
     ]
    },
    {
     "name": "stdout",
     "output_type": "stream",
     "text": [
      "Epoch [137/200]\n",
      "Training Loss: 0.4752\n",
      "Validation Loss: 0.4680\n",
      "Test Accuracy: 84.72%\n",
      "Best Accuracy: 88.19%\n",
      "--------------------------------------------------\n"
     ]
    },
    {
     "name": "stderr",
     "output_type": "stream",
     "text": [
      "Epoch 138/200: 100%|██████████| 36/36 [00:00<00:00, 103.26it/s, loss=1.3]   \n",
      "\n"
     ]
    },
    {
     "name": "stdout",
     "output_type": "stream",
     "text": [
      "Epoch [138/200]\n",
      "Training Loss: 0.3547\n",
      "Validation Loss: 0.4401\n",
      "Test Accuracy: 85.76%\n",
      "Best Accuracy: 88.19%\n",
      "--------------------------------------------------\n"
     ]
    },
    {
     "name": "stderr",
     "output_type": "stream",
     "text": [
      "Epoch 139/200: 100%|██████████| 36/36 [00:00<00:00, 111.25it/s, loss=0.057] \n",
      "\n"
     ]
    },
    {
     "name": "stdout",
     "output_type": "stream",
     "text": [
      "Epoch [139/200]\n",
      "Training Loss: 0.5438\n",
      "Validation Loss: 0.4944\n",
      "Test Accuracy: 84.03%\n",
      "Best Accuracy: 88.19%\n",
      "--------------------------------------------------\n"
     ]
    },
    {
     "name": "stderr",
     "output_type": "stream",
     "text": [
      "Epoch 140/200: 100%|██████████| 36/36 [00:00<00:00, 98.71it/s, loss=0.0485] \n",
      "\n"
     ]
    },
    {
     "name": "stdout",
     "output_type": "stream",
     "text": [
      "Epoch [140/200]\n",
      "Training Loss: 0.4550\n",
      "Validation Loss: 0.4727\n",
      "Test Accuracy: 84.03%\n",
      "Best Accuracy: 88.19%\n",
      "--------------------------------------------------\n"
     ]
    },
    {
     "name": "stderr",
     "output_type": "stream",
     "text": [
      "Epoch 141/200: 100%|██████████| 36/36 [00:00<00:00, 104.86it/s, loss=0.717] \n",
      "\n"
     ]
    },
    {
     "name": "stdout",
     "output_type": "stream",
     "text": [
      "Epoch [141/200]\n",
      "Training Loss: 0.5987\n",
      "Validation Loss: 0.5188\n",
      "Test Accuracy: 84.72%\n",
      "Best Accuracy: 88.19%\n",
      "--------------------------------------------------\n"
     ]
    },
    {
     "name": "stderr",
     "output_type": "stream",
     "text": [
      "Epoch 142/200: 100%|██████████| 36/36 [00:00<00:00, 100.79it/s, loss=0.0672]\n",
      "\n"
     ]
    },
    {
     "name": "stdout",
     "output_type": "stream",
     "text": [
      "Epoch [142/200]\n",
      "Training Loss: 0.4077\n",
      "Validation Loss: 0.4905\n",
      "Test Accuracy: 84.03%\n",
      "Best Accuracy: 88.19%\n",
      "--------------------------------------------------\n"
     ]
    },
    {
     "name": "stderr",
     "output_type": "stream",
     "text": [
      "Epoch 143/200: 100%|██████████| 36/36 [00:00<00:00, 107.11it/s, loss=1.03]  \n",
      "\n"
     ]
    },
    {
     "name": "stdout",
     "output_type": "stream",
     "text": [
      "Epoch [143/200]\n",
      "Training Loss: 0.4181\n",
      "Validation Loss: 0.4729\n",
      "Test Accuracy: 85.76%\n",
      "Best Accuracy: 88.19%\n",
      "--------------------------------------------------\n"
     ]
    },
    {
     "name": "stderr",
     "output_type": "stream",
     "text": [
      "Epoch 144/200: 100%|██████████| 36/36 [00:00<00:00, 105.49it/s, loss=0.545] \n",
      "\n"
     ]
    },
    {
     "name": "stdout",
     "output_type": "stream",
     "text": [
      "Epoch [144/200]\n",
      "Training Loss: 0.3911\n",
      "Validation Loss: 0.4731\n",
      "Test Accuracy: 85.76%\n",
      "Best Accuracy: 88.19%\n",
      "--------------------------------------------------\n"
     ]
    },
    {
     "name": "stderr",
     "output_type": "stream",
     "text": [
      "Epoch 145/200: 100%|██████████| 36/36 [00:00<00:00, 108.47it/s, loss=0.0699]\n",
      "Epoch 145/200: 100%|██████████| 36/36 [00:00<00:00, 108.47it/s, loss=0.0699]\n"
     ]
    },
    {
     "name": "stdout",
     "output_type": "stream",
     "text": [
      "Epoch [145/200]\n",
      "Training Loss: 0.3717\n",
      "Validation Loss: 0.4581\n",
      "Test Accuracy: 86.11%\n",
      "Best Accuracy: 88.19%\n",
      "--------------------------------------------------\n"
     ]
    },
    {
     "name": "stderr",
     "output_type": "stream",
     "text": [
      "Epoch 146/200: 100%|██████████| 36/36 [00:00<00:00, 93.59it/s, loss=1.18]  \n",
      "\n"
     ]
    },
    {
     "name": "stdout",
     "output_type": "stream",
     "text": [
      "Epoch [146/200]\n",
      "Training Loss: 0.3926\n",
      "Validation Loss: 0.4766\n",
      "Test Accuracy: 85.07%\n",
      "Best Accuracy: 88.19%\n",
      "--------------------------------------------------\n"
     ]
    },
    {
     "name": "stderr",
     "output_type": "stream",
     "text": [
      "Epoch 147/200: 100%|██████████| 36/36 [00:00<00:00, 97.16it/s, loss=0.423] \n",
      "\n"
     ]
    },
    {
     "name": "stdout",
     "output_type": "stream",
     "text": [
      "Epoch [147/200]\n",
      "Training Loss: 0.4634\n",
      "Validation Loss: 0.4918\n",
      "Test Accuracy: 84.03%\n",
      "Best Accuracy: 88.19%\n",
      "--------------------------------------------------\n"
     ]
    },
    {
     "name": "stderr",
     "output_type": "stream",
     "text": [
      "Epoch 148/200: 100%|██████████| 36/36 [00:00<00:00, 106.72it/s, loss=0.179] \n",
      "\n"
     ]
    },
    {
     "name": "stdout",
     "output_type": "stream",
     "text": [
      "Epoch [148/200]\n",
      "Training Loss: 0.3048\n",
      "Validation Loss: 0.4537\n",
      "Test Accuracy: 85.76%\n",
      "Best Accuracy: 88.19%\n",
      "--------------------------------------------------\n"
     ]
    },
    {
     "name": "stderr",
     "output_type": "stream",
     "text": [
      "Epoch 149/200: 100%|██████████| 36/36 [00:00<00:00, 90.92it/s, loss=0.0593]\n",
      "\n"
     ]
    },
    {
     "name": "stdout",
     "output_type": "stream",
     "text": [
      "Epoch [149/200]\n",
      "Training Loss: 0.4302\n",
      "Validation Loss: 0.4582\n",
      "Test Accuracy: 86.11%\n",
      "Best Accuracy: 88.19%\n",
      "--------------------------------------------------\n"
     ]
    },
    {
     "name": "stderr",
     "output_type": "stream",
     "text": [
      "Epoch 150/200: 100%|██████████| 36/36 [00:00<00:00, 105.44it/s, loss=0.0732]\n",
      "\n"
     ]
    },
    {
     "name": "stdout",
     "output_type": "stream",
     "text": [
      "Epoch [150/200]\n",
      "Training Loss: 0.4591\n",
      "Validation Loss: 0.4695\n",
      "Test Accuracy: 85.42%\n",
      "Best Accuracy: 88.19%\n",
      "--------------------------------------------------\n"
     ]
    },
    {
     "name": "stderr",
     "output_type": "stream",
     "text": [
      "Epoch 151/200: 100%|██████████| 36/36 [00:00<00:00, 111.64it/s, loss=0.315] \n",
      "\n"
     ]
    },
    {
     "name": "stdout",
     "output_type": "stream",
     "text": [
      "Epoch [151/200]\n",
      "Training Loss: 0.2420\n",
      "Validation Loss: 0.4858\n",
      "Test Accuracy: 83.68%\n",
      "Best Accuracy: 88.19%\n",
      "--------------------------------------------------\n"
     ]
    },
    {
     "name": "stderr",
     "output_type": "stream",
     "text": [
      "Epoch 152/200: 100%|██████████| 36/36 [00:00<00:00, 91.47it/s, loss=0.15]  \n",
      "\n"
     ]
    },
    {
     "name": "stdout",
     "output_type": "stream",
     "text": [
      "Epoch [152/200]\n",
      "Training Loss: 0.3612\n",
      "Validation Loss: 0.4917\n",
      "Test Accuracy: 84.03%\n",
      "Best Accuracy: 88.19%\n",
      "--------------------------------------------------\n"
     ]
    },
    {
     "name": "stderr",
     "output_type": "stream",
     "text": [
      "Epoch 153/200: 100%|██████████| 36/36 [00:00<00:00, 105.22it/s, loss=1.27]  \n",
      "\n"
     ]
    },
    {
     "name": "stdout",
     "output_type": "stream",
     "text": [
      "Epoch [153/200]\n",
      "Training Loss: 0.3670\n",
      "Validation Loss: 0.4713\n",
      "Test Accuracy: 84.72%\n",
      "Best Accuracy: 88.19%\n",
      "--------------------------------------------------\n"
     ]
    },
    {
     "name": "stderr",
     "output_type": "stream",
     "text": [
      "Epoch 154/200: 100%|██████████| 36/36 [00:00<00:00, 104.62it/s, loss=0.108] \n",
      "\n"
     ]
    },
    {
     "name": "stdout",
     "output_type": "stream",
     "text": [
      "Epoch [154/200]\n",
      "Training Loss: 0.4399\n",
      "Validation Loss: 0.4532\n",
      "Test Accuracy: 85.42%\n",
      "Best Accuracy: 88.19%\n",
      "--------------------------------------------------\n"
     ]
    },
    {
     "name": "stderr",
     "output_type": "stream",
     "text": [
      "Epoch 155/200: 100%|██████████| 36/36 [00:00<00:00, 98.05it/s, loss=0.989]  \n",
      "\n"
     ]
    },
    {
     "name": "stdout",
     "output_type": "stream",
     "text": [
      "Epoch [155/200]\n",
      "Training Loss: 0.5658\n",
      "Validation Loss: 0.4637\n",
      "Test Accuracy: 86.46%\n",
      "Best Accuracy: 88.19%\n",
      "--------------------------------------------------\n"
     ]
    },
    {
     "name": "stderr",
     "output_type": "stream",
     "text": [
      "Epoch 156/200: 100%|██████████| 36/36 [00:00<00:00, 98.31it/s, loss=1.21]  \n",
      "\n"
     ]
    },
    {
     "name": "stdout",
     "output_type": "stream",
     "text": [
      "Epoch [156/200]\n",
      "Training Loss: 0.3582\n",
      "Validation Loss: 0.4724\n",
      "Test Accuracy: 83.68%\n",
      "Best Accuracy: 88.19%\n",
      "--------------------------------------------------\n"
     ]
    },
    {
     "name": "stderr",
     "output_type": "stream",
     "text": [
      "Epoch 157/200: 100%|██████████| 36/36 [00:00<00:00, 105.49it/s, loss=0.0566]\n",
      "\n"
     ]
    },
    {
     "name": "stdout",
     "output_type": "stream",
     "text": [
      "Epoch [157/200]\n",
      "Training Loss: 0.3513\n",
      "Validation Loss: 0.4462\n",
      "Test Accuracy: 86.11%\n",
      "Best Accuracy: 88.19%\n",
      "--------------------------------------------------\n"
     ]
    },
    {
     "name": "stderr",
     "output_type": "stream",
     "text": [
      "Epoch 158/200: 100%|██████████| 36/36 [00:00<00:00, 97.32it/s, loss=1.25]  \n",
      "\n"
     ]
    },
    {
     "name": "stdout",
     "output_type": "stream",
     "text": [
      "Epoch [158/200]\n",
      "Training Loss: 0.4347\n",
      "Validation Loss: 0.4327\n",
      "Test Accuracy: 86.11%\n",
      "Best Accuracy: 88.19%\n",
      "--------------------------------------------------\n"
     ]
    },
    {
     "name": "stderr",
     "output_type": "stream",
     "text": [
      "Epoch 159/200: 100%|██████████| 36/36 [00:00<00:00, 99.68it/s, loss=0.0414] \n",
      "\n"
     ]
    },
    {
     "name": "stdout",
     "output_type": "stream",
     "text": [
      "Epoch [159/200]\n",
      "Training Loss: 0.3898\n",
      "Validation Loss: 0.4585\n",
      "Test Accuracy: 86.46%\n",
      "Best Accuracy: 88.19%\n",
      "--------------------------------------------------\n"
     ]
    },
    {
     "name": "stderr",
     "output_type": "stream",
     "text": [
      "Epoch 160/200: 100%|██████████| 36/36 [00:00<00:00, 115.72it/s, loss=0.266] \n",
      "\n"
     ]
    },
    {
     "name": "stdout",
     "output_type": "stream",
     "text": [
      "Epoch [160/200]\n",
      "Training Loss: 0.2836\n",
      "Validation Loss: 0.4796\n",
      "Test Accuracy: 85.76%\n",
      "Best Accuracy: 88.19%\n",
      "--------------------------------------------------\n"
     ]
    },
    {
     "name": "stderr",
     "output_type": "stream",
     "text": [
      "Epoch 161/200: 100%|██████████| 36/36 [00:00<00:00, 107.51it/s, loss=1.33]  \n",
      "\n"
     ]
    },
    {
     "name": "stdout",
     "output_type": "stream",
     "text": [
      "Epoch [161/200]\n",
      "Training Loss: 0.4463\n",
      "Validation Loss: 0.4467\n",
      "Test Accuracy: 87.50%\n",
      "Best Accuracy: 88.19%\n",
      "--------------------------------------------------\n"
     ]
    },
    {
     "name": "stderr",
     "output_type": "stream",
     "text": [
      "Epoch 162/200: 100%|██████████| 36/36 [00:00<00:00, 112.89it/s, loss=0.0833]\n",
      "\n"
     ]
    },
    {
     "name": "stdout",
     "output_type": "stream",
     "text": [
      "Epoch [162/200]\n",
      "Training Loss: 0.3923\n",
      "Validation Loss: 0.4736\n",
      "Test Accuracy: 86.11%\n",
      "Best Accuracy: 88.19%\n",
      "--------------------------------------------------\n"
     ]
    },
    {
     "name": "stderr",
     "output_type": "stream",
     "text": [
      "Epoch 163/200: 100%|██████████| 36/36 [00:00<00:00, 113.03it/s, loss=0.0401]\n",
      "\n"
     ]
    },
    {
     "name": "stdout",
     "output_type": "stream",
     "text": [
      "Epoch [163/200]\n",
      "Training Loss: 0.3965\n",
      "Validation Loss: 0.4657\n",
      "Test Accuracy: 86.11%\n",
      "Best Accuracy: 88.19%\n",
      "--------------------------------------------------\n"
     ]
    },
    {
     "name": "stderr",
     "output_type": "stream",
     "text": [
      "Epoch 164/200: 100%|██████████| 36/36 [00:00<00:00, 114.71it/s, loss=0.22]  \n",
      "\n"
     ]
    },
    {
     "name": "stdout",
     "output_type": "stream",
     "text": [
      "Epoch [164/200]\n",
      "Training Loss: 0.3190\n",
      "Validation Loss: 0.4851\n",
      "Test Accuracy: 85.07%\n",
      "Best Accuracy: 88.19%\n",
      "--------------------------------------------------\n"
     ]
    },
    {
     "name": "stderr",
     "output_type": "stream",
     "text": [
      "Epoch 165/200: 100%|██████████| 36/36 [00:00<00:00, 115.90it/s, loss=0.0483]\n",
      "\n"
     ]
    },
    {
     "name": "stdout",
     "output_type": "stream",
     "text": [
      "Epoch [165/200]\n",
      "Training Loss: 0.3981\n",
      "Validation Loss: 0.4520\n",
      "Test Accuracy: 85.76%\n",
      "Best Accuracy: 88.19%\n",
      "--------------------------------------------------\n"
     ]
    },
    {
     "name": "stderr",
     "output_type": "stream",
     "text": [
      "Epoch 166/200: 100%|██████████| 36/36 [00:00<00:00, 96.37it/s, loss=0.0856]\n",
      "\n"
     ]
    },
    {
     "name": "stdout",
     "output_type": "stream",
     "text": [
      "Epoch [166/200]\n",
      "Training Loss: 0.4300\n",
      "Validation Loss: 0.4642\n",
      "Test Accuracy: 85.42%\n",
      "Best Accuracy: 88.19%\n",
      "--------------------------------------------------\n"
     ]
    },
    {
     "name": "stderr",
     "output_type": "stream",
     "text": [
      "Epoch 167/200: 100%|██████████| 36/36 [00:00<00:00, 116.67it/s, loss=0.168] \n",
      "\n"
     ]
    },
    {
     "name": "stdout",
     "output_type": "stream",
     "text": [
      "Epoch [167/200]\n",
      "Training Loss: 0.3676\n",
      "Validation Loss: 0.4522\n",
      "Test Accuracy: 86.81%\n",
      "Best Accuracy: 88.19%\n",
      "--------------------------------------------------\n"
     ]
    },
    {
     "name": "stderr",
     "output_type": "stream",
     "text": [
      "Epoch 168/200: 100%|██████████| 36/36 [00:00<00:00, 120.45it/s, loss=0.34]  \n",
      "\n"
     ]
    },
    {
     "name": "stdout",
     "output_type": "stream",
     "text": [
      "Epoch [168/200]\n",
      "Training Loss: 0.5674\n",
      "Validation Loss: 0.4756\n",
      "Test Accuracy: 85.07%\n",
      "Best Accuracy: 88.19%\n",
      "--------------------------------------------------\n"
     ]
    },
    {
     "name": "stderr",
     "output_type": "stream",
     "text": [
      "Epoch 169/200: 100%|██████████| 36/36 [00:00<00:00, 114.61it/s, loss=1.23]  \n",
      "\n"
     ]
    },
    {
     "name": "stdout",
     "output_type": "stream",
     "text": [
      "Epoch [169/200]\n",
      "Training Loss: 0.6044\n",
      "Validation Loss: 0.4840\n",
      "Test Accuracy: 84.72%\n",
      "Best Accuracy: 88.19%\n",
      "--------------------------------------------------\n"
     ]
    },
    {
     "name": "stderr",
     "output_type": "stream",
     "text": [
      "Epoch 170/200: 100%|██████████| 36/36 [00:00<00:00, 110.32it/s, loss=1.01]  \n",
      "Epoch 170/200: 100%|██████████| 36/36 [00:00<00:00, 110.32it/s, loss=1.01]\n"
     ]
    },
    {
     "name": "stdout",
     "output_type": "stream",
     "text": [
      "Epoch [170/200]\n",
      "Training Loss: 0.4792\n",
      "Validation Loss: 0.4548\n",
      "Test Accuracy: 85.76%\n",
      "Best Accuracy: 88.19%\n",
      "--------------------------------------------------\n"
     ]
    },
    {
     "name": "stderr",
     "output_type": "stream",
     "text": [
      "Epoch 171/200: 100%|██████████| 36/36 [00:00<00:00, 115.74it/s, loss=0.245] \n",
      "\n"
     ]
    },
    {
     "name": "stdout",
     "output_type": "stream",
     "text": [
      "Epoch [171/200]\n",
      "Training Loss: 0.3884\n",
      "Validation Loss: 0.4550\n",
      "Test Accuracy: 84.72%\n",
      "Best Accuracy: 88.19%\n",
      "--------------------------------------------------\n"
     ]
    },
    {
     "name": "stderr",
     "output_type": "stream",
     "text": [
      "Epoch 172/200: 100%|██████████| 36/36 [00:00<00:00, 111.45it/s, loss=0.1]   \n",
      "\n"
     ]
    },
    {
     "name": "stdout",
     "output_type": "stream",
     "text": [
      "Epoch [172/200]\n",
      "Training Loss: 0.5427\n",
      "Validation Loss: 0.4541\n",
      "Test Accuracy: 86.46%\n",
      "Best Accuracy: 88.19%\n",
      "--------------------------------------------------\n"
     ]
    },
    {
     "name": "stderr",
     "output_type": "stream",
     "text": [
      "Epoch 173/200: 100%|██████████| 36/36 [00:00<00:00, 95.99it/s, loss=0.105]  \n",
      "\n"
     ]
    },
    {
     "name": "stdout",
     "output_type": "stream",
     "text": [
      "Epoch [173/200]\n",
      "Training Loss: 0.2798\n",
      "Validation Loss: 0.4541\n",
      "Test Accuracy: 86.46%\n",
      "Best Accuracy: 88.19%\n",
      "--------------------------------------------------\n"
     ]
    },
    {
     "name": "stderr",
     "output_type": "stream",
     "text": [
      "Epoch 174/200: 100%|██████████| 36/36 [00:00<00:00, 122.31it/s, loss=0.806] \n",
      "\n"
     ]
    },
    {
     "name": "stdout",
     "output_type": "stream",
     "text": [
      "Epoch [174/200]\n",
      "Training Loss: 0.4107\n",
      "Validation Loss: 0.4661\n",
      "Test Accuracy: 85.76%\n",
      "Best Accuracy: 88.19%\n",
      "--------------------------------------------------\n"
     ]
    },
    {
     "name": "stderr",
     "output_type": "stream",
     "text": [
      "Epoch 175/200: 100%|██████████| 36/36 [00:00<00:00, 118.02it/s, loss=0.17]  \n",
      "\n"
     ]
    },
    {
     "name": "stdout",
     "output_type": "stream",
     "text": [
      "Epoch [175/200]\n",
      "Training Loss: 0.3032\n",
      "Validation Loss: 0.4511\n",
      "Test Accuracy: 86.11%\n",
      "Best Accuracy: 88.19%\n",
      "--------------------------------------------------\n"
     ]
    },
    {
     "name": "stderr",
     "output_type": "stream",
     "text": [
      "Epoch 176/200: 100%|██████████| 36/36 [00:00<00:00, 117.58it/s, loss=0.358] \n",
      "\n"
     ]
    },
    {
     "name": "stdout",
     "output_type": "stream",
     "text": [
      "Epoch [176/200]\n",
      "Training Loss: 0.3061\n",
      "Validation Loss: 0.4444\n",
      "Test Accuracy: 86.46%\n",
      "Best Accuracy: 88.19%\n",
      "--------------------------------------------------\n"
     ]
    },
    {
     "name": "stderr",
     "output_type": "stream",
     "text": [
      "Epoch 177/200: 100%|██████████| 36/36 [00:00<00:00, 112.14it/s, loss=0.395] \n",
      "\n"
     ]
    },
    {
     "name": "stdout",
     "output_type": "stream",
     "text": [
      "Epoch [177/200]\n",
      "Training Loss: 0.3848\n",
      "Validation Loss: 0.4482\n",
      "Test Accuracy: 86.81%\n",
      "Best Accuracy: 88.19%\n",
      "--------------------------------------------------\n"
     ]
    },
    {
     "name": "stderr",
     "output_type": "stream",
     "text": [
      "Epoch 178/200: 100%|██████████| 36/36 [00:00<00:00, 114.30it/s, loss=0.898] \n",
      "Epoch 178/200: 100%|██████████| 36/36 [00:00<00:00, 114.30it/s, loss=0.898] \n"
     ]
    },
    {
     "name": "stdout",
     "output_type": "stream",
     "text": [
      "Epoch [178/200]\n",
      "Training Loss: 0.4061\n",
      "Validation Loss: 0.4464\n",
      "Test Accuracy: 85.76%\n",
      "Best Accuracy: 88.19%\n",
      "--------------------------------------------------\n"
     ]
    },
    {
     "name": "stderr",
     "output_type": "stream",
     "text": [
      "Epoch 179/200: 100%|██████████| 36/36 [00:00<00:00, 110.32it/s, loss=0.0482]\n",
      "Epoch 179/200: 100%|██████████| 36/36 [00:00<00:00, 110.32it/s, loss=0.0482]\n"
     ]
    },
    {
     "name": "stdout",
     "output_type": "stream",
     "text": [
      "Epoch [179/200]\n",
      "Training Loss: 0.4039\n",
      "Validation Loss: 0.4486\n",
      "Test Accuracy: 86.46%\n",
      "Best Accuracy: 88.19%\n",
      "--------------------------------------------------\n"
     ]
    },
    {
     "name": "stderr",
     "output_type": "stream",
     "text": [
      "Epoch 180/200: 100%|██████████| 36/36 [00:00<00:00, 96.69it/s, loss=0.0344] \n",
      "Epoch 180/200: 100%|██████████| 36/36 [00:00<00:00, 96.69it/s, loss=0.0344] \n"
     ]
    },
    {
     "name": "stdout",
     "output_type": "stream",
     "text": [
      "Epoch [180/200]\n",
      "Training Loss: 0.2934\n",
      "Validation Loss: 0.4590\n",
      "Test Accuracy: 85.07%\n",
      "Best Accuracy: 88.19%\n",
      "--------------------------------------------------\n"
     ]
    },
    {
     "name": "stderr",
     "output_type": "stream",
     "text": [
      "Epoch 181/200: 100%|██████████| 36/36 [00:00<00:00, 116.39it/s, loss=1.14]  \n",
      "Epoch 181/200: 100%|██████████| 36/36 [00:00<00:00, 116.39it/s, loss=1.14]  \n"
     ]
    },
    {
     "name": "stdout",
     "output_type": "stream",
     "text": [
      "Epoch [181/200]\n",
      "Training Loss: 0.4397\n",
      "Validation Loss: 0.4565\n",
      "Test Accuracy: 87.15%\n",
      "Best Accuracy: 88.19%\n",
      "--------------------------------------------------\n"
     ]
    },
    {
     "name": "stderr",
     "output_type": "stream",
     "text": [
      "Epoch 182/200: 100%|██████████| 36/36 [00:00<00:00, 116.55it/s, loss=0.639] \n",
      "Epoch 182/200: 100%|██████████| 36/36 [00:00<00:00, 116.55it/s, loss=0.639] \n"
     ]
    },
    {
     "name": "stdout",
     "output_type": "stream",
     "text": [
      "Epoch [182/200]\n",
      "Training Loss: 0.4938\n",
      "Validation Loss: 0.4505\n",
      "Test Accuracy: 86.81%\n",
      "Best Accuracy: 88.19%\n",
      "--------------------------------------------------\n"
     ]
    },
    {
     "name": "stderr",
     "output_type": "stream",
     "text": [
      "Epoch 183/200: 100%|██████████| 36/36 [00:00<00:00, 109.39it/s, loss=1.51]  \n",
      "\n"
     ]
    },
    {
     "name": "stdout",
     "output_type": "stream",
     "text": [
      "Epoch [183/200]\n",
      "Training Loss: 0.4955\n",
      "Validation Loss: 0.4484\n",
      "Test Accuracy: 86.81%\n",
      "Best Accuracy: 88.19%\n",
      "--------------------------------------------------\n"
     ]
    },
    {
     "name": "stderr",
     "output_type": "stream",
     "text": [
      "Epoch 184/200: 100%|██████████| 36/36 [00:00<00:00, 117.23it/s, loss=1.28]  \n",
      "Epoch 184/200: 100%|██████████| 36/36 [00:00<00:00, 117.23it/s, loss=1.28]  \n"
     ]
    },
    {
     "name": "stdout",
     "output_type": "stream",
     "text": [
      "Epoch [184/200]\n",
      "Training Loss: 0.3857\n",
      "Validation Loss: 0.4534\n",
      "Test Accuracy: 86.46%\n",
      "Best Accuracy: 88.19%\n",
      "--------------------------------------------------\n"
     ]
    },
    {
     "name": "stderr",
     "output_type": "stream",
     "text": [
      "Epoch 185/200: 100%|██████████| 36/36 [00:00<00:00, 118.06it/s, loss=1.16]  \n",
      "\n"
     ]
    },
    {
     "name": "stdout",
     "output_type": "stream",
     "text": [
      "Epoch [185/200]\n",
      "Training Loss: 0.4238\n",
      "Validation Loss: 0.4423\n",
      "Test Accuracy: 86.46%\n",
      "Best Accuracy: 88.19%\n",
      "--------------------------------------------------\n"
     ]
    },
    {
     "name": "stderr",
     "output_type": "stream",
     "text": [
      "Epoch 186/200: 100%|██████████| 36/36 [00:00<00:00, 103.52it/s, loss=0.0469]\n",
      "Epoch 186/200: 100%|██████████| 36/36 [00:00<00:00, 103.52it/s, loss=0.0469]\n"
     ]
    },
    {
     "name": "stdout",
     "output_type": "stream",
     "text": [
      "Epoch [186/200]\n",
      "Training Loss: 0.3663\n",
      "Validation Loss: 0.4378\n",
      "Test Accuracy: 86.46%\n",
      "Best Accuracy: 88.19%\n",
      "--------------------------------------------------\n"
     ]
    },
    {
     "name": "stderr",
     "output_type": "stream",
     "text": [
      "Epoch 187/200: 100%|██████████| 36/36 [00:00<00:00, 101.11it/s, loss=0.108] \n",
      "Epoch 187/200: 100%|██████████| 36/36 [00:00<00:00, 101.11it/s, loss=0.108] \n"
     ]
    },
    {
     "name": "stdout",
     "output_type": "stream",
     "text": [
      "Epoch [187/200]\n",
      "Training Loss: 0.2675\n",
      "Validation Loss: 0.4437\n",
      "Test Accuracy: 86.46%\n",
      "Best Accuracy: 88.19%\n",
      "--------------------------------------------------\n"
     ]
    },
    {
     "name": "stderr",
     "output_type": "stream",
     "text": [
      "Epoch 188/200: 100%|██████████| 36/36 [00:00<00:00, 118.94it/s, loss=1.36]  \n",
      "Epoch 188/200: 100%|██████████| 36/36 [00:00<00:00, 118.94it/s, loss=1.36]  \n"
     ]
    },
    {
     "name": "stdout",
     "output_type": "stream",
     "text": [
      "Epoch [188/200]\n",
      "Training Loss: 0.6040\n",
      "Validation Loss: 0.4426\n",
      "Test Accuracy: 86.81%\n",
      "Best Accuracy: 88.19%\n",
      "--------------------------------------------------\n"
     ]
    },
    {
     "name": "stderr",
     "output_type": "stream",
     "text": [
      "Epoch 189/200: 100%|██████████| 36/36 [00:00<00:00, 115.85it/s, loss=0.197] \n",
      "\n"
     ]
    },
    {
     "name": "stdout",
     "output_type": "stream",
     "text": [
      "Epoch [189/200]\n",
      "Training Loss: 0.3509\n",
      "Validation Loss: 0.4407\n",
      "Test Accuracy: 86.11%\n",
      "Best Accuracy: 88.19%\n",
      "--------------------------------------------------\n"
     ]
    },
    {
     "name": "stderr",
     "output_type": "stream",
     "text": [
      "Epoch 190/200: 100%|██████████| 36/36 [00:00<00:00, 115.27it/s, loss=0.0704]\n",
      "\n"
     ]
    },
    {
     "name": "stdout",
     "output_type": "stream",
     "text": [
      "Epoch [190/200]\n",
      "Training Loss: 0.4229\n",
      "Validation Loss: 0.4405\n",
      "Test Accuracy: 86.81%\n",
      "Best Accuracy: 88.19%\n",
      "--------------------------------------------------\n"
     ]
    },
    {
     "name": "stderr",
     "output_type": "stream",
     "text": [
      "Epoch 191/200: 100%|██████████| 36/36 [00:00<00:00, 121.20it/s, loss=0.04]  \n",
      "\n"
     ]
    },
    {
     "name": "stdout",
     "output_type": "stream",
     "text": [
      "Epoch [191/200]\n",
      "Training Loss: 0.4903\n",
      "Validation Loss: 0.4401\n",
      "Test Accuracy: 86.81%\n",
      "Best Accuracy: 88.19%\n",
      "--------------------------------------------------\n"
     ]
    },
    {
     "name": "stderr",
     "output_type": "stream",
     "text": [
      "Epoch 192/200: 100%|██████████| 36/36 [00:00<00:00, 112.34it/s, loss=0.0413]\n",
      "Epoch 192/200: 100%|██████████| 36/36 [00:00<00:00, 112.34it/s, loss=0.0413]\n"
     ]
    },
    {
     "name": "stdout",
     "output_type": "stream",
     "text": [
      "Epoch [192/200]\n",
      "Training Loss: 0.3594\n",
      "Validation Loss: 0.4380\n",
      "Test Accuracy: 86.46%\n",
      "Best Accuracy: 88.19%\n",
      "--------------------------------------------------\n"
     ]
    },
    {
     "name": "stderr",
     "output_type": "stream",
     "text": [
      "Epoch 193/200: 100%|██████████| 36/36 [00:00<00:00, 107.19it/s, loss=0.496] \n",
      "Epoch 193/200: 100%|██████████| 36/36 [00:00<00:00, 107.19it/s, loss=0.496] \n"
     ]
    },
    {
     "name": "stdout",
     "output_type": "stream",
     "text": [
      "Epoch [193/200]\n",
      "Training Loss: 0.4837\n",
      "Validation Loss: 0.4409\n",
      "Test Accuracy: 86.81%\n",
      "Best Accuracy: 88.19%\n",
      "--------------------------------------------------\n"
     ]
    },
    {
     "name": "stderr",
     "output_type": "stream",
     "text": [
      "Epoch 194/200: 100%|██████████| 36/36 [00:00<00:00, 111.57it/s, loss=0.0687]\n",
      "\n"
     ]
    },
    {
     "name": "stdout",
     "output_type": "stream",
     "text": [
      "Epoch [194/200]\n",
      "Training Loss: 0.4815\n",
      "Validation Loss: 0.4496\n",
      "Test Accuracy: 86.81%\n",
      "Best Accuracy: 88.19%\n",
      "--------------------------------------------------\n"
     ]
    },
    {
     "name": "stderr",
     "output_type": "stream",
     "text": [
      "Epoch 195/200: 100%|██████████| 36/36 [00:00<00:00, 121.50it/s, loss=0.284] \n",
      "Epoch 195/200: 100%|██████████| 36/36 [00:00<00:00, 121.50it/s, loss=0.284] \n"
     ]
    },
    {
     "name": "stdout",
     "output_type": "stream",
     "text": [
      "Epoch [195/200]\n",
      "Training Loss: 0.3887\n",
      "Validation Loss: 0.4510\n",
      "Test Accuracy: 85.07%\n",
      "Best Accuracy: 88.19%\n",
      "--------------------------------------------------\n"
     ]
    },
    {
     "name": "stderr",
     "output_type": "stream",
     "text": [
      "Epoch 196/200: 100%|██████████| 36/36 [00:00<00:00, 108.11it/s, loss=0.319] \n",
      "\n"
     ]
    },
    {
     "name": "stdout",
     "output_type": "stream",
     "text": [
      "Epoch [196/200]\n",
      "Training Loss: 0.4499\n",
      "Validation Loss: 0.4439\n",
      "Test Accuracy: 86.81%\n",
      "Best Accuracy: 88.19%\n",
      "--------------------------------------------------\n"
     ]
    },
    {
     "name": "stderr",
     "output_type": "stream",
     "text": [
      "Epoch 197/200: 100%|██████████| 36/36 [00:00<00:00, 120.43it/s, loss=0.779] \n",
      "Epoch 197/200: 100%|██████████| 36/36 [00:00<00:00, 120.43it/s, loss=0.779]\n"
     ]
    },
    {
     "name": "stdout",
     "output_type": "stream",
     "text": [
      "Epoch [197/200]\n",
      "Training Loss: 0.5253\n",
      "Validation Loss: 0.4450\n",
      "Test Accuracy: 87.15%\n",
      "Best Accuracy: 88.19%\n",
      "--------------------------------------------------\n"
     ]
    },
    {
     "name": "stderr",
     "output_type": "stream",
     "text": [
      "Epoch 198/200: 100%|██████████| 36/36 [00:00<00:00, 123.43it/s, loss=0.383] \n",
      "\n"
     ]
    },
    {
     "name": "stdout",
     "output_type": "stream",
     "text": [
      "Epoch [198/200]\n",
      "Training Loss: 0.3712\n",
      "Validation Loss: 0.4443\n",
      "Test Accuracy: 85.42%\n",
      "Best Accuracy: 88.19%\n",
      "--------------------------------------------------\n"
     ]
    },
    {
     "name": "stderr",
     "output_type": "stream",
     "text": [
      "Epoch 199/200: 100%|██████████| 36/36 [00:00<00:00, 104.14it/s, loss=0.133] \n",
      "Epoch 199/200: 100%|██████████| 36/36 [00:00<00:00, 104.14it/s, loss=0.133] \n"
     ]
    },
    {
     "name": "stdout",
     "output_type": "stream",
     "text": [
      "Epoch [199/200]\n",
      "Training Loss: 0.4686\n",
      "Validation Loss: 0.4424\n",
      "Test Accuracy: 86.81%\n",
      "Best Accuracy: 88.19%\n",
      "--------------------------------------------------\n"
     ]
    },
    {
     "name": "stderr",
     "output_type": "stream",
     "text": [
      "Epoch 200/200: 100%|██████████| 36/36 [00:00<00:00, 106.67it/s, loss=0.0397]\n",
      "Epoch 200/200: 100%|██████████| 36/36 [00:00<00:00, 106.67it/s, loss=0.0397]\n"
     ]
    },
    {
     "name": "stdout",
     "output_type": "stream",
     "text": [
      "Epoch [200/200]\n",
      "Training Loss: 0.3080\n",
      "Validation Loss: 0.4429\n",
      "Test Accuracy: 86.11%\n",
      "Best Accuracy: 88.19%\n",
      "--------------------------------------------------\n",
      "\n",
      "Final Best Accuracy: 88.19%\n"
     ]
    }
   ],
   "source": [
    "# Training parameters\n",
    "num_epochs = 200\n",
    "batch_size = 32\n",
    "\n",
    "# Create data loaders\n",
    "train_dataset = torch.utils.data.TensorDataset(X_train, y_train)\n",
    "train_loader = torch.utils.data.DataLoader(train_dataset, batch_size=batch_size, shuffle=True)\n",
    "\n",
    "test_dataset = torch.utils.data.TensorDataset(X_test, y_test)\n",
    "test_loader = torch.utils.data.DataLoader(test_dataset, batch_size=batch_size)\n",
    "\n",
    "# Learning rate scheduler\n",
    "scheduler = torch.optim.lr_scheduler.OneCycleLR(\n",
    "    optimizer,\n",
    "    max_lr=0.001,\n",
    "    epochs=num_epochs,\n",
    "    steps_per_epoch=len(train_loader),\n",
    "    pct_start=0.1,\n",
    "    anneal_strategy='cos'\n",
    ")\n",
    "\n",
    "# Mixup augmentation function\n",
    "def mixup_data(x, y, alpha=0.2):\n",
    "    if alpha > 0:\n",
    "        lam = np.random.beta(alpha, alpha)\n",
    "    else:\n",
    "        lam = 1\n",
    "\n",
    "    batch_size = x.size()[0]\n",
    "    index = torch.randperm(batch_size).to(device)\n",
    "\n",
    "    mixed_x = lam * x + (1 - lam) * x[index, :]\n",
    "    y_a, y_b = y, y[index]\n",
    "    return mixed_x, y_a, y_b, lam\n",
    "\n",
    "# Mixup criterion\n",
    "def mixup_criterion(criterion, pred, y_a, y_b, lam):\n",
    "    return lam * criterion(pred, y_a) + (1 - lam) * criterion(pred, y_b)\n",
    "\n",
    "# Training loop\n",
    "train_losses = []\n",
    "test_accuracies = []\n",
    "best_accuracy = 0\n",
    "best_model_state = None\n",
    "\n",
    "for epoch in range(num_epochs):\n",
    "    model.train()\n",
    "    total_loss = 0\n",
    "    \n",
    "    # Training phase\n",
    "    with tqdm(train_loader, desc=f'Epoch {epoch+1}/{num_epochs}') as pbar:\n",
    "        for batch_X, batch_y in pbar:\n",
    "            batch_X, batch_y = batch_X.to(device), batch_y.to(device)\n",
    "            \n",
    "            # Apply mixup\n",
    "            mixed_X, y_a, y_b, lam = mixup_data(batch_X, batch_y)\n",
    "            \n",
    "            optimizer.zero_grad()\n",
    "            outputs = model(mixed_X)\n",
    "            \n",
    "            loss = mixup_criterion(criterion, outputs, y_a, y_b, lam)\n",
    "            loss.backward()\n",
    "            \n",
    "            # Gradient clipping\n",
    "            torch.nn.utils.clip_grad_norm_(model.parameters(), max_norm=1.0)\n",
    "            \n",
    "            optimizer.step()\n",
    "            scheduler.step()\n",
    "            \n",
    "            total_loss += loss.item()\n",
    "            pbar.set_postfix({'loss': loss.item()})\n",
    "    \n",
    "    # Validation phase\n",
    "    model.eval()\n",
    "    correct = 0\n",
    "    total = 0\n",
    "    all_predictions = []\n",
    "    all_targets = []\n",
    "    val_losses = []\n",
    "    \n",
    "    with torch.no_grad():\n",
    "        for batch_X, batch_y in test_loader:\n",
    "            batch_X, batch_y = batch_X.to(device), batch_y.to(device)\n",
    "            outputs = model(batch_X)\n",
    "            \n",
    "            val_loss = criterion(outputs, batch_y)\n",
    "            val_losses.append(val_loss.item())\n",
    "            \n",
    "            _, predicted = torch.max(outputs.data, 1)\n",
    "            total += batch_y.size(0)\n",
    "            correct += (predicted == batch_y).sum().item()\n",
    "            \n",
    "            all_predictions.extend(predicted.cpu().numpy())\n",
    "            all_targets.extend(batch_y.cpu().numpy())\n",
    "    \n",
    "    accuracy = 100 * correct / total\n",
    "    test_accuracies.append(accuracy)\n",
    "    train_losses.append(total_loss / len(train_loader))\n",
    "    \n",
    "    # Save best model\n",
    "    if accuracy > best_accuracy:\n",
    "        best_accuracy = accuracy\n",
    "        best_model_state = model.state_dict().copy()\n",
    "        \n",
    "        # Store predictions and targets for best epoch\n",
    "        epoch_predictions = all_predictions\n",
    "        epoch_targets = all_targets\n",
    "    \n",
    "    print(f'Epoch [{epoch+1}/{num_epochs}]')\n",
    "    print(f'Training Loss: {train_losses[-1]:.4f}')\n",
    "    print(f'Validation Loss: {np.mean(val_losses):.4f}')\n",
    "    print(f'Test Accuracy: {accuracy:.2f}%')\n",
    "    print(f'Best Accuracy: {best_accuracy:.2f}%')\n",
    "    print('-' * 50)\n",
    "\n",
    "# Load best model\n",
    "model.load_state_dict(best_model_state)\n",
    "print(f'\\nFinal Best Accuracy: {best_accuracy:.2f}%')"
   ]
  },
  {
   "cell_type": "markdown",
   "id": "3664242b",
   "metadata": {},
   "source": [
    "## Training Progress and Metrics\n",
    "\n",
    "The training progress shows:\n",
    "- Loss: The training loss per epoch (lower is better)\n",
    "- Test Accuracy: Overall accuracy on the test set\n",
    "- Detailed classification report every 10 epochs including:\n",
    "  - Precision: Ratio of true positives to all predicted positives\n",
    "  - Recall: Ratio of true positives to all actual positives\n",
    "  - F1-score: Harmonic mean of precision and recall\n",
    "  - Support: Number of samples for each class"
   ]
  },
  {
   "cell_type": "code",
   "execution_count": 6,
   "id": "d2987712",
   "metadata": {},
   "outputs": [
    {
     "name": "stdout",
     "output_type": "stream",
     "text": [
      "Final Classification Report:\n"
     ]
    },
    {
     "ename": "NameError",
     "evalue": "name 'classification_report' is not defined",
     "output_type": "error",
     "traceback": [
      "\u001b[31m---------------------------------------------------------------------------\u001b[39m",
      "\u001b[31mNameError\u001b[39m                                 Traceback (most recent call last)",
      "\u001b[36mCell\u001b[39m\u001b[36m \u001b[39m\u001b[32mIn[6]\u001b[39m\u001b[32m, line 5\u001b[39m\n\u001b[32m      2\u001b[39m emotion_labels = [\u001b[33m'\u001b[39m\u001b[33mneutral\u001b[39m\u001b[33m'\u001b[39m, \u001b[33m'\u001b[39m\u001b[33mcalm\u001b[39m\u001b[33m'\u001b[39m, \u001b[33m'\u001b[39m\u001b[33mhappy\u001b[39m\u001b[33m'\u001b[39m, \u001b[33m'\u001b[39m\u001b[33msad\u001b[39m\u001b[33m'\u001b[39m, \u001b[33m'\u001b[39m\u001b[33mangry\u001b[39m\u001b[33m'\u001b[39m, \u001b[33m'\u001b[39m\u001b[33mfearful\u001b[39m\u001b[33m'\u001b[39m, \u001b[33m'\u001b[39m\u001b[33mdisgust\u001b[39m\u001b[33m'\u001b[39m, \u001b[33m'\u001b[39m\u001b[33msurprised\u001b[39m\u001b[33m'\u001b[39m]\n\u001b[32m      4\u001b[39m \u001b[38;5;28mprint\u001b[39m(\u001b[33m'\u001b[39m\u001b[33mFinal Classification Report:\u001b[39m\u001b[33m'\u001b[39m)\n\u001b[32m----> \u001b[39m\u001b[32m5\u001b[39m \u001b[38;5;28mprint\u001b[39m(\u001b[43mclassification_report\u001b[49m(epoch_targets, epoch_predictions, target_names=emotion_labels))\n",
      "\u001b[31mNameError\u001b[39m: name 'classification_report' is not defined"
     ]
    }
   ],
   "source": [
    "# Generate final classification report\n",
    "emotion_labels = ['neutral', 'calm', 'happy', 'sad', 'angry', 'fearful', 'disgust', 'surprised']\n",
    "\n",
    "print('Final Classification Report:')\n",
    "print(classification_report(epoch_targets, epoch_predictions, target_names=emotion_labels))"
   ]
  },
  {
   "cell_type": "markdown",
   "id": "6c480645",
   "metadata": {},
   "source": [
    "## Classification Report\n",
    "\n",
    "The classification report shows the model's performance for each emotion:\n",
    "- **Precision**: How many of the predictions for each emotion were correct\n",
    "- **Recall**: How many of the actual instances of each emotion were correctly identified\n",
    "- **F1-score**: The harmonic mean of precision and recall\n",
    "- **Support**: Number of samples for each emotion in the test set\n",
    "\n",
    "A score closer to 1.0 indicates better performance."
   ]
  },
  {
   "cell_type": "code",
   "execution_count": 8,
   "id": "825c5d0d",
   "metadata": {},
   "outputs": [
    {
     "data": {
      "image/png": "[encoded data removed]",
      "text/plain": [
       "<Figure size 1500x500 with 2 Axes>"
      ]
     },
     "metadata": {},
     "output_type": "display_data"
    },
    {
     "name": "stdout",
     "output_type": "stream",
     "text": [
      "\n",
      "Final Results:\n",
      "Best Validation Accuracy: 88.19%\n",
      "Final Training Loss: 0.3080\n"
     ]
    }
   ],
   "source": [
    "# Plot training loss and validation accuracy\n",
    "plt.figure(figsize=(15, 5))\n",
    "\n",
    "# Plot training loss\n",
    "plt.subplot(1, 2, 1)\n",
    "plt.plot(train_losses, 'b-', label='Training Loss')\n",
    "plt.title('Training Loss Over Epochs')\n",
    "plt.xlabel('Epoch')\n",
    "plt.ylabel('Loss')\n",
    "plt.grid(True)\n",
    "plt.legend()\n",
    "\n",
    "# Plot validation accuracy\n",
    "plt.subplot(1, 2, 2)\n",
    "plt.plot(test_accuracies, 'r-', label='Validation Accuracy')\n",
    "plt.title('Validation Accuracy Over Epochs')\n",
    "plt.xlabel('Epoch')\n",
    "plt.ylabel('Accuracy (%)')\n",
    "plt.grid(True)\n",
    "plt.legend()\n",
    "\n",
    "plt.tight_layout()\n",
    "plt.show()\n",
    "\n",
    "# Print final metrics\n",
    "print(f\"\\nFinal Results:\")\n",
    "print(f\"Best Validation Accuracy: {max(test_accuracies):.2f}%\")\n",
    "print(f\"Final Training Loss: {train_losses[-1]:.4f}\")"
   ]
  },
  {
   "cell_type": "markdown",
   "id": "1a4a0365",
   "metadata": {},
   "source": [
    "## Confusion Matrix\n",
    "\n",
    "The confusion matrix shows:\n",
    "- Rows: True emotions\n",
    "- Columns: Predicted emotions\n",
    "- Numbers: Count of predictions\n",
    "- Diagonal: Correct predictions\n",
    "- Off-diagonal: Misclassifications\n",
    "\n",
    "This helps identify which emotions are commonly confused with each other."
   ]
  },
  {
   "cell_type": "code",
   "execution_count": 9,
   "id": "fe7635aa",
   "metadata": {},
   "outputs": [
    {
     "data": {
      "image/png": "[encoded data removed]",
      "text/plain": [
       "<Figure size 1200x1000 with 2 Axes>"
      ]
     },
     "metadata": {},
     "output_type": "display_data"
    },
    {
     "name": "stdout",
     "output_type": "stream",
     "text": [
      "\n",
      "Confusion Matrix Analysis:\n",
      "Total Correct Predictions: 254\n",
      "Total Samples: 288\n",
      "Overall Accuracy: 88.19%\n",
      "\n",
      "Per-class Accuracy:\n",
      "neutral: 80.00%\n",
      "calm: 95.45%\n",
      "happy: 88.24%\n",
      "sad: 79.49%\n",
      "angry: 90.48%\n",
      "fearful: 81.25%\n",
      "disgust: 93.75%\n",
      "surprised: 91.11%\n"
     ]
    }
   ],
   "source": [
    "# Create and plot confusion matrix\n",
    "from sklearn.metrics import confusion_matrix\n",
    "import seaborn as sns\n",
    "\n",
    "# Compute confusion matrix\n",
    "cm = confusion_matrix(epoch_targets, epoch_predictions)\n",
    "\n",
    "# Create confusion matrix plot\n",
    "plt.figure(figsize=(12, 10))\n",
    "sns.heatmap(cm, annot=True, fmt='d', cmap='Blues',\n",
    "            xticklabels=emotion_labels,\n",
    "            yticklabels=emotion_labels)\n",
    "plt.title('Confusion Matrix')\n",
    "plt.xlabel('Predicted Emotion')\n",
    "plt.ylabel('True Emotion')\n",
    "plt.xticks(rotation=45)\n",
    "plt.yticks(rotation=45)\n",
    "plt.tight_layout()\n",
    "plt.show()\n",
    "\n",
    "# Print overall metrics\n",
    "total_correct = np.sum(np.diag(cm))\n",
    "total_samples = np.sum(cm)\n",
    "print(f\"\\nConfusion Matrix Analysis:\")\n",
    "print(f\"Total Correct Predictions: {total_correct}\")\n",
    "print(f\"Total Samples: {total_samples}\")\n",
    "print(f\"Overall Accuracy: {100 * total_correct / total_samples:.2f}%\")\n",
    "\n",
    "# Calculate per-class accuracy\n",
    "print(\"\\nPer-class Accuracy:\")\n",
    "for i, emotion in enumerate(emotion_labels):\n",
    "    class_correct = cm[i, i]\n",
    "    class_total = np.sum(cm[i, :])\n",
    "    if class_total > 0:\n",
    "        class_accuracy = 100 * class_correct / class_total\n",
    "        print(f\"{emotion}: {class_accuracy:.2f}%\")"
   ]
  }
 ],
 "metadata": {
  "kernelspec": {
   "display_name": "gpu",
   "language": "python",
   "name": "python3"
  },
  "language_info": {
   "codemirror_mode": {
    "name": "ipython",
    "version": 3
   },
   "file_extension": ".py",
   "mimetype": "text/x-python",
   "name": "python",
   "nbconvert_exporter": "python",
   "pygments_lexer": "ipython3",
   "version": "3.12.11"
  }
 },
 "nbformat": 4,
 "nbformat_minor": 5
}
