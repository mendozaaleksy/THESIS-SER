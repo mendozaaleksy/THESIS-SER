{
 "cells": [
  {
   "cell_type": "markdown",
   "id": "4af0be38",
   "metadata": {},
   "source": [
    "# MFCC-based CNN Model for Speech Emotion Recognition\n",
    "\n",
    "This notebook implements a CNN model for speech emotion recognition using the RAVDESS dataset. The model aims to achieve 85.82% accuracy using MFCC features."
   ]
  },
  {
   "cell_type": "code",
   "execution_count": 1,
   "id": "d443c062",
   "metadata": {},
   "outputs": [
    {
     "name": "stdout",
     "output_type": "stream",
     "text": [
      "Using device: cuda\n"
     ]
    }
   ],
   "source": [
    "import numpy as np\n",
    "import pandas as pd\n",
    "import torch\n",
    "import torch.nn as nn\n",
    "import torch.optim as optim\n",
    "from torch.utils.data import Dataset, DataLoader\n",
    "import librosa\n",
    "import os\n",
    "from sklearn.model_selection import train_test_split\n",
    "from sklearn.preprocessing import LabelEncoder\n",
    "from sklearn.metrics import classification_report\n",
    "import matplotlib.pyplot as plt\n",
    "from tqdm import tqdm\n",
    "\n",
    "# Set random seeds for reproducibility\n",
    "torch.manual_seed(42)\n",
    "np.random.seed(42)\n",
    "\n",
    "# Check if CUDA is available\n",
    "device = torch.device('cuda' if torch.cuda.is_available() else 'cpu')\n",
    "print(f\"Using device: {device}\")"
   ]
  },
  {
   "cell_type": "markdown",
   "id": "a82a85de",
   "metadata": {},
   "source": [
    "## Data Loading and Preprocessing"
   ]
  },
  {
   "cell_type": "code",
   "execution_count": 2,
   "id": "12ff6ea3",
   "metadata": {},
   "outputs": [
    {
     "name": "stdout",
     "output_type": "stream",
     "text": [
      "Total samples: 1440\n",
      "\n",
      "Emotion distribution:\n",
      "emotion\n",
      "1    192\n",
      "2    192\n",
      "3    192\n",
      "4    192\n",
      "6    192\n",
      "5    192\n",
      "7    192\n",
      "0     96\n",
      "Name: count, dtype: int64\n"
     ]
    }
   ],
   "source": [
    "def load_ravdess_data(data_path):\n",
    "    data = []\n",
    "    for actor in os.listdir(data_path):\n",
    "        if actor.startswith('Actor'):\n",
    "            actor_path = os.path.join(data_path, actor)\n",
    "            for filename in os.listdir(actor_path):\n",
    "                file_path = os.path.join(actor_path, filename)\n",
    "                # Parse filename for labels (format: 03-01-01-01-01-01-01.wav)\n",
    "                parts = filename.split('-')\n",
    "                emotion = int(parts[2]) - 1  # Convert to 0-based index\n",
    "                data.append({\n",
    "                    'path': file_path,\n",
    "                    'emotion': emotion,\n",
    "                    'actor': actor\n",
    "                })\n",
    "    return pd.DataFrame(data)\n",
    "\n",
    "def extract_mfcc(file_path, n_mfcc=40):\n",
    "    try:\n",
    "        # Load audio file\n",
    "        y, sr = librosa.load(file_path, duration=3)\n",
    "        \n",
    "        # Ensure consistent length\n",
    "        if len(y) < sr * 3:\n",
    "            y = np.pad(y, (0, sr * 3 - len(y)))\n",
    "        else:\n",
    "            y = y[:sr * 3]\n",
    "        \n",
    "        # Extract MFCC features\n",
    "        mfcc = librosa.feature.mfcc(y=y, sr=sr, n_mfcc=n_mfcc)\n",
    "        return mfcc\n",
    "    except Exception as e:\n",
    "        print(f\"Error processing {file_path}: {str(e)}\")\n",
    "        return None\n",
    "\n",
    "# Load data\n",
    "data_path = \"data/ravdess_actors\"\n",
    "df = load_ravdess_data(data_path)\n",
    "print(f\"Total samples: {len(df)}\")\n",
    "print(\"\\nEmotion distribution:\")\n",
    "print(df['emotion'].value_counts())"
   ]
  },
  {
   "cell_type": "code",
   "execution_count": 3,
   "id": "85201dc4",
   "metadata": {},
   "outputs": [
    {
     "name": "stdout",
     "output_type": "stream",
     "text": [
      "Extracting MFCC features...\n"
     ]
    },
    {
     "name": "stderr",
     "output_type": "stream",
     "text": [
      "100%|██████████| 1440/1440 [00:11<00:00, 127.79it/s]\n",
      "\n"
     ]
    },
    {
     "name": "stdout",
     "output_type": "stream",
     "text": [
      "Features shape: (1440, 130, 40)\n",
      "Labels shape: (1440,)\n",
      "\n",
      "Training set shape: torch.Size([1152, 40, 130])\n",
      "Test set shape: torch.Size([288, 40, 130])\n",
      "Number of training samples: 1152\n",
      "Number of test samples: 288\n"
     ]
    }
   ],
   "source": [
    "# Extract MFCC features for all audio files\n",
    "print(\"Extracting MFCC features...\")\n",
    "X = []\n",
    "y = []\n",
    "\n",
    "for _, row in tqdm(df.iterrows(), total=len(df)):\n",
    "    mfcc = extract_mfcc(row['path'])\n",
    "    if mfcc is not None:\n",
    "        # Transpose MFCC to have time steps as the sequence length\n",
    "        mfcc = mfcc.T  # Shape becomes (time_steps, n_mfcc)\n",
    "        X.append(mfcc)\n",
    "        y.append(row['emotion'])\n",
    "\n",
    "# Convert to numpy arrays\n",
    "X = np.array(X)\n",
    "y = np.array(y)\n",
    "\n",
    "print(f\"Features shape: {X.shape}\")\n",
    "print(f\"Labels shape: {y.shape}\")\n",
    "\n",
    "# Split the data\n",
    "X_train, X_test, y_train, y_test = train_test_split(X, y, test_size=0.2, random_state=42)\n",
    "\n",
    "# Convert to torch tensors and reshape for Conv1d\n",
    "# Conv1d expects input shape: (batch_size, channels, sequence_length)\n",
    "# where sequence_length is the time dimension and channels is the number of MFCC coefficients\n",
    "X_train = torch.FloatTensor(X_train).transpose(1, 2)  # Swap MFCC and time dimensions\n",
    "X_test = torch.FloatTensor(X_test).transpose(1, 2)\n",
    "y_train = torch.LongTensor(y_train)\n",
    "y_test = torch.LongTensor(y_test)\n",
    "\n",
    "print(f\"\\nTraining set shape: {X_train.shape}\")\n",
    "print(f\"Test set shape: {X_test.shape}\")\n",
    "print(f\"Number of training samples: {len(y_train)}\")\n",
    "print(f\"Number of test samples: {len(y_test)}\")"
   ]
  },
  {
   "cell_type": "markdown",
   "id": "c0fc816f",
   "metadata": {},
   "source": [
    "## Model Architecture\n",
    "Here's the CNN model architecture that achieves 85.82% accuracy using MFCC features:"
   ]
  },
  {
   "cell_type": "code",
   "execution_count": 4,
   "id": "9d16d987",
   "metadata": {},
   "outputs": [
    {
     "name": "stdout",
     "output_type": "stream",
     "text": [
      "EmotionCRNN(\n",
      "  (conv1): Sequential(\n",
      "    (0): Conv1d(40, 128, kernel_size=(3,), stride=(1,), padding=same)\n",
      "    (1): BatchNorm1d(128, eps=1e-05, momentum=0.1, affine=True, track_running_stats=True)\n",
      "    (2): ReLU()\n",
      "    (3): Conv1d(128, 128, kernel_size=(3,), stride=(1,), padding=same)\n",
      "    (4): BatchNorm1d(128, eps=1e-05, momentum=0.1, affine=True, track_running_stats=True)\n",
      "    (5): ReLU()\n",
      "    (6): MaxPool1d(kernel_size=2, stride=2, padding=0, dilation=1, ceil_mode=False)\n",
      "    (7): Dropout(p=0.2, inplace=False)\n",
      "  )\n",
      "  (conv2_1): Sequential(\n",
      "    (0): Conv1d(128, 256, kernel_size=(3,), stride=(1,), padding=same)\n",
      "    (1): BatchNorm1d(256, eps=1e-05, momentum=0.1, affine=True, track_running_stats=True)\n",
      "    (2): ReLU()\n",
      "    (3): Conv1d(256, 256, kernel_size=(3,), stride=(1,), padding=same)\n",
      "    (4): BatchNorm1d(256, eps=1e-05, momentum=0.1, affine=True, track_running_stats=True)\n",
      "  )\n",
      "  (conv2_2): Sequential(\n",
      "    (0): Conv1d(128, 256, kernel_size=(1,), stride=(1,))\n",
      "  )\n",
      "  (relu2): ReLU()\n",
      "  (pool2): MaxPool1d(kernel_size=2, stride=2, padding=0, dilation=1, ceil_mode=False)\n",
      "  (dropout2): Dropout(p=0.3, inplace=False)\n",
      "  (conv3_1): Sequential(\n",
      "    (0): Conv1d(256, 384, kernel_size=(3,), stride=(1,), padding=same)\n",
      "    (1): BatchNorm1d(384, eps=1e-05, momentum=0.1, affine=True, track_running_stats=True)\n",
      "    (2): ReLU()\n",
      "    (3): Conv1d(384, 384, kernel_size=(3,), stride=(1,), padding=same)\n",
      "    (4): BatchNorm1d(384, eps=1e-05, momentum=0.1, affine=True, track_running_stats=True)\n",
      "  )\n",
      "  (conv3_2): Sequential(\n",
      "    (0): Conv1d(256, 384, kernel_size=(1,), stride=(1,))\n",
      "  )\n",
      "  (relu3): ReLU()\n",
      "  (pool3): MaxPool1d(kernel_size=2, stride=2, padding=0, dilation=1, ceil_mode=False)\n",
      "  (dropout3): Dropout(p=0.4, inplace=False)\n",
      "  (lstm1): LSTM(384, 256, batch_first=True, bidirectional=True)\n",
      "  (lstm_dropout1): Dropout(p=0.4, inplace=False)\n",
      "  (lstm2): LSTM(512, 256, batch_first=True, bidirectional=True)\n",
      "  (lstm_dropout2): Dropout(p=0.4, inplace=False)\n",
      "  (attention): Sequential(\n",
      "    (0): Linear(in_features=512, out_features=128, bias=True)\n",
      "    (1): Tanh()\n",
      "    (2): Linear(in_features=128, out_features=1, bias=True)\n",
      "  )\n",
      "  (fc1): Linear(in_features=512, out_features=256, bias=True)\n",
      "  (fc_bn): BatchNorm1d(256, eps=1e-05, momentum=0.1, affine=True, track_running_stats=True)\n",
      "  (fc_relu): ReLU()\n",
      "  (fc_dropout): Dropout(p=0.5, inplace=False)\n",
      "  (fc2): Linear(in_features=256, out_features=8, bias=True)\n",
      ")\n"
     ]
    }
   ],
   "source": [
    "class EmotionCRNN(nn.Module):\n",
    "    def __init__(self, num_classes=8):\n",
    "        super(EmotionCRNN, self).__init__()\n",
    "        \n",
    "        # First Conv1d block\n",
    "        self.conv1 = nn.Sequential(\n",
    "            nn.Conv1d(40, 128, kernel_size=3, padding='same'),\n",
    "            nn.BatchNorm1d(128),\n",
    "            nn.ReLU(),\n",
    "            nn.Conv1d(128, 128, kernel_size=3, padding='same'),\n",
    "            nn.BatchNorm1d(128),\n",
    "            nn.ReLU(),\n",
    "            nn.MaxPool1d(kernel_size=2),\n",
    "            nn.Dropout(0.2)\n",
    "        )\n",
    "        \n",
    "        # Second Conv1d block with residual connection\n",
    "        self.conv2_1 = nn.Sequential(\n",
    "            nn.Conv1d(128, 256, kernel_size=3, padding='same'),\n",
    "            nn.BatchNorm1d(256),\n",
    "            nn.ReLU(),\n",
    "            nn.Conv1d(256, 256, kernel_size=3, padding='same'),\n",
    "            nn.BatchNorm1d(256)\n",
    "        )\n",
    "        self.conv2_2 = nn.Sequential(\n",
    "            nn.Conv1d(128, 256, kernel_size=1)  # 1x1 conv for dimension matching\n",
    "        )\n",
    "        self.relu2 = nn.ReLU()\n",
    "        self.pool2 = nn.MaxPool1d(kernel_size=2)\n",
    "        self.dropout2 = nn.Dropout(0.3)\n",
    "        \n",
    "        # Third Conv1d block with residual connection\n",
    "        self.conv3_1 = nn.Sequential(\n",
    "            nn.Conv1d(256, 384, kernel_size=3, padding='same'),\n",
    "            nn.BatchNorm1d(384),\n",
    "            nn.ReLU(),\n",
    "            nn.Conv1d(384, 384, kernel_size=3, padding='same'),\n",
    "            nn.BatchNorm1d(384)\n",
    "        )\n",
    "        self.conv3_2 = nn.Sequential(\n",
    "            nn.Conv1d(256, 384, kernel_size=1)  # 1x1 conv for dimension matching\n",
    "        )\n",
    "        self.relu3 = nn.ReLU()\n",
    "        self.pool3 = nn.MaxPool1d(kernel_size=2)\n",
    "        self.dropout3 = nn.Dropout(0.4)\n",
    "        \n",
    "        # Bidirectional LSTM layers\n",
    "        self.lstm1 = nn.LSTM(384, 256, bidirectional=True, batch_first=True)\n",
    "        self.lstm_dropout1 = nn.Dropout(0.4)\n",
    "        self.lstm2 = nn.LSTM(512, 256, bidirectional=True, batch_first=True)\n",
    "        self.lstm_dropout2 = nn.Dropout(0.4)\n",
    "        \n",
    "        # Attention mechanism\n",
    "        self.attention = nn.Sequential(\n",
    "            nn.Linear(512, 128),\n",
    "            nn.Tanh(),\n",
    "            nn.Linear(128, 1)\n",
    "        )\n",
    "        \n",
    "        # Fully connected layers\n",
    "        self.fc1 = nn.Linear(512, 256)\n",
    "        self.fc_bn = nn.BatchNorm1d(256)\n",
    "        self.fc_relu = nn.ReLU()\n",
    "        self.fc_dropout = nn.Dropout(0.5)\n",
    "        self.fc2 = nn.Linear(256, num_classes)\n",
    "        \n",
    "    def attention_net(self, lstm_output):\n",
    "        # lstm_output shape: (batch_size, seq_len, hidden_size)\n",
    "        attention_weights = self.attention(lstm_output)\n",
    "        attention_weights = torch.softmax(attention_weights, dim=1)\n",
    "        context = torch.sum(attention_weights * lstm_output, dim=1)\n",
    "        return context\n",
    "        \n",
    "    def forward(self, x):\n",
    "        batch_size = x.size(0)\n",
    "        \n",
    "        # First block\n",
    "        x = self.conv1(x)\n",
    "        \n",
    "        # Second block with residual\n",
    "        identity = x\n",
    "        x = self.conv2_1(x)\n",
    "        identity = self.conv2_2(identity)\n",
    "        x += identity\n",
    "        x = self.relu2(x)\n",
    "        x = self.pool2(x)\n",
    "        x = self.dropout2(x)\n",
    "        \n",
    "        # Third block with residual\n",
    "        identity = x\n",
    "        x = self.conv3_1(x)\n",
    "        identity = self.conv3_2(identity)\n",
    "        x += identity\n",
    "        x = self.relu3(x)\n",
    "        x = self.pool3(x)\n",
    "        x = self.dropout3(x)\n",
    "        \n",
    "        # Prepare for LSTM (batch_size, channels, seq_len) -> (batch_size, seq_len, channels)\n",
    "        x = x.transpose(1, 2)\n",
    "        \n",
    "        # Bidirectional LSTM layers with residual connections\n",
    "        lstm_out1, _ = self.lstm1(x)\n",
    "        lstm_out1 = self.lstm_dropout1(lstm_out1)\n",
    "        lstm_out2, _ = self.lstm2(lstm_out1)\n",
    "        lstm_out2 = self.lstm_dropout2(lstm_out2)\n",
    "        \n",
    "        # Attention mechanism\n",
    "        attended = self.attention_net(lstm_out2)\n",
    "        \n",
    "        # Fully connected layers\n",
    "        x = self.fc1(attended)\n",
    "        x = self.fc_bn(x)\n",
    "        x = self.fc_relu(x)\n",
    "        x = self.fc_dropout(x)\n",
    "        x = self.fc2(x)\n",
    "        \n",
    "        return x\n",
    "\n",
    "# Create the model instance\n",
    "model = EmotionCRNN().to(device)\n",
    "\n",
    "# Define loss function and optimizer\n",
    "criterion = nn.CrossEntropyLoss()\n",
    "optimizer = optim.AdamW(model.parameters(), lr=0.001, weight_decay=0.01)\n",
    "\n",
    "print(model)"
   ]
  },
  {
   "cell_type": "markdown",
   "id": "4cbf57ec",
   "metadata": {},
   "source": [
    "## Training Configuration\n",
    "The model uses the following training parameters:\n",
    "- Batch size: 16\n",
    "- Number of epochs: 200\n",
    "- Learning rate: 0.00005\n",
    "- Optimizer: RMSprop\n",
    "- Loss function: CrossEntropyLoss\n",
    "- Dropout rate: 0.1"
   ]
  },
  {
   "cell_type": "code",
   "execution_count": 6,
   "id": "cb2e8bce",
   "metadata": {},
   "outputs": [
    {
     "name": "stderr",
     "output_type": "stream",
     "text": [
      "Epoch 1/150: 100%|██████████| 48/48 [00:00<00:00, 69.21it/s, loss=1.24] \n",
      "\n"
     ]
    },
    {
     "name": "stdout",
     "output_type": "stream",
     "text": [
      "Epoch [1/150]\n",
      "Training Loss: 1.1263\n",
      "Validation Loss: 1.0003\n",
      "Test Accuracy: 64.58%\n",
      "Best Accuracy: 64.58%\n",
      "--------------------------------------------------\n"
     ]
    },
    {
     "name": "stderr",
     "output_type": "stream",
     "text": [
      "Epoch 2/150: 100%|██████████| 48/48 [00:00<00:00, 67.45it/s, loss=0.452]\n",
      "\n"
     ]
    },
    {
     "name": "stdout",
     "output_type": "stream",
     "text": [
      "Epoch [2/150]\n",
      "Training Loss: 0.9217\n",
      "Validation Loss: 0.9133\n",
      "Test Accuracy: 68.06%\n",
      "Best Accuracy: 68.06%\n",
      "--------------------------------------------------\n"
     ]
    },
    {
     "name": "stderr",
     "output_type": "stream",
     "text": [
      "Epoch 3/150: 100%|██████████| 48/48 [00:00<00:00, 71.59it/s, loss=1.51] \n",
      "\n"
     ]
    },
    {
     "name": "stdout",
     "output_type": "stream",
     "text": [
      "Epoch [3/150]\n",
      "Training Loss: 0.9176\n",
      "Validation Loss: 0.8407\n",
      "Test Accuracy: 69.79%\n",
      "Best Accuracy: 69.79%\n",
      "--------------------------------------------------\n"
     ]
    },
    {
     "name": "stderr",
     "output_type": "stream",
     "text": [
      "Epoch 4/150: 100%|██████████| 48/48 [00:00<00:00, 71.14it/s, loss=0.732]\n",
      "\n"
     ]
    },
    {
     "name": "stdout",
     "output_type": "stream",
     "text": [
      "Epoch [4/150]\n",
      "Training Loss: 0.8517\n",
      "Validation Loss: 0.8547\n",
      "Test Accuracy: 70.14%\n",
      "Best Accuracy: 70.14%\n",
      "--------------------------------------------------\n"
     ]
    },
    {
     "name": "stderr",
     "output_type": "stream",
     "text": [
      "Epoch 5/150: 100%|██████████| 48/48 [00:00<00:00, 72.87it/s, loss=0.951]\n",
      "\n"
     ]
    },
    {
     "name": "stdout",
     "output_type": "stream",
     "text": [
      "Epoch [5/150]\n",
      "Training Loss: 0.9201\n",
      "Validation Loss: 0.7756\n",
      "Test Accuracy: 72.57%\n",
      "Best Accuracy: 72.57%\n",
      "--------------------------------------------------\n"
     ]
    },
    {
     "name": "stderr",
     "output_type": "stream",
     "text": [
      "Epoch 6/150: 100%|██████████| 48/48 [00:00<00:00, 66.89it/s, loss=0.503]\n",
      "\n"
     ]
    },
    {
     "name": "stdout",
     "output_type": "stream",
     "text": [
      "Epoch [6/150]\n",
      "Training Loss: 0.7945\n",
      "Validation Loss: 0.9778\n",
      "Test Accuracy: 66.67%\n",
      "Best Accuracy: 72.57%\n",
      "--------------------------------------------------\n"
     ]
    },
    {
     "name": "stderr",
     "output_type": "stream",
     "text": [
      "Epoch 7/150: 100%|██████████| 48/48 [00:00<00:00, 70.95it/s, loss=0.623]\n",
      "\n"
     ]
    },
    {
     "name": "stdout",
     "output_type": "stream",
     "text": [
      "Epoch [7/150]\n",
      "Training Loss: 0.8191\n",
      "Validation Loss: 0.8606\n",
      "Test Accuracy: 70.49%\n",
      "Best Accuracy: 72.57%\n",
      "--------------------------------------------------\n"
     ]
    },
    {
     "name": "stderr",
     "output_type": "stream",
     "text": [
      "Epoch 8/150: 100%|██████████| 48/48 [00:00<00:00, 71.60it/s, loss=0.418]\n",
      "\n"
     ]
    },
    {
     "name": "stdout",
     "output_type": "stream",
     "text": [
      "Epoch [8/150]\n",
      "Training Loss: 0.8570\n",
      "Validation Loss: 0.8746\n",
      "Test Accuracy: 68.06%\n",
      "Best Accuracy: 72.57%\n",
      "--------------------------------------------------\n"
     ]
    },
    {
     "name": "stderr",
     "output_type": "stream",
     "text": [
      "Epoch 9/150: 100%|██████████| 48/48 [00:00<00:00, 70.21it/s, loss=0.713]\n",
      "\n"
     ]
    },
    {
     "name": "stdout",
     "output_type": "stream",
     "text": [
      "Epoch [9/150]\n",
      "Training Loss: 0.7631\n",
      "Validation Loss: 0.8236\n",
      "Test Accuracy: 70.14%\n",
      "Best Accuracy: 72.57%\n",
      "--------------------------------------------------\n"
     ]
    },
    {
     "name": "stderr",
     "output_type": "stream",
     "text": [
      "Epoch 10/150: 100%|██████████| 48/48 [00:00<00:00, 67.44it/s, loss=1.65] \n",
      "\n"
     ]
    },
    {
     "name": "stdout",
     "output_type": "stream",
     "text": [
      "Epoch [10/150]\n",
      "Training Loss: 0.9502\n",
      "Validation Loss: 1.1156\n",
      "Test Accuracy: 63.54%\n",
      "Best Accuracy: 72.57%\n",
      "--------------------------------------------------\n"
     ]
    },
    {
     "name": "stderr",
     "output_type": "stream",
     "text": [
      "Epoch 11/150: 100%|██████████| 48/48 [00:00<00:00, 71.17it/s, loss=0.942]\n",
      "\n"
     ]
    },
    {
     "name": "stdout",
     "output_type": "stream",
     "text": [
      "Epoch [11/150]\n",
      "Training Loss: 0.8646\n",
      "Validation Loss: 0.8257\n",
      "Test Accuracy: 71.53%\n",
      "Best Accuracy: 72.57%\n",
      "--------------------------------------------------\n"
     ]
    },
    {
     "name": "stderr",
     "output_type": "stream",
     "text": [
      "Epoch 12/150: 100%|██████████| 48/48 [00:00<00:00, 70.51it/s, loss=0.774]\n",
      "\n"
     ]
    },
    {
     "name": "stdout",
     "output_type": "stream",
     "text": [
      "Epoch [12/150]\n",
      "Training Loss: 0.8681\n",
      "Validation Loss: 1.0447\n",
      "Test Accuracy: 65.62%\n",
      "Best Accuracy: 72.57%\n",
      "--------------------------------------------------\n"
     ]
    },
    {
     "name": "stderr",
     "output_type": "stream",
     "text": [
      "Epoch 13/150: 100%|██████████| 48/48 [00:00<00:00, 67.80it/s, loss=1.01] \n",
      "\n"
     ]
    },
    {
     "name": "stdout",
     "output_type": "stream",
     "text": [
      "Epoch [13/150]\n",
      "Training Loss: 0.7467\n",
      "Validation Loss: 0.9949\n",
      "Test Accuracy: 69.44%\n",
      "Best Accuracy: 72.57%\n",
      "--------------------------------------------------\n"
     ]
    },
    {
     "name": "stderr",
     "output_type": "stream",
     "text": [
      "Epoch 14/150: 100%|██████████| 48/48 [00:00<00:00, 65.61it/s, loss=0.358]\n",
      "\n"
     ]
    },
    {
     "name": "stdout",
     "output_type": "stream",
     "text": [
      "Epoch [14/150]\n",
      "Training Loss: 0.8578\n",
      "Validation Loss: 1.3412\n",
      "Test Accuracy: 54.17%\n",
      "Best Accuracy: 72.57%\n",
      "--------------------------------------------------\n"
     ]
    },
    {
     "name": "stderr",
     "output_type": "stream",
     "text": [
      "Epoch 15/150: 100%|██████████| 48/48 [00:00<00:00, 68.43it/s, loss=0.491]\n",
      "\n"
     ]
    },
    {
     "name": "stdout",
     "output_type": "stream",
     "text": [
      "Epoch [15/150]\n",
      "Training Loss: 0.9920\n",
      "Validation Loss: 1.0741\n",
      "Test Accuracy: 65.28%\n",
      "Best Accuracy: 72.57%\n",
      "--------------------------------------------------\n"
     ]
    },
    {
     "name": "stderr",
     "output_type": "stream",
     "text": [
      "Epoch 16/150: 100%|██████████| 48/48 [00:00<00:00, 67.38it/s, loss=0.805]\n",
      "\n"
     ]
    },
    {
     "name": "stdout",
     "output_type": "stream",
     "text": [
      "Epoch [16/150]\n",
      "Training Loss: 0.9718\n",
      "Validation Loss: 1.2991\n",
      "Test Accuracy: 55.90%\n",
      "Best Accuracy: 72.57%\n",
      "--------------------------------------------------\n"
     ]
    },
    {
     "name": "stderr",
     "output_type": "stream",
     "text": [
      "Epoch 17/150: 100%|██████████| 48/48 [00:00<00:00, 65.09it/s, loss=1.52] \n",
      "\n"
     ]
    },
    {
     "name": "stdout",
     "output_type": "stream",
     "text": [
      "Epoch [17/150]\n",
      "Training Loss: 0.9520\n",
      "Validation Loss: 1.2854\n",
      "Test Accuracy: 62.15%\n",
      "Best Accuracy: 72.57%\n",
      "--------------------------------------------------\n"
     ]
    },
    {
     "name": "stderr",
     "output_type": "stream",
     "text": [
      "Epoch 18/150: 100%|██████████| 48/48 [00:00<00:00, 63.74it/s, loss=1.81] \n",
      "\n"
     ]
    },
    {
     "name": "stdout",
     "output_type": "stream",
     "text": [
      "Epoch [18/150]\n",
      "Training Loss: 0.9218\n",
      "Validation Loss: 1.9696\n",
      "Test Accuracy: 46.18%\n",
      "Best Accuracy: 72.57%\n",
      "--------------------------------------------------\n"
     ]
    },
    {
     "name": "stderr",
     "output_type": "stream",
     "text": [
      "Epoch 19/150: 100%|██████████| 48/48 [00:00<00:00, 68.31it/s, loss=0.779]\n",
      "\n"
     ]
    },
    {
     "name": "stdout",
     "output_type": "stream",
     "text": [
      "Epoch [19/150]\n",
      "Training Loss: 0.9818\n",
      "Validation Loss: 0.9001\n",
      "Test Accuracy: 69.79%\n",
      "Best Accuracy: 72.57%\n",
      "--------------------------------------------------\n"
     ]
    },
    {
     "name": "stderr",
     "output_type": "stream",
     "text": [
      "Epoch 20/150: 100%|██████████| 48/48 [00:00<00:00, 64.94it/s, loss=0.308]\n",
      "\n"
     ]
    },
    {
     "name": "stdout",
     "output_type": "stream",
     "text": [
      "Epoch [20/150]\n",
      "Training Loss: 0.8358\n",
      "Validation Loss: 0.8624\n",
      "Test Accuracy: 70.83%\n",
      "Best Accuracy: 72.57%\n",
      "--------------------------------------------------\n"
     ]
    },
    {
     "name": "stderr",
     "output_type": "stream",
     "text": [
      "Epoch 21/150: 100%|██████████| 48/48 [00:00<00:00, 60.13it/s, loss=0.362]\n",
      "Epoch 21/150: 100%|██████████| 48/48 [00:00<00:00, 60.13it/s, loss=0.362]\n"
     ]
    },
    {
     "name": "stdout",
     "output_type": "stream",
     "text": [
      "Epoch [21/150]\n",
      "Training Loss: 0.8287\n",
      "Validation Loss: 0.9977\n",
      "Test Accuracy: 70.83%\n",
      "Best Accuracy: 72.57%\n",
      "--------------------------------------------------\n"
     ]
    },
    {
     "name": "stderr",
     "output_type": "stream",
     "text": [
      "Epoch 22/150: 100%|██████████| 48/48 [00:00<00:00, 49.84it/s, loss=0.702]\n",
      "\n"
     ]
    },
    {
     "name": "stdout",
     "output_type": "stream",
     "text": [
      "Epoch [22/150]\n",
      "Training Loss: 0.7452\n",
      "Validation Loss: 1.0244\n",
      "Test Accuracy: 66.67%\n",
      "Best Accuracy: 72.57%\n",
      "--------------------------------------------------\n"
     ]
    },
    {
     "name": "stderr",
     "output_type": "stream",
     "text": [
      "Epoch 23/150: 100%|██████████| 48/48 [00:00<00:00, 57.28it/s, loss=0.22] \n",
      "Epoch 23/150: 100%|██████████| 48/48 [00:00<00:00, 57.28it/s, loss=0.22] \n"
     ]
    },
    {
     "name": "stdout",
     "output_type": "stream",
     "text": [
      "Epoch [23/150]\n",
      "Training Loss: 0.7924\n",
      "Validation Loss: 0.8815\n",
      "Test Accuracy: 71.53%\n",
      "Best Accuracy: 72.57%\n",
      "--------------------------------------------------\n"
     ]
    },
    {
     "name": "stderr",
     "output_type": "stream",
     "text": [
      "Epoch 24/150: 100%|██████████| 48/48 [00:00<00:00, 67.19it/s, loss=2.06] \n",
      "\n"
     ]
    },
    {
     "name": "stdout",
     "output_type": "stream",
     "text": [
      "Epoch [24/150]\n",
      "Training Loss: 0.7022\n",
      "Validation Loss: 0.8123\n",
      "Test Accuracy: 72.22%\n",
      "Best Accuracy: 72.57%\n",
      "--------------------------------------------------\n"
     ]
    },
    {
     "name": "stderr",
     "output_type": "stream",
     "text": [
      "Epoch 25/150: 100%|██████████| 48/48 [00:00<00:00, 59.08it/s, loss=0.256]\n",
      "\n"
     ]
    },
    {
     "name": "stdout",
     "output_type": "stream",
     "text": [
      "Epoch [25/150]\n",
      "Training Loss: 0.7913\n",
      "Validation Loss: 0.9770\n",
      "Test Accuracy: 68.40%\n",
      "Best Accuracy: 72.57%\n",
      "--------------------------------------------------\n"
     ]
    },
    {
     "name": "stderr",
     "output_type": "stream",
     "text": [
      "Epoch 26/150: 100%|██████████| 48/48 [00:00<00:00, 63.49it/s, loss=0.43] \n",
      "\n"
     ]
    },
    {
     "name": "stdout",
     "output_type": "stream",
     "text": [
      "Epoch [26/150]\n",
      "Training Loss: 0.8517\n",
      "Validation Loss: 0.8855\n",
      "Test Accuracy: 70.83%\n",
      "Best Accuracy: 72.57%\n",
      "--------------------------------------------------\n"
     ]
    },
    {
     "name": "stderr",
     "output_type": "stream",
     "text": [
      "Epoch 27/150: 100%|██████████| 48/48 [00:00<00:00, 70.55it/s, loss=0.512]\n",
      "\n"
     ]
    },
    {
     "name": "stdout",
     "output_type": "stream",
     "text": [
      "Epoch [27/150]\n",
      "Training Loss: 0.7515\n",
      "Validation Loss: 0.8243\n",
      "Test Accuracy: 73.26%\n",
      "Best Accuracy: 73.26%\n",
      "--------------------------------------------------\n"
     ]
    },
    {
     "name": "stderr",
     "output_type": "stream",
     "text": [
      "Epoch 28/150: 100%|██████████| 48/48 [00:00<00:00, 70.92it/s, loss=1.35] \n",
      "Epoch 28/150: 100%|██████████| 48/48 [00:00<00:00, 70.92it/s, loss=1.35]\n"
     ]
    },
    {
     "name": "stdout",
     "output_type": "stream",
     "text": [
      "Epoch [28/150]\n",
      "Training Loss: 0.8570\n",
      "Validation Loss: 1.2126\n",
      "Test Accuracy: 62.15%\n",
      "Best Accuracy: 73.26%\n",
      "--------------------------------------------------\n"
     ]
    },
    {
     "name": "stderr",
     "output_type": "stream",
     "text": [
      "Epoch 29/150: 100%|██████████| 48/48 [00:00<00:00, 72.55it/s, loss=1.19] \n",
      "\n"
     ]
    },
    {
     "name": "stdout",
     "output_type": "stream",
     "text": [
      "Epoch [29/150]\n",
      "Training Loss: 0.7702\n",
      "Validation Loss: 1.0657\n",
      "Test Accuracy: 65.97%\n",
      "Best Accuracy: 73.26%\n",
      "--------------------------------------------------\n"
     ]
    },
    {
     "name": "stderr",
     "output_type": "stream",
     "text": [
      "Epoch 30/150: 100%|██████████| 48/48 [00:00<00:00, 69.76it/s, loss=0.199]\n",
      "\n"
     ]
    },
    {
     "name": "stdout",
     "output_type": "stream",
     "text": [
      "Epoch [30/150]\n",
      "Training Loss: 0.9210\n",
      "Validation Loss: 0.7380\n",
      "Test Accuracy: 73.96%\n",
      "Best Accuracy: 73.96%\n",
      "--------------------------------------------------\n"
     ]
    },
    {
     "name": "stderr",
     "output_type": "stream",
     "text": [
      "Epoch 31/150: 100%|██████████| 48/48 [00:00<00:00, 71.93it/s, loss=0.608]\n",
      "\n"
     ]
    },
    {
     "name": "stdout",
     "output_type": "stream",
     "text": [
      "Epoch [31/150]\n",
      "Training Loss: 0.7941\n",
      "Validation Loss: 0.9007\n",
      "Test Accuracy: 69.10%\n",
      "Best Accuracy: 73.96%\n",
      "--------------------------------------------------\n"
     ]
    },
    {
     "name": "stderr",
     "output_type": "stream",
     "text": [
      "Epoch 32/150: 100%|██████████| 48/48 [00:00<00:00, 72.77it/s, loss=1.2]  \n",
      "\n"
     ]
    },
    {
     "name": "stdout",
     "output_type": "stream",
     "text": [
      "Epoch [32/150]\n",
      "Training Loss: 0.8333\n",
      "Validation Loss: 1.0845\n",
      "Test Accuracy: 66.67%\n",
      "Best Accuracy: 73.96%\n",
      "--------------------------------------------------\n"
     ]
    },
    {
     "name": "stderr",
     "output_type": "stream",
     "text": [
      "Epoch 33/150: 100%|██████████| 48/48 [00:00<00:00, 67.66it/s, loss=0.329] \n",
      "\n"
     ]
    },
    {
     "name": "stdout",
     "output_type": "stream",
     "text": [
      "Epoch [33/150]\n",
      "Training Loss: 0.5971\n",
      "Validation Loss: 0.9614\n",
      "Test Accuracy: 71.53%\n",
      "Best Accuracy: 73.96%\n",
      "--------------------------------------------------\n"
     ]
    },
    {
     "name": "stderr",
     "output_type": "stream",
     "text": [
      "Epoch 34/150: 100%|██████████| 48/48 [00:00<00:00, 71.68it/s, loss=0.311]\n",
      "\n"
     ]
    },
    {
     "name": "stdout",
     "output_type": "stream",
     "text": [
      "Epoch [34/150]\n",
      "Training Loss: 0.6670\n",
      "Validation Loss: 1.0415\n",
      "Test Accuracy: 64.58%\n",
      "Best Accuracy: 73.96%\n",
      "--------------------------------------------------\n"
     ]
    },
    {
     "name": "stderr",
     "output_type": "stream",
     "text": [
      "Epoch 35/150: 100%|██████████| 48/48 [00:00<00:00, 70.47it/s, loss=1.23] \n",
      "\n"
     ]
    },
    {
     "name": "stdout",
     "output_type": "stream",
     "text": [
      "Epoch [35/150]\n",
      "Training Loss: 0.9013\n",
      "Validation Loss: 0.8490\n",
      "Test Accuracy: 72.22%\n",
      "Best Accuracy: 73.96%\n",
      "--------------------------------------------------\n"
     ]
    },
    {
     "name": "stderr",
     "output_type": "stream",
     "text": [
      "Epoch 36/150: 100%|██████████| 48/48 [00:00<00:00, 70.02it/s, loss=0.573]\n",
      "\n"
     ]
    },
    {
     "name": "stdout",
     "output_type": "stream",
     "text": [
      "Epoch [36/150]\n",
      "Training Loss: 0.6016\n",
      "Validation Loss: 0.9114\n",
      "Test Accuracy: 72.57%\n",
      "Best Accuracy: 73.96%\n",
      "--------------------------------------------------\n"
     ]
    },
    {
     "name": "stderr",
     "output_type": "stream",
     "text": [
      "Epoch 37/150: 100%|██████████| 48/48 [00:00<00:00, 66.25it/s, loss=0.298] \n",
      "\n"
     ]
    },
    {
     "name": "stdout",
     "output_type": "stream",
     "text": [
      "Epoch [37/150]\n",
      "Training Loss: 0.6412\n",
      "Validation Loss: 1.0719\n",
      "Test Accuracy: 66.67%\n",
      "Best Accuracy: 73.96%\n",
      "--------------------------------------------------\n"
     ]
    },
    {
     "name": "stderr",
     "output_type": "stream",
     "text": [
      "Epoch 38/150: 100%|██████████| 48/48 [00:00<00:00, 70.36it/s, loss=1.45] \n",
      "\n"
     ]
    },
    {
     "name": "stdout",
     "output_type": "stream",
     "text": [
      "Epoch [38/150]\n",
      "Training Loss: 0.7309\n",
      "Validation Loss: 0.7424\n",
      "Test Accuracy: 76.39%\n",
      "Best Accuracy: 76.39%\n",
      "--------------------------------------------------\n"
     ]
    },
    {
     "name": "stderr",
     "output_type": "stream",
     "text": [
      "Epoch 39/150: 100%|██████████| 48/48 [00:00<00:00, 71.24it/s, loss=0.632]\n",
      "\n"
     ]
    },
    {
     "name": "stdout",
     "output_type": "stream",
     "text": [
      "Epoch [39/150]\n",
      "Training Loss: 0.5865\n",
      "Validation Loss: 0.7896\n",
      "Test Accuracy: 75.69%\n",
      "Best Accuracy: 76.39%\n",
      "--------------------------------------------------\n"
     ]
    },
    {
     "name": "stderr",
     "output_type": "stream",
     "text": [
      "Epoch 40/150: 100%|██████████| 48/48 [00:00<00:00, 71.16it/s, loss=0.828]\n",
      "\n"
     ]
    },
    {
     "name": "stdout",
     "output_type": "stream",
     "text": [
      "Epoch [40/150]\n",
      "Training Loss: 0.7949\n",
      "Validation Loss: 0.8309\n",
      "Test Accuracy: 73.61%\n",
      "Best Accuracy: 76.39%\n",
      "--------------------------------------------------\n"
     ]
    },
    {
     "name": "stderr",
     "output_type": "stream",
     "text": [
      "Epoch 41/150: 100%|██████████| 48/48 [00:00<00:00, 68.29it/s, loss=0.276]\n",
      "\n"
     ]
    },
    {
     "name": "stdout",
     "output_type": "stream",
     "text": [
      "Epoch [41/150]\n",
      "Training Loss: 0.8193\n",
      "Validation Loss: 0.9720\n",
      "Test Accuracy: 68.75%\n",
      "Best Accuracy: 76.39%\n",
      "--------------------------------------------------\n"
     ]
    },
    {
     "name": "stderr",
     "output_type": "stream",
     "text": [
      "Epoch 42/150: 100%|██████████| 48/48 [00:00<00:00, 71.68it/s, loss=0.918] \n",
      "\n"
     ]
    },
    {
     "name": "stdout",
     "output_type": "stream",
     "text": [
      "Epoch [42/150]\n",
      "Training Loss: 0.6024\n",
      "Validation Loss: 0.8978\n",
      "Test Accuracy: 75.69%\n",
      "Best Accuracy: 76.39%\n",
      "--------------------------------------------------\n"
     ]
    },
    {
     "name": "stderr",
     "output_type": "stream",
     "text": [
      "Epoch 43/150: 100%|██████████| 48/48 [00:00<00:00, 72.04it/s, loss=0.306] \n",
      "\n"
     ]
    },
    {
     "name": "stdout",
     "output_type": "stream",
     "text": [
      "Epoch [43/150]\n",
      "Training Loss: 0.7251\n",
      "Validation Loss: 1.0388\n",
      "Test Accuracy: 70.83%\n",
      "Best Accuracy: 76.39%\n",
      "--------------------------------------------------\n"
     ]
    },
    {
     "name": "stderr",
     "output_type": "stream",
     "text": [
      "Epoch 44/150: 100%|██████████| 48/48 [00:00<00:00, 70.61it/s, loss=0.832] \n",
      "\n"
     ]
    },
    {
     "name": "stdout",
     "output_type": "stream",
     "text": [
      "Epoch [44/150]\n",
      "Training Loss: 0.7122\n",
      "Validation Loss: 0.7848\n",
      "Test Accuracy: 77.43%\n",
      "Best Accuracy: 77.43%\n",
      "--------------------------------------------------\n"
     ]
    },
    {
     "name": "stderr",
     "output_type": "stream",
     "text": [
      "Epoch 45/150: 100%|██████████| 48/48 [00:00<00:00, 67.64it/s, loss=0.381] \n",
      "\n"
     ]
    },
    {
     "name": "stdout",
     "output_type": "stream",
     "text": [
      "Epoch [45/150]\n",
      "Training Loss: 0.5897\n",
      "Validation Loss: 0.9201\n",
      "Test Accuracy: 70.14%\n",
      "Best Accuracy: 77.43%\n",
      "--------------------------------------------------\n"
     ]
    },
    {
     "name": "stderr",
     "output_type": "stream",
     "text": [
      "Epoch 46/150: 100%|██████████| 48/48 [00:00<00:00, 71.09it/s, loss=0.187] \n",
      "\n"
     ]
    },
    {
     "name": "stdout",
     "output_type": "stream",
     "text": [
      "Epoch [46/150]\n",
      "Training Loss: 0.6387\n",
      "Validation Loss: 0.7477\n",
      "Test Accuracy: 75.35%\n",
      "Best Accuracy: 77.43%\n",
      "--------------------------------------------------\n"
     ]
    },
    {
     "name": "stderr",
     "output_type": "stream",
     "text": [
      "Epoch 47/150: 100%|██████████| 48/48 [00:00<00:00, 73.55it/s, loss=0.165]\n",
      "\n"
     ]
    },
    {
     "name": "stdout",
     "output_type": "stream",
     "text": [
      "Epoch [47/150]\n",
      "Training Loss: 0.6066\n",
      "Validation Loss: 0.8558\n",
      "Test Accuracy: 75.69%\n",
      "Best Accuracy: 77.43%\n",
      "--------------------------------------------------\n"
     ]
    },
    {
     "name": "stderr",
     "output_type": "stream",
     "text": [
      "Epoch 48/150: 100%|██████████| 48/48 [00:00<00:00, 72.98it/s, loss=1.3]   \n",
      "\n"
     ]
    },
    {
     "name": "stdout",
     "output_type": "stream",
     "text": [
      "Epoch [48/150]\n",
      "Training Loss: 0.8086\n",
      "Validation Loss: 0.8352\n",
      "Test Accuracy: 75.00%\n",
      "Best Accuracy: 77.43%\n",
      "--------------------------------------------------\n"
     ]
    },
    {
     "name": "stderr",
     "output_type": "stream",
     "text": [
      "Epoch 49/150: 100%|██████████| 48/48 [00:00<00:00, 71.90it/s, loss=2.15]  \n",
      "\n"
     ]
    },
    {
     "name": "stdout",
     "output_type": "stream",
     "text": [
      "Epoch [49/150]\n",
      "Training Loss: 0.5335\n",
      "Validation Loss: 0.8846\n",
      "Test Accuracy: 76.39%\n",
      "Best Accuracy: 77.43%\n",
      "--------------------------------------------------\n"
     ]
    },
    {
     "name": "stderr",
     "output_type": "stream",
     "text": [
      "Epoch 50/150: 100%|██████████| 48/48 [00:00<00:00, 72.56it/s, loss=0.161] \n",
      "\n"
     ]
    },
    {
     "name": "stdout",
     "output_type": "stream",
     "text": [
      "Epoch [50/150]\n",
      "Training Loss: 0.6128\n",
      "Validation Loss: 0.6410\n",
      "Test Accuracy: 81.60%\n",
      "Best Accuracy: 81.60%\n",
      "--------------------------------------------------\n"
     ]
    },
    {
     "name": "stderr",
     "output_type": "stream",
     "text": [
      "Epoch 51/150: 100%|██████████| 48/48 [00:00<00:00, 71.99it/s, loss=1.54] \n",
      "\n"
     ]
    },
    {
     "name": "stdout",
     "output_type": "stream",
     "text": [
      "Epoch [51/150]\n",
      "Training Loss: 0.7851\n",
      "Validation Loss: 0.8848\n",
      "Test Accuracy: 73.96%\n",
      "Best Accuracy: 81.60%\n",
      "--------------------------------------------------\n"
     ]
    },
    {
     "name": "stderr",
     "output_type": "stream",
     "text": [
      "Epoch 52/150: 100%|██████████| 48/48 [00:00<00:00, 67.38it/s, loss=1.45]  \n",
      "\n"
     ]
    },
    {
     "name": "stdout",
     "output_type": "stream",
     "text": [
      "Epoch [52/150]\n",
      "Training Loss: 0.5860\n",
      "Validation Loss: 0.8900\n",
      "Test Accuracy: 73.96%\n",
      "Best Accuracy: 81.60%\n",
      "--------------------------------------------------\n"
     ]
    },
    {
     "name": "stderr",
     "output_type": "stream",
     "text": [
      "Epoch 53/150: 100%|██████████| 48/48 [00:00<00:00, 72.54it/s, loss=0.383] \n",
      "\n"
     ]
    },
    {
     "name": "stdout",
     "output_type": "stream",
     "text": [
      "Epoch [53/150]\n",
      "Training Loss: 0.5705\n",
      "Validation Loss: 0.8528\n",
      "Test Accuracy: 75.69%\n",
      "Best Accuracy: 81.60%\n",
      "--------------------------------------------------\n"
     ]
    },
    {
     "name": "stderr",
     "output_type": "stream",
     "text": [
      "Epoch 54/150: 100%|██████████| 48/48 [00:00<00:00, 70.61it/s, loss=0.248] \n",
      "\n"
     ]
    },
    {
     "name": "stdout",
     "output_type": "stream",
     "text": [
      "Epoch [54/150]\n",
      "Training Loss: 0.6987\n",
      "Validation Loss: 1.0031\n",
      "Test Accuracy: 70.83%\n",
      "Best Accuracy: 81.60%\n",
      "--------------------------------------------------\n"
     ]
    },
    {
     "name": "stderr",
     "output_type": "stream",
     "text": [
      "Epoch 55/150: 100%|██████████| 48/48 [00:00<00:00, 65.18it/s, loss=0.934] \n",
      "\n"
     ]
    },
    {
     "name": "stdout",
     "output_type": "stream",
     "text": [
      "Epoch [55/150]\n",
      "Training Loss: 0.6448\n",
      "Validation Loss: 0.8670\n",
      "Test Accuracy: 76.39%\n",
      "Best Accuracy: 81.60%\n",
      "--------------------------------------------------\n"
     ]
    },
    {
     "name": "stderr",
     "output_type": "stream",
     "text": [
      "Epoch 56/150: 100%|██████████| 48/48 [00:00<00:00, 66.92it/s, loss=0.771] \n",
      "Epoch 56/150: 100%|██████████| 48/48 [00:00<00:00, 66.92it/s, loss=0.771]\n"
     ]
    },
    {
     "name": "stdout",
     "output_type": "stream",
     "text": [
      "Epoch [56/150]\n",
      "Training Loss: 0.6533\n",
      "Validation Loss: 0.9921\n",
      "Test Accuracy: 72.22%\n",
      "Best Accuracy: 81.60%\n",
      "--------------------------------------------------\n"
     ]
    },
    {
     "name": "stderr",
     "output_type": "stream",
     "text": [
      "Epoch 57/150: 100%|██████████| 48/48 [00:00<00:00, 66.58it/s, loss=0.268] \n",
      "\n"
     ]
    },
    {
     "name": "stdout",
     "output_type": "stream",
     "text": [
      "Epoch [57/150]\n",
      "Training Loss: 0.4623\n",
      "Validation Loss: 0.8413\n",
      "Test Accuracy: 78.47%\n",
      "Best Accuracy: 81.60%\n",
      "--------------------------------------------------\n"
     ]
    },
    {
     "name": "stderr",
     "output_type": "stream",
     "text": [
      "Epoch 58/150: 100%|██████████| 48/48 [00:00<00:00, 69.26it/s, loss=0.495] \n",
      "\n"
     ]
    },
    {
     "name": "stdout",
     "output_type": "stream",
     "text": [
      "Epoch [58/150]\n",
      "Training Loss: 0.7859\n",
      "Validation Loss: 0.8329\n",
      "Test Accuracy: 77.08%\n",
      "Best Accuracy: 81.60%\n",
      "--------------------------------------------------\n"
     ]
    },
    {
     "name": "stderr",
     "output_type": "stream",
     "text": [
      "Epoch 59/150: 100%|██████████| 48/48 [00:00<00:00, 66.26it/s, loss=0.189] \n",
      "\n"
     ]
    },
    {
     "name": "stdout",
     "output_type": "stream",
     "text": [
      "Epoch [59/150]\n",
      "Training Loss: 0.8082\n",
      "Validation Loss: 0.7694\n",
      "Test Accuracy: 74.31%\n",
      "Best Accuracy: 81.60%\n",
      "--------------------------------------------------\n"
     ]
    },
    {
     "name": "stderr",
     "output_type": "stream",
     "text": [
      "Epoch 60/150: 100%|██████████| 48/48 [00:00<00:00, 68.54it/s, loss=0.525] \n",
      "\n"
     ]
    },
    {
     "name": "stdout",
     "output_type": "stream",
     "text": [
      "Epoch [60/150]\n",
      "Training Loss: 0.6199\n",
      "Validation Loss: 0.8129\n",
      "Test Accuracy: 76.74%\n",
      "Best Accuracy: 81.60%\n",
      "--------------------------------------------------\n"
     ]
    },
    {
     "name": "stderr",
     "output_type": "stream",
     "text": [
      "Epoch 61/150: 100%|██████████| 48/48 [00:00<00:00, 69.39it/s, loss=0.107] \n",
      "\n"
     ]
    },
    {
     "name": "stdout",
     "output_type": "stream",
     "text": [
      "Epoch [61/150]\n",
      "Training Loss: 0.6191\n",
      "Validation Loss: 0.7885\n",
      "Test Accuracy: 76.39%\n",
      "Best Accuracy: 81.60%\n",
      "--------------------------------------------------\n"
     ]
    },
    {
     "name": "stderr",
     "output_type": "stream",
     "text": [
      "Epoch 62/150: 100%|██████████| 48/48 [00:00<00:00, 70.35it/s, loss=0.624] \n",
      "\n"
     ]
    },
    {
     "name": "stdout",
     "output_type": "stream",
     "text": [
      "Epoch [62/150]\n",
      "Training Loss: 0.6195\n",
      "Validation Loss: 0.9205\n",
      "Test Accuracy: 74.65%\n",
      "Best Accuracy: 81.60%\n",
      "--------------------------------------------------\n"
     ]
    },
    {
     "name": "stderr",
     "output_type": "stream",
     "text": [
      "Epoch 63/150: 100%|██████████| 48/48 [00:00<00:00, 69.59it/s, loss=1.58]  \n",
      "\n"
     ]
    },
    {
     "name": "stdout",
     "output_type": "stream",
     "text": [
      "Epoch [63/150]\n",
      "Training Loss: 0.6233\n",
      "Validation Loss: 0.8296\n",
      "Test Accuracy: 76.74%\n",
      "Best Accuracy: 81.60%\n",
      "--------------------------------------------------\n"
     ]
    },
    {
     "name": "stderr",
     "output_type": "stream",
     "text": [
      "Epoch 64/150: 100%|██████████| 48/48 [00:00<00:00, 72.77it/s, loss=0.0725]\n",
      "\n"
     ]
    },
    {
     "name": "stdout",
     "output_type": "stream",
     "text": [
      "Epoch [64/150]\n",
      "Training Loss: 0.5866\n",
      "Validation Loss: 0.8211\n",
      "Test Accuracy: 78.12%\n",
      "Best Accuracy: 81.60%\n",
      "--------------------------------------------------\n"
     ]
    },
    {
     "name": "stderr",
     "output_type": "stream",
     "text": [
      "Epoch 65/150: 100%|██████████| 48/48 [00:00<00:00, 73.78it/s, loss=0.071] \n",
      "\n"
     ]
    },
    {
     "name": "stdout",
     "output_type": "stream",
     "text": [
      "Epoch [65/150]\n",
      "Training Loss: 0.7036\n",
      "Validation Loss: 0.8370\n",
      "Test Accuracy: 78.47%\n",
      "Best Accuracy: 81.60%\n",
      "--------------------------------------------------\n"
     ]
    },
    {
     "name": "stderr",
     "output_type": "stream",
     "text": [
      "Epoch 66/150: 100%|██████████| 48/48 [00:00<00:00, 71.03it/s, loss=0.0584]\n",
      "\n"
     ]
    },
    {
     "name": "stdout",
     "output_type": "stream",
     "text": [
      "Epoch [66/150]\n",
      "Training Loss: 0.5934\n",
      "Validation Loss: 0.8994\n",
      "Test Accuracy: 74.65%\n",
      "Best Accuracy: 81.60%\n",
      "--------------------------------------------------\n"
     ]
    },
    {
     "name": "stderr",
     "output_type": "stream",
     "text": [
      "Epoch 67/150: 100%|██████████| 48/48 [00:00<00:00, 71.89it/s, loss=0.892] \n",
      "\n"
     ]
    },
    {
     "name": "stdout",
     "output_type": "stream",
     "text": [
      "Epoch [67/150]\n",
      "Training Loss: 0.6351\n",
      "Validation Loss: 0.7772\n",
      "Test Accuracy: 78.47%\n",
      "Best Accuracy: 81.60%\n",
      "--------------------------------------------------\n"
     ]
    },
    {
     "name": "stderr",
     "output_type": "stream",
     "text": [
      "Epoch 68/150: 100%|██████████| 48/48 [00:00<00:00, 72.42it/s, loss=0.848] \n",
      "\n"
     ]
    },
    {
     "name": "stdout",
     "output_type": "stream",
     "text": [
      "Epoch [68/150]\n",
      "Training Loss: 0.6035\n",
      "Validation Loss: 0.6394\n",
      "Test Accuracy: 82.64%\n",
      "Best Accuracy: 82.64%\n",
      "--------------------------------------------------\n"
     ]
    },
    {
     "name": "stderr",
     "output_type": "stream",
     "text": [
      "Epoch 69/150: 100%|██████████| 48/48 [00:00<00:00, 67.76it/s, loss=1.86]  \n",
      "\n"
     ]
    },
    {
     "name": "stdout",
     "output_type": "stream",
     "text": [
      "Epoch [69/150]\n",
      "Training Loss: 0.6807\n",
      "Validation Loss: 0.9280\n",
      "Test Accuracy: 73.26%\n",
      "Best Accuracy: 82.64%\n",
      "--------------------------------------------------\n"
     ]
    },
    {
     "name": "stderr",
     "output_type": "stream",
     "text": [
      "Epoch 70/150: 100%|██████████| 48/48 [00:00<00:00, 72.33it/s, loss=0.1]   \n",
      "\n"
     ]
    },
    {
     "name": "stdout",
     "output_type": "stream",
     "text": [
      "Epoch [70/150]\n",
      "Training Loss: 0.6744\n",
      "Validation Loss: 0.7918\n",
      "Test Accuracy: 76.74%\n",
      "Best Accuracy: 82.64%\n",
      "--------------------------------------------------\n"
     ]
    },
    {
     "name": "stderr",
     "output_type": "stream",
     "text": [
      "Epoch 71/150: 100%|██████████| 48/48 [00:00<00:00, 74.19it/s, loss=0.706] \n",
      "\n"
     ]
    },
    {
     "name": "stdout",
     "output_type": "stream",
     "text": [
      "Epoch [71/150]\n",
      "Training Loss: 0.7178\n",
      "Validation Loss: 0.7376\n",
      "Test Accuracy: 79.17%\n",
      "Best Accuracy: 82.64%\n",
      "--------------------------------------------------\n"
     ]
    },
    {
     "name": "stderr",
     "output_type": "stream",
     "text": [
      "Epoch 72/150: 100%|██████████| 48/48 [00:00<00:00, 69.41it/s, loss=1]     \n",
      "\n"
     ]
    },
    {
     "name": "stdout",
     "output_type": "stream",
     "text": [
      "Epoch [72/150]\n",
      "Training Loss: 0.6128\n",
      "Validation Loss: 0.7431\n",
      "Test Accuracy: 80.56%\n",
      "Best Accuracy: 82.64%\n",
      "--------------------------------------------------\n"
     ]
    },
    {
     "name": "stderr",
     "output_type": "stream",
     "text": [
      "Epoch 73/150: 100%|██████████| 48/48 [00:00<00:00, 72.43it/s, loss=1.57]  \n",
      "\n"
     ]
    },
    {
     "name": "stdout",
     "output_type": "stream",
     "text": [
      "Epoch [73/150]\n",
      "Training Loss: 0.7856\n",
      "Validation Loss: 0.7936\n",
      "Test Accuracy: 76.74%\n",
      "Best Accuracy: 82.64%\n",
      "--------------------------------------------------\n"
     ]
    },
    {
     "name": "stderr",
     "output_type": "stream",
     "text": [
      "Epoch 74/150: 100%|██████████| 48/48 [00:00<00:00, 70.90it/s, loss=0.475] \n",
      "\n"
     ]
    },
    {
     "name": "stdout",
     "output_type": "stream",
     "text": [
      "Epoch [74/150]\n",
      "Training Loss: 0.6562\n",
      "Validation Loss: 0.8314\n",
      "Test Accuracy: 75.35%\n",
      "Best Accuracy: 82.64%\n",
      "--------------------------------------------------\n"
     ]
    },
    {
     "name": "stderr",
     "output_type": "stream",
     "text": [
      "Epoch 75/150: 100%|██████████| 48/48 [00:00<00:00, 69.99it/s, loss=0.309]\n",
      "\n"
     ]
    },
    {
     "name": "stdout",
     "output_type": "stream",
     "text": [
      "Epoch [75/150]\n",
      "Training Loss: 0.7335\n",
      "Validation Loss: 0.7402\n",
      "Test Accuracy: 79.17%\n",
      "Best Accuracy: 82.64%\n",
      "--------------------------------------------------\n"
     ]
    },
    {
     "name": "stderr",
     "output_type": "stream",
     "text": [
      "Epoch 76/150: 100%|██████████| 48/48 [00:00<00:00, 69.25it/s, loss=0.164] \n",
      "\n"
     ]
    },
    {
     "name": "stdout",
     "output_type": "stream",
     "text": [
      "Epoch [76/150]\n",
      "Training Loss: 0.6645\n",
      "Validation Loss: 0.7991\n",
      "Test Accuracy: 78.82%\n",
      "Best Accuracy: 82.64%\n",
      "--------------------------------------------------\n"
     ]
    },
    {
     "name": "stderr",
     "output_type": "stream",
     "text": [
      "Epoch 77/150: 100%|██████████| 48/48 [00:00<00:00, 71.26it/s, loss=0.928] \n",
      "\n"
     ]
    },
    {
     "name": "stdout",
     "output_type": "stream",
     "text": [
      "Epoch [77/150]\n",
      "Training Loss: 0.6707\n",
      "Validation Loss: 0.8183\n",
      "Test Accuracy: 77.08%\n",
      "Best Accuracy: 82.64%\n",
      "--------------------------------------------------\n"
     ]
    },
    {
     "name": "stderr",
     "output_type": "stream",
     "text": [
      "Epoch 78/150: 100%|██████████| 48/48 [00:00<00:00, 69.78it/s, loss=0.5]   \n",
      "\n"
     ]
    },
    {
     "name": "stdout",
     "output_type": "stream",
     "text": [
      "Epoch [78/150]\n",
      "Training Loss: 0.5569\n",
      "Validation Loss: 0.7611\n",
      "Test Accuracy: 78.12%\n",
      "Best Accuracy: 82.64%\n",
      "--------------------------------------------------\n"
     ]
    },
    {
     "name": "stderr",
     "output_type": "stream",
     "text": [
      "Epoch 79/150: 100%|██████████| 48/48 [00:00<00:00, 72.68it/s, loss=1.09]  \n",
      "\n"
     ]
    },
    {
     "name": "stdout",
     "output_type": "stream",
     "text": [
      "Epoch [79/150]\n",
      "Training Loss: 0.8270\n",
      "Validation Loss: 0.6659\n",
      "Test Accuracy: 81.25%\n",
      "Best Accuracy: 82.64%\n",
      "--------------------------------------------------\n"
     ]
    },
    {
     "name": "stderr",
     "output_type": "stream",
     "text": [
      "Epoch 80/150: 100%|██████████| 48/48 [00:00<00:00, 72.88it/s, loss=1.28]  \n",
      "\n"
     ]
    },
    {
     "name": "stdout",
     "output_type": "stream",
     "text": [
      "Epoch [80/150]\n",
      "Training Loss: 0.6312\n",
      "Validation Loss: 0.6648\n",
      "Test Accuracy: 81.25%\n",
      "Best Accuracy: 82.64%\n",
      "--------------------------------------------------\n"
     ]
    },
    {
     "name": "stderr",
     "output_type": "stream",
     "text": [
      "Epoch 81/150: 100%|██████████| 48/48 [00:00<00:00, 67.75it/s, loss=0.379] \n",
      "\n"
     ]
    },
    {
     "name": "stdout",
     "output_type": "stream",
     "text": [
      "Epoch [81/150]\n",
      "Training Loss: 0.6523\n",
      "Validation Loss: 0.7373\n",
      "Test Accuracy: 79.17%\n",
      "Best Accuracy: 82.64%\n",
      "--------------------------------------------------\n"
     ]
    },
    {
     "name": "stderr",
     "output_type": "stream",
     "text": [
      "Epoch 82/150: 100%|██████████| 48/48 [00:00<00:00, 62.85it/s, loss=0.0519]\n",
      "\n"
     ]
    },
    {
     "name": "stdout",
     "output_type": "stream",
     "text": [
      "Epoch [82/150]\n",
      "Training Loss: 0.6182\n",
      "Validation Loss: 0.6865\n",
      "Test Accuracy: 78.82%\n",
      "Best Accuracy: 82.64%\n",
      "--------------------------------------------------\n"
     ]
    },
    {
     "name": "stderr",
     "output_type": "stream",
     "text": [
      "Epoch 83/150: 100%|██████████| 48/48 [00:00<00:00, 71.97it/s, loss=0.0643]\n",
      "\n"
     ]
    },
    {
     "name": "stdout",
     "output_type": "stream",
     "text": [
      "Epoch [83/150]\n",
      "Training Loss: 0.6863\n",
      "Validation Loss: 0.6878\n",
      "Test Accuracy: 80.56%\n",
      "Best Accuracy: 82.64%\n",
      "--------------------------------------------------\n"
     ]
    },
    {
     "name": "stderr",
     "output_type": "stream",
     "text": [
      "Epoch 84/150: 100%|██████████| 48/48 [00:00<00:00, 66.88it/s, loss=0.0559]\n",
      "\n"
     ]
    },
    {
     "name": "stdout",
     "output_type": "stream",
     "text": [
      "Epoch [84/150]\n",
      "Training Loss: 0.5760\n",
      "Validation Loss: 0.7844\n",
      "Test Accuracy: 75.69%\n",
      "Best Accuracy: 82.64%\n",
      "--------------------------------------------------\n"
     ]
    },
    {
     "name": "stderr",
     "output_type": "stream",
     "text": [
      "Epoch 85/150: 100%|██████████| 48/48 [00:00<00:00, 72.26it/s, loss=0.124] \n",
      "\n"
     ]
    },
    {
     "name": "stdout",
     "output_type": "stream",
     "text": [
      "Epoch [85/150]\n",
      "Training Loss: 0.7914\n",
      "Validation Loss: 0.6568\n",
      "Test Accuracy: 78.12%\n",
      "Best Accuracy: 82.64%\n",
      "--------------------------------------------------\n"
     ]
    },
    {
     "name": "stderr",
     "output_type": "stream",
     "text": [
      "Epoch 86/150: 100%|██████████| 48/48 [00:00<00:00, 72.81it/s, loss=0.648] \n",
      "Epoch 86/150: 100%|██████████| 48/48 [00:00<00:00, 72.81it/s, loss=0.648]\n"
     ]
    },
    {
     "name": "stdout",
     "output_type": "stream",
     "text": [
      "Epoch [86/150]\n",
      "Training Loss: 0.6091\n",
      "Validation Loss: 0.6196\n",
      "Test Accuracy: 81.60%\n",
      "Best Accuracy: 82.64%\n",
      "--------------------------------------------------\n"
     ]
    },
    {
     "name": "stderr",
     "output_type": "stream",
     "text": [
      "Epoch 87/150: 100%|██████████| 48/48 [00:00<00:00, 69.93it/s, loss=0.728] \n",
      "\n"
     ]
    },
    {
     "name": "stdout",
     "output_type": "stream",
     "text": [
      "Epoch [87/150]\n",
      "Training Loss: 0.6831\n",
      "Validation Loss: 0.6539\n",
      "Test Accuracy: 81.25%\n",
      "Best Accuracy: 82.64%\n",
      "--------------------------------------------------\n"
     ]
    },
    {
     "name": "stderr",
     "output_type": "stream",
     "text": [
      "Epoch 88/150: 100%|██████████| 48/48 [00:00<00:00, 71.72it/s, loss=2]     \n",
      "\n"
     ]
    },
    {
     "name": "stdout",
     "output_type": "stream",
     "text": [
      "Epoch [88/150]\n",
      "Training Loss: 0.7873\n",
      "Validation Loss: 0.7089\n",
      "Test Accuracy: 78.82%\n",
      "Best Accuracy: 82.64%\n",
      "--------------------------------------------------\n"
     ]
    },
    {
     "name": "stderr",
     "output_type": "stream",
     "text": [
      "Epoch 89/150: 100%|██████████| 48/48 [00:00<00:00, 72.94it/s, loss=0.0881]\n",
      "\n"
     ]
    },
    {
     "name": "stdout",
     "output_type": "stream",
     "text": [
      "Epoch [89/150]\n",
      "Training Loss: 0.8054\n",
      "Validation Loss: 0.6579\n",
      "Test Accuracy: 81.60%\n",
      "Best Accuracy: 82.64%\n",
      "--------------------------------------------------\n"
     ]
    },
    {
     "name": "stderr",
     "output_type": "stream",
     "text": [
      "Epoch 90/150: 100%|██████████| 48/48 [00:00<00:00, 68.69it/s, loss=1.14]  \n",
      "\n"
     ]
    },
    {
     "name": "stdout",
     "output_type": "stream",
     "text": [
      "Epoch [90/150]\n",
      "Training Loss: 0.5684\n",
      "Validation Loss: 0.6701\n",
      "Test Accuracy: 81.94%\n",
      "Best Accuracy: 82.64%\n",
      "--------------------------------------------------\n"
     ]
    },
    {
     "name": "stderr",
     "output_type": "stream",
     "text": [
      "Epoch 91/150: 100%|██████████| 48/48 [00:00<00:00, 67.58it/s, loss=0.0807]\n",
      "\n"
     ]
    },
    {
     "name": "stdout",
     "output_type": "stream",
     "text": [
      "Epoch [91/150]\n",
      "Training Loss: 0.5810\n",
      "Validation Loss: 0.6963\n",
      "Test Accuracy: 79.51%\n",
      "Best Accuracy: 82.64%\n",
      "--------------------------------------------------\n"
     ]
    },
    {
     "name": "stderr",
     "output_type": "stream",
     "text": [
      "Epoch 92/150: 100%|██████████| 48/48 [00:00<00:00, 68.29it/s, loss=0.11]  \n",
      "\n"
     ]
    },
    {
     "name": "stdout",
     "output_type": "stream",
     "text": [
      "Epoch [92/150]\n",
      "Training Loss: 0.5680\n",
      "Validation Loss: 0.7610\n",
      "Test Accuracy: 78.82%\n",
      "Best Accuracy: 82.64%\n",
      "--------------------------------------------------\n"
     ]
    },
    {
     "name": "stderr",
     "output_type": "stream",
     "text": [
      "Epoch 93/150: 100%|██████████| 48/48 [00:00<00:00, 72.43it/s, loss=0.735] \n",
      "\n"
     ]
    },
    {
     "name": "stdout",
     "output_type": "stream",
     "text": [
      "Epoch [93/150]\n",
      "Training Loss: 0.6560\n",
      "Validation Loss: 0.6896\n",
      "Test Accuracy: 79.51%\n",
      "Best Accuracy: 82.64%\n",
      "--------------------------------------------------\n"
     ]
    },
    {
     "name": "stderr",
     "output_type": "stream",
     "text": [
      "Epoch 94/150: 100%|██████████| 48/48 [00:00<00:00, 72.71it/s, loss=0.767] \n",
      "\n"
     ]
    },
    {
     "name": "stdout",
     "output_type": "stream",
     "text": [
      "Epoch [94/150]\n",
      "Training Loss: 0.5610\n",
      "Validation Loss: 0.6913\n",
      "Test Accuracy: 80.90%\n",
      "Best Accuracy: 82.64%\n",
      "--------------------------------------------------\n"
     ]
    },
    {
     "name": "stderr",
     "output_type": "stream",
     "text": [
      "Epoch 95/150: 100%|██████████| 48/48 [00:00<00:00, 64.40it/s, loss=0.0641]\n",
      "\n"
     ]
    },
    {
     "name": "stdout",
     "output_type": "stream",
     "text": [
      "Epoch [95/150]\n",
      "Training Loss: 0.5745\n",
      "Validation Loss: 0.6787\n",
      "Test Accuracy: 82.29%\n",
      "Best Accuracy: 82.64%\n",
      "--------------------------------------------------\n"
     ]
    },
    {
     "name": "stderr",
     "output_type": "stream",
     "text": [
      "Epoch 96/150: 100%|██████████| 48/48 [00:00<00:00, 68.72it/s, loss=0.139] \n",
      "\n"
     ]
    },
    {
     "name": "stdout",
     "output_type": "stream",
     "text": [
      "Epoch [96/150]\n",
      "Training Loss: 0.5253\n",
      "Validation Loss: 0.7490\n",
      "Test Accuracy: 79.86%\n",
      "Best Accuracy: 82.64%\n",
      "--------------------------------------------------\n"
     ]
    },
    {
     "name": "stderr",
     "output_type": "stream",
     "text": [
      "Epoch 97/150: 100%|██████████| 48/48 [00:00<00:00, 69.42it/s, loss=0.271] \n",
      "\n"
     ]
    },
    {
     "name": "stdout",
     "output_type": "stream",
     "text": [
      "Epoch [97/150]\n",
      "Training Loss: 0.5930\n",
      "Validation Loss: 0.7044\n",
      "Test Accuracy: 80.21%\n",
      "Best Accuracy: 82.64%\n",
      "--------------------------------------------------\n"
     ]
    },
    {
     "name": "stderr",
     "output_type": "stream",
     "text": [
      "Epoch 98/150: 100%|██████████| 48/48 [00:00<00:00, 65.48it/s, loss=1.03]  \n",
      "\n"
     ]
    },
    {
     "name": "stdout",
     "output_type": "stream",
     "text": [
      "Epoch [98/150]\n",
      "Training Loss: 0.6003\n",
      "Validation Loss: 0.6933\n",
      "Test Accuracy: 80.21%\n",
      "Best Accuracy: 82.64%\n",
      "--------------------------------------------------\n"
     ]
    },
    {
     "name": "stderr",
     "output_type": "stream",
     "text": [
      "Epoch 99/150: 100%|██████████| 48/48 [00:00<00:00, 67.12it/s, loss=0.932] \n",
      "\n"
     ]
    },
    {
     "name": "stdout",
     "output_type": "stream",
     "text": [
      "Epoch [99/150]\n",
      "Training Loss: 0.6844\n",
      "Validation Loss: 0.6393\n",
      "Test Accuracy: 81.25%\n",
      "Best Accuracy: 82.64%\n",
      "--------------------------------------------------\n"
     ]
    },
    {
     "name": "stderr",
     "output_type": "stream",
     "text": [
      "Epoch 100/150: 100%|██████████| 48/48 [00:00<00:00, 68.20it/s, loss=0.0458]\n",
      "\n"
     ]
    },
    {
     "name": "stdout",
     "output_type": "stream",
     "text": [
      "Epoch [100/150]\n",
      "Training Loss: 0.5622\n",
      "Validation Loss: 0.6297\n",
      "Test Accuracy: 84.38%\n",
      "Best Accuracy: 84.38%\n",
      "--------------------------------------------------\n"
     ]
    },
    {
     "name": "stderr",
     "output_type": "stream",
     "text": [
      "Epoch 101/150: 100%|██████████| 48/48 [00:00<00:00, 64.78it/s, loss=0.764] \n",
      "\n"
     ]
    },
    {
     "name": "stdout",
     "output_type": "stream",
     "text": [
      "Epoch [101/150]\n",
      "Training Loss: 0.5888\n",
      "Validation Loss: 0.6103\n",
      "Test Accuracy: 84.38%\n",
      "Best Accuracy: 84.38%\n",
      "--------------------------------------------------\n"
     ]
    },
    {
     "name": "stderr",
     "output_type": "stream",
     "text": [
      "Epoch 102/150: 100%|██████████| 48/48 [00:00<00:00, 62.60it/s, loss=0.391] \n",
      "\n"
     ]
    },
    {
     "name": "stdout",
     "output_type": "stream",
     "text": [
      "Epoch [102/150]\n",
      "Training Loss: 0.5736\n",
      "Validation Loss: 0.6711\n",
      "Test Accuracy: 82.29%\n",
      "Best Accuracy: 84.38%\n",
      "--------------------------------------------------\n"
     ]
    },
    {
     "name": "stderr",
     "output_type": "stream",
     "text": [
      "Epoch 103/150: 100%|██████████| 48/48 [00:00<00:00, 66.78it/s, loss=0.0484]\n",
      "\n"
     ]
    },
    {
     "name": "stdout",
     "output_type": "stream",
     "text": [
      "Epoch [103/150]\n",
      "Training Loss: 0.6289\n",
      "Validation Loss: 0.6488\n",
      "Test Accuracy: 82.99%\n",
      "Best Accuracy: 84.38%\n",
      "--------------------------------------------------\n"
     ]
    },
    {
     "name": "stderr",
     "output_type": "stream",
     "text": [
      "Epoch 104/150: 100%|██████████| 48/48 [00:00<00:00, 67.38it/s, loss=0.109] \n",
      "\n"
     ]
    },
    {
     "name": "stdout",
     "output_type": "stream",
     "text": [
      "Epoch [104/150]\n",
      "Training Loss: 0.6742\n",
      "Validation Loss: 0.6383\n",
      "Test Accuracy: 82.99%\n",
      "Best Accuracy: 84.38%\n",
      "--------------------------------------------------\n"
     ]
    },
    {
     "name": "stderr",
     "output_type": "stream",
     "text": [
      "Epoch 105/150: 100%|██████████| 48/48 [00:00<00:00, 68.70it/s, loss=1.24]  \n",
      "\n"
     ]
    },
    {
     "name": "stdout",
     "output_type": "stream",
     "text": [
      "Epoch [105/150]\n",
      "Training Loss: 0.5287\n",
      "Validation Loss: 0.6118\n",
      "Test Accuracy: 84.72%\n",
      "Best Accuracy: 84.72%\n",
      "--------------------------------------------------\n"
     ]
    },
    {
     "name": "stderr",
     "output_type": "stream",
     "text": [
      "Epoch 106/150: 100%|██████████| 48/48 [00:00<00:00, 63.00it/s, loss=0.93]  \n",
      "\n"
     ]
    },
    {
     "name": "stdout",
     "output_type": "stream",
     "text": [
      "Epoch [106/150]\n",
      "Training Loss: 0.6081\n",
      "Validation Loss: 0.6007\n",
      "Test Accuracy: 84.72%\n",
      "Best Accuracy: 84.72%\n",
      "--------------------------------------------------\n"
     ]
    },
    {
     "name": "stderr",
     "output_type": "stream",
     "text": [
      "Epoch 107/150: 100%|██████████| 48/48 [00:00<00:00, 71.14it/s, loss=0.132] \n",
      "\n"
     ]
    },
    {
     "name": "stdout",
     "output_type": "stream",
     "text": [
      "Epoch [107/150]\n",
      "Training Loss: 0.6650\n",
      "Validation Loss: 0.6194\n",
      "Test Accuracy: 84.03%\n",
      "Best Accuracy: 84.72%\n",
      "--------------------------------------------------\n"
     ]
    },
    {
     "name": "stderr",
     "output_type": "stream",
     "text": [
      "Epoch 108/150: 100%|██████████| 48/48 [00:00<00:00, 70.89it/s, loss=1.5]   \n",
      "\n"
     ]
    },
    {
     "name": "stdout",
     "output_type": "stream",
     "text": [
      "Epoch [108/150]\n",
      "Training Loss: 0.7665\n",
      "Validation Loss: 0.6202\n",
      "Test Accuracy: 84.03%\n",
      "Best Accuracy: 84.72%\n",
      "--------------------------------------------------\n"
     ]
    },
    {
     "name": "stderr",
     "output_type": "stream",
     "text": [
      "Epoch 109/150: 100%|██████████| 48/48 [00:00<00:00, 64.23it/s, loss=0.121] \n",
      "\n"
     ]
    },
    {
     "name": "stdout",
     "output_type": "stream",
     "text": [
      "Epoch [109/150]\n",
      "Training Loss: 0.6341\n",
      "Validation Loss: 0.6699\n",
      "Test Accuracy: 82.29%\n",
      "Best Accuracy: 84.72%\n",
      "--------------------------------------------------\n"
     ]
    },
    {
     "name": "stderr",
     "output_type": "stream",
     "text": [
      "Epoch 110/150: 100%|██████████| 48/48 [00:00<00:00, 69.78it/s, loss=0.513] \n",
      "\n"
     ]
    },
    {
     "name": "stdout",
     "output_type": "stream",
     "text": [
      "Epoch [110/150]\n",
      "Training Loss: 0.7384\n",
      "Validation Loss: 0.6291\n",
      "Test Accuracy: 81.60%\n",
      "Best Accuracy: 84.72%\n",
      "--------------------------------------------------\n"
     ]
    },
    {
     "name": "stderr",
     "output_type": "stream",
     "text": [
      "Epoch 111/150: 100%|██████████| 48/48 [00:00<00:00, 66.21it/s, loss=0.286] \n",
      "\n"
     ]
    },
    {
     "name": "stdout",
     "output_type": "stream",
     "text": [
      "Epoch [111/150]\n",
      "Training Loss: 0.5323\n",
      "Validation Loss: 0.6116\n",
      "Test Accuracy: 84.03%\n",
      "Best Accuracy: 84.72%\n",
      "--------------------------------------------------\n"
     ]
    },
    {
     "name": "stderr",
     "output_type": "stream",
     "text": [
      "Epoch 112/150: 100%|██████████| 48/48 [00:00<00:00, 70.73it/s, loss=0.882] \n",
      "\n"
     ]
    },
    {
     "name": "stdout",
     "output_type": "stream",
     "text": [
      "Epoch [112/150]\n",
      "Training Loss: 0.5520\n",
      "Validation Loss: 0.6588\n",
      "Test Accuracy: 82.99%\n",
      "Best Accuracy: 84.72%\n",
      "--------------------------------------------------\n"
     ]
    },
    {
     "name": "stderr",
     "output_type": "stream",
     "text": [
      "Epoch 113/150: 100%|██████████| 48/48 [00:00<00:00, 67.72it/s, loss=0.0938]\n",
      "\n"
     ]
    },
    {
     "name": "stdout",
     "output_type": "stream",
     "text": [
      "Epoch [113/150]\n",
      "Training Loss: 0.5768\n",
      "Validation Loss: 0.6463\n",
      "Test Accuracy: 82.99%\n",
      "Best Accuracy: 84.72%\n",
      "--------------------------------------------------\n"
     ]
    },
    {
     "name": "stderr",
     "output_type": "stream",
     "text": [
      "Epoch 114/150: 100%|██████████| 48/48 [00:00<00:00, 70.23it/s, loss=0.138] \n",
      "\n"
     ]
    },
    {
     "name": "stdout",
     "output_type": "stream",
     "text": [
      "Epoch [114/150]\n",
      "Training Loss: 0.6489\n",
      "Validation Loss: 0.6263\n",
      "Test Accuracy: 84.72%\n",
      "Best Accuracy: 84.72%\n",
      "--------------------------------------------------\n"
     ]
    },
    {
     "name": "stderr",
     "output_type": "stream",
     "text": [
      "Epoch 115/150: 100%|██████████| 48/48 [00:00<00:00, 68.99it/s, loss=0.267] \n",
      "\n"
     ]
    },
    {
     "name": "stdout",
     "output_type": "stream",
     "text": [
      "Epoch [115/150]\n",
      "Training Loss: 0.5744\n",
      "Validation Loss: 0.6344\n",
      "Test Accuracy: 82.29%\n",
      "Best Accuracy: 84.72%\n",
      "--------------------------------------------------\n"
     ]
    },
    {
     "name": "stderr",
     "output_type": "stream",
     "text": [
      "Epoch 116/150: 100%|██████████| 48/48 [00:00<00:00, 70.07it/s, loss=1.55]  \n",
      "\n"
     ]
    },
    {
     "name": "stdout",
     "output_type": "stream",
     "text": [
      "Epoch [116/150]\n",
      "Training Loss: 0.6439\n",
      "Validation Loss: 0.6464\n",
      "Test Accuracy: 83.68%\n",
      "Best Accuracy: 84.72%\n",
      "--------------------------------------------------\n"
     ]
    },
    {
     "name": "stderr",
     "output_type": "stream",
     "text": [
      "Epoch 117/150: 100%|██████████| 48/48 [00:00<00:00, 65.73it/s, loss=1.21]  \n",
      "\n"
     ]
    },
    {
     "name": "stdout",
     "output_type": "stream",
     "text": [
      "Epoch [117/150]\n",
      "Training Loss: 0.6983\n",
      "Validation Loss: 0.6628\n",
      "Test Accuracy: 82.99%\n",
      "Best Accuracy: 84.72%\n",
      "--------------------------------------------------\n"
     ]
    },
    {
     "name": "stderr",
     "output_type": "stream",
     "text": [
      "Epoch 118/150: 100%|██████████| 48/48 [00:00<00:00, 73.12it/s, loss=1.02]  \n",
      "\n"
     ]
    },
    {
     "name": "stdout",
     "output_type": "stream",
     "text": [
      "Epoch [118/150]\n",
      "Training Loss: 0.6448\n",
      "Validation Loss: 0.6255\n",
      "Test Accuracy: 84.03%\n",
      "Best Accuracy: 84.72%\n",
      "--------------------------------------------------\n"
     ]
    },
    {
     "name": "stderr",
     "output_type": "stream",
     "text": [
      "Epoch 119/150: 100%|██████████| 48/48 [00:00<00:00, 69.18it/s, loss=0.538] \n",
      "\n"
     ]
    },
    {
     "name": "stdout",
     "output_type": "stream",
     "text": [
      "Epoch [119/150]\n",
      "Training Loss: 0.5994\n",
      "Validation Loss: 0.6199\n",
      "Test Accuracy: 84.72%\n",
      "Best Accuracy: 84.72%\n",
      "--------------------------------------------------\n"
     ]
    },
    {
     "name": "stderr",
     "output_type": "stream",
     "text": [
      "Epoch 120/150: 100%|██████████| 48/48 [00:00<00:00, 70.66it/s, loss=0.88]  \n",
      "\n"
     ]
    },
    {
     "name": "stdout",
     "output_type": "stream",
     "text": [
      "Epoch [120/150]\n",
      "Training Loss: 0.5734\n",
      "Validation Loss: 0.6373\n",
      "Test Accuracy: 83.33%\n",
      "Best Accuracy: 84.72%\n",
      "--------------------------------------------------\n"
     ]
    },
    {
     "name": "stderr",
     "output_type": "stream",
     "text": [
      "Epoch 121/150: 100%|██████████| 48/48 [00:00<00:00, 67.51it/s, loss=1.29]  \n",
      "\n"
     ]
    },
    {
     "name": "stdout",
     "output_type": "stream",
     "text": [
      "Epoch [121/150]\n",
      "Training Loss: 0.6879\n",
      "Validation Loss: 0.6216\n",
      "Test Accuracy: 84.03%\n",
      "Best Accuracy: 84.72%\n",
      "--------------------------------------------------\n"
     ]
    },
    {
     "name": "stderr",
     "output_type": "stream",
     "text": [
      "Epoch 122/150: 100%|██████████| 48/48 [00:00<00:00, 73.59it/s, loss=0.603] \n",
      "\n"
     ]
    },
    {
     "name": "stdout",
     "output_type": "stream",
     "text": [
      "Epoch [122/150]\n",
      "Training Loss: 0.5446\n",
      "Validation Loss: 0.6051\n",
      "Test Accuracy: 85.07%\n",
      "Best Accuracy: 85.07%\n",
      "--------------------------------------------------\n"
     ]
    },
    {
     "name": "stderr",
     "output_type": "stream",
     "text": [
      "Epoch 123/150: 100%|██████████| 48/48 [00:00<00:00, 69.22it/s, loss=0.113] \n",
      "\n"
     ]
    },
    {
     "name": "stdout",
     "output_type": "stream",
     "text": [
      "Epoch [123/150]\n",
      "Training Loss: 0.7076\n",
      "Validation Loss: 0.6094\n",
      "Test Accuracy: 84.72%\n",
      "Best Accuracy: 85.07%\n",
      "--------------------------------------------------\n"
     ]
    },
    {
     "name": "stderr",
     "output_type": "stream",
     "text": [
      "Epoch 124/150: 100%|██████████| 48/48 [00:00<00:00, 68.98it/s, loss=0.549] \n",
      "\n"
     ]
    },
    {
     "name": "stdout",
     "output_type": "stream",
     "text": [
      "Epoch [124/150]\n",
      "Training Loss: 0.5319\n",
      "Validation Loss: 0.6027\n",
      "Test Accuracy: 84.72%\n",
      "Best Accuracy: 85.07%\n",
      "--------------------------------------------------\n"
     ]
    },
    {
     "name": "stderr",
     "output_type": "stream",
     "text": [
      "Epoch 125/150: 100%|██████████| 48/48 [00:00<00:00, 69.85it/s, loss=1.13]  \n",
      "\n"
     ]
    },
    {
     "name": "stdout",
     "output_type": "stream",
     "text": [
      "Epoch [125/150]\n",
      "Training Loss: 0.7762\n",
      "Validation Loss: 0.5980\n",
      "Test Accuracy: 84.38%\n",
      "Best Accuracy: 85.07%\n",
      "--------------------------------------------------\n"
     ]
    },
    {
     "name": "stderr",
     "output_type": "stream",
     "text": [
      "Epoch 126/150: 100%|██████████| 48/48 [00:00<00:00, 75.02it/s, loss=0.169] \n",
      "\n"
     ]
    },
    {
     "name": "stdout",
     "output_type": "stream",
     "text": [
      "Epoch [126/150]\n",
      "Training Loss: 0.5717\n",
      "Validation Loss: 0.5882\n",
      "Test Accuracy: 84.72%\n",
      "Best Accuracy: 85.07%\n",
      "--------------------------------------------------\n"
     ]
    },
    {
     "name": "stderr",
     "output_type": "stream",
     "text": [
      "Epoch 127/150: 100%|██████████| 48/48 [00:00<00:00, 69.40it/s, loss=1.04]  \n",
      "\n"
     ]
    },
    {
     "name": "stdout",
     "output_type": "stream",
     "text": [
      "Epoch [127/150]\n",
      "Training Loss: 0.7069\n",
      "Validation Loss: 0.5800\n",
      "Test Accuracy: 84.03%\n",
      "Best Accuracy: 85.07%\n",
      "--------------------------------------------------\n"
     ]
    },
    {
     "name": "stderr",
     "output_type": "stream",
     "text": [
      "Epoch 128/150: 100%|██████████| 48/48 [00:00<00:00, 71.59it/s, loss=0.824] \n",
      "\n"
     ]
    },
    {
     "name": "stdout",
     "output_type": "stream",
     "text": [
      "Epoch [128/150]\n",
      "Training Loss: 0.5896\n",
      "Validation Loss: 0.5690\n",
      "Test Accuracy: 86.46%\n",
      "Best Accuracy: 86.46%\n",
      "--------------------------------------------------\n"
     ]
    },
    {
     "name": "stderr",
     "output_type": "stream",
     "text": [
      "Epoch 129/150: 100%|██████████| 48/48 [00:00<00:00, 72.36it/s, loss=0.367] \n",
      "\n"
     ]
    },
    {
     "name": "stdout",
     "output_type": "stream",
     "text": [
      "Epoch [129/150]\n",
      "Training Loss: 0.6705\n",
      "Validation Loss: 0.5956\n",
      "Test Accuracy: 84.38%\n",
      "Best Accuracy: 86.46%\n",
      "--------------------------------------------------\n"
     ]
    },
    {
     "name": "stderr",
     "output_type": "stream",
     "text": [
      "Epoch 130/150: 100%|██████████| 48/48 [00:00<00:00, 73.14it/s, loss=0.938] \n",
      "\n"
     ]
    },
    {
     "name": "stdout",
     "output_type": "stream",
     "text": [
      "Epoch [130/150]\n",
      "Training Loss: 0.5459\n",
      "Validation Loss: 0.5848\n",
      "Test Accuracy: 85.07%\n",
      "Best Accuracy: 86.46%\n",
      "--------------------------------------------------\n"
     ]
    },
    {
     "name": "stderr",
     "output_type": "stream",
     "text": [
      "Epoch 131/150: 100%|██████████| 48/48 [00:00<00:00, 68.26it/s, loss=0.435] \n",
      "\n"
     ]
    },
    {
     "name": "stdout",
     "output_type": "stream",
     "text": [
      "Epoch [131/150]\n",
      "Training Loss: 0.6488\n",
      "Validation Loss: 0.5877\n",
      "Test Accuracy: 84.03%\n",
      "Best Accuracy: 86.46%\n",
      "--------------------------------------------------\n"
     ]
    },
    {
     "name": "stderr",
     "output_type": "stream",
     "text": [
      "Epoch 132/150: 100%|██████████| 48/48 [00:00<00:00, 68.53it/s, loss=0.206] \n",
      "\n"
     ]
    },
    {
     "name": "stdout",
     "output_type": "stream",
     "text": [
      "Epoch [132/150]\n",
      "Training Loss: 0.4863\n",
      "Validation Loss: 0.5812\n",
      "Test Accuracy: 84.72%\n",
      "Best Accuracy: 86.46%\n",
      "--------------------------------------------------\n"
     ]
    },
    {
     "name": "stderr",
     "output_type": "stream",
     "text": [
      "Epoch 133/150: 100%|██████████| 48/48 [00:00<00:00, 68.15it/s, loss=0.0692]\n",
      "\n"
     ]
    },
    {
     "name": "stdout",
     "output_type": "stream",
     "text": [
      "Epoch [133/150]\n",
      "Training Loss: 0.5992\n",
      "Validation Loss: 0.5760\n",
      "Test Accuracy: 85.07%\n",
      "Best Accuracy: 86.46%\n",
      "--------------------------------------------------\n"
     ]
    },
    {
     "name": "stderr",
     "output_type": "stream",
     "text": [
      "Epoch 134/150: 100%|██████████| 48/48 [00:00<00:00, 68.99it/s, loss=0.7]   \n",
      "\n"
     ]
    },
    {
     "name": "stdout",
     "output_type": "stream",
     "text": [
      "Epoch [134/150]\n",
      "Training Loss: 0.7120\n",
      "Validation Loss: 0.6037\n",
      "Test Accuracy: 84.38%\n",
      "Best Accuracy: 86.46%\n",
      "--------------------------------------------------\n"
     ]
    },
    {
     "name": "stderr",
     "output_type": "stream",
     "text": [
      "Epoch 135/150: 100%|██████████| 48/48 [00:00<00:00, 69.32it/s, loss=1.14]  \n",
      "\n"
     ]
    },
    {
     "name": "stdout",
     "output_type": "stream",
     "text": [
      "Epoch [135/150]\n",
      "Training Loss: 0.5193\n",
      "Validation Loss: 0.6045\n",
      "Test Accuracy: 82.64%\n",
      "Best Accuracy: 86.46%\n",
      "--------------------------------------------------\n"
     ]
    },
    {
     "name": "stderr",
     "output_type": "stream",
     "text": [
      "Epoch 136/150: 100%|██████████| 48/48 [00:00<00:00, 62.84it/s, loss=0.0538]\n",
      "\n"
     ]
    },
    {
     "name": "stdout",
     "output_type": "stream",
     "text": [
      "Epoch [136/150]\n",
      "Training Loss: 0.6161\n",
      "Validation Loss: 0.5840\n",
      "Test Accuracy: 84.38%\n",
      "Best Accuracy: 86.46%\n",
      "--------------------------------------------------\n"
     ]
    },
    {
     "name": "stderr",
     "output_type": "stream",
     "text": [
      "Epoch 137/150: 100%|██████████| 48/48 [00:00<00:00, 68.10it/s, loss=1.65]  \n",
      "Epoch 137/150: 100%|██████████| 48/48 [00:00<00:00, 68.10it/s, loss=1.65]  \n"
     ]
    },
    {
     "name": "stdout",
     "output_type": "stream",
     "text": [
      "Epoch [137/150]\n",
      "Training Loss: 0.5575\n",
      "Validation Loss: 0.5910\n",
      "Test Accuracy: 83.68%\n",
      "Best Accuracy: 86.46%\n",
      "--------------------------------------------------\n"
     ]
    },
    {
     "name": "stderr",
     "output_type": "stream",
     "text": [
      "Epoch 138/150: 100%|██████████| 48/48 [00:00<00:00, 65.66it/s, loss=0.606] \n",
      "\n"
     ]
    },
    {
     "name": "stdout",
     "output_type": "stream",
     "text": [
      "Epoch [138/150]\n",
      "Training Loss: 0.6227\n",
      "Validation Loss: 0.5906\n",
      "Test Accuracy: 84.38%\n",
      "Best Accuracy: 86.46%\n",
      "--------------------------------------------------\n"
     ]
    },
    {
     "name": "stderr",
     "output_type": "stream",
     "text": [
      "Epoch 139/150: 100%|██████████| 48/48 [00:00<00:00, 65.99it/s, loss=1.31]  \n",
      "\n"
     ]
    },
    {
     "name": "stdout",
     "output_type": "stream",
     "text": [
      "Epoch [139/150]\n",
      "Training Loss: 0.6693\n",
      "Validation Loss: 0.5855\n",
      "Test Accuracy: 84.03%\n",
      "Best Accuracy: 86.46%\n",
      "--------------------------------------------------\n"
     ]
    },
    {
     "name": "stderr",
     "output_type": "stream",
     "text": [
      "Epoch 140/150: 100%|██████████| 48/48 [00:00<00:00, 68.97it/s, loss=1.54]  \n",
      "\n"
     ]
    },
    {
     "name": "stdout",
     "output_type": "stream",
     "text": [
      "Epoch [140/150]\n",
      "Training Loss: 0.6030\n",
      "Validation Loss: 0.5992\n",
      "Test Accuracy: 85.07%\n",
      "Best Accuracy: 86.46%\n",
      "--------------------------------------------------\n"
     ]
    },
    {
     "name": "stderr",
     "output_type": "stream",
     "text": [
      "Epoch 141/150: 100%|██████████| 48/48 [00:00<00:00, 60.10it/s, loss=0.562] \n",
      "\n"
     ]
    },
    {
     "name": "stdout",
     "output_type": "stream",
     "text": [
      "Epoch [141/150]\n",
      "Training Loss: 0.6155\n",
      "Validation Loss: 0.5828\n",
      "Test Accuracy: 83.68%\n",
      "Best Accuracy: 86.46%\n",
      "--------------------------------------------------\n"
     ]
    },
    {
     "name": "stderr",
     "output_type": "stream",
     "text": [
      "Epoch 142/150: 100%|██████████| 48/48 [00:00<00:00, 71.88it/s, loss=0.0728]\n",
      "\n"
     ]
    },
    {
     "name": "stdout",
     "output_type": "stream",
     "text": [
      "Epoch [142/150]\n",
      "Training Loss: 0.5946\n",
      "Validation Loss: 0.5877\n",
      "Test Accuracy: 84.72%\n",
      "Best Accuracy: 86.46%\n",
      "--------------------------------------------------\n"
     ]
    },
    {
     "name": "stderr",
     "output_type": "stream",
     "text": [
      "Epoch 143/150: 100%|██████████| 48/48 [00:00<00:00, 65.38it/s, loss=0.0546]\n",
      "\n"
     ]
    },
    {
     "name": "stdout",
     "output_type": "stream",
     "text": [
      "Epoch [143/150]\n",
      "Training Loss: 0.6832\n",
      "Validation Loss: 0.5849\n",
      "Test Accuracy: 84.03%\n",
      "Best Accuracy: 86.46%\n",
      "--------------------------------------------------\n"
     ]
    },
    {
     "name": "stderr",
     "output_type": "stream",
     "text": [
      "Epoch 144/150: 100%|██████████| 48/48 [00:00<00:00, 70.12it/s, loss=0.491] \n",
      "\n"
     ]
    },
    {
     "name": "stdout",
     "output_type": "stream",
     "text": [
      "Epoch [144/150]\n",
      "Training Loss: 0.7003\n",
      "Validation Loss: 0.5873\n",
      "Test Accuracy: 85.07%\n",
      "Best Accuracy: 86.46%\n",
      "--------------------------------------------------\n"
     ]
    },
    {
     "name": "stderr",
     "output_type": "stream",
     "text": [
      "Epoch 145/150: 100%|██████████| 48/48 [00:00<00:00, 73.43it/s, loss=0.0588]\n",
      "\n"
     ]
    },
    {
     "name": "stdout",
     "output_type": "stream",
     "text": [
      "Epoch [145/150]\n",
      "Training Loss: 0.6873\n",
      "Validation Loss: 0.5839\n",
      "Test Accuracy: 84.03%\n",
      "Best Accuracy: 86.46%\n",
      "--------------------------------------------------\n"
     ]
    },
    {
     "name": "stderr",
     "output_type": "stream",
     "text": [
      "Epoch 146/150: 100%|██████████| 48/48 [00:00<00:00, 73.33it/s, loss=1.15]  \n",
      "\n"
     ]
    },
    {
     "name": "stdout",
     "output_type": "stream",
     "text": [
      "Epoch [146/150]\n",
      "Training Loss: 0.7184\n",
      "Validation Loss: 0.5974\n",
      "Test Accuracy: 84.03%\n",
      "Best Accuracy: 86.46%\n",
      "--------------------------------------------------\n"
     ]
    },
    {
     "name": "stderr",
     "output_type": "stream",
     "text": [
      "Epoch 147/150: 100%|██████████| 48/48 [00:00<00:00, 69.52it/s, loss=0.563] \n",
      "\n"
     ]
    },
    {
     "name": "stdout",
     "output_type": "stream",
     "text": [
      "Epoch [147/150]\n",
      "Training Loss: 0.6058\n",
      "Validation Loss: 0.5893\n",
      "Test Accuracy: 83.68%\n",
      "Best Accuracy: 86.46%\n",
      "--------------------------------------------------\n"
     ]
    },
    {
     "name": "stderr",
     "output_type": "stream",
     "text": [
      "Epoch 148/150: 100%|██████████| 48/48 [00:00<00:00, 71.43it/s, loss=1.23]  \n",
      "\n"
     ]
    },
    {
     "name": "stdout",
     "output_type": "stream",
     "text": [
      "Epoch [148/150]\n",
      "Training Loss: 0.7092\n",
      "Validation Loss: 0.5924\n",
      "Test Accuracy: 84.03%\n",
      "Best Accuracy: 86.46%\n",
      "--------------------------------------------------\n"
     ]
    },
    {
     "name": "stderr",
     "output_type": "stream",
     "text": [
      "Epoch 149/150: 100%|██████████| 48/48 [00:00<00:00, 64.58it/s, loss=1.08]  \n",
      "\n"
     ]
    },
    {
     "name": "stdout",
     "output_type": "stream",
     "text": [
      "Epoch [149/150]\n",
      "Training Loss: 0.7695\n",
      "Validation Loss: 0.5976\n",
      "Test Accuracy: 84.38%\n",
      "Best Accuracy: 86.46%\n",
      "--------------------------------------------------\n"
     ]
    },
    {
     "name": "stderr",
     "output_type": "stream",
     "text": [
      "Epoch 150/150: 100%|██████████| 48/48 [00:00<00:00, 74.42it/s, loss=0.943] \n",
      "\n"
     ]
    },
    {
     "name": "stdout",
     "output_type": "stream",
     "text": [
      "Epoch [150/150]\n",
      "Training Loss: 0.6637\n",
      "Validation Loss: 0.5927\n",
      "Test Accuracy: 83.33%\n",
      "Best Accuracy: 86.46%\n",
      "--------------------------------------------------\n",
      "\n",
      "Final Best Accuracy: 86.46%\n"
     ]
    }
   ],
   "source": [
    "# Training parameters\n",
    "import math  # Add math module import\n",
    "\n",
    "num_epochs = 150\n",
    "batch_size = 24  # Slightly smaller batch size for better generalization\n",
    "\n",
    "# Create data loaders\n",
    "train_dataset = torch.utils.data.TensorDataset(X_train, y_train)\n",
    "train_loader = torch.utils.data.DataLoader(train_dataset, batch_size=batch_size, shuffle=True)\n",
    "\n",
    "test_dataset = torch.utils.data.TensorDataset(X_test, y_test)\n",
    "test_loader = torch.utils.data.DataLoader(test_dataset, batch_size=batch_size)\n",
    "\n",
    "# Learning rate scheduler with warmup\n",
    "def get_cosine_schedule_with_warmup(optimizer, num_warmup_steps, num_training_steps, num_cycles=0.5):\n",
    "    def lr_lambda(current_step):\n",
    "        if current_step < num_warmup_steps:\n",
    "            return float(current_step) / float(max(1, num_warmup_steps))\n",
    "        progress = float(current_step - num_warmup_steps) / float(max(1, num_training_steps - num_warmup_steps))\n",
    "        return max(0.0, 0.5 * (1.0 + math.cos(math.pi * progress)))\n",
    "\n",
    "    return torch.optim.lr_scheduler.LambdaLR(optimizer, lr_lambda)\n",
    "\n",
    "# Calculate total steps for scheduler\n",
    "total_steps = num_epochs * len(train_loader)\n",
    "warmup_steps = total_steps // 10\n",
    "\n",
    "scheduler = get_cosine_schedule_with_warmup(\n",
    "    optimizer,\n",
    "    num_warmup_steps=warmup_steps,\n",
    "    num_training_steps=total_steps\n",
    ")\n",
    "\n",
    "# Mixup augmentation function with adaptive alpha\n",
    "def mixup_data(x, y, epoch, num_epochs, alpha_start=0.2, alpha_end=0.4):\n",
    "    # Gradually increase alpha for stronger mixing as training progresses\n",
    "    alpha = alpha_start + (alpha_end - alpha_start) * (epoch / num_epochs)\n",
    "    if alpha > 0:\n",
    "        lam = np.random.beta(alpha, alpha)\n",
    "    else:\n",
    "        lam = 1\n",
    "\n",
    "    batch_size = x.size()[0]\n",
    "    index = torch.randperm(batch_size).to(device)\n",
    "\n",
    "    mixed_x = lam * x + (1 - lam) * x[index, :]\n",
    "    y_a, y_b = y, y[index]\n",
    "    return mixed_x, y_a, y_b, lam\n",
    "\n",
    "# Mixup criterion\n",
    "def mixup_criterion(criterion, pred, y_a, y_b, lam):\n",
    "    return lam * criterion(pred, y_a) + (1 - lam) * criterion(pred, y_b)\n",
    "\n",
    "# Training loop\n",
    "train_losses = []\n",
    "test_accuracies = []\n",
    "best_accuracy = 0\n",
    "best_model_state = None\n",
    "\n",
    "for epoch in range(num_epochs):\n",
    "    model.train()\n",
    "    total_loss = 0\n",
    "    \n",
    "    # Training phase\n",
    "    with tqdm(train_loader, desc=f'Epoch {epoch+1}/{num_epochs}') as pbar:\n",
    "        for batch_X, batch_y in pbar:\n",
    "            batch_X, batch_y = batch_X.to(device), batch_y.to(device)\n",
    "            \n",
    "            # Apply mixup with adaptive alpha\n",
    "            mixed_X, y_a, y_b, lam = mixup_data(batch_X, batch_y, epoch, num_epochs)\n",
    "            \n",
    "            optimizer.zero_grad()\n",
    "            outputs = model(mixed_X)\n",
    "            \n",
    "            loss = mixup_criterion(criterion, outputs, y_a, y_b, lam)\n",
    "            loss.backward()\n",
    "            \n",
    "            # Gradient clipping\n",
    "            torch.nn.utils.clip_grad_norm_(model.parameters(), max_norm=1.0)\n",
    "            \n",
    "            optimizer.step()\n",
    "            scheduler.step()\n",
    "            \n",
    "            total_loss += loss.item()\n",
    "            pbar.set_postfix({'loss': loss.item()})\n",
    "    \n",
    "    # Validation phase\n",
    "    model.eval()\n",
    "    correct = 0\n",
    "    total = 0\n",
    "    all_predictions = []\n",
    "    all_targets = []\n",
    "    val_losses = []\n",
    "    \n",
    "    with torch.no_grad():\n",
    "        for batch_X, batch_y in test_loader:\n",
    "            batch_X, batch_y = batch_X.to(device), batch_y.to(device)\n",
    "            outputs = model(batch_X)\n",
    "            \n",
    "            val_loss = criterion(outputs, batch_y)\n",
    "            val_losses.append(val_loss.item())\n",
    "            \n",
    "            _, predicted = torch.max(outputs.data, 1)\n",
    "            total += batch_y.size(0)\n",
    "            correct += (predicted == batch_y).sum().item()\n",
    "            \n",
    "            all_predictions.extend(predicted.cpu().numpy())\n",
    "            all_targets.extend(batch_y.cpu().numpy())\n",
    "    \n",
    "    accuracy = 100 * correct / total\n",
    "    test_accuracies.append(accuracy)\n",
    "    train_losses.append(total_loss / len(train_loader))\n",
    "    \n",
    "    # Save best model\n",
    "    if accuracy > best_accuracy:\n",
    "        best_accuracy = accuracy\n",
    "        best_model_state = model.state_dict().copy()\n",
    "        \n",
    "        # Store predictions and targets for best epoch\n",
    "        epoch_predictions = all_predictions\n",
    "        epoch_targets = all_targets\n",
    "    \n",
    "    print(f'Epoch [{epoch+1}/{num_epochs}]')\n",
    "    print(f'Training Loss: {train_losses[-1]:.4f}')\n",
    "    print(f'Validation Loss: {np.mean(val_losses):.4f}')\n",
    "    print(f'Test Accuracy: {accuracy:.2f}%')\n",
    "    print(f'Best Accuracy: {best_accuracy:.2f}%')\n",
    "    print('-' * 50)\n",
    "\n",
    "# Load best model\n",
    "model.load_state_dict(best_model_state)\n",
    "print(f'\\nFinal Best Accuracy: {best_accuracy:.2f}%')"
   ]
  },
  {
   "cell_type": "markdown",
   "id": "3664242b",
   "metadata": {},
   "source": [
    "## Training Progress and Metrics\n",
    "\n",
    "The training progress shows:\n",
    "- Loss: The training loss per epoch (lower is better)\n",
    "- Test Accuracy: Overall accuracy on the test set\n",
    "- Detailed classification report every 10 epochs including:\n",
    "  - Precision: Ratio of true positives to all predicted positives\n",
    "  - Recall: Ratio of true positives to all actual positives\n",
    "  - F1-score: Harmonic mean of precision and recall\n",
    "  - Support: Number of samples for each class"
   ]
  },
  {
   "cell_type": "code",
   "execution_count": 7,
   "id": "d2987712",
   "metadata": {},
   "outputs": [
    {
     "name": "stdout",
     "output_type": "stream",
     "text": [
      "Final Classification Report:\n",
      "              precision    recall  f1-score   support\n",
      "\n",
      "     neutral       0.83      0.95      0.88        20\n",
      "        calm       0.89      0.93      0.91        44\n",
      "       happy       0.79      0.88      0.83        34\n",
      "         sad       0.78      0.79      0.78        39\n",
      "       angry       0.92      0.86      0.89        42\n",
      "     fearful       0.89      0.78      0.83        32\n",
      "     disgust       0.88      0.88      0.88        32\n",
      "   surprised       0.93      0.87      0.90        45\n",
      "\n",
      "    accuracy                           0.86       288\n",
      "   macro avg       0.86      0.87      0.86       288\n",
      "weighted avg       0.87      0.86      0.86       288\n",
      "\n"
     ]
    }
   ],
   "source": [
    "# Generate final classification report\n",
    "emotion_labels = ['neutral', 'calm', 'happy', 'sad', 'angry', 'fearful', 'disgust', 'surprised']\n",
    "\n",
    "print('Final Classification Report:')\n",
    "print(classification_report(epoch_targets, epoch_predictions, target_names=emotion_labels))"
   ]
  },
  {
   "cell_type": "markdown",
   "id": "6c480645",
   "metadata": {},
   "source": [
    "## Classification Report\n",
    "\n",
    "The classification report shows the model's performance for each emotion:\n",
    "- **Precision**: How many of the predictions for each emotion were correct\n",
    "- **Recall**: How many of the actual instances of each emotion were correctly identified\n",
    "- **F1-score**: The harmonic mean of precision and recall\n",
    "- **Support**: Number of samples for each emotion in the test set\n",
    "\n",
    "A score closer to 1.0 indicates better performance."
   ]
  },
  {
   "cell_type": "code",
   "execution_count": 8,
   "id": "825c5d0d",
   "metadata": {},
   "outputs": [
    {
     "data": {
      "image/png": "[encoded data removed]",
      "text/plain": [
       "<Figure size 1500x500 with 2 Axes>"
      ]
     },
     "metadata": {},
     "output_type": "display_data"
    },
    {
     "name": "stdout",
     "output_type": "stream",
     "text": [
      "\n",
      "Final Results:\n",
      "Best Validation Accuracy: 86.46%\n",
      "Final Training Loss: 0.6637\n"
     ]
    }
   ],
   "source": [
    "# Plot training loss and validation accuracy\n",
    "plt.figure(figsize=(15, 5))\n",
    "\n",
    "# Plot training loss\n",
    "plt.subplot(1, 2, 1)\n",
    "plt.plot(train_losses, 'b-', label='Training Loss')\n",
    "plt.title('Training Loss Over Epochs')\n",
    "plt.xlabel('Epoch')\n",
    "plt.ylabel('Loss')\n",
    "plt.grid(True)\n",
    "plt.legend()\n",
    "\n",
    "# Plot validation accuracy\n",
    "plt.subplot(1, 2, 2)\n",
    "plt.plot(test_accuracies, 'r-', label='Validation Accuracy')\n",
    "plt.title('Validation Accuracy Over Epochs')\n",
    "plt.xlabel('Epoch')\n",
    "plt.ylabel('Accuracy (%)')\n",
    "plt.grid(True)\n",
    "plt.legend()\n",
    "\n",
    "plt.tight_layout()\n",
    "plt.show()\n",
    "\n",
    "# Print final metrics\n",
    "print(f\"\\nFinal Results:\")\n",
    "print(f\"Best Validation Accuracy: {max(test_accuracies):.2f}%\")\n",
    "print(f\"Final Training Loss: {train_losses[-1]:.4f}\")"
   ]
  },
  {
   "cell_type": "markdown",
   "id": "1a4a0365",
   "metadata": {},
   "source": [
    "## Confusion Matrix\n",
    "\n",
    "The confusion matrix shows:\n",
    "- Rows: True emotions\n",
    "- Columns: Predicted emotions\n",
    "- Numbers: Count of predictions\n",
    "- Diagonal: Correct predictions\n",
    "- Off-diagonal: Misclassifications\n",
    "\n",
    "This helps identify which emotions are commonly confused with each other."
   ]
  },
  {
   "cell_type": "code",
   "execution_count": 9,
   "id": "fe7635aa",
   "metadata": {},
   "outputs": [
    {
     "data": {
      "image/png": "[encoded data removed]",
      "text/plain": [
       "<Figure size 1200x1000 with 2 Axes>"
      ]
     },
     "metadata": {},
     "output_type": "display_data"
    },
    {
     "name": "stdout",
     "output_type": "stream",
     "text": [
      "\n",
      "Confusion Matrix Analysis:\n",
      "Total Correct Predictions: 249\n",
      "Total Samples: 288\n",
      "Overall Accuracy: 86.46%\n",
      "\n",
      "Per-class Accuracy:\n",
      "neutral: 95.00%\n",
      "calm: 93.18%\n",
      "happy: 88.24%\n",
      "sad: 79.49%\n",
      "angry: 85.71%\n",
      "fearful: 78.12%\n",
      "disgust: 87.50%\n",
      "surprised: 86.67%\n"
     ]
    }
   ],
   "source": [
    "# Create and plot confusion matrix\n",
    "from sklearn.metrics import confusion_matrix\n",
    "import seaborn as sns\n",
    "\n",
    "# Compute confusion matrix\n",
    "cm = confusion_matrix(epoch_targets, epoch_predictions)\n",
    "\n",
    "# Create confusion matrix plot\n",
    "plt.figure(figsize=(12, 10))\n",
    "sns.heatmap(cm, annot=True, fmt='d', cmap='Blues',\n",
    "            xticklabels=emotion_labels,\n",
    "            yticklabels=emotion_labels)\n",
    "plt.title('Confusion Matrix')\n",
    "plt.xlabel('Predicted Emotion')\n",
    "plt.ylabel('True Emotion')\n",
    "plt.xticks(rotation=45)\n",
    "plt.yticks(rotation=45)\n",
    "plt.tight_layout()\n",
    "plt.show()\n",
    "\n",
    "# Print overall metrics\n",
    "total_correct = np.sum(np.diag(cm))\n",
    "total_samples = np.sum(cm)\n",
    "print(f\"\\nConfusion Matrix Analysis:\")\n",
    "print(f\"Total Correct Predictions: {total_correct}\")\n",
    "print(f\"Total Samples: {total_samples}\")\n",
    "print(f\"Overall Accuracy: {100 * total_correct / total_samples:.2f}%\")\n",
    "\n",
    "# Calculate per-class accuracy\n",
    "print(\"\\nPer-class Accuracy:\")\n",
    "for i, emotion in enumerate(emotion_labels):\n",
    "    class_correct = cm[i, i]\n",
    "    class_total = np.sum(cm[i, :])\n",
    "    if class_total > 0:\n",
    "        class_accuracy = 100 * class_correct / class_total\n",
    "        print(f\"{emotion}: {class_accuracy:.2f}%\")"
   ]
  }
 ],
 "metadata": {
  "kernelspec": {
   "display_name": "gpu",
   "language": "python",
   "name": "python3"
  },
  "language_info": {
   "codemirror_mode": {
    "name": "ipython",
    "version": 3
   },
   "file_extension": ".py",
   "mimetype": "text/x-python",
   "name": "python",
   "nbconvert_exporter": "python",
   "pygments_lexer": "ipython3",
   "version": "3.12.11"
  }
 },
 "nbformat": 4,
 "nbformat_minor": 5
}
