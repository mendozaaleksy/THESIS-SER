{
 "cells": [
  {
   "cell_type": "markdown",
   "id": "4af0be38",
   "metadata": {},
   "source": [
    "# MFCC-based CNN Model for Speech Emotion Recognition\n",
    "\n",
    "This notebook implements a CNN model for speech emotion recognition using the RAVDESS dataset. The model aims to achieve 85.82% accuracy using MFCC features."
   ]
  },
  {
   "cell_type": "code",
   "execution_count": 2,
   "id": "d443c062",
   "metadata": {},
   "outputs": [
    {
     "name": "stdout",
     "output_type": "stream",
     "text": [
      "Using device: cuda\n"
     ]
    }
   ],
   "source": [
    "import numpy as np\n",
    "import pandas as pd\n",
    "import torch\n",
    "import torch.nn as nn\n",
    "import torch.optim as optim\n",
    "from torch.utils.data import Dataset, DataLoader\n",
    "import librosa\n",
    "import os\n",
    "from sklearn.model_selection import train_test_split\n",
    "from sklearn.preprocessing import LabelEncoder\n",
    "from sklearn.metrics import classification_report\n",
    "import matplotlib.pyplot as plt\n",
    "from tqdm import tqdm\n",
    "\n",
    "# Set random seeds for reproducibility\n",
    "torch.manual_seed(42)\n",
    "np.random.seed(42)\n",
    "\n",
    "# Check if CUDA is available\n",
    "device = torch.device('cuda' if torch.cuda.is_available() else 'cpu')\n",
    "print(f\"Using device: {device}\")"
   ]
  },
  {
   "cell_type": "markdown",
   "id": "a82a85de",
   "metadata": {},
   "source": [
    "## Data Loading and Preprocessing"
   ]
  },
  {
   "cell_type": "code",
   "execution_count": 3,
   "id": "12ff6ea3",
   "metadata": {},
   "outputs": [
    {
     "name": "stdout",
     "output_type": "stream",
     "text": [
      "Total samples: 1440\n",
      "\n",
      "Emotion distribution:\n",
      "emotion\n",
      "1    192\n",
      "2    192\n",
      "3    192\n",
      "4    192\n",
      "6    192\n",
      "5    192\n",
      "7    192\n",
      "0     96\n",
      "Name: count, dtype: int64\n"
     ]
    }
   ],
   "source": [
    "def extract_prosodic_features(file_path):\n",
    "    try:\n",
    "        # Load audio file\n",
    "        y, sr = librosa.load(file_path, duration=3)\n",
    "        \n",
    "        # Ensure consistent length\n",
    "        if len(y) < sr * 3:\n",
    "            y = np.pad(y, (0, sr * 3 - len(y)))\n",
    "        else:\n",
    "            y = y[:sr * 3]\n",
    "        \n",
    "        # 1. Pitch Features\n",
    "        # Extract fundamental frequency (F0)\n",
    "        hop_length = 512\n",
    "        frame_length = 2048\n",
    "        f0, voiced_flag, voiced_probs = librosa.pyin(\n",
    "            y, \n",
    "            fmin=librosa.note_to_hz('C2'), \n",
    "            fmax=librosa.note_to_hz('C7'),\n",
    "            sr=sr,\n",
    "            hop_length=hop_length\n",
    "        )\n",
    "        f0 = np.nan_to_num(f0)  # Replace NaN with 0\n",
    "        \n",
    "        # Calculate pitch statistics in sliding windows\n",
    "        # Ensure f0 has more than one value before calculating diff\n",
    "        if len(f0) > 1:\n",
    "            pitch_var = np.abs(np.diff(f0, axis=0))\n",
    "            pitch_var = np.pad(pitch_var, (0, 1), mode='edge')  # Pad to match original length\n",
    "        else:\n",
    "            pitch_var = np.zeros_like(f0)\n",
    "        \n",
    "        # 2. Stress/Intensity Features\n",
    "        # Root Mean Square Energy\n",
    "        rms = librosa.feature.rms(\n",
    "            y=y,\n",
    "            frame_length=frame_length,\n",
    "            hop_length=hop_length\n",
    "        )[0]\n",
    "        \n",
    "        # Energy variation (stress patterns)\n",
    "        if len(rms) > 1:\n",
    "            energy_var = np.abs(np.diff(rms, axis=0))\n",
    "            energy_var = np.pad(energy_var, (0, 1), mode='edge')\n",
    "        else:\n",
    "            energy_var = np.zeros_like(rms)\n",
    "        \n",
    "        # 3. Speech Rate Features\n",
    "        # Onset strength for rhythm\n",
    "        onset_env = librosa.onset.onset_strength(\n",
    "            y=y, \n",
    "            sr=sr,\n",
    "            hop_length=hop_length\n",
    "        )\n",
    "        \n",
    "        # Local speech rate estimation using onset strength\n",
    "        tempo, beats = librosa.beat.beat_track(\n",
    "            onset_envelope=onset_env,\n",
    "            sr=sr,\n",
    "            hop_length=hop_length\n",
    "        )\n",
    "        \n",
    "        # Create frame-wise tempo feature\n",
    "        tempo_frames = np.zeros_like(onset_env)\n",
    "        if len(beats) > 0:\n",
    "            tempo_frames[beats] = 1.0\n",
    "        \n",
    "        # Calculate speech rate variation\n",
    "        if len(onset_env) > 1:\n",
    "            rate_var = np.abs(np.diff(onset_env, axis=0))\n",
    "            rate_var = np.pad(rate_var, (0, 1), mode='edge')\n",
    "        else:\n",
    "            rate_var = np.zeros_like(onset_env)\n",
    "        \n",
    "        # Ensure all features have the same length\n",
    "        min_length = min(len(f0), len(pitch_var), len(rms), \n",
    "                        len(energy_var), len(rate_var), len(tempo_frames))\n",
    "        \n",
    "        # Truncate all features to the minimum length\n",
    "        f0 = f0[:min_length]\n",
    "        pitch_var = pitch_var[:min_length]\n",
    "        rms = rms[:min_length]\n",
    "        energy_var = energy_var[:min_length]\n",
    "        rate_var = rate_var[:min_length]\n",
    "        tempo_frames = tempo_frames[:min_length]\n",
    "        \n",
    "        # Stack all prosodic features\n",
    "        prosodic_features = np.vstack([\n",
    "            f0,                # Raw pitch\n",
    "            pitch_var,         # Pitch variation\n",
    "            rms,              # Intensity\n",
    "            energy_var,       # Stress patterns\n",
    "            rate_var,         # Speech rate variation\n",
    "            tempo_frames      # Speech rate (beats)\n",
    "        ])\n",
    "        \n",
    "        # Normalize features (only if they contain non-zero values)\n",
    "        for i in range(prosodic_features.shape[0]):\n",
    "            if np.any(prosodic_features[i]):  # Check if not all zeros\n",
    "                prosodic_features[i] = (prosodic_features[i] - np.mean(prosodic_features[i])) / (np.std(prosodic_features[i]) + 1e-8)\n",
    "        \n",
    "        return prosodic_features\n",
    "    except Exception as e:\n",
    "        print(f\"Error processing {file_path}: {str(e)}\")\n",
    "        return None\n",
    "\n",
    "def load_ravdess_data(data_path):\n",
    "    data = []\n",
    "    for actor in os.listdir(data_path):\n",
    "        if actor.startswith('Actor'):\n",
    "            actor_path = os.path.join(data_path, actor)\n",
    "            for filename in os.listdir(actor_path):\n",
    "                file_path = os.path.join(actor_path, filename)\n",
    "                # Parse filename for labels (format: 03-01-01-01-01-01-01.wav)\n",
    "                parts = filename.split('-')\n",
    "                emotion = int(parts[2]) - 1  # Convert to 0-based index\n",
    "                data.append({\n",
    "                    'path': file_path,\n",
    "                    'emotion': emotion,\n",
    "                    'actor': actor\n",
    "                })\n",
    "    return pd.DataFrame(data)\n",
    "\n",
    "def extract_mfcc(file_path, n_mfcc=40):\n",
    "    try:\n",
    "        # Load audio file\n",
    "        y, sr = librosa.load(file_path, duration=3)\n",
    "        \n",
    "        # Ensure consistent length\n",
    "        if len(y) < sr * 3:\n",
    "            y = np.pad(y, (0, sr * 3 - len(y)))\n",
    "        else:\n",
    "            y = y[:sr * 3]\n",
    "        \n",
    "        # Extract MFCC features\n",
    "        mfcc = librosa.feature.mfcc(y=y, sr=sr, n_mfcc=n_mfcc)\n",
    "        return mfcc\n",
    "    except Exception as e:\n",
    "        print(f\"Error processing {file_path}: {str(e)}\")\n",
    "        return None\n",
    "\n",
    "# Load data\n",
    "data_path = \"data/ravdess_actors\"\n",
    "df = load_ravdess_data(data_path)\n",
    "print(f\"Total samples: {len(df)}\")\n",
    "print(\"\\nEmotion distribution:\")\n",
    "print(df['emotion'].value_counts())"
   ]
  },
  {
   "cell_type": "code",
   "execution_count": 4,
   "id": "85201dc4",
   "metadata": {},
   "outputs": [
    {
     "name": "stdout",
     "output_type": "stream",
     "text": [
      "Extracting MFCC and prosodic features...\n"
     ]
    },
    {
     "name": "stderr",
     "output_type": "stream",
     "text": [
      "100%|██████████| 1440/1440 [15:44<00:00,  1.52it/s]"
     ]
    },
    {
     "name": "stdout",
     "output_type": "stream",
     "text": [
      "MFCC features shape: (1440, 130, 40)\n",
      "Prosodic features shape: (1440, 130, 6)\n",
      "Labels shape: (1440,)\n",
      "\n",
      "Training set shapes:\n",
      "MFCC: torch.Size([1152, 40, 130])\n",
      "Prosody: torch.Size([1152, 6, 130])\n",
      "Test set shapes:\n",
      "MFCC: torch.Size([288, 40, 130])\n",
      "Prosody: torch.Size([288, 6, 130])\n",
      "Number of training samples: 1152\n",
      "Number of test samples: 288\n"
     ]
    },
    {
     "name": "stderr",
     "output_type": "stream",
     "text": [
      "\n"
     ]
    }
   ],
   "source": [
    "# Extract MFCC and prosodic features for all audio files\n",
    "print(\"Extracting MFCC and prosodic features...\")\n",
    "X_mfcc = []\n",
    "X_prosody = []\n",
    "y = []\n",
    "\n",
    "for _, row in tqdm(df.iterrows(), total=len(df)):\n",
    "    mfcc = extract_mfcc(row['path'])\n",
    "    prosody = extract_prosodic_features(row['path'])\n",
    "    \n",
    "    if mfcc is not None and prosody is not None:\n",
    "        # Process MFCC features\n",
    "        mfcc = mfcc.T  # Shape becomes (time_steps, n_mfcc)\n",
    "        \n",
    "        # Process prosodic features\n",
    "        prosody = prosody.T  # Shape becomes (time_steps, n_prosodic_features)\n",
    "        \n",
    "        # Ensure same temporal dimension for both features\n",
    "        min_length = min(mfcc.shape[0], prosody.shape[0])\n",
    "        mfcc = mfcc[:min_length]\n",
    "        prosody = prosody[:min_length]\n",
    "        \n",
    "        X_mfcc.append(mfcc)\n",
    "        X_prosody.append(prosody)\n",
    "        y.append(row['emotion'])\n",
    "\n",
    "# Convert to numpy arrays\n",
    "X_mfcc = np.array(X_mfcc)\n",
    "X_prosody = np.array(X_prosody)\n",
    "y = np.array(y)\n",
    "\n",
    "print(f\"MFCC features shape: {X_mfcc.shape}\")\n",
    "print(f\"Prosodic features shape: {X_prosody.shape}\")\n",
    "print(f\"Labels shape: {y.shape}\")\n",
    "\n",
    "# Split the data\n",
    "X_mfcc_train, X_mfcc_test, X_prosody_train, X_prosody_test, y_train, y_test = train_test_split(\n",
    "    X_mfcc, X_prosody, y, test_size=0.2, random_state=42\n",
    ")\n",
    "\n",
    "# Convert to torch tensors\n",
    "X_mfcc_train = torch.FloatTensor(X_mfcc_train).transpose(1, 2)\n",
    "X_mfcc_test = torch.FloatTensor(X_mfcc_test).transpose(1, 2)\n",
    "X_prosody_train = torch.FloatTensor(X_prosody_train).transpose(1, 2)\n",
    "X_prosody_test = torch.FloatTensor(X_prosody_test).transpose(1, 2)\n",
    "y_train = torch.LongTensor(y_train)\n",
    "y_test = torch.LongTensor(y_test)\n",
    "\n",
    "print(\"\\nTraining set shapes:\")\n",
    "print(f\"MFCC: {X_mfcc_train.shape}\")\n",
    "print(f\"Prosody: {X_prosody_train.shape}\")\n",
    "print(f\"Test set shapes:\")\n",
    "print(f\"MFCC: {X_mfcc_test.shape}\")\n",
    "print(f\"Prosody: {X_prosody_test.shape}\")\n",
    "print(f\"Number of training samples: {len(y_train)}\")\n",
    "print(f\"Number of test samples: {len(y_test)}\")\n",
    "\n",
    "# Create custom dataset class for multiple inputs\n",
    "class MultiModalDataset(Dataset):\n",
    "    def __init__(self, mfcc_features, prosody_features, labels):\n",
    "        self.mfcc_features = mfcc_features\n",
    "        self.prosody_features = prosody_features\n",
    "        self.labels = labels\n",
    "        \n",
    "    def __len__(self):\n",
    "        return len(self.labels)\n",
    "    \n",
    "    def __getitem__(self, idx):\n",
    "        return (self.mfcc_features[idx], self.prosody_features[idx]), self.labels[idx]\n",
    "\n",
    "# Create datasets\n",
    "train_dataset = MultiModalDataset(X_mfcc_train, X_prosody_train, y_train)\n",
    "test_dataset = MultiModalDataset(X_mfcc_test, X_prosody_test, y_test)"
   ]
  },
  {
   "cell_type": "markdown",
   "id": "c0fc816f",
   "metadata": {},
   "source": [
    "## Model Architecture\n",
    "Here's the CNN model architecture that achieves 85.82% accuracy using MFCC features:"
   ]
  },
  {
   "cell_type": "code",
   "execution_count": 5,
   "id": "9d16d987",
   "metadata": {},
   "outputs": [
    {
     "name": "stdout",
     "output_type": "stream",
     "text": [
      "EmotionCRNN(\n",
      "  (mfcc_conv1): Sequential(\n",
      "    (0): Conv1d(40, 64, kernel_size=(3,), stride=(1,), padding=same)\n",
      "    (1): BatchNorm1d(64, eps=1e-05, momentum=0.1, affine=True, track_running_stats=True)\n",
      "    (2): ReLU()\n",
      "    (3): Conv1d(64, 64, kernel_size=(3,), stride=(1,), padding=same)\n",
      "    (4): BatchNorm1d(64, eps=1e-05, momentum=0.1, affine=True, track_running_stats=True)\n",
      "    (5): ReLU()\n",
      "    (6): MaxPool1d(kernel_size=2, stride=2, padding=0, dilation=1, ceil_mode=False)\n",
      "    (7): Dropout(p=0.2, inplace=False)\n",
      "  )\n",
      "  (mfcc_conv2): Sequential(\n",
      "    (0): Conv1d(64, 128, kernel_size=(3,), stride=(1,), padding=same)\n",
      "    (1): BatchNorm1d(128, eps=1e-05, momentum=0.1, affine=True, track_running_stats=True)\n",
      "    (2): ReLU()\n",
      "    (3): Conv1d(128, 128, kernel_size=(3,), stride=(1,), padding=same)\n",
      "    (4): BatchNorm1d(128, eps=1e-05, momentum=0.1, affine=True, track_running_stats=True)\n",
      "    (5): ReLU()\n",
      "    (6): MaxPool1d(kernel_size=2, stride=2, padding=0, dilation=1, ceil_mode=False)\n",
      "    (7): Dropout(p=0.3, inplace=False)\n",
      "  )\n",
      "  (prosody_conv1): Sequential(\n",
      "    (0): Conv1d(6, 32, kernel_size=(3,), stride=(1,), padding=same)\n",
      "    (1): BatchNorm1d(32, eps=1e-05, momentum=0.1, affine=True, track_running_stats=True)\n",
      "    (2): ReLU()\n",
      "    (3): Conv1d(32, 32, kernel_size=(3,), stride=(1,), padding=same)\n",
      "    (4): BatchNorm1d(32, eps=1e-05, momentum=0.1, affine=True, track_running_stats=True)\n",
      "    (5): ReLU()\n",
      "    (6): MaxPool1d(kernel_size=2, stride=2, padding=0, dilation=1, ceil_mode=False)\n",
      "    (7): Dropout(p=0.2, inplace=False)\n",
      "  )\n",
      "  (prosody_conv2): Sequential(\n",
      "    (0): Conv1d(32, 64, kernel_size=(3,), stride=(1,), padding=same)\n",
      "    (1): BatchNorm1d(64, eps=1e-05, momentum=0.1, affine=True, track_running_stats=True)\n",
      "    (2): ReLU()\n",
      "    (3): Conv1d(64, 64, kernel_size=(3,), stride=(1,), padding=same)\n",
      "    (4): BatchNorm1d(64, eps=1e-05, momentum=0.1, affine=True, track_running_stats=True)\n",
      "    (5): ReLU()\n",
      "    (6): MaxPool1d(kernel_size=2, stride=2, padding=0, dilation=1, ceil_mode=False)\n",
      "    (7): Dropout(p=0.3, inplace=False)\n",
      "  )\n",
      "  (shared_conv): Sequential(\n",
      "    (0): Conv1d(192, 256, kernel_size=(3,), stride=(1,), padding=same)\n",
      "    (1): BatchNorm1d(256, eps=1e-05, momentum=0.1, affine=True, track_running_stats=True)\n",
      "    (2): ReLU()\n",
      "    (3): Conv1d(256, 256, kernel_size=(3,), stride=(1,), padding=same)\n",
      "    (4): BatchNorm1d(256, eps=1e-05, momentum=0.1, affine=True, track_running_stats=True)\n",
      "    (5): ReLU()\n",
      "    (6): MaxPool1d(kernel_size=2, stride=2, padding=0, dilation=1, ceil_mode=False)\n",
      "    (7): Dropout(p=0.4, inplace=False)\n",
      "  )\n",
      "  (lstm1): LSTM(256, 128, batch_first=True, bidirectional=True)\n",
      "  (lstm_dropout1): Dropout(p=0.4, inplace=False)\n",
      "  (lstm2): LSTM(256, 128, batch_first=True, bidirectional=True)\n",
      "  (lstm_dropout2): Dropout(p=0.4, inplace=False)\n",
      "  (prosody_projection): Linear(in_features=64, out_features=256, bias=True)\n",
      "  (query_transform): Linear(in_features=256, out_features=256, bias=True)\n",
      "  (key_transform): Linear(in_features=256, out_features=256, bias=True)\n",
      "  (value_transform): Linear(in_features=256, out_features=256, bias=True)\n",
      "  (attention_combine): Sequential(\n",
      "    (0): Linear(in_features=256, out_features=256, bias=True)\n",
      "    (1): Sigmoid()\n",
      "  )\n",
      "  (fc1): Linear(in_features=256, out_features=128, bias=True)\n",
      "  (fc_bn): BatchNorm1d(128, eps=1e-05, momentum=0.1, affine=True, track_running_stats=True)\n",
      "  (fc_relu): ReLU()\n",
      "  (fc_dropout): Dropout(p=0.5, inplace=False)\n",
      "  (fc2): Linear(in_features=128, out_features=8, bias=True)\n",
      ")\n"
     ]
    }
   ],
   "source": [
    "class EmotionCRNN(nn.Module):\n",
    "    def __init__(self, num_classes=8):\n",
    "        super(EmotionCRNN, self).__init__()\n",
    "        \n",
    "        # MFCC branch\n",
    "        self.mfcc_conv1 = nn.Sequential(\n",
    "            nn.Conv1d(40, 64, kernel_size=3, padding='same'),\n",
    "            nn.BatchNorm1d(64),\n",
    "            nn.ReLU(),\n",
    "            nn.Conv1d(64, 64, kernel_size=3, padding='same'),\n",
    "            nn.BatchNorm1d(64),\n",
    "            nn.ReLU(),\n",
    "            nn.MaxPool1d(kernel_size=2),\n",
    "            nn.Dropout(0.2)\n",
    "        )\n",
    "        \n",
    "        self.mfcc_conv2 = nn.Sequential(\n",
    "            nn.Conv1d(64, 128, kernel_size=3, padding='same'),\n",
    "            nn.BatchNorm1d(128),\n",
    "            nn.ReLU(),\n",
    "            nn.Conv1d(128, 128, kernel_size=3, padding='same'),\n",
    "            nn.BatchNorm1d(128),\n",
    "            nn.ReLU(),\n",
    "            nn.MaxPool1d(kernel_size=2),\n",
    "            nn.Dropout(0.3)\n",
    "        )\n",
    "        \n",
    "        # Prosody branch\n",
    "        self.prosody_conv1 = nn.Sequential(\n",
    "            nn.Conv1d(6, 32, kernel_size=3, padding='same'),\n",
    "            nn.BatchNorm1d(32),\n",
    "            nn.ReLU(),\n",
    "            nn.Conv1d(32, 32, kernel_size=3, padding='same'),\n",
    "            nn.BatchNorm1d(32),\n",
    "            nn.ReLU(),\n",
    "            nn.MaxPool1d(kernel_size=2),\n",
    "            nn.Dropout(0.2)\n",
    "        )\n",
    "        \n",
    "        self.prosody_conv2 = nn.Sequential(\n",
    "            nn.Conv1d(32, 64, kernel_size=3, padding='same'),\n",
    "            nn.BatchNorm1d(64),\n",
    "            nn.ReLU(),\n",
    "            nn.Conv1d(64, 64, kernel_size=3, padding='same'),\n",
    "            nn.BatchNorm1d(64),\n",
    "            nn.ReLU(),\n",
    "            nn.MaxPool1d(kernel_size=2),\n",
    "            nn.Dropout(0.3)\n",
    "        )\n",
    "        \n",
    "        # Shared layers (128 + 64 = 192 channels after concatenation)\n",
    "        self.shared_conv = nn.Sequential(\n",
    "            nn.Conv1d(192, 256, kernel_size=3, padding='same'),\n",
    "            nn.BatchNorm1d(256),\n",
    "            nn.ReLU(),\n",
    "            nn.Conv1d(256, 256, kernel_size=3, padding='same'),\n",
    "            nn.BatchNorm1d(256),\n",
    "            nn.ReLU(),\n",
    "            nn.MaxPool1d(kernel_size=2),\n",
    "            nn.Dropout(0.4)\n",
    "        )\n",
    "        \n",
    "        # Bidirectional LSTM layers\n",
    "        self.lstm1 = nn.LSTM(256, 128, bidirectional=True, batch_first=True)\n",
    "        self.lstm_dropout1 = nn.Dropout(0.4)\n",
    "        self.lstm2 = nn.LSTM(256, 128, bidirectional=True, batch_first=True)\n",
    "        self.lstm_dropout2 = nn.Dropout(0.4)\n",
    "        \n",
    "        # Prosody-aware attention components\n",
    "        self.prosody_projection = nn.Linear(64, 256)  # Project prosody to match LSTM size\n",
    "        self.query_transform = nn.Linear(256, 256)\n",
    "        self.key_transform = nn.Linear(256, 256)\n",
    "        self.value_transform = nn.Linear(256, 256)\n",
    "        \n",
    "        # Attention combination\n",
    "        self.attention_combine = nn.Sequential(\n",
    "            nn.Linear(256, 256),\n",
    "            nn.Sigmoid()\n",
    "        )\n",
    "        \n",
    "        # Fully connected layers\n",
    "        self.fc1 = nn.Linear(256, 128)\n",
    "        self.fc_bn = nn.BatchNorm1d(128)\n",
    "        self.fc_relu = nn.ReLU()\n",
    "        self.fc_dropout = nn.Dropout(0.5)\n",
    "        self.fc2 = nn.Linear(128, num_classes)\n",
    "        \n",
    "    def prosody_aware_attention(self, lstm_output, prosody_features):\n",
    "        # Ensure prosody_features have the same sequence length as lstm_output\n",
    "        if prosody_features.size(1) != lstm_output.size(1):\n",
    "            prosody_features = torch.nn.functional.interpolate(\n",
    "                prosody_features.transpose(1, 2),\n",
    "                size=lstm_output.size(1),\n",
    "                mode='linear'\n",
    "            ).transpose(1, 2)\n",
    "        \n",
    "        # Project prosody features to match LSTM dimension\n",
    "        prosody_proj = self.prosody_projection(prosody_features)\n",
    "        \n",
    "        # Compute attention scores using scaled dot-product attention\n",
    "        queries = self.query_transform(lstm_output)\n",
    "        keys = self.key_transform(prosody_proj)\n",
    "        values = self.value_transform(lstm_output)\n",
    "        \n",
    "        # Scaled dot-product attention\n",
    "        attention_scores = torch.matmul(queries, keys.transpose(-2, -1))\n",
    "        attention_scores = attention_scores / (256 ** 0.5)  # Scale by sqrt(d_k)\n",
    "        attention_weights = torch.softmax(attention_scores, dim=-1)\n",
    "        \n",
    "        # Apply attention weights\n",
    "        context = torch.matmul(attention_weights, values)\n",
    "        \n",
    "        # Gating mechanism\n",
    "        gate = self.attention_combine(context)\n",
    "        gated_context = gate * context + (1 - gate) * lstm_output\n",
    "        \n",
    "        # Global average pooling\n",
    "        pooled = torch.mean(gated_context, dim=1)\n",
    "        \n",
    "        return pooled, attention_weights\n",
    "        \n",
    "    def forward(self, inputs):\n",
    "        mfcc_input, prosody_input = inputs\n",
    "        batch_size = mfcc_input.size(0)\n",
    "        \n",
    "        # Process MFCC branch\n",
    "        mfcc = self.mfcc_conv1(mfcc_input)\n",
    "        mfcc = self.mfcc_conv2(mfcc)\n",
    "        \n",
    "        # Process Prosody branch\n",
    "        prosody = self.prosody_conv1(prosody_input)\n",
    "        prosody = self.prosody_conv2(prosody)\n",
    "        \n",
    "        # Save prosody features for attention\n",
    "        prosody_features = prosody.transpose(1, 2)\n",
    "        \n",
    "        # Concatenate features along the channel dimension\n",
    "        x = torch.cat([mfcc, prosody], dim=1)\n",
    "        \n",
    "        # Shared processing\n",
    "        x = self.shared_conv(x)\n",
    "        \n",
    "        # Prepare for LSTM (B, C, T) -> (B, T, C)\n",
    "        x = x.transpose(1, 2)\n",
    "        \n",
    "        # Bidirectional LSTM layers\n",
    "        lstm_out1, _ = self.lstm1(x)\n",
    "        lstm_out1 = self.lstm_dropout1(lstm_out1)\n",
    "        lstm_out2, _ = self.lstm2(lstm_out1)\n",
    "        lstm_out2 = self.lstm_dropout2(lstm_out2)\n",
    "        \n",
    "        # Apply prosody-aware attention\n",
    "        attended, _ = self.prosody_aware_attention(lstm_out2, prosody_features)\n",
    "        \n",
    "        # Fully connected layers\n",
    "        x = self.fc1(attended)\n",
    "        x = self.fc_bn(x)\n",
    "        x = self.fc_relu(x)\n",
    "        x = self.fc_dropout(x)\n",
    "        x = self.fc2(x)\n",
    "        \n",
    "        return x\n",
    "\n",
    "# Create the model instance\n",
    "model = EmotionCRNN().to(device)\n",
    "\n",
    "# Define loss function and optimizer\n",
    "criterion = nn.CrossEntropyLoss()\n",
    "optimizer = optim.AdamW(model.parameters(), lr=0.001, weight_decay=0.01)\n",
    "\n",
    "# Mixup criterion function\n",
    "def mixup_criterion(criterion, pred, y_a, y_b, lam):\n",
    "    return lam * criterion(pred, y_a) + (1 - lam) * criterion(pred, y_b)\n",
    "\n",
    "print(model)"
   ]
  },
  {
   "cell_type": "markdown",
   "id": "4cbf57ec",
   "metadata": {},
   "source": [
    "## Training Configuration\n",
    "The model uses the following training parameters:\n",
    "- Batch size: 16\n",
    "- Number of epochs: 200\n",
    "- Learning rate: 0.00005\n",
    "- Optimizer: RMSprop\n",
    "- Loss function: CrossEntropyLoss\n",
    "- Dropout rate: 0.1"
   ]
  },
  {
   "cell_type": "code",
   "execution_count": 6,
   "id": "cb2e8bce",
   "metadata": {},
   "outputs": [
    {
     "name": "stderr",
     "output_type": "stream",
     "text": [
      "Epoch 1/300: 100%|██████████| 48/48 [00:01<00:00, 27.17it/s, loss=2.22]\n",
      "\n"
     ]
    },
    {
     "name": "stdout",
     "output_type": "stream",
     "text": [
      "Epoch [1/300]\n",
      "Training Loss: 2.1773\n",
      "Validation Loss: 2.0646\n",
      "Test Accuracy: 17.01%\n",
      "Best Accuracy: 17.01%\n",
      "--------------------------------------------------\n"
     ]
    },
    {
     "name": "stderr",
     "output_type": "stream",
     "text": [
      "Epoch 2/300: 100%|██████████| 48/48 [00:00<00:00, 66.06it/s, loss=2.13]\n",
      "\n"
     ]
    },
    {
     "name": "stdout",
     "output_type": "stream",
     "text": [
      "Epoch [2/300]\n",
      "Training Loss: 2.1193\n",
      "Validation Loss: 1.8661\n",
      "Test Accuracy: 23.26%\n",
      "Best Accuracy: 23.26%\n",
      "--------------------------------------------------\n"
     ]
    },
    {
     "name": "stderr",
     "output_type": "stream",
     "text": [
      "Epoch 3/300: 100%|██████████| 48/48 [00:00<00:00, 58.18it/s, loss=1.78]\n",
      "\n"
     ]
    },
    {
     "name": "stdout",
     "output_type": "stream",
     "text": [
      "Epoch [3/300]\n",
      "Training Loss: 1.9951\n",
      "Validation Loss: 1.7077\n",
      "Test Accuracy: 31.60%\n",
      "Best Accuracy: 31.60%\n",
      "--------------------------------------------------\n"
     ]
    },
    {
     "name": "stderr",
     "output_type": "stream",
     "text": [
      "Epoch 4/300: 100%|██████████| 48/48 [00:00<00:00, 63.39it/s, loss=1.8] \n",
      "\n"
     ]
    },
    {
     "name": "stdout",
     "output_type": "stream",
     "text": [
      "Epoch [4/300]\n",
      "Training Loss: 1.9573\n",
      "Validation Loss: 1.6234\n",
      "Test Accuracy: 39.93%\n",
      "Best Accuracy: 39.93%\n",
      "--------------------------------------------------\n"
     ]
    },
    {
     "name": "stderr",
     "output_type": "stream",
     "text": [
      "Epoch 5/300: 100%|██████████| 48/48 [00:00<00:00, 59.07it/s, loss=1.91]\n",
      "\n"
     ]
    },
    {
     "name": "stdout",
     "output_type": "stream",
     "text": [
      "Epoch [5/300]\n",
      "Training Loss: 1.8440\n",
      "Validation Loss: 1.5254\n",
      "Test Accuracy: 43.40%\n",
      "Best Accuracy: 43.40%\n",
      "--------------------------------------------------\n"
     ]
    },
    {
     "name": "stderr",
     "output_type": "stream",
     "text": [
      "Epoch 6/300: 100%|██████████| 48/48 [00:00<00:00, 66.38it/s, loss=1.64]\n",
      "\n"
     ]
    },
    {
     "name": "stdout",
     "output_type": "stream",
     "text": [
      "Epoch [6/300]\n",
      "Training Loss: 1.7478\n",
      "Validation Loss: 1.5460\n",
      "Test Accuracy: 41.67%\n",
      "Best Accuracy: 43.40%\n",
      "--------------------------------------------------\n"
     ]
    },
    {
     "name": "stderr",
     "output_type": "stream",
     "text": [
      "Epoch 7/300: 100%|██████████| 48/48 [00:00<00:00, 63.56it/s, loss=1.61]\n",
      "\n"
     ]
    },
    {
     "name": "stdout",
     "output_type": "stream",
     "text": [
      "Epoch [7/300]\n",
      "Training Loss: 1.6478\n",
      "Validation Loss: 1.4094\n",
      "Test Accuracy: 46.18%\n",
      "Best Accuracy: 46.18%\n",
      "--------------------------------------------------\n"
     ]
    },
    {
     "name": "stderr",
     "output_type": "stream",
     "text": [
      "Epoch 8/300: 100%|██████████| 48/48 [00:00<00:00, 65.18it/s, loss=1.65]\n",
      "\n"
     ]
    },
    {
     "name": "stdout",
     "output_type": "stream",
     "text": [
      "Epoch [8/300]\n",
      "Training Loss: 1.6026\n",
      "Validation Loss: 1.3151\n",
      "Test Accuracy: 51.74%\n",
      "Best Accuracy: 51.74%\n",
      "--------------------------------------------------\n"
     ]
    },
    {
     "name": "stderr",
     "output_type": "stream",
     "text": [
      "Epoch 9/300: 100%|██████████| 48/48 [00:00<00:00, 64.59it/s, loss=1.98]\n",
      "\n"
     ]
    },
    {
     "name": "stdout",
     "output_type": "stream",
     "text": [
      "Epoch [9/300]\n",
      "Training Loss: 1.5220\n",
      "Validation Loss: 1.2964\n",
      "Test Accuracy: 50.35%\n",
      "Best Accuracy: 51.74%\n",
      "--------------------------------------------------\n"
     ]
    },
    {
     "name": "stderr",
     "output_type": "stream",
     "text": [
      "Epoch 10/300: 100%|██████████| 48/48 [00:00<00:00, 62.84it/s, loss=1.42] \n",
      "\n"
     ]
    },
    {
     "name": "stdout",
     "output_type": "stream",
     "text": [
      "Epoch [10/300]\n",
      "Training Loss: 1.4574\n",
      "Validation Loss: 1.1414\n",
      "Test Accuracy: 51.74%\n",
      "Best Accuracy: 51.74%\n",
      "--------------------------------------------------\n"
     ]
    },
    {
     "name": "stderr",
     "output_type": "stream",
     "text": [
      "Epoch 11/300: 100%|██████████| 48/48 [00:00<00:00, 71.81it/s, loss=1.61] \n",
      "\n"
     ]
    },
    {
     "name": "stdout",
     "output_type": "stream",
     "text": [
      "Epoch [11/300]\n",
      "Training Loss: 1.3982\n",
      "Validation Loss: 1.2082\n",
      "Test Accuracy: 55.21%\n",
      "Best Accuracy: 55.21%\n",
      "--------------------------------------------------\n"
     ]
    },
    {
     "name": "stderr",
     "output_type": "stream",
     "text": [
      "Epoch 12/300: 100%|██████████| 48/48 [00:00<00:00, 75.68it/s, loss=1.24] \n",
      "\n"
     ]
    },
    {
     "name": "stdout",
     "output_type": "stream",
     "text": [
      "Epoch [12/300]\n",
      "Training Loss: 1.3183\n",
      "Validation Loss: 1.0869\n",
      "Test Accuracy: 56.25%\n",
      "Best Accuracy: 56.25%\n",
      "--------------------------------------------------\n"
     ]
    },
    {
     "name": "stderr",
     "output_type": "stream",
     "text": [
      "Epoch 13/300: 100%|██████████| 48/48 [00:00<00:00, 69.44it/s, loss=1.41] \n",
      "\n"
     ]
    },
    {
     "name": "stdout",
     "output_type": "stream",
     "text": [
      "Epoch [13/300]\n",
      "Training Loss: 1.3095\n",
      "Validation Loss: 1.2370\n",
      "Test Accuracy: 54.17%\n",
      "Best Accuracy: 56.25%\n",
      "--------------------------------------------------\n"
     ]
    },
    {
     "name": "stderr",
     "output_type": "stream",
     "text": [
      "Epoch 14/300: 100%|██████████| 48/48 [00:00<00:00, 72.54it/s, loss=1.02] \n",
      "\n"
     ]
    },
    {
     "name": "stdout",
     "output_type": "stream",
     "text": [
      "Epoch [14/300]\n",
      "Training Loss: 1.2540\n",
      "Validation Loss: 1.1574\n",
      "Test Accuracy: 59.03%\n",
      "Best Accuracy: 59.03%\n",
      "--------------------------------------------------\n"
     ]
    },
    {
     "name": "stderr",
     "output_type": "stream",
     "text": [
      "Epoch 15/300: 100%|██████████| 48/48 [00:00<00:00, 76.81it/s, loss=1.47] \n",
      "\n"
     ]
    },
    {
     "name": "stdout",
     "output_type": "stream",
     "text": [
      "Epoch [15/300]\n",
      "Training Loss: 1.2932\n",
      "Validation Loss: 1.0964\n",
      "Test Accuracy: 57.29%\n",
      "Best Accuracy: 59.03%\n",
      "--------------------------------------------------\n"
     ]
    },
    {
     "name": "stderr",
     "output_type": "stream",
     "text": [
      "Epoch 16/300: 100%|██████████| 48/48 [00:00<00:00, 70.70it/s, loss=1.18] \n",
      "\n"
     ]
    },
    {
     "name": "stdout",
     "output_type": "stream",
     "text": [
      "Epoch [16/300]\n",
      "Training Loss: 1.2008\n",
      "Validation Loss: 1.0344\n",
      "Test Accuracy: 60.42%\n",
      "Best Accuracy: 60.42%\n",
      "--------------------------------------------------\n"
     ]
    },
    {
     "name": "stderr",
     "output_type": "stream",
     "text": [
      "Epoch 17/300: 100%|██████████| 48/48 [00:00<00:00, 73.81it/s, loss=1.2]  \n",
      "\n"
     ]
    },
    {
     "name": "stdout",
     "output_type": "stream",
     "text": [
      "Epoch [17/300]\n",
      "Training Loss: 1.1232\n",
      "Validation Loss: 1.2254\n",
      "Test Accuracy: 57.99%\n",
      "Best Accuracy: 60.42%\n",
      "--------------------------------------------------\n"
     ]
    },
    {
     "name": "stderr",
     "output_type": "stream",
     "text": [
      "Epoch 18/300: 100%|██████████| 48/48 [00:00<00:00, 76.08it/s, loss=1.62] \n",
      "\n"
     ]
    },
    {
     "name": "stdout",
     "output_type": "stream",
     "text": [
      "Epoch [18/300]\n",
      "Training Loss: 1.1504\n",
      "Validation Loss: 1.2654\n",
      "Test Accuracy: 53.12%\n",
      "Best Accuracy: 60.42%\n",
      "--------------------------------------------------\n"
     ]
    },
    {
     "name": "stderr",
     "output_type": "stream",
     "text": [
      "Epoch 19/300: 100%|██████████| 48/48 [00:00<00:00, 68.75it/s, loss=0.766]\n",
      "\n"
     ]
    },
    {
     "name": "stdout",
     "output_type": "stream",
     "text": [
      "Epoch [19/300]\n",
      "Training Loss: 1.1720\n",
      "Validation Loss: 1.0888\n",
      "Test Accuracy: 60.42%\n",
      "Best Accuracy: 60.42%\n",
      "--------------------------------------------------\n"
     ]
    },
    {
     "name": "stderr",
     "output_type": "stream",
     "text": [
      "Epoch 20/300: 100%|██████████| 48/48 [00:00<00:00, 74.96it/s, loss=0.847]\n",
      "\n"
     ]
    },
    {
     "name": "stdout",
     "output_type": "stream",
     "text": [
      "Epoch [20/300]\n",
      "Training Loss: 1.1612\n",
      "Validation Loss: 1.0010\n",
      "Test Accuracy: 64.58%\n",
      "Best Accuracy: 64.58%\n",
      "--------------------------------------------------\n"
     ]
    },
    {
     "name": "stderr",
     "output_type": "stream",
     "text": [
      "Epoch 21/300: 100%|██████████| 48/48 [00:00<00:00, 72.27it/s, loss=0.837]\n",
      "\n"
     ]
    },
    {
     "name": "stdout",
     "output_type": "stream",
     "text": [
      "Epoch [21/300]\n",
      "Training Loss: 1.0653\n",
      "Validation Loss: 0.9155\n",
      "Test Accuracy: 65.62%\n",
      "Best Accuracy: 65.62%\n",
      "--------------------------------------------------\n"
     ]
    },
    {
     "name": "stderr",
     "output_type": "stream",
     "text": [
      "Epoch 22/300: 100%|██████████| 48/48 [00:00<00:00, 69.04it/s, loss=1.07] \n",
      "\n"
     ]
    },
    {
     "name": "stdout",
     "output_type": "stream",
     "text": [
      "Epoch [22/300]\n",
      "Training Loss: 1.0536\n",
      "Validation Loss: 1.0669\n",
      "Test Accuracy: 60.76%\n",
      "Best Accuracy: 65.62%\n",
      "--------------------------------------------------\n"
     ]
    },
    {
     "name": "stderr",
     "output_type": "stream",
     "text": [
      "Epoch 23/300: 100%|██████████| 48/48 [00:00<00:00, 73.79it/s, loss=0.891]\n",
      "\n"
     ]
    },
    {
     "name": "stdout",
     "output_type": "stream",
     "text": [
      "Epoch [23/300]\n",
      "Training Loss: 1.0727\n",
      "Validation Loss: 1.1397\n",
      "Test Accuracy: 59.38%\n",
      "Best Accuracy: 65.62%\n",
      "--------------------------------------------------\n"
     ]
    },
    {
     "name": "stderr",
     "output_type": "stream",
     "text": [
      "Epoch 24/300: 100%|██████████| 48/48 [00:00<00:00, 74.56it/s, loss=0.756]\n",
      "\n"
     ]
    },
    {
     "name": "stdout",
     "output_type": "stream",
     "text": [
      "Epoch [24/300]\n",
      "Training Loss: 1.0021\n",
      "Validation Loss: 1.1722\n",
      "Test Accuracy: 61.46%\n",
      "Best Accuracy: 65.62%\n",
      "--------------------------------------------------\n"
     ]
    },
    {
     "name": "stderr",
     "output_type": "stream",
     "text": [
      "Epoch 25/300: 100%|██████████| 48/48 [00:00<00:00, 70.11it/s, loss=0.566]\n",
      "\n"
     ]
    },
    {
     "name": "stdout",
     "output_type": "stream",
     "text": [
      "Epoch [25/300]\n",
      "Training Loss: 1.0665\n",
      "Validation Loss: 1.1805\n",
      "Test Accuracy: 56.60%\n",
      "Best Accuracy: 65.62%\n",
      "--------------------------------------------------\n"
     ]
    },
    {
     "name": "stderr",
     "output_type": "stream",
     "text": [
      "Epoch 26/300: 100%|██████████| 48/48 [00:00<00:00, 73.55it/s, loss=0.569]\n",
      "\n"
     ]
    },
    {
     "name": "stdout",
     "output_type": "stream",
     "text": [
      "Epoch [26/300]\n",
      "Training Loss: 1.0377\n",
      "Validation Loss: 1.4522\n",
      "Test Accuracy: 51.04%\n",
      "Best Accuracy: 65.62%\n",
      "--------------------------------------------------\n"
     ]
    },
    {
     "name": "stderr",
     "output_type": "stream",
     "text": [
      "Epoch 27/300: 100%|██████████| 48/48 [00:00<00:00, 74.53it/s, loss=0.535]\n",
      "\n"
     ]
    },
    {
     "name": "stdout",
     "output_type": "stream",
     "text": [
      "Epoch [27/300]\n",
      "Training Loss: 1.0571\n",
      "Validation Loss: 1.0684\n",
      "Test Accuracy: 63.19%\n",
      "Best Accuracy: 65.62%\n",
      "--------------------------------------------------\n"
     ]
    },
    {
     "name": "stderr",
     "output_type": "stream",
     "text": [
      "Epoch 28/300: 100%|██████████| 48/48 [00:00<00:00, 70.94it/s, loss=0.578]\n",
      "\n"
     ]
    },
    {
     "name": "stdout",
     "output_type": "stream",
     "text": [
      "Epoch [28/300]\n",
      "Training Loss: 0.9441\n",
      "Validation Loss: 1.0448\n",
      "Test Accuracy: 64.24%\n",
      "Best Accuracy: 65.62%\n",
      "--------------------------------------------------\n"
     ]
    },
    {
     "name": "stderr",
     "output_type": "stream",
     "text": [
      "Epoch 29/300: 100%|██████████| 48/48 [00:00<00:00, 66.38it/s, loss=0.643]\n",
      "\n"
     ]
    },
    {
     "name": "stdout",
     "output_type": "stream",
     "text": [
      "Epoch [29/300]\n",
      "Training Loss: 0.9113\n",
      "Validation Loss: 0.8690\n",
      "Test Accuracy: 71.53%\n",
      "Best Accuracy: 71.53%\n",
      "--------------------------------------------------\n"
     ]
    },
    {
     "name": "stderr",
     "output_type": "stream",
     "text": [
      "Epoch 30/300: 100%|██████████| 48/48 [00:00<00:00, 73.52it/s, loss=0.919]\n",
      "\n"
     ]
    },
    {
     "name": "stdout",
     "output_type": "stream",
     "text": [
      "Epoch [30/300]\n",
      "Training Loss: 1.0281\n",
      "Validation Loss: 1.0867\n",
      "Test Accuracy: 63.89%\n",
      "Best Accuracy: 71.53%\n",
      "--------------------------------------------------\n"
     ]
    },
    {
     "name": "stderr",
     "output_type": "stream",
     "text": [
      "Epoch 31/300: 100%|██████████| 48/48 [00:00<00:00, 74.95it/s, loss=1.79] \n",
      "\n"
     ]
    },
    {
     "name": "stdout",
     "output_type": "stream",
     "text": [
      "Epoch [31/300]\n",
      "Training Loss: 1.0548\n",
      "Validation Loss: 1.4613\n",
      "Test Accuracy: 55.90%\n",
      "Best Accuracy: 71.53%\n",
      "--------------------------------------------------\n"
     ]
    },
    {
     "name": "stderr",
     "output_type": "stream",
     "text": [
      "Epoch 32/300: 100%|██████████| 48/48 [00:00<00:00, 72.51it/s, loss=0.993]\n",
      "\n"
     ]
    },
    {
     "name": "stdout",
     "output_type": "stream",
     "text": [
      "Epoch [32/300]\n",
      "Training Loss: 1.0922\n",
      "Validation Loss: 1.1591\n",
      "Test Accuracy: 62.50%\n",
      "Best Accuracy: 71.53%\n",
      "--------------------------------------------------\n"
     ]
    },
    {
     "name": "stderr",
     "output_type": "stream",
     "text": [
      "Epoch 33/300: 100%|██████████| 48/48 [00:00<00:00, 74.99it/s, loss=1.78] \n",
      "\n"
     ]
    },
    {
     "name": "stdout",
     "output_type": "stream",
     "text": [
      "Epoch [33/300]\n",
      "Training Loss: 1.0546\n",
      "Validation Loss: 1.3912\n",
      "Test Accuracy: 53.82%\n",
      "Best Accuracy: 71.53%\n",
      "--------------------------------------------------\n"
     ]
    },
    {
     "name": "stderr",
     "output_type": "stream",
     "text": [
      "Epoch 34/300: 100%|██████████| 48/48 [00:00<00:00, 74.17it/s, loss=1.1]  \n",
      "\n"
     ]
    },
    {
     "name": "stdout",
     "output_type": "stream",
     "text": [
      "Epoch [34/300]\n",
      "Training Loss: 0.9753\n",
      "Validation Loss: 1.5664\n",
      "Test Accuracy: 55.21%\n",
      "Best Accuracy: 71.53%\n",
      "--------------------------------------------------\n"
     ]
    },
    {
     "name": "stderr",
     "output_type": "stream",
     "text": [
      "Epoch 35/300: 100%|██████████| 48/48 [00:00<00:00, 66.60it/s, loss=0.794]\n",
      "\n"
     ]
    },
    {
     "name": "stdout",
     "output_type": "stream",
     "text": [
      "Epoch [35/300]\n",
      "Training Loss: 0.9375\n",
      "Validation Loss: 0.8986\n",
      "Test Accuracy: 69.10%\n",
      "Best Accuracy: 71.53%\n",
      "--------------------------------------------------\n"
     ]
    },
    {
     "name": "stderr",
     "output_type": "stream",
     "text": [
      "Epoch 36/300: 100%|██████████| 48/48 [00:00<00:00, 65.81it/s, loss=0.854]\n",
      "Epoch 36/300: 100%|██████████| 48/48 [00:00<00:00, 65.81it/s, loss=0.854]\n"
     ]
    },
    {
     "name": "stdout",
     "output_type": "stream",
     "text": [
      "Epoch [36/300]\n",
      "Training Loss: 0.8934\n",
      "Validation Loss: 1.0213\n",
      "Test Accuracy: 65.28%\n",
      "Best Accuracy: 71.53%\n",
      "--------------------------------------------------\n"
     ]
    },
    {
     "name": "stderr",
     "output_type": "stream",
     "text": [
      "Epoch 37/300: 100%|██████████| 48/48 [00:00<00:00, 68.32it/s, loss=1.09] \n",
      "\n"
     ]
    },
    {
     "name": "stdout",
     "output_type": "stream",
     "text": [
      "Epoch [37/300]\n",
      "Training Loss: 0.8212\n",
      "Validation Loss: 0.9383\n",
      "Test Accuracy: 67.71%\n",
      "Best Accuracy: 71.53%\n",
      "--------------------------------------------------\n"
     ]
    },
    {
     "name": "stderr",
     "output_type": "stream",
     "text": [
      "Epoch 38/300: 100%|██████████| 48/48 [00:00<00:00, 69.05it/s, loss=0.832]\n",
      "\n"
     ]
    },
    {
     "name": "stdout",
     "output_type": "stream",
     "text": [
      "Epoch [38/300]\n",
      "Training Loss: 0.8594\n",
      "Validation Loss: 0.9657\n",
      "Test Accuracy: 70.49%\n",
      "Best Accuracy: 71.53%\n",
      "--------------------------------------------------\n"
     ]
    },
    {
     "name": "stderr",
     "output_type": "stream",
     "text": [
      "Epoch 39/300: 100%|██████████| 48/48 [00:00<00:00, 60.54it/s, loss=0.337]\n",
      "\n"
     ]
    },
    {
     "name": "stdout",
     "output_type": "stream",
     "text": [
      "Epoch [39/300]\n",
      "Training Loss: 0.7662\n",
      "Validation Loss: 1.0318\n",
      "Test Accuracy: 64.93%\n",
      "Best Accuracy: 71.53%\n",
      "--------------------------------------------------\n"
     ]
    },
    {
     "name": "stderr",
     "output_type": "stream",
     "text": [
      "Epoch 40/300: 100%|██████████| 48/48 [00:00<00:00, 70.02it/s, loss=0.793]\n",
      "\n"
     ]
    },
    {
     "name": "stdout",
     "output_type": "stream",
     "text": [
      "Epoch [40/300]\n",
      "Training Loss: 0.8759\n",
      "Validation Loss: 0.9974\n",
      "Test Accuracy: 69.44%\n",
      "Best Accuracy: 71.53%\n",
      "--------------------------------------------------\n"
     ]
    },
    {
     "name": "stderr",
     "output_type": "stream",
     "text": [
      "Epoch 41/300: 100%|██████████| 48/48 [00:00<00:00, 68.82it/s, loss=0.286]\n",
      "\n"
     ]
    },
    {
     "name": "stdout",
     "output_type": "stream",
     "text": [
      "Epoch [41/300]\n",
      "Training Loss: 0.8687\n",
      "Validation Loss: 0.8811\n",
      "Test Accuracy: 72.92%\n",
      "Best Accuracy: 72.92%\n",
      "--------------------------------------------------\n"
     ]
    },
    {
     "name": "stderr",
     "output_type": "stream",
     "text": [
      "Epoch 42/300: 100%|██████████| 48/48 [00:00<00:00, 68.12it/s, loss=0.581]\n",
      "\n"
     ]
    },
    {
     "name": "stdout",
     "output_type": "stream",
     "text": [
      "Epoch [42/300]\n",
      "Training Loss: 0.8102\n",
      "Validation Loss: 0.8536\n",
      "Test Accuracy: 72.57%\n",
      "Best Accuracy: 72.92%\n",
      "--------------------------------------------------\n"
     ]
    },
    {
     "name": "stderr",
     "output_type": "stream",
     "text": [
      "Epoch 43/300: 100%|██████████| 48/48 [00:00<00:00, 71.20it/s, loss=0.475]\n",
      "\n"
     ]
    },
    {
     "name": "stdout",
     "output_type": "stream",
     "text": [
      "Epoch [43/300]\n",
      "Training Loss: 0.9319\n",
      "Validation Loss: 0.9133\n",
      "Test Accuracy: 73.26%\n",
      "Best Accuracy: 73.26%\n",
      "--------------------------------------------------\n"
     ]
    },
    {
     "name": "stderr",
     "output_type": "stream",
     "text": [
      "Epoch 44/300: 100%|██████████| 48/48 [00:00<00:00, 80.75it/s, loss=2.65] \n",
      "\n"
     ]
    },
    {
     "name": "stdout",
     "output_type": "stream",
     "text": [
      "Epoch [44/300]\n",
      "Training Loss: 0.8610\n",
      "Validation Loss: 0.9294\n",
      "Test Accuracy: 69.44%\n",
      "Best Accuracy: 73.26%\n",
      "--------------------------------------------------\n"
     ]
    },
    {
     "name": "stderr",
     "output_type": "stream",
     "text": [
      "Epoch 45/300: 100%|██████████| 48/48 [00:00<00:00, 79.92it/s, loss=0.29] \n",
      "\n"
     ]
    },
    {
     "name": "stdout",
     "output_type": "stream",
     "text": [
      "Epoch [45/300]\n",
      "Training Loss: 0.9537\n",
      "Validation Loss: 0.9117\n",
      "Test Accuracy: 69.79%\n",
      "Best Accuracy: 73.26%\n",
      "--------------------------------------------------\n"
     ]
    },
    {
     "name": "stderr",
     "output_type": "stream",
     "text": [
      "Epoch 46/300: 100%|██████████| 48/48 [00:00<00:00, 74.09it/s, loss=0.412]\n",
      "\n"
     ]
    },
    {
     "name": "stdout",
     "output_type": "stream",
     "text": [
      "Epoch [46/300]\n",
      "Training Loss: 0.8646\n",
      "Validation Loss: 0.8581\n",
      "Test Accuracy: 72.92%\n",
      "Best Accuracy: 73.26%\n",
      "--------------------------------------------------\n"
     ]
    },
    {
     "name": "stderr",
     "output_type": "stream",
     "text": [
      "Epoch 47/300: 100%|██████████| 48/48 [00:00<00:00, 78.58it/s, loss=0.477]\n",
      "\n"
     ]
    },
    {
     "name": "stdout",
     "output_type": "stream",
     "text": [
      "Epoch [47/300]\n",
      "Training Loss: 0.9007\n",
      "Validation Loss: 0.8829\n",
      "Test Accuracy: 72.57%\n",
      "Best Accuracy: 73.26%\n",
      "--------------------------------------------------\n"
     ]
    },
    {
     "name": "stderr",
     "output_type": "stream",
     "text": [
      "Epoch 48/300: 100%|██████████| 48/48 [00:00<00:00, 80.51it/s, loss=0.497]\n",
      "\n"
     ]
    },
    {
     "name": "stdout",
     "output_type": "stream",
     "text": [
      "Epoch [48/300]\n",
      "Training Loss: 0.6727\n",
      "Validation Loss: 0.9938\n",
      "Test Accuracy: 68.40%\n",
      "Best Accuracy: 73.26%\n",
      "--------------------------------------------------\n"
     ]
    },
    {
     "name": "stderr",
     "output_type": "stream",
     "text": [
      "Epoch 49/300: 100%|██████████| 48/48 [00:00<00:00, 74.89it/s, loss=0.515]\n",
      "\n"
     ]
    },
    {
     "name": "stdout",
     "output_type": "stream",
     "text": [
      "Epoch [49/300]\n",
      "Training Loss: 0.7550\n",
      "Validation Loss: 0.9164\n",
      "Test Accuracy: 69.44%\n",
      "Best Accuracy: 73.26%\n",
      "--------------------------------------------------\n"
     ]
    },
    {
     "name": "stderr",
     "output_type": "stream",
     "text": [
      "Epoch 50/300: 100%|██████████| 48/48 [00:00<00:00, 80.01it/s, loss=0.432]\n",
      "\n"
     ]
    },
    {
     "name": "stdout",
     "output_type": "stream",
     "text": [
      "Epoch [50/300]\n",
      "Training Loss: 0.8648\n",
      "Validation Loss: 0.7992\n",
      "Test Accuracy: 73.61%\n",
      "Best Accuracy: 73.61%\n",
      "--------------------------------------------------\n"
     ]
    },
    {
     "name": "stderr",
     "output_type": "stream",
     "text": [
      "Epoch 51/300: 100%|██████████| 48/48 [00:00<00:00, 79.49it/s, loss=0.75] \n",
      "\n"
     ]
    },
    {
     "name": "stdout",
     "output_type": "stream",
     "text": [
      "Epoch [51/300]\n",
      "Training Loss: 0.7120\n",
      "Validation Loss: 0.8842\n",
      "Test Accuracy: 74.31%\n",
      "Best Accuracy: 74.31%\n",
      "--------------------------------------------------\n"
     ]
    },
    {
     "name": "stderr",
     "output_type": "stream",
     "text": [
      "Epoch 52/300: 100%|██████████| 48/48 [00:00<00:00, 70.21it/s, loss=0.31] \n",
      "\n"
     ]
    },
    {
     "name": "stdout",
     "output_type": "stream",
     "text": [
      "Epoch [52/300]\n",
      "Training Loss: 0.6588\n",
      "Validation Loss: 0.9854\n",
      "Test Accuracy: 71.88%\n",
      "Best Accuracy: 74.31%\n",
      "--------------------------------------------------\n"
     ]
    },
    {
     "name": "stderr",
     "output_type": "stream",
     "text": [
      "Epoch 53/300: 100%|██████████| 48/48 [00:00<00:00, 79.43it/s, loss=0.331]\n",
      "\n"
     ]
    },
    {
     "name": "stdout",
     "output_type": "stream",
     "text": [
      "Epoch [53/300]\n",
      "Training Loss: 0.7760\n",
      "Validation Loss: 0.8586\n",
      "Test Accuracy: 73.26%\n",
      "Best Accuracy: 74.31%\n",
      "--------------------------------------------------\n"
     ]
    },
    {
     "name": "stderr",
     "output_type": "stream",
     "text": [
      "Epoch 54/300: 100%|██████████| 48/48 [00:00<00:00, 69.06it/s, loss=0.467] \n",
      "\n"
     ]
    },
    {
     "name": "stdout",
     "output_type": "stream",
     "text": [
      "Epoch [54/300]\n",
      "Training Loss: 0.6423\n",
      "Validation Loss: 0.7358\n",
      "Test Accuracy: 79.51%\n",
      "Best Accuracy: 79.51%\n",
      "--------------------------------------------------\n"
     ]
    },
    {
     "name": "stderr",
     "output_type": "stream",
     "text": [
      "Epoch 55/300: 100%|██████████| 48/48 [00:00<00:00, 80.11it/s, loss=0.414]\n",
      "\n"
     ]
    },
    {
     "name": "stdout",
     "output_type": "stream",
     "text": [
      "Epoch [55/300]\n",
      "Training Loss: 0.8237\n",
      "Validation Loss: 1.0468\n",
      "Test Accuracy: 71.88%\n",
      "Best Accuracy: 79.51%\n",
      "--------------------------------------------------\n"
     ]
    },
    {
     "name": "stderr",
     "output_type": "stream",
     "text": [
      "Epoch 56/300: 100%|██████████| 48/48 [00:00<00:00, 77.24it/s, loss=0.214]\n",
      "\n"
     ]
    },
    {
     "name": "stdout",
     "output_type": "stream",
     "text": [
      "Epoch [56/300]\n",
      "Training Loss: 0.9308\n",
      "Validation Loss: 0.9608\n",
      "Test Accuracy: 70.49%\n",
      "Best Accuracy: 79.51%\n",
      "--------------------------------------------------\n"
     ]
    },
    {
     "name": "stderr",
     "output_type": "stream",
     "text": [
      "Epoch 57/300: 100%|██████████| 48/48 [00:00<00:00, 80.34it/s, loss=0.156]\n",
      "\n"
     ]
    },
    {
     "name": "stdout",
     "output_type": "stream",
     "text": [
      "Epoch [57/300]\n",
      "Training Loss: 0.6503\n",
      "Validation Loss: 1.1410\n",
      "Test Accuracy: 67.01%\n",
      "Best Accuracy: 79.51%\n",
      "--------------------------------------------------\n"
     ]
    },
    {
     "name": "stderr",
     "output_type": "stream",
     "text": [
      "Epoch 58/300: 100%|██████████| 48/48 [00:00<00:00, 79.99it/s, loss=1.7]  \n",
      "\n"
     ]
    },
    {
     "name": "stdout",
     "output_type": "stream",
     "text": [
      "Epoch [58/300]\n",
      "Training Loss: 0.6767\n",
      "Validation Loss: 1.0965\n",
      "Test Accuracy: 67.71%\n",
      "Best Accuracy: 79.51%\n",
      "--------------------------------------------------\n"
     ]
    },
    {
     "name": "stderr",
     "output_type": "stream",
     "text": [
      "Epoch 59/300: 100%|██████████| 48/48 [00:00<00:00, 71.88it/s, loss=0.221]\n",
      "\n"
     ]
    },
    {
     "name": "stdout",
     "output_type": "stream",
     "text": [
      "Epoch [59/300]\n",
      "Training Loss: 0.7377\n",
      "Validation Loss: 1.0133\n",
      "Test Accuracy: 68.40%\n",
      "Best Accuracy: 79.51%\n",
      "--------------------------------------------------\n"
     ]
    },
    {
     "name": "stderr",
     "output_type": "stream",
     "text": [
      "Epoch 60/300: 100%|██████████| 48/48 [00:00<00:00, 80.73it/s, loss=1.07] \n",
      "\n"
     ]
    },
    {
     "name": "stdout",
     "output_type": "stream",
     "text": [
      "Epoch [60/300]\n",
      "Training Loss: 0.7542\n",
      "Validation Loss: 1.1119\n",
      "Test Accuracy: 67.71%\n",
      "Best Accuracy: 79.51%\n",
      "--------------------------------------------------\n"
     ]
    },
    {
     "name": "stderr",
     "output_type": "stream",
     "text": [
      "Epoch 61/300: 100%|██████████| 48/48 [00:00<00:00, 75.04it/s, loss=0.428]\n",
      "\n"
     ]
    },
    {
     "name": "stdout",
     "output_type": "stream",
     "text": [
      "Epoch [61/300]\n",
      "Training Loss: 0.6989\n",
      "Validation Loss: 0.8757\n",
      "Test Accuracy: 71.53%\n",
      "Best Accuracy: 79.51%\n",
      "--------------------------------------------------\n"
     ]
    },
    {
     "name": "stderr",
     "output_type": "stream",
     "text": [
      "Epoch 62/300: 100%|██████████| 48/48 [00:00<00:00, 78.54it/s, loss=1.01] \n",
      "\n"
     ]
    },
    {
     "name": "stdout",
     "output_type": "stream",
     "text": [
      "Epoch [62/300]\n",
      "Training Loss: 0.7312\n",
      "Validation Loss: 1.0459\n",
      "Test Accuracy: 67.71%\n",
      "Best Accuracy: 79.51%\n",
      "--------------------------------------------------\n"
     ]
    },
    {
     "name": "stderr",
     "output_type": "stream",
     "text": [
      "Epoch 63/300: 100%|██████████| 48/48 [00:00<00:00, 71.70it/s, loss=1.09] \n",
      "\n"
     ]
    },
    {
     "name": "stdout",
     "output_type": "stream",
     "text": [
      "Epoch [63/300]\n",
      "Training Loss: 0.8172\n",
      "Validation Loss: 0.8341\n",
      "Test Accuracy: 75.35%\n",
      "Best Accuracy: 79.51%\n",
      "--------------------------------------------------\n"
     ]
    },
    {
     "name": "stderr",
     "output_type": "stream",
     "text": [
      "Epoch 64/300: 100%|██████████| 48/48 [00:00<00:00, 65.72it/s, loss=0.799] \n",
      "\n"
     ]
    },
    {
     "name": "stdout",
     "output_type": "stream",
     "text": [
      "Epoch [64/300]\n",
      "Training Loss: 0.5851\n",
      "Validation Loss: 0.8409\n",
      "Test Accuracy: 74.31%\n",
      "Best Accuracy: 79.51%\n",
      "--------------------------------------------------\n"
     ]
    },
    {
     "name": "stderr",
     "output_type": "stream",
     "text": [
      "Epoch 65/300: 100%|██████████| 48/48 [00:00<00:00, 64.25it/s, loss=0.268]\n",
      "\n"
     ]
    },
    {
     "name": "stdout",
     "output_type": "stream",
     "text": [
      "Epoch [65/300]\n",
      "Training Loss: 0.6818\n",
      "Validation Loss: 0.8020\n",
      "Test Accuracy: 75.35%\n",
      "Best Accuracy: 79.51%\n",
      "--------------------------------------------------\n"
     ]
    },
    {
     "name": "stderr",
     "output_type": "stream",
     "text": [
      "Epoch 66/300: 100%|██████████| 48/48 [00:00<00:00, 77.02it/s, loss=0.278]\n",
      "\n"
     ]
    },
    {
     "name": "stdout",
     "output_type": "stream",
     "text": [
      "Epoch [66/300]\n",
      "Training Loss: 0.7688\n",
      "Validation Loss: 0.9256\n",
      "Test Accuracy: 70.14%\n",
      "Best Accuracy: 79.51%\n",
      "--------------------------------------------------\n"
     ]
    },
    {
     "name": "stderr",
     "output_type": "stream",
     "text": [
      "Epoch 67/300: 100%|██████████| 48/48 [00:00<00:00, 81.02it/s, loss=0.175] \n",
      "\n"
     ]
    },
    {
     "name": "stdout",
     "output_type": "stream",
     "text": [
      "Epoch [67/300]\n",
      "Training Loss: 0.6741\n",
      "Validation Loss: 0.9705\n",
      "Test Accuracy: 69.44%\n",
      "Best Accuracy: 79.51%\n",
      "--------------------------------------------------\n"
     ]
    },
    {
     "name": "stderr",
     "output_type": "stream",
     "text": [
      "Epoch 68/300: 100%|██████████| 48/48 [00:00<00:00, 80.59it/s, loss=1.4]   \n",
      "\n"
     ]
    },
    {
     "name": "stdout",
     "output_type": "stream",
     "text": [
      "Epoch [68/300]\n",
      "Training Loss: 0.6057\n",
      "Validation Loss: 0.9222\n",
      "Test Accuracy: 72.22%\n",
      "Best Accuracy: 79.51%\n",
      "--------------------------------------------------\n"
     ]
    },
    {
     "name": "stderr",
     "output_type": "stream",
     "text": [
      "Epoch 69/300: 100%|██████████| 48/48 [00:00<00:00, 80.99it/s, loss=0.541]\n",
      "\n"
     ]
    },
    {
     "name": "stdout",
     "output_type": "stream",
     "text": [
      "Epoch [69/300]\n",
      "Training Loss: 0.7266\n",
      "Validation Loss: 0.8631\n",
      "Test Accuracy: 76.39%\n",
      "Best Accuracy: 79.51%\n",
      "--------------------------------------------------\n"
     ]
    },
    {
     "name": "stderr",
     "output_type": "stream",
     "text": [
      "Epoch 70/300: 100%|██████████| 48/48 [00:00<00:00, 76.31it/s, loss=0.386]\n",
      "\n"
     ]
    },
    {
     "name": "stdout",
     "output_type": "stream",
     "text": [
      "Epoch [70/300]\n",
      "Training Loss: 0.7323\n",
      "Validation Loss: 0.7594\n",
      "Test Accuracy: 78.12%\n",
      "Best Accuracy: 79.51%\n",
      "--------------------------------------------------\n"
     ]
    },
    {
     "name": "stderr",
     "output_type": "stream",
     "text": [
      "Epoch 71/300: 100%|██████████| 48/48 [00:00<00:00, 81.73it/s, loss=0.184]\n",
      "Epoch 71/300: 100%|██████████| 48/48 [00:00<00:00, 81.73it/s, loss=0.184]\n"
     ]
    },
    {
     "name": "stdout",
     "output_type": "stream",
     "text": [
      "Epoch [71/300]\n",
      "Training Loss: 0.7419\n",
      "Validation Loss: 0.8165\n",
      "Test Accuracy: 75.35%\n",
      "Best Accuracy: 79.51%\n",
      "--------------------------------------------------\n"
     ]
    },
    {
     "name": "stderr",
     "output_type": "stream",
     "text": [
      "Epoch 72/300: 100%|██████████| 48/48 [00:00<00:00, 76.38it/s, loss=0.206] \n",
      "\n"
     ]
    },
    {
     "name": "stdout",
     "output_type": "stream",
     "text": [
      "Epoch [72/300]\n",
      "Training Loss: 0.4688\n",
      "Validation Loss: 0.9276\n",
      "Test Accuracy: 76.04%\n",
      "Best Accuracy: 79.51%\n",
      "--------------------------------------------------\n"
     ]
    },
    {
     "name": "stderr",
     "output_type": "stream",
     "text": [
      "Epoch 73/300: 100%|██████████| 48/48 [00:00<00:00, 76.74it/s, loss=0.193]\n",
      "\n"
     ]
    },
    {
     "name": "stdout",
     "output_type": "stream",
     "text": [
      "Epoch [73/300]\n",
      "Training Loss: 0.7044\n",
      "Validation Loss: 0.8620\n",
      "Test Accuracy: 74.65%\n",
      "Best Accuracy: 79.51%\n",
      "--------------------------------------------------\n"
     ]
    },
    {
     "name": "stderr",
     "output_type": "stream",
     "text": [
      "Epoch 74/300: 100%|██████████| 48/48 [00:00<00:00, 68.54it/s, loss=0.186]\n",
      "\n"
     ]
    },
    {
     "name": "stdout",
     "output_type": "stream",
     "text": [
      "Epoch [74/300]\n",
      "Training Loss: 0.8427\n",
      "Validation Loss: 0.8442\n",
      "Test Accuracy: 73.26%\n",
      "Best Accuracy: 79.51%\n",
      "--------------------------------------------------\n"
     ]
    },
    {
     "name": "stderr",
     "output_type": "stream",
     "text": [
      "Epoch 75/300: 100%|██████████| 48/48 [00:00<00:00, 73.60it/s, loss=0.7]  \n",
      "\n"
     ]
    },
    {
     "name": "stdout",
     "output_type": "stream",
     "text": [
      "Epoch [75/300]\n",
      "Training Loss: 0.7124\n",
      "Validation Loss: 0.9041\n",
      "Test Accuracy: 73.96%\n",
      "Best Accuracy: 79.51%\n",
      "--------------------------------------------------\n"
     ]
    },
    {
     "name": "stderr",
     "output_type": "stream",
     "text": [
      "Epoch 76/300: 100%|██████████| 48/48 [00:00<00:00, 69.99it/s, loss=0.567]\n",
      "\n"
     ]
    },
    {
     "name": "stdout",
     "output_type": "stream",
     "text": [
      "Epoch [76/300]\n",
      "Training Loss: 0.7992\n",
      "Validation Loss: 1.1139\n",
      "Test Accuracy: 68.75%\n",
      "Best Accuracy: 79.51%\n",
      "--------------------------------------------------\n"
     ]
    },
    {
     "name": "stderr",
     "output_type": "stream",
     "text": [
      "Epoch 77/300: 100%|██████████| 48/48 [00:00<00:00, 64.32it/s, loss=1.58]  \n",
      "\n"
     ]
    },
    {
     "name": "stdout",
     "output_type": "stream",
     "text": [
      "Epoch [77/300]\n",
      "Training Loss: 0.5135\n",
      "Validation Loss: 1.0846\n",
      "Test Accuracy: 70.14%\n",
      "Best Accuracy: 79.51%\n",
      "--------------------------------------------------\n"
     ]
    },
    {
     "name": "stderr",
     "output_type": "stream",
     "text": [
      "Epoch 78/300: 100%|██████████| 48/48 [00:00<00:00, 67.58it/s, loss=0.351]\n",
      "\n"
     ]
    },
    {
     "name": "stdout",
     "output_type": "stream",
     "text": [
      "Epoch [78/300]\n",
      "Training Loss: 0.5975\n",
      "Validation Loss: 0.9976\n",
      "Test Accuracy: 72.22%\n",
      "Best Accuracy: 79.51%\n",
      "--------------------------------------------------\n"
     ]
    },
    {
     "name": "stderr",
     "output_type": "stream",
     "text": [
      "Epoch 79/300: 100%|██████████| 48/48 [00:00<00:00, 66.48it/s, loss=0.33]  \n",
      "\n"
     ]
    },
    {
     "name": "stdout",
     "output_type": "stream",
     "text": [
      "Epoch [79/300]\n",
      "Training Loss: 0.7014\n",
      "Validation Loss: 0.8772\n",
      "Test Accuracy: 74.65%\n",
      "Best Accuracy: 79.51%\n",
      "--------------------------------------------------\n"
     ]
    },
    {
     "name": "stderr",
     "output_type": "stream",
     "text": [
      "Epoch 80/300: 100%|██████████| 48/48 [00:00<00:00, 58.55it/s, loss=0.717] \n",
      "\n"
     ]
    },
    {
     "name": "stdout",
     "output_type": "stream",
     "text": [
      "Epoch [80/300]\n",
      "Training Loss: 0.7375\n",
      "Validation Loss: 0.7974\n",
      "Test Accuracy: 76.74%\n",
      "Best Accuracy: 79.51%\n",
      "--------------------------------------------------\n"
     ]
    },
    {
     "name": "stderr",
     "output_type": "stream",
     "text": [
      "Epoch 81/300: 100%|██████████| 48/48 [00:00<00:00, 63.27it/s, loss=0.744] \n",
      "\n"
     ]
    },
    {
     "name": "stdout",
     "output_type": "stream",
     "text": [
      "Epoch [81/300]\n",
      "Training Loss: 0.5567\n",
      "Validation Loss: 1.2337\n",
      "Test Accuracy: 66.32%\n",
      "Best Accuracy: 79.51%\n",
      "--------------------------------------------------\n"
     ]
    },
    {
     "name": "stderr",
     "output_type": "stream",
     "text": [
      "Epoch 82/300: 100%|██████████| 48/48 [00:00<00:00, 69.67it/s, loss=0.648] \n",
      "\n"
     ]
    },
    {
     "name": "stdout",
     "output_type": "stream",
     "text": [
      "Epoch [82/300]\n",
      "Training Loss: 0.6671\n",
      "Validation Loss: 0.9392\n",
      "Test Accuracy: 72.22%\n",
      "Best Accuracy: 79.51%\n",
      "--------------------------------------------------\n"
     ]
    },
    {
     "name": "stderr",
     "output_type": "stream",
     "text": [
      "Epoch 83/300: 100%|██████████| 48/48 [00:00<00:00, 63.22it/s, loss=1.53] \n",
      "\n"
     ]
    },
    {
     "name": "stdout",
     "output_type": "stream",
     "text": [
      "Epoch [83/300]\n",
      "Training Loss: 0.6857\n",
      "Validation Loss: 0.8099\n",
      "Test Accuracy: 77.78%\n",
      "Best Accuracy: 79.51%\n",
      "--------------------------------------------------\n"
     ]
    },
    {
     "name": "stderr",
     "output_type": "stream",
     "text": [
      "Epoch 84/300: 100%|██████████| 48/48 [00:00<00:00, 75.02it/s, loss=0.549] \n",
      "\n"
     ]
    },
    {
     "name": "stdout",
     "output_type": "stream",
     "text": [
      "Epoch [84/300]\n",
      "Training Loss: 0.5911\n",
      "Validation Loss: 0.7971\n",
      "Test Accuracy: 78.82%\n",
      "Best Accuracy: 79.51%\n",
      "--------------------------------------------------\n"
     ]
    },
    {
     "name": "stderr",
     "output_type": "stream",
     "text": [
      "Epoch 85/300: 100%|██████████| 48/48 [00:00<00:00, 72.05it/s, loss=0.282]\n",
      "\n"
     ]
    },
    {
     "name": "stdout",
     "output_type": "stream",
     "text": [
      "Epoch [85/300]\n",
      "Training Loss: 0.8277\n",
      "Validation Loss: 0.7295\n",
      "Test Accuracy: 76.04%\n",
      "Best Accuracy: 79.51%\n",
      "--------------------------------------------------\n"
     ]
    },
    {
     "name": "stderr",
     "output_type": "stream",
     "text": [
      "Epoch 86/300: 100%|██████████| 48/48 [00:00<00:00, 68.12it/s, loss=1.72] \n",
      "\n"
     ]
    },
    {
     "name": "stdout",
     "output_type": "stream",
     "text": [
      "Epoch [86/300]\n",
      "Training Loss: 0.6751\n",
      "Validation Loss: 0.8883\n",
      "Test Accuracy: 74.65%\n",
      "Best Accuracy: 79.51%\n",
      "--------------------------------------------------\n"
     ]
    },
    {
     "name": "stderr",
     "output_type": "stream",
     "text": [
      "Epoch 87/300: 100%|██████████| 48/48 [00:00<00:00, 73.30it/s, loss=0.651] \n",
      "\n"
     ]
    },
    {
     "name": "stdout",
     "output_type": "stream",
     "text": [
      "Epoch [87/300]\n",
      "Training Loss: 0.6824\n",
      "Validation Loss: 0.9147\n",
      "Test Accuracy: 76.39%\n",
      "Best Accuracy: 79.51%\n",
      "--------------------------------------------------\n"
     ]
    },
    {
     "name": "stderr",
     "output_type": "stream",
     "text": [
      "Epoch 88/300: 100%|██████████| 48/48 [00:00<00:00, 67.89it/s, loss=0.533] \n",
      "\n"
     ]
    },
    {
     "name": "stdout",
     "output_type": "stream",
     "text": [
      "Epoch [88/300]\n",
      "Training Loss: 0.7118\n",
      "Validation Loss: 0.8370\n",
      "Test Accuracy: 77.08%\n",
      "Best Accuracy: 79.51%\n",
      "--------------------------------------------------\n"
     ]
    },
    {
     "name": "stderr",
     "output_type": "stream",
     "text": [
      "Epoch 89/300: 100%|██████████| 48/48 [00:00<00:00, 72.94it/s, loss=0.173] \n",
      "\n"
     ]
    },
    {
     "name": "stdout",
     "output_type": "stream",
     "text": [
      "Epoch [89/300]\n",
      "Training Loss: 0.7820\n",
      "Validation Loss: 0.9465\n",
      "Test Accuracy: 74.31%\n",
      "Best Accuracy: 79.51%\n",
      "--------------------------------------------------\n"
     ]
    },
    {
     "name": "stderr",
     "output_type": "stream",
     "text": [
      "Epoch 90/300: 100%|██████████| 48/48 [00:00<00:00, 67.17it/s, loss=0.912] \n",
      "\n"
     ]
    },
    {
     "name": "stdout",
     "output_type": "stream",
     "text": [
      "Epoch [90/300]\n",
      "Training Loss: 0.5962\n",
      "Validation Loss: 0.9154\n",
      "Test Accuracy: 72.22%\n",
      "Best Accuracy: 79.51%\n",
      "--------------------------------------------------\n"
     ]
    },
    {
     "name": "stderr",
     "output_type": "stream",
     "text": [
      "Epoch 91/300: 100%|██████████| 48/48 [00:00<00:00, 72.39it/s, loss=0.48] \n",
      "\n"
     ]
    },
    {
     "name": "stdout",
     "output_type": "stream",
     "text": [
      "Epoch [91/300]\n",
      "Training Loss: 0.7243\n",
      "Validation Loss: 1.1023\n",
      "Test Accuracy: 69.10%\n",
      "Best Accuracy: 79.51%\n",
      "--------------------------------------------------\n"
     ]
    },
    {
     "name": "stderr",
     "output_type": "stream",
     "text": [
      "Epoch 92/300: 100%|██████████| 48/48 [00:00<00:00, 69.62it/s, loss=0.294] \n",
      "\n"
     ]
    },
    {
     "name": "stdout",
     "output_type": "stream",
     "text": [
      "Epoch [92/300]\n",
      "Training Loss: 0.7861\n",
      "Validation Loss: 0.9486\n",
      "Test Accuracy: 73.61%\n",
      "Best Accuracy: 79.51%\n",
      "--------------------------------------------------\n"
     ]
    },
    {
     "name": "stderr",
     "output_type": "stream",
     "text": [
      "Epoch 93/300: 100%|██████████| 48/48 [00:00<00:00, 77.91it/s, loss=0.0992]\n",
      "\n"
     ]
    },
    {
     "name": "stdout",
     "output_type": "stream",
     "text": [
      "Epoch [93/300]\n",
      "Training Loss: 0.5874\n",
      "Validation Loss: 0.8436\n",
      "Test Accuracy: 78.82%\n",
      "Best Accuracy: 79.51%\n",
      "--------------------------------------------------\n"
     ]
    },
    {
     "name": "stderr",
     "output_type": "stream",
     "text": [
      "Epoch 94/300: 100%|██████████| 48/48 [00:00<00:00, 73.54it/s, loss=0.504] \n",
      "\n"
     ]
    },
    {
     "name": "stdout",
     "output_type": "stream",
     "text": [
      "Epoch [94/300]\n",
      "Training Loss: 0.6924\n",
      "Validation Loss: 0.8302\n",
      "Test Accuracy: 76.74%\n",
      "Best Accuracy: 79.51%\n",
      "--------------------------------------------------\n"
     ]
    },
    {
     "name": "stderr",
     "output_type": "stream",
     "text": [
      "Epoch 95/300: 100%|██████████| 48/48 [00:00<00:00, 78.51it/s, loss=0.449] \n",
      "\n"
     ]
    },
    {
     "name": "stdout",
     "output_type": "stream",
     "text": [
      "Epoch [95/300]\n",
      "Training Loss: 0.7054\n",
      "Validation Loss: 0.7657\n",
      "Test Accuracy: 77.78%\n",
      "Best Accuracy: 79.51%\n",
      "--------------------------------------------------\n"
     ]
    },
    {
     "name": "stderr",
     "output_type": "stream",
     "text": [
      "Epoch 96/300: 100%|██████████| 48/48 [00:00<00:00, 73.33it/s, loss=0.41]  \n",
      "\n"
     ]
    },
    {
     "name": "stdout",
     "output_type": "stream",
     "text": [
      "Epoch [96/300]\n",
      "Training Loss: 0.8028\n",
      "Validation Loss: 0.8417\n",
      "Test Accuracy: 73.61%\n",
      "Best Accuracy: 79.51%\n",
      "--------------------------------------------------\n"
     ]
    },
    {
     "name": "stderr",
     "output_type": "stream",
     "text": [
      "Epoch 97/300: 100%|██████████| 48/48 [00:00<00:00, 74.43it/s, loss=0.392] \n",
      "\n"
     ]
    },
    {
     "name": "stdout",
     "output_type": "stream",
     "text": [
      "Epoch [97/300]\n",
      "Training Loss: 0.6884\n",
      "Validation Loss: 0.9050\n",
      "Test Accuracy: 75.69%\n",
      "Best Accuracy: 79.51%\n",
      "--------------------------------------------------\n"
     ]
    },
    {
     "name": "stderr",
     "output_type": "stream",
     "text": [
      "Epoch 98/300: 100%|██████████| 48/48 [00:00<00:00, 78.91it/s, loss=0.827] \n",
      "\n"
     ]
    },
    {
     "name": "stdout",
     "output_type": "stream",
     "text": [
      "Epoch [98/300]\n",
      "Training Loss: 0.6758\n",
      "Validation Loss: 0.8328\n",
      "Test Accuracy: 75.35%\n",
      "Best Accuracy: 79.51%\n",
      "--------------------------------------------------\n"
     ]
    },
    {
     "name": "stderr",
     "output_type": "stream",
     "text": [
      "Epoch 99/300: 100%|██████████| 48/48 [00:00<00:00, 72.86it/s, loss=0.606] \n",
      "\n"
     ]
    },
    {
     "name": "stdout",
     "output_type": "stream",
     "text": [
      "Epoch [99/300]\n",
      "Training Loss: 0.6517\n",
      "Validation Loss: 0.8271\n",
      "Test Accuracy: 79.51%\n",
      "Best Accuracy: 79.51%\n",
      "--------------------------------------------------\n"
     ]
    },
    {
     "name": "stderr",
     "output_type": "stream",
     "text": [
      "Epoch 100/300: 100%|██████████| 48/48 [00:00<00:00, 77.94it/s, loss=1.91]  \n",
      "\n"
     ]
    },
    {
     "name": "stdout",
     "output_type": "stream",
     "text": [
      "Epoch [100/300]\n",
      "Training Loss: 0.6665\n",
      "Validation Loss: 0.8526\n",
      "Test Accuracy: 75.69%\n",
      "Best Accuracy: 79.51%\n",
      "--------------------------------------------------\n"
     ]
    },
    {
     "name": "stderr",
     "output_type": "stream",
     "text": [
      "Epoch 101/300: 100%|██████████| 48/48 [00:00<00:00, 66.20it/s, loss=2.26]  \n",
      "\n"
     ]
    },
    {
     "name": "stdout",
     "output_type": "stream",
     "text": [
      "Epoch [101/300]\n",
      "Training Loss: 0.7927\n",
      "Validation Loss: 0.9424\n",
      "Test Accuracy: 75.00%\n",
      "Best Accuracy: 79.51%\n",
      "--------------------------------------------------\n"
     ]
    },
    {
     "name": "stderr",
     "output_type": "stream",
     "text": [
      "Epoch 102/300: 100%|██████████| 48/48 [00:00<00:00, 73.53it/s, loss=0.298] \n",
      "\n"
     ]
    },
    {
     "name": "stdout",
     "output_type": "stream",
     "text": [
      "Epoch [102/300]\n",
      "Training Loss: 0.6043\n",
      "Validation Loss: 1.0368\n",
      "Test Accuracy: 73.61%\n",
      "Best Accuracy: 79.51%\n",
      "--------------------------------------------------\n"
     ]
    },
    {
     "name": "stderr",
     "output_type": "stream",
     "text": [
      "Epoch 103/300: 100%|██████████| 48/48 [00:00<00:00, 76.66it/s, loss=1.04]  \n",
      "\n"
     ]
    },
    {
     "name": "stdout",
     "output_type": "stream",
     "text": [
      "Epoch [103/300]\n",
      "Training Loss: 0.8841\n",
      "Validation Loss: 0.8834\n",
      "Test Accuracy: 74.31%\n",
      "Best Accuracy: 79.51%\n",
      "--------------------------------------------------\n"
     ]
    },
    {
     "name": "stderr",
     "output_type": "stream",
     "text": [
      "Epoch 104/300: 100%|██████████| 48/48 [00:00<00:00, 73.55it/s, loss=1.6]  \n",
      "\n"
     ]
    },
    {
     "name": "stdout",
     "output_type": "stream",
     "text": [
      "Epoch [104/300]\n",
      "Training Loss: 0.7776\n",
      "Validation Loss: 0.9465\n",
      "Test Accuracy: 70.83%\n",
      "Best Accuracy: 79.51%\n",
      "--------------------------------------------------\n"
     ]
    },
    {
     "name": "stderr",
     "output_type": "stream",
     "text": [
      "Epoch 105/300: 100%|██████████| 48/48 [00:00<00:00, 77.18it/s, loss=0.175] \n",
      "\n"
     ]
    },
    {
     "name": "stdout",
     "output_type": "stream",
     "text": [
      "Epoch [105/300]\n",
      "Training Loss: 0.7513\n",
      "Validation Loss: 0.7111\n",
      "Test Accuracy: 80.90%\n",
      "Best Accuracy: 80.90%\n",
      "--------------------------------------------------\n"
     ]
    },
    {
     "name": "stderr",
     "output_type": "stream",
     "text": [
      "Epoch 106/300: 100%|██████████| 48/48 [00:00<00:00, 73.39it/s, loss=0.178] \n",
      "\n"
     ]
    },
    {
     "name": "stdout",
     "output_type": "stream",
     "text": [
      "Epoch [106/300]\n",
      "Training Loss: 0.5775\n",
      "Validation Loss: 0.8537\n",
      "Test Accuracy: 76.04%\n",
      "Best Accuracy: 80.90%\n",
      "--------------------------------------------------\n"
     ]
    },
    {
     "name": "stderr",
     "output_type": "stream",
     "text": [
      "Epoch 107/300: 100%|██████████| 48/48 [00:00<00:00, 70.89it/s, loss=0.126] \n",
      "\n"
     ]
    },
    {
     "name": "stdout",
     "output_type": "stream",
     "text": [
      "Epoch [107/300]\n",
      "Training Loss: 0.6583\n",
      "Validation Loss: 0.8922\n",
      "Test Accuracy: 72.57%\n",
      "Best Accuracy: 80.90%\n",
      "--------------------------------------------------\n"
     ]
    },
    {
     "name": "stderr",
     "output_type": "stream",
     "text": [
      "Epoch 108/300: 100%|██████████| 48/48 [00:00<00:00, 80.15it/s, loss=2.35]  \n",
      "\n"
     ]
    },
    {
     "name": "stdout",
     "output_type": "stream",
     "text": [
      "Epoch [108/300]\n",
      "Training Loss: 0.7372\n",
      "Validation Loss: 0.9257\n",
      "Test Accuracy: 76.74%\n",
      "Best Accuracy: 80.90%\n",
      "--------------------------------------------------\n"
     ]
    },
    {
     "name": "stderr",
     "output_type": "stream",
     "text": [
      "Epoch 109/300: 100%|██████████| 48/48 [00:00<00:00, 75.49it/s, loss=0.261] \n",
      "\n"
     ]
    },
    {
     "name": "stdout",
     "output_type": "stream",
     "text": [
      "Epoch [109/300]\n",
      "Training Loss: 0.5596\n",
      "Validation Loss: 0.9789\n",
      "Test Accuracy: 72.92%\n",
      "Best Accuracy: 80.90%\n",
      "--------------------------------------------------\n"
     ]
    },
    {
     "name": "stderr",
     "output_type": "stream",
     "text": [
      "Epoch 110/300: 100%|██████████| 48/48 [00:00<00:00, 78.42it/s, loss=0.722] \n",
      "\n"
     ]
    },
    {
     "name": "stdout",
     "output_type": "stream",
     "text": [
      "Epoch [110/300]\n",
      "Training Loss: 0.5438\n",
      "Validation Loss: 0.8343\n",
      "Test Accuracy: 78.47%\n",
      "Best Accuracy: 80.90%\n",
      "--------------------------------------------------\n"
     ]
    },
    {
     "name": "stderr",
     "output_type": "stream",
     "text": [
      "Epoch 111/300: 100%|██████████| 48/48 [00:00<00:00, 73.81it/s, loss=2.04]  \n",
      "\n"
     ]
    },
    {
     "name": "stdout",
     "output_type": "stream",
     "text": [
      "Epoch [111/300]\n",
      "Training Loss: 0.6576\n",
      "Validation Loss: 0.8571\n",
      "Test Accuracy: 77.78%\n",
      "Best Accuracy: 80.90%\n",
      "--------------------------------------------------\n"
     ]
    },
    {
     "name": "stderr",
     "output_type": "stream",
     "text": [
      "Epoch 112/300: 100%|██████████| 48/48 [00:00<00:00, 74.27it/s, loss=1.26]  \n",
      "\n"
     ]
    },
    {
     "name": "stdout",
     "output_type": "stream",
     "text": [
      "Epoch [112/300]\n",
      "Training Loss: 0.5958\n",
      "Validation Loss: 1.0042\n",
      "Test Accuracy: 75.35%\n",
      "Best Accuracy: 80.90%\n",
      "--------------------------------------------------\n"
     ]
    },
    {
     "name": "stderr",
     "output_type": "stream",
     "text": [
      "Epoch 113/300: 100%|██████████| 48/48 [00:00<00:00, 79.22it/s, loss=0.274] \n",
      "\n"
     ]
    },
    {
     "name": "stdout",
     "output_type": "stream",
     "text": [
      "Epoch [113/300]\n",
      "Training Loss: 0.5387\n",
      "Validation Loss: 0.9683\n",
      "Test Accuracy: 73.96%\n",
      "Best Accuracy: 80.90%\n",
      "--------------------------------------------------\n"
     ]
    },
    {
     "name": "stderr",
     "output_type": "stream",
     "text": [
      "Epoch 114/300: 100%|██████████| 48/48 [00:00<00:00, 68.27it/s, loss=0.676] \n",
      "\n"
     ]
    },
    {
     "name": "stdout",
     "output_type": "stream",
     "text": [
      "Epoch [114/300]\n",
      "Training Loss: 0.6823\n",
      "Validation Loss: 0.8783\n",
      "Test Accuracy: 78.12%\n",
      "Best Accuracy: 80.90%\n",
      "--------------------------------------------------\n"
     ]
    },
    {
     "name": "stderr",
     "output_type": "stream",
     "text": [
      "Epoch 115/300: 100%|██████████| 48/48 [00:00<00:00, 73.56it/s, loss=0.827] \n",
      "\n"
     ]
    },
    {
     "name": "stdout",
     "output_type": "stream",
     "text": [
      "Epoch [115/300]\n",
      "Training Loss: 0.7386\n",
      "Validation Loss: 0.8566\n",
      "Test Accuracy: 73.96%\n",
      "Best Accuracy: 80.90%\n",
      "--------------------------------------------------\n"
     ]
    },
    {
     "name": "stderr",
     "output_type": "stream",
     "text": [
      "Epoch 116/300: 100%|██████████| 48/48 [00:00<00:00, 78.94it/s, loss=0.136] \n",
      "\n"
     ]
    },
    {
     "name": "stdout",
     "output_type": "stream",
     "text": [
      "Epoch [116/300]\n",
      "Training Loss: 0.6193\n",
      "Validation Loss: 0.8142\n",
      "Test Accuracy: 78.82%\n",
      "Best Accuracy: 80.90%\n",
      "--------------------------------------------------\n"
     ]
    },
    {
     "name": "stderr",
     "output_type": "stream",
     "text": [
      "Epoch 117/300: 100%|██████████| 48/48 [00:00<00:00, 71.15it/s, loss=0.614] \n",
      "\n"
     ]
    },
    {
     "name": "stdout",
     "output_type": "stream",
     "text": [
      "Epoch [117/300]\n",
      "Training Loss: 0.5970\n",
      "Validation Loss: 0.8509\n",
      "Test Accuracy: 77.78%\n",
      "Best Accuracy: 80.90%\n",
      "--------------------------------------------------\n"
     ]
    },
    {
     "name": "stderr",
     "output_type": "stream",
     "text": [
      "Epoch 118/300: 100%|██████████| 48/48 [00:00<00:00, 67.19it/s, loss=1.97]  \n",
      "\n"
     ]
    },
    {
     "name": "stdout",
     "output_type": "stream",
     "text": [
      "Epoch [118/300]\n",
      "Training Loss: 0.5559\n",
      "Validation Loss: 0.8254\n",
      "Test Accuracy: 78.12%\n",
      "Best Accuracy: 80.90%\n",
      "--------------------------------------------------\n"
     ]
    },
    {
     "name": "stderr",
     "output_type": "stream",
     "text": [
      "Epoch 119/300: 100%|██████████| 48/48 [00:00<00:00, 65.25it/s, loss=0.0823]\n",
      "\n"
     ]
    },
    {
     "name": "stdout",
     "output_type": "stream",
     "text": [
      "Epoch [119/300]\n",
      "Training Loss: 0.6786\n",
      "Validation Loss: 0.9011\n",
      "Test Accuracy: 76.04%\n",
      "Best Accuracy: 80.90%\n",
      "--------------------------------------------------\n"
     ]
    },
    {
     "name": "stderr",
     "output_type": "stream",
     "text": [
      "Epoch 120/300: 100%|██████████| 48/48 [00:00<00:00, 68.32it/s, loss=0.314] \n",
      "\n"
     ]
    },
    {
     "name": "stdout",
     "output_type": "stream",
     "text": [
      "Epoch [120/300]\n",
      "Training Loss: 0.7232\n",
      "Validation Loss: 0.8701\n",
      "Test Accuracy: 75.69%\n",
      "Best Accuracy: 80.90%\n",
      "--------------------------------------------------\n"
     ]
    },
    {
     "name": "stderr",
     "output_type": "stream",
     "text": [
      "Epoch 121/300: 100%|██████████| 48/48 [00:00<00:00, 69.16it/s, loss=0.271] \n",
      "\n"
     ]
    },
    {
     "name": "stdout",
     "output_type": "stream",
     "text": [
      "Epoch [121/300]\n",
      "Training Loss: 0.5463\n",
      "Validation Loss: 0.7673\n",
      "Test Accuracy: 79.51%\n",
      "Best Accuracy: 80.90%\n",
      "--------------------------------------------------\n"
     ]
    },
    {
     "name": "stderr",
     "output_type": "stream",
     "text": [
      "Epoch 122/300: 100%|██████████| 48/48 [00:00<00:00, 73.59it/s, loss=0.47]  \n",
      "\n"
     ]
    },
    {
     "name": "stdout",
     "output_type": "stream",
     "text": [
      "Epoch [122/300]\n",
      "Training Loss: 0.7105\n",
      "Validation Loss: 0.7802\n",
      "Test Accuracy: 78.82%\n",
      "Best Accuracy: 80.90%\n",
      "--------------------------------------------------\n"
     ]
    },
    {
     "name": "stderr",
     "output_type": "stream",
     "text": [
      "Epoch 123/300: 100%|██████████| 48/48 [00:00<00:00, 68.97it/s, loss=0.332] \n",
      "Epoch 123/300: 100%|██████████| 48/48 [00:00<00:00, 68.97it/s, loss=0.332]\n"
     ]
    },
    {
     "name": "stdout",
     "output_type": "stream",
     "text": [
      "Epoch [123/300]\n",
      "Training Loss: 0.5454\n",
      "Validation Loss: 0.8278\n",
      "Test Accuracy: 78.82%\n",
      "Best Accuracy: 80.90%\n",
      "--------------------------------------------------\n"
     ]
    },
    {
     "name": "stderr",
     "output_type": "stream",
     "text": [
      "Epoch 124/300: 100%|██████████| 48/48 [00:00<00:00, 79.49it/s, loss=0.461] \n",
      "Epoch 124/300: 100%|██████████| 48/48 [00:00<00:00, 79.49it/s, loss=0.461]\n"
     ]
    },
    {
     "name": "stdout",
     "output_type": "stream",
     "text": [
      "Epoch [124/300]\n",
      "Training Loss: 0.8893\n",
      "Validation Loss: 0.8898\n",
      "Test Accuracy: 75.00%\n",
      "Best Accuracy: 80.90%\n",
      "--------------------------------------------------\n"
     ]
    },
    {
     "name": "stderr",
     "output_type": "stream",
     "text": [
      "Epoch 125/300: 100%|██████████| 48/48 [00:00<00:00, 74.44it/s, loss=0.167] \n",
      "\n"
     ]
    },
    {
     "name": "stdout",
     "output_type": "stream",
     "text": [
      "Epoch [125/300]\n",
      "Training Loss: 0.7722\n",
      "Validation Loss: 0.9403\n",
      "Test Accuracy: 73.26%\n",
      "Best Accuracy: 80.90%\n",
      "--------------------------------------------------\n"
     ]
    },
    {
     "name": "stderr",
     "output_type": "stream",
     "text": [
      "Epoch 126/300: 100%|██████████| 48/48 [00:00<00:00, 73.21it/s, loss=1.54]  \n",
      "\n"
     ]
    },
    {
     "name": "stdout",
     "output_type": "stream",
     "text": [
      "Epoch [126/300]\n",
      "Training Loss: 0.8041\n",
      "Validation Loss: 0.8306\n",
      "Test Accuracy: 73.96%\n",
      "Best Accuracy: 80.90%\n",
      "--------------------------------------------------\n"
     ]
    },
    {
     "name": "stderr",
     "output_type": "stream",
     "text": [
      "Epoch 127/300: 100%|██████████| 48/48 [00:00<00:00, 63.08it/s, loss=1.35]  \n",
      "\n"
     ]
    },
    {
     "name": "stdout",
     "output_type": "stream",
     "text": [
      "Epoch [127/300]\n",
      "Training Loss: 0.5167\n",
      "Validation Loss: 0.8069\n",
      "Test Accuracy: 76.74%\n",
      "Best Accuracy: 80.90%\n",
      "--------------------------------------------------\n"
     ]
    },
    {
     "name": "stderr",
     "output_type": "stream",
     "text": [
      "Epoch 128/300: 100%|██████████| 48/48 [00:00<00:00, 78.90it/s, loss=0.311] \n",
      "\n"
     ]
    },
    {
     "name": "stdout",
     "output_type": "stream",
     "text": [
      "Epoch [128/300]\n",
      "Training Loss: 0.6497\n",
      "Validation Loss: 0.9378\n",
      "Test Accuracy: 74.65%\n",
      "Best Accuracy: 80.90%\n",
      "--------------------------------------------------\n"
     ]
    },
    {
     "name": "stderr",
     "output_type": "stream",
     "text": [
      "Epoch 129/300: 100%|██████████| 48/48 [00:00<00:00, 71.99it/s, loss=0.16]  \n",
      "\n"
     ]
    },
    {
     "name": "stdout",
     "output_type": "stream",
     "text": [
      "Epoch [129/300]\n",
      "Training Loss: 0.5252\n",
      "Validation Loss: 0.8869\n",
      "Test Accuracy: 77.08%\n",
      "Best Accuracy: 80.90%\n",
      "--------------------------------------------------\n"
     ]
    },
    {
     "name": "stderr",
     "output_type": "stream",
     "text": [
      "Epoch 130/300: 100%|██████████| 48/48 [00:00<00:00, 78.72it/s, loss=0.473] \n",
      "\n"
     ]
    },
    {
     "name": "stdout",
     "output_type": "stream",
     "text": [
      "Epoch [130/300]\n",
      "Training Loss: 0.6140\n",
      "Validation Loss: 0.8241\n",
      "Test Accuracy: 75.35%\n",
      "Best Accuracy: 80.90%\n",
      "--------------------------------------------------\n"
     ]
    },
    {
     "name": "stderr",
     "output_type": "stream",
     "text": [
      "Epoch 131/300: 100%|██████████| 48/48 [00:00<00:00, 72.27it/s, loss=1.46]  \n",
      "\n"
     ]
    },
    {
     "name": "stdout",
     "output_type": "stream",
     "text": [
      "Epoch [131/300]\n",
      "Training Loss: 0.6730\n",
      "Validation Loss: 0.8899\n",
      "Test Accuracy: 75.35%\n",
      "Best Accuracy: 80.90%\n",
      "--------------------------------------------------\n"
     ]
    },
    {
     "name": "stderr",
     "output_type": "stream",
     "text": [
      "Epoch 132/300: 100%|██████████| 48/48 [00:00<00:00, 77.92it/s, loss=0.917] \n",
      "\n"
     ]
    },
    {
     "name": "stdout",
     "output_type": "stream",
     "text": [
      "Epoch [132/300]\n",
      "Training Loss: 0.5498\n",
      "Validation Loss: 0.9976\n",
      "Test Accuracy: 75.69%\n",
      "Best Accuracy: 80.90%\n",
      "--------------------------------------------------\n"
     ]
    },
    {
     "name": "stderr",
     "output_type": "stream",
     "text": [
      "Epoch 133/300: 100%|██████████| 48/48 [00:00<00:00, 72.05it/s, loss=0.145] \n",
      "\n"
     ]
    },
    {
     "name": "stdout",
     "output_type": "stream",
     "text": [
      "Epoch [133/300]\n",
      "Training Loss: 0.6909\n",
      "Validation Loss: 0.8579\n",
      "Test Accuracy: 76.39%\n",
      "Best Accuracy: 80.90%\n",
      "--------------------------------------------------\n"
     ]
    },
    {
     "name": "stderr",
     "output_type": "stream",
     "text": [
      "Epoch 134/300: 100%|██████████| 48/48 [00:00<00:00, 67.86it/s, loss=0.156] \n",
      "\n"
     ]
    },
    {
     "name": "stdout",
     "output_type": "stream",
     "text": [
      "Epoch [134/300]\n",
      "Training Loss: 0.7449\n",
      "Validation Loss: 0.8989\n",
      "Test Accuracy: 75.00%\n",
      "Best Accuracy: 80.90%\n",
      "--------------------------------------------------\n"
     ]
    },
    {
     "name": "stderr",
     "output_type": "stream",
     "text": [
      "Epoch 135/300: 100%|██████████| 48/48 [00:00<00:00, 78.25it/s, loss=0.0883]\n",
      "\n"
     ]
    },
    {
     "name": "stdout",
     "output_type": "stream",
     "text": [
      "Epoch [135/300]\n",
      "Training Loss: 0.5957\n",
      "Validation Loss: 0.9690\n",
      "Test Accuracy: 75.69%\n",
      "Best Accuracy: 80.90%\n",
      "--------------------------------------------------\n"
     ]
    },
    {
     "name": "stderr",
     "output_type": "stream",
     "text": [
      "Epoch 136/300: 100%|██████████| 48/48 [00:00<00:00, 67.20it/s, loss=0.399] \n",
      "\n"
     ]
    },
    {
     "name": "stdout",
     "output_type": "stream",
     "text": [
      "Epoch [136/300]\n",
      "Training Loss: 0.6994\n",
      "Validation Loss: 0.9207\n",
      "Test Accuracy: 75.00%\n",
      "Best Accuracy: 80.90%\n",
      "--------------------------------------------------\n"
     ]
    },
    {
     "name": "stderr",
     "output_type": "stream",
     "text": [
      "Epoch 137/300: 100%|██████████| 48/48 [00:00<00:00, 73.57it/s, loss=0.24]  \n",
      "\n"
     ]
    },
    {
     "name": "stdout",
     "output_type": "stream",
     "text": [
      "Epoch [137/300]\n",
      "Training Loss: 0.6151\n",
      "Validation Loss: 0.9189\n",
      "Test Accuracy: 76.74%\n",
      "Best Accuracy: 80.90%\n",
      "--------------------------------------------------\n"
     ]
    },
    {
     "name": "stderr",
     "output_type": "stream",
     "text": [
      "Epoch 138/300: 100%|██████████| 48/48 [00:00<00:00, 71.90it/s, loss=0.364] \n",
      "\n"
     ]
    },
    {
     "name": "stdout",
     "output_type": "stream",
     "text": [
      "Epoch [138/300]\n",
      "Training Loss: 0.7818\n",
      "Validation Loss: 0.8644\n",
      "Test Accuracy: 76.04%\n",
      "Best Accuracy: 80.90%\n",
      "--------------------------------------------------\n"
     ]
    },
    {
     "name": "stderr",
     "output_type": "stream",
     "text": [
      "Epoch 139/300: 100%|██████████| 48/48 [00:00<00:00, 77.56it/s, loss=0.25]  \n",
      "\n"
     ]
    },
    {
     "name": "stdout",
     "output_type": "stream",
     "text": [
      "Epoch [139/300]\n",
      "Training Loss: 0.5814\n",
      "Validation Loss: 0.8056\n",
      "Test Accuracy: 79.86%\n",
      "Best Accuracy: 80.90%\n",
      "--------------------------------------------------\n"
     ]
    },
    {
     "name": "stderr",
     "output_type": "stream",
     "text": [
      "Epoch 140/300: 100%|██████████| 48/48 [00:00<00:00, 71.76it/s, loss=1.18]  \n",
      "\n"
     ]
    },
    {
     "name": "stdout",
     "output_type": "stream",
     "text": [
      "Epoch [140/300]\n",
      "Training Loss: 0.7988\n",
      "Validation Loss: 0.8493\n",
      "Test Accuracy: 76.74%\n",
      "Best Accuracy: 80.90%\n",
      "--------------------------------------------------\n"
     ]
    },
    {
     "name": "stderr",
     "output_type": "stream",
     "text": [
      "Epoch 141/300: 100%|██████████| 48/48 [00:00<00:00, 71.63it/s, loss=0.178] \n",
      "\n"
     ]
    },
    {
     "name": "stdout",
     "output_type": "stream",
     "text": [
      "Epoch [141/300]\n",
      "Training Loss: 0.5765\n",
      "Validation Loss: 0.8357\n",
      "Test Accuracy: 76.04%\n",
      "Best Accuracy: 80.90%\n",
      "--------------------------------------------------\n"
     ]
    },
    {
     "name": "stderr",
     "output_type": "stream",
     "text": [
      "Epoch 142/300: 100%|██████████| 48/48 [00:00<00:00, 70.61it/s, loss=1.66]  \n",
      "\n"
     ]
    },
    {
     "name": "stdout",
     "output_type": "stream",
     "text": [
      "Epoch [142/300]\n",
      "Training Loss: 0.7498\n",
      "Validation Loss: 0.8670\n",
      "Test Accuracy: 76.04%\n",
      "Best Accuracy: 80.90%\n",
      "--------------------------------------------------\n"
     ]
    },
    {
     "name": "stderr",
     "output_type": "stream",
     "text": [
      "Epoch 143/300: 100%|██████████| 48/48 [00:00<00:00, 68.89it/s, loss=1.57]  \n",
      "\n"
     ]
    },
    {
     "name": "stdout",
     "output_type": "stream",
     "text": [
      "Epoch [143/300]\n",
      "Training Loss: 0.7075\n",
      "Validation Loss: 0.8517\n",
      "Test Accuracy: 75.00%\n",
      "Best Accuracy: 80.90%\n",
      "--------------------------------------------------\n"
     ]
    },
    {
     "name": "stderr",
     "output_type": "stream",
     "text": [
      "Epoch 144/300: 100%|██████████| 48/48 [00:00<00:00, 71.70it/s, loss=0.0576]\n",
      "\n"
     ]
    },
    {
     "name": "stdout",
     "output_type": "stream",
     "text": [
      "Epoch [144/300]\n",
      "Training Loss: 0.6918\n",
      "Validation Loss: 0.7282\n",
      "Test Accuracy: 79.86%\n",
      "Best Accuracy: 80.90%\n",
      "--------------------------------------------------\n"
     ]
    },
    {
     "name": "stderr",
     "output_type": "stream",
     "text": [
      "Epoch 145/300: 100%|██████████| 48/48 [00:00<00:00, 72.74it/s, loss=0.394] \n",
      "\n"
     ]
    },
    {
     "name": "stdout",
     "output_type": "stream",
     "text": [
      "Epoch [145/300]\n",
      "Training Loss: 0.7628\n",
      "Validation Loss: 0.7250\n",
      "Test Accuracy: 79.17%\n",
      "Best Accuracy: 80.90%\n",
      "--------------------------------------------------\n"
     ]
    },
    {
     "name": "stderr",
     "output_type": "stream",
     "text": [
      "Epoch 146/300: 100%|██████████| 48/48 [00:00<00:00, 75.72it/s, loss=0.115] \n",
      "\n"
     ]
    },
    {
     "name": "stdout",
     "output_type": "stream",
     "text": [
      "Epoch [146/300]\n",
      "Training Loss: 0.6706\n",
      "Validation Loss: 0.7228\n",
      "Test Accuracy: 79.17%\n",
      "Best Accuracy: 80.90%\n",
      "--------------------------------------------------\n"
     ]
    },
    {
     "name": "stderr",
     "output_type": "stream",
     "text": [
      "Epoch 147/300: 100%|██████████| 48/48 [00:00<00:00, 68.32it/s, loss=1.22]  \n",
      "\n"
     ]
    },
    {
     "name": "stdout",
     "output_type": "stream",
     "text": [
      "Epoch [147/300]\n",
      "Training Loss: 0.5354\n",
      "Validation Loss: 0.7874\n",
      "Test Accuracy: 80.21%\n",
      "Best Accuracy: 80.90%\n",
      "--------------------------------------------------\n"
     ]
    },
    {
     "name": "stderr",
     "output_type": "stream",
     "text": [
      "Epoch 148/300: 100%|██████████| 48/48 [00:00<00:00, 70.17it/s, loss=0.673] \n",
      "\n"
     ]
    },
    {
     "name": "stdout",
     "output_type": "stream",
     "text": [
      "Epoch [148/300]\n",
      "Training Loss: 0.7581\n",
      "Validation Loss: 0.7364\n",
      "Test Accuracy: 78.12%\n",
      "Best Accuracy: 80.90%\n",
      "--------------------------------------------------\n"
     ]
    },
    {
     "name": "stderr",
     "output_type": "stream",
     "text": [
      "Epoch 149/300: 100%|██████████| 48/48 [00:00<00:00, 58.39it/s, loss=1.56]  \n",
      "\n"
     ]
    },
    {
     "name": "stdout",
     "output_type": "stream",
     "text": [
      "Epoch [149/300]\n",
      "Training Loss: 0.6118\n",
      "Validation Loss: 0.8191\n",
      "Test Accuracy: 78.12%\n",
      "Best Accuracy: 80.90%\n",
      "--------------------------------------------------\n"
     ]
    },
    {
     "name": "stderr",
     "output_type": "stream",
     "text": [
      "Epoch 150/300: 100%|██████████| 48/48 [00:00<00:00, 58.25it/s, loss=1.35]  \n",
      "Epoch 150/300: 100%|██████████| 48/48 [00:00<00:00, 58.25it/s, loss=1.35]  \n"
     ]
    },
    {
     "name": "stdout",
     "output_type": "stream",
     "text": [
      "Epoch [150/300]\n",
      "Training Loss: 0.6394\n",
      "Validation Loss: 0.8315\n",
      "Test Accuracy: 79.86%\n",
      "Best Accuracy: 80.90%\n",
      "--------------------------------------------------\n"
     ]
    },
    {
     "name": "stderr",
     "output_type": "stream",
     "text": [
      "Epoch 151/300: 100%|██████████| 48/48 [00:00<00:00, 70.61it/s, loss=0.234] \n",
      "\n"
     ]
    },
    {
     "name": "stdout",
     "output_type": "stream",
     "text": [
      "Epoch [151/300]\n",
      "Training Loss: 0.6636\n",
      "Validation Loss: 0.8435\n",
      "Test Accuracy: 77.08%\n",
      "Best Accuracy: 80.90%\n",
      "--------------------------------------------------\n"
     ]
    },
    {
     "name": "stderr",
     "output_type": "stream",
     "text": [
      "Epoch 152/300: 100%|██████████| 48/48 [00:00<00:00, 78.50it/s, loss=0.174] \n",
      "\n"
     ]
    },
    {
     "name": "stdout",
     "output_type": "stream",
     "text": [
      "Epoch [152/300]\n",
      "Training Loss: 0.7768\n",
      "Validation Loss: 0.8179\n",
      "Test Accuracy: 77.78%\n",
      "Best Accuracy: 80.90%\n",
      "--------------------------------------------------\n"
     ]
    },
    {
     "name": "stderr",
     "output_type": "stream",
     "text": [
      "Epoch 153/300: 100%|██████████| 48/48 [00:00<00:00, 66.45it/s, loss=1.19]  \n",
      "\n"
     ]
    },
    {
     "name": "stdout",
     "output_type": "stream",
     "text": [
      "Epoch [153/300]\n",
      "Training Loss: 0.5505\n",
      "Validation Loss: 0.9314\n",
      "Test Accuracy: 73.26%\n",
      "Best Accuracy: 80.90%\n",
      "--------------------------------------------------\n"
     ]
    },
    {
     "name": "stderr",
     "output_type": "stream",
     "text": [
      "Epoch 154/300: 100%|██████████| 48/48 [00:00<00:00, 74.17it/s, loss=0.619] \n",
      "\n"
     ]
    },
    {
     "name": "stdout",
     "output_type": "stream",
     "text": [
      "Epoch [154/300]\n",
      "Training Loss: 0.6091\n",
      "Validation Loss: 0.8271\n",
      "Test Accuracy: 78.82%\n",
      "Best Accuracy: 80.90%\n",
      "--------------------------------------------------\n"
     ]
    },
    {
     "name": "stderr",
     "output_type": "stream",
     "text": [
      "Epoch 155/300: 100%|██████████| 48/48 [00:00<00:00, 76.86it/s, loss=0.0822]\n",
      "\n"
     ]
    },
    {
     "name": "stdout",
     "output_type": "stream",
     "text": [
      "Epoch [155/300]\n",
      "Training Loss: 0.5525\n",
      "Validation Loss: 0.8405\n",
      "Test Accuracy: 77.08%\n",
      "Best Accuracy: 80.90%\n",
      "--------------------------------------------------\n"
     ]
    },
    {
     "name": "stderr",
     "output_type": "stream",
     "text": [
      "Epoch 156/300: 100%|██████████| 48/48 [00:00<00:00, 68.94it/s, loss=0.225] \n",
      "\n"
     ]
    },
    {
     "name": "stdout",
     "output_type": "stream",
     "text": [
      "Epoch [156/300]\n",
      "Training Loss: 0.6909\n",
      "Validation Loss: 0.8650\n",
      "Test Accuracy: 76.74%\n",
      "Best Accuracy: 80.90%\n",
      "--------------------------------------------------\n"
     ]
    },
    {
     "name": "stderr",
     "output_type": "stream",
     "text": [
      "Epoch 157/300: 100%|██████████| 48/48 [00:00<00:00, 70.61it/s, loss=0.223] \n",
      "\n"
     ]
    },
    {
     "name": "stdout",
     "output_type": "stream",
     "text": [
      "Epoch [157/300]\n",
      "Training Loss: 0.6465\n",
      "Validation Loss: 0.7753\n",
      "Test Accuracy: 78.82%\n",
      "Best Accuracy: 80.90%\n",
      "--------------------------------------------------\n"
     ]
    },
    {
     "name": "stderr",
     "output_type": "stream",
     "text": [
      "Epoch 158/300: 100%|██████████| 48/48 [00:00<00:00, 76.59it/s, loss=0.113] \n",
      "\n"
     ]
    },
    {
     "name": "stdout",
     "output_type": "stream",
     "text": [
      "Epoch [158/300]\n",
      "Training Loss: 0.5476\n",
      "Validation Loss: 0.7934\n",
      "Test Accuracy: 79.51%\n",
      "Best Accuracy: 80.90%\n",
      "--------------------------------------------------\n"
     ]
    },
    {
     "name": "stderr",
     "output_type": "stream",
     "text": [
      "Epoch 159/300: 100%|██████████| 48/48 [00:00<00:00, 69.80it/s, loss=1.74]  \n",
      "\n"
     ]
    },
    {
     "name": "stdout",
     "output_type": "stream",
     "text": [
      "Epoch [159/300]\n",
      "Training Loss: 0.7253\n",
      "Validation Loss: 0.8348\n",
      "Test Accuracy: 77.08%\n",
      "Best Accuracy: 80.90%\n",
      "--------------------------------------------------\n"
     ]
    },
    {
     "name": "stderr",
     "output_type": "stream",
     "text": [
      "Epoch 160/300: 100%|██████████| 48/48 [00:00<00:00, 67.71it/s, loss=0.658] \n",
      "\n"
     ]
    },
    {
     "name": "stdout",
     "output_type": "stream",
     "text": [
      "Epoch [160/300]\n",
      "Training Loss: 0.5627\n",
      "Validation Loss: 0.7380\n",
      "Test Accuracy: 80.56%\n",
      "Best Accuracy: 80.90%\n",
      "--------------------------------------------------\n"
     ]
    },
    {
     "name": "stderr",
     "output_type": "stream",
     "text": [
      "Epoch 161/300: 100%|██████████| 48/48 [00:00<00:00, 61.67it/s, loss=0.785] \n",
      "\n"
     ]
    },
    {
     "name": "stdout",
     "output_type": "stream",
     "text": [
      "Epoch [161/300]\n",
      "Training Loss: 0.6973\n",
      "Validation Loss: 0.8471\n",
      "Test Accuracy: 77.08%\n",
      "Best Accuracy: 80.90%\n",
      "--------------------------------------------------\n"
     ]
    },
    {
     "name": "stderr",
     "output_type": "stream",
     "text": [
      "Epoch 162/300: 100%|██████████| 48/48 [00:00<00:00, 72.96it/s, loss=1.69]  \n",
      "Epoch 162/300: 100%|██████████| 48/48 [00:00<00:00, 72.96it/s, loss=1.69]\n"
     ]
    },
    {
     "name": "stdout",
     "output_type": "stream",
     "text": [
      "Epoch [162/300]\n",
      "Training Loss: 0.6664\n",
      "Validation Loss: 0.7945\n",
      "Test Accuracy: 79.17%\n",
      "Best Accuracy: 80.90%\n",
      "--------------------------------------------------\n"
     ]
    },
    {
     "name": "stderr",
     "output_type": "stream",
     "text": [
      "Epoch 163/300: 100%|██████████| 48/48 [00:00<00:00, 66.47it/s, loss=0.102] \n",
      "\n"
     ]
    },
    {
     "name": "stdout",
     "output_type": "stream",
     "text": [
      "Epoch [163/300]\n",
      "Training Loss: 0.7093\n",
      "Validation Loss: 0.7805\n",
      "Test Accuracy: 78.12%\n",
      "Best Accuracy: 80.90%\n",
      "--------------------------------------------------\n"
     ]
    },
    {
     "name": "stderr",
     "output_type": "stream",
     "text": [
      "Epoch 164/300: 100%|██████████| 48/48 [00:00<00:00, 66.26it/s, loss=1.4]   \n",
      "\n"
     ]
    },
    {
     "name": "stdout",
     "output_type": "stream",
     "text": [
      "Epoch [164/300]\n",
      "Training Loss: 0.7566\n",
      "Validation Loss: 0.7771\n",
      "Test Accuracy: 79.51%\n",
      "Best Accuracy: 80.90%\n",
      "--------------------------------------------------\n"
     ]
    },
    {
     "name": "stderr",
     "output_type": "stream",
     "text": [
      "Epoch 165/300: 100%|██████████| 48/48 [00:00<00:00, 73.19it/s, loss=0.0642]\n",
      "\n"
     ]
    },
    {
     "name": "stdout",
     "output_type": "stream",
     "text": [
      "Epoch [165/300]\n",
      "Training Loss: 0.6219\n",
      "Validation Loss: 0.7372\n",
      "Test Accuracy: 80.56%\n",
      "Best Accuracy: 80.90%\n",
      "--------------------------------------------------\n"
     ]
    },
    {
     "name": "stderr",
     "output_type": "stream",
     "text": [
      "Epoch 166/300: 100%|██████████| 48/48 [00:00<00:00, 66.30it/s, loss=0.829] \n",
      "\n"
     ]
    },
    {
     "name": "stdout",
     "output_type": "stream",
     "text": [
      "Epoch [166/300]\n",
      "Training Loss: 0.7298\n",
      "Validation Loss: 0.7367\n",
      "Test Accuracy: 80.56%\n",
      "Best Accuracy: 80.90%\n",
      "--------------------------------------------------\n"
     ]
    },
    {
     "name": "stderr",
     "output_type": "stream",
     "text": [
      "Epoch 167/300: 100%|██████████| 48/48 [00:00<00:00, 68.29it/s, loss=1.07]  \n",
      "\n"
     ]
    },
    {
     "name": "stdout",
     "output_type": "stream",
     "text": [
      "Epoch [167/300]\n",
      "Training Loss: 0.7985\n",
      "Validation Loss: 0.8047\n",
      "Test Accuracy: 78.12%\n",
      "Best Accuracy: 80.90%\n",
      "--------------------------------------------------\n"
     ]
    },
    {
     "name": "stderr",
     "output_type": "stream",
     "text": [
      "Epoch 168/300: 100%|██████████| 48/48 [00:00<00:00, 64.60it/s, loss=1.33]  \n",
      "\n"
     ]
    },
    {
     "name": "stdout",
     "output_type": "stream",
     "text": [
      "Epoch [168/300]\n",
      "Training Loss: 0.7106\n",
      "Validation Loss: 0.7866\n",
      "Test Accuracy: 78.12%\n",
      "Best Accuracy: 80.90%\n",
      "--------------------------------------------------\n"
     ]
    },
    {
     "name": "stderr",
     "output_type": "stream",
     "text": [
      "Epoch 169/300: 100%|██████████| 48/48 [00:00<00:00, 77.78it/s, loss=0.481] \n",
      "\n"
     ]
    },
    {
     "name": "stdout",
     "output_type": "stream",
     "text": [
      "Epoch [169/300]\n",
      "Training Loss: 0.5567\n",
      "Validation Loss: 0.7833\n",
      "Test Accuracy: 76.39%\n",
      "Best Accuracy: 80.90%\n",
      "--------------------------------------------------\n"
     ]
    },
    {
     "name": "stderr",
     "output_type": "stream",
     "text": [
      "Epoch 170/300: 100%|██████████| 48/48 [00:00<00:00, 70.72it/s, loss=0.534] \n",
      "\n"
     ]
    },
    {
     "name": "stdout",
     "output_type": "stream",
     "text": [
      "Epoch [170/300]\n",
      "Training Loss: 0.7409\n",
      "Validation Loss: 0.7588\n",
      "Test Accuracy: 79.17%\n",
      "Best Accuracy: 80.90%\n",
      "--------------------------------------------------\n"
     ]
    },
    {
     "name": "stderr",
     "output_type": "stream",
     "text": [
      "Epoch 171/300: 100%|██████████| 48/48 [00:00<00:00, 72.00it/s, loss=0.0603]\n",
      "\n"
     ]
    },
    {
     "name": "stdout",
     "output_type": "stream",
     "text": [
      "Epoch [171/300]\n",
      "Training Loss: 0.6646\n",
      "Validation Loss: 0.7845\n",
      "Test Accuracy: 78.12%\n",
      "Best Accuracy: 80.90%\n",
      "--------------------------------------------------\n"
     ]
    },
    {
     "name": "stderr",
     "output_type": "stream",
     "text": [
      "Epoch 172/300: 100%|██████████| 48/48 [00:00<00:00, 76.79it/s, loss=1.84]  \n",
      "\n"
     ]
    },
    {
     "name": "stdout",
     "output_type": "stream",
     "text": [
      "Epoch [172/300]\n",
      "Training Loss: 0.7231\n",
      "Validation Loss: 0.7302\n",
      "Test Accuracy: 80.21%\n",
      "Best Accuracy: 80.90%\n",
      "--------------------------------------------------\n"
     ]
    },
    {
     "name": "stderr",
     "output_type": "stream",
     "text": [
      "Epoch 173/300: 100%|██████████| 48/48 [00:00<00:00, 70.78it/s, loss=1.33]  \n",
      "\n"
     ]
    },
    {
     "name": "stdout",
     "output_type": "stream",
     "text": [
      "Epoch [173/300]\n",
      "Training Loss: 0.6247\n",
      "Validation Loss: 0.8368\n",
      "Test Accuracy: 76.04%\n",
      "Best Accuracy: 80.90%\n",
      "--------------------------------------------------\n"
     ]
    },
    {
     "name": "stderr",
     "output_type": "stream",
     "text": [
      "Epoch 174/300: 100%|██████████| 48/48 [00:00<00:00, 66.02it/s, loss=1.36]  \n",
      "\n"
     ]
    },
    {
     "name": "stdout",
     "output_type": "stream",
     "text": [
      "Epoch [174/300]\n",
      "Training Loss: 0.6288\n",
      "Validation Loss: 0.7809\n",
      "Test Accuracy: 78.82%\n",
      "Best Accuracy: 80.90%\n",
      "--------------------------------------------------\n"
     ]
    },
    {
     "name": "stderr",
     "output_type": "stream",
     "text": [
      "Epoch 175/300: 100%|██████████| 48/48 [00:00<00:00, 76.66it/s, loss=0.582] \n",
      "\n"
     ]
    },
    {
     "name": "stdout",
     "output_type": "stream",
     "text": [
      "Epoch [175/300]\n",
      "Training Loss: 0.6550\n",
      "Validation Loss: 0.8010\n",
      "Test Accuracy: 78.82%\n",
      "Best Accuracy: 80.90%\n",
      "--------------------------------------------------\n"
     ]
    },
    {
     "name": "stderr",
     "output_type": "stream",
     "text": [
      "Epoch 176/300: 100%|██████████| 48/48 [00:00<00:00, 64.96it/s, loss=0.565] \n",
      "\n"
     ]
    },
    {
     "name": "stdout",
     "output_type": "stream",
     "text": [
      "Epoch [176/300]\n",
      "Training Loss: 0.7411\n",
      "Validation Loss: 0.7128\n",
      "Test Accuracy: 80.21%\n",
      "Best Accuracy: 80.90%\n",
      "--------------------------------------------------\n"
     ]
    },
    {
     "name": "stderr",
     "output_type": "stream",
     "text": [
      "Epoch 177/300: 100%|██████████| 48/48 [00:00<00:00, 70.97it/s, loss=0.42]  \n",
      "\n"
     ]
    },
    {
     "name": "stdout",
     "output_type": "stream",
     "text": [
      "Epoch [177/300]\n",
      "Training Loss: 0.5459\n",
      "Validation Loss: 0.7438\n",
      "Test Accuracy: 77.08%\n",
      "Best Accuracy: 80.90%\n",
      "--------------------------------------------------\n"
     ]
    },
    {
     "name": "stderr",
     "output_type": "stream",
     "text": [
      "Epoch 178/300: 100%|██████████| 48/48 [00:00<00:00, 71.09it/s, loss=0.147] \n",
      "\n"
     ]
    },
    {
     "name": "stdout",
     "output_type": "stream",
     "text": [
      "Epoch [178/300]\n",
      "Training Loss: 0.6091\n",
      "Validation Loss: 0.7092\n",
      "Test Accuracy: 79.86%\n",
      "Best Accuracy: 80.90%\n",
      "--------------------------------------------------\n"
     ]
    },
    {
     "name": "stderr",
     "output_type": "stream",
     "text": [
      "Epoch 179/300: 100%|██████████| 48/48 [00:00<00:00, 76.24it/s, loss=1.22]  \n",
      "Epoch 179/300: 100%|██████████| 48/48 [00:00<00:00, 76.24it/s, loss=1.22] \n"
     ]
    },
    {
     "name": "stdout",
     "output_type": "stream",
     "text": [
      "Epoch [179/300]\n",
      "Training Loss: 0.7736\n",
      "Validation Loss: 0.7085\n",
      "Test Accuracy: 78.82%\n",
      "Best Accuracy: 80.90%\n",
      "--------------------------------------------------\n"
     ]
    },
    {
     "name": "stderr",
     "output_type": "stream",
     "text": [
      "Epoch 180/300: 100%|██████████| 48/48 [00:00<00:00, 70.03it/s, loss=1.69]  \n",
      "\n"
     ]
    },
    {
     "name": "stdout",
     "output_type": "stream",
     "text": [
      "Epoch [180/300]\n",
      "Training Loss: 0.7252\n",
      "Validation Loss: 0.7117\n",
      "Test Accuracy: 81.60%\n",
      "Best Accuracy: 81.60%\n",
      "--------------------------------------------------\n"
     ]
    },
    {
     "name": "stderr",
     "output_type": "stream",
     "text": [
      "Epoch 181/300: 100%|██████████| 48/48 [00:00<00:00, 77.17it/s, loss=0.09]  \n",
      "\n"
     ]
    },
    {
     "name": "stdout",
     "output_type": "stream",
     "text": [
      "Epoch [181/300]\n",
      "Training Loss: 0.5837\n",
      "Validation Loss: 0.7160\n",
      "Test Accuracy: 79.51%\n",
      "Best Accuracy: 81.60%\n",
      "--------------------------------------------------\n"
     ]
    },
    {
     "name": "stderr",
     "output_type": "stream",
     "text": [
      "Epoch 182/300: 100%|██████████| 48/48 [00:00<00:00, 69.02it/s, loss=0.617] \n",
      "\n"
     ]
    },
    {
     "name": "stdout",
     "output_type": "stream",
     "text": [
      "Epoch [182/300]\n",
      "Training Loss: 0.5833\n",
      "Validation Loss: 0.7919\n",
      "Test Accuracy: 78.82%\n",
      "Best Accuracy: 81.60%\n",
      "--------------------------------------------------\n"
     ]
    },
    {
     "name": "stderr",
     "output_type": "stream",
     "text": [
      "Epoch 183/300: 100%|██████████| 48/48 [00:00<00:00, 70.79it/s, loss=0.0797]\n",
      "\n"
     ]
    },
    {
     "name": "stdout",
     "output_type": "stream",
     "text": [
      "Epoch [183/300]\n",
      "Training Loss: 0.6111\n",
      "Validation Loss: 0.7389\n",
      "Test Accuracy: 78.82%\n",
      "Best Accuracy: 81.60%\n",
      "--------------------------------------------------\n"
     ]
    },
    {
     "name": "stderr",
     "output_type": "stream",
     "text": [
      "Epoch 184/300: 100%|██████████| 48/48 [00:00<00:00, 70.02it/s, loss=0.938] \n",
      "\n"
     ]
    },
    {
     "name": "stdout",
     "output_type": "stream",
     "text": [
      "Epoch [184/300]\n",
      "Training Loss: 0.5634\n",
      "Validation Loss: 0.7882\n",
      "Test Accuracy: 77.78%\n",
      "Best Accuracy: 81.60%\n",
      "--------------------------------------------------\n"
     ]
    },
    {
     "name": "stderr",
     "output_type": "stream",
     "text": [
      "Epoch 185/300: 100%|██████████| 48/48 [00:00<00:00, 71.26it/s, loss=0.649] \n",
      "\n"
     ]
    },
    {
     "name": "stdout",
     "output_type": "stream",
     "text": [
      "Epoch [185/300]\n",
      "Training Loss: 0.5300\n",
      "Validation Loss: 0.7561\n",
      "Test Accuracy: 79.17%\n",
      "Best Accuracy: 81.60%\n",
      "--------------------------------------------------\n"
     ]
    },
    {
     "name": "stderr",
     "output_type": "stream",
     "text": [
      "Epoch 186/300: 100%|██████████| 48/48 [00:00<00:00, 71.30it/s, loss=0.0757]\n",
      "Epoch 186/300: 100%|██████████| 48/48 [00:00<00:00, 71.30it/s, loss=0.0757]\n"
     ]
    },
    {
     "name": "stdout",
     "output_type": "stream",
     "text": [
      "Epoch [186/300]\n",
      "Training Loss: 0.6840\n",
      "Validation Loss: 0.6921\n",
      "Test Accuracy: 81.60%\n",
      "Best Accuracy: 81.60%\n",
      "--------------------------------------------------\n"
     ]
    },
    {
     "name": "stderr",
     "output_type": "stream",
     "text": [
      "Epoch 187/300: 100%|██████████| 48/48 [00:00<00:00, 75.91it/s, loss=0.408] \n",
      "\n"
     ]
    },
    {
     "name": "stdout",
     "output_type": "stream",
     "text": [
      "Epoch [187/300]\n",
      "Training Loss: 0.7228\n",
      "Validation Loss: 0.7154\n",
      "Test Accuracy: 79.86%\n",
      "Best Accuracy: 81.60%\n",
      "--------------------------------------------------\n"
     ]
    },
    {
     "name": "stderr",
     "output_type": "stream",
     "text": [
      "Epoch 188/300: 100%|██████████| 48/48 [00:00<00:00, 70.00it/s, loss=0.0518]\n",
      "\n"
     ]
    },
    {
     "name": "stdout",
     "output_type": "stream",
     "text": [
      "Epoch [188/300]\n",
      "Training Loss: 0.5673\n",
      "Validation Loss: 0.7631\n",
      "Test Accuracy: 78.47%\n",
      "Best Accuracy: 81.60%\n",
      "--------------------------------------------------\n"
     ]
    },
    {
     "name": "stderr",
     "output_type": "stream",
     "text": [
      "Epoch 189/300: 100%|██████████| 48/48 [00:00<00:00, 73.34it/s, loss=0.182] \n",
      "\n"
     ]
    },
    {
     "name": "stdout",
     "output_type": "stream",
     "text": [
      "Epoch [189/300]\n",
      "Training Loss: 0.7060\n",
      "Validation Loss: 0.7283\n",
      "Test Accuracy: 78.82%\n",
      "Best Accuracy: 81.60%\n",
      "--------------------------------------------------\n"
     ]
    },
    {
     "name": "stderr",
     "output_type": "stream",
     "text": [
      "Epoch 190/300: 100%|██████████| 48/48 [00:00<00:00, 68.38it/s, loss=0.0837]\n",
      "\n"
     ]
    },
    {
     "name": "stdout",
     "output_type": "stream",
     "text": [
      "Epoch [190/300]\n",
      "Training Loss: 0.6834\n",
      "Validation Loss: 0.7811\n",
      "Test Accuracy: 76.74%\n",
      "Best Accuracy: 81.60%\n",
      "--------------------------------------------------\n"
     ]
    },
    {
     "name": "stderr",
     "output_type": "stream",
     "text": [
      "Epoch 191/300: 100%|██████████| 48/48 [00:00<00:00, 70.07it/s, loss=0.451] \n",
      "\n"
     ]
    },
    {
     "name": "stdout",
     "output_type": "stream",
     "text": [
      "Epoch [191/300]\n",
      "Training Loss: 0.5545\n",
      "Validation Loss: 0.7314\n",
      "Test Accuracy: 81.60%\n",
      "Best Accuracy: 81.60%\n",
      "--------------------------------------------------\n"
     ]
    },
    {
     "name": "stderr",
     "output_type": "stream",
     "text": [
      "Epoch 192/300: 100%|██████████| 48/48 [00:00<00:00, 70.84it/s, loss=1.66]  \n",
      "\n"
     ]
    },
    {
     "name": "stdout",
     "output_type": "stream",
     "text": [
      "Epoch [192/300]\n",
      "Training Loss: 0.5780\n",
      "Validation Loss: 0.6924\n",
      "Test Accuracy: 79.17%\n",
      "Best Accuracy: 81.60%\n",
      "--------------------------------------------------\n"
     ]
    },
    {
     "name": "stderr",
     "output_type": "stream",
     "text": [
      "Epoch 193/300: 100%|██████████| 48/48 [00:00<00:00, 71.17it/s, loss=0.404] \n",
      "\n"
     ]
    },
    {
     "name": "stdout",
     "output_type": "stream",
     "text": [
      "Epoch [193/300]\n",
      "Training Loss: 0.6493\n",
      "Validation Loss: 0.7148\n",
      "Test Accuracy: 81.94%\n",
      "Best Accuracy: 81.94%\n",
      "--------------------------------------------------\n"
     ]
    },
    {
     "name": "stderr",
     "output_type": "stream",
     "text": [
      "Epoch 194/300: 100%|██████████| 48/48 [00:00<00:00, 70.66it/s, loss=0.258] \n",
      "\n"
     ]
    },
    {
     "name": "stdout",
     "output_type": "stream",
     "text": [
      "Epoch [194/300]\n",
      "Training Loss: 0.6289\n",
      "Validation Loss: 0.6907\n",
      "Test Accuracy: 83.33%\n",
      "Best Accuracy: 83.33%\n",
      "--------------------------------------------------\n"
     ]
    },
    {
     "name": "stderr",
     "output_type": "stream",
     "text": [
      "Epoch 195/300: 100%|██████████| 48/48 [00:00<00:00, 69.78it/s, loss=0.0687]\n",
      "\n"
     ]
    },
    {
     "name": "stdout",
     "output_type": "stream",
     "text": [
      "Epoch [195/300]\n",
      "Training Loss: 0.6092\n",
      "Validation Loss: 0.7075\n",
      "Test Accuracy: 80.56%\n",
      "Best Accuracy: 83.33%\n",
      "--------------------------------------------------\n"
     ]
    },
    {
     "name": "stderr",
     "output_type": "stream",
     "text": [
      "Epoch 196/300: 100%|██████████| 48/48 [00:00<00:00, 65.36it/s, loss=0.855] \n",
      "\n"
     ]
    },
    {
     "name": "stdout",
     "output_type": "stream",
     "text": [
      "Epoch [196/300]\n",
      "Training Loss: 0.5855\n",
      "Validation Loss: 0.7260\n",
      "Test Accuracy: 81.25%\n",
      "Best Accuracy: 83.33%\n",
      "--------------------------------------------------\n"
     ]
    },
    {
     "name": "stderr",
     "output_type": "stream",
     "text": [
      "Epoch 197/300: 100%|██████████| 48/48 [00:00<00:00, 68.75it/s, loss=0.608] \n",
      "\n"
     ]
    },
    {
     "name": "stdout",
     "output_type": "stream",
     "text": [
      "Epoch [197/300]\n",
      "Training Loss: 0.4993\n",
      "Validation Loss: 0.7730\n",
      "Test Accuracy: 78.47%\n",
      "Best Accuracy: 83.33%\n",
      "--------------------------------------------------\n"
     ]
    },
    {
     "name": "stderr",
     "output_type": "stream",
     "text": [
      "Epoch 198/300: 100%|██████████| 48/48 [00:00<00:00, 69.99it/s, loss=1.05]  \n",
      "\n"
     ]
    },
    {
     "name": "stdout",
     "output_type": "stream",
     "text": [
      "Epoch [198/300]\n",
      "Training Loss: 0.7867\n",
      "Validation Loss: 0.7445\n",
      "Test Accuracy: 79.86%\n",
      "Best Accuracy: 83.33%\n",
      "--------------------------------------------------\n"
     ]
    },
    {
     "name": "stderr",
     "output_type": "stream",
     "text": [
      "Epoch 199/300: 100%|██████████| 48/48 [00:00<00:00, 67.05it/s, loss=0.0919]\n",
      "\n"
     ]
    },
    {
     "name": "stdout",
     "output_type": "stream",
     "text": [
      "Epoch [199/300]\n",
      "Training Loss: 0.6441\n",
      "Validation Loss: 0.7097\n",
      "Test Accuracy: 80.90%\n",
      "Best Accuracy: 83.33%\n",
      "--------------------------------------------------\n"
     ]
    },
    {
     "name": "stderr",
     "output_type": "stream",
     "text": [
      "Epoch 200/300: 100%|██████████| 48/48 [00:00<00:00, 64.67it/s, loss=0.109] \n",
      "\n"
     ]
    },
    {
     "name": "stdout",
     "output_type": "stream",
     "text": [
      "Epoch [200/300]\n",
      "Training Loss: 0.5463\n",
      "Validation Loss: 0.6719\n",
      "Test Accuracy: 81.25%\n",
      "Best Accuracy: 83.33%\n",
      "--------------------------------------------------\n"
     ]
    },
    {
     "name": "stderr",
     "output_type": "stream",
     "text": [
      "Epoch 201/300: 100%|██████████| 48/48 [00:00<00:00, 65.25it/s, loss=0.948] \n",
      "\n"
     ]
    },
    {
     "name": "stdout",
     "output_type": "stream",
     "text": [
      "Epoch [201/300]\n",
      "Training Loss: 0.7084\n",
      "Validation Loss: 0.6845\n",
      "Test Accuracy: 82.29%\n",
      "Best Accuracy: 83.33%\n",
      "--------------------------------------------------\n"
     ]
    },
    {
     "name": "stderr",
     "output_type": "stream",
     "text": [
      "Epoch 202/300: 100%|██████████| 48/48 [00:00<00:00, 65.46it/s, loss=0.162] \n",
      "\n"
     ]
    },
    {
     "name": "stdout",
     "output_type": "stream",
     "text": [
      "Epoch [202/300]\n",
      "Training Loss: 0.5790\n",
      "Validation Loss: 0.6737\n",
      "Test Accuracy: 78.82%\n",
      "Best Accuracy: 83.33%\n",
      "--------------------------------------------------\n"
     ]
    },
    {
     "name": "stderr",
     "output_type": "stream",
     "text": [
      "Epoch 203/300: 100%|██████████| 48/48 [00:00<00:00, 62.34it/s, loss=0.426] \n",
      "\n"
     ]
    },
    {
     "name": "stdout",
     "output_type": "stream",
     "text": [
      "Epoch [203/300]\n",
      "Training Loss: 0.5582\n",
      "Validation Loss: 0.7208\n",
      "Test Accuracy: 78.82%\n",
      "Best Accuracy: 83.33%\n",
      "--------------------------------------------------\n"
     ]
    },
    {
     "name": "stderr",
     "output_type": "stream",
     "text": [
      "Epoch 204/300: 100%|██████████| 48/48 [00:00<00:00, 60.57it/s, loss=0.807] \n",
      "\n"
     ]
    },
    {
     "name": "stdout",
     "output_type": "stream",
     "text": [
      "Epoch [204/300]\n",
      "Training Loss: 0.6542\n",
      "Validation Loss: 0.7593\n",
      "Test Accuracy: 78.12%\n",
      "Best Accuracy: 83.33%\n",
      "--------------------------------------------------\n"
     ]
    },
    {
     "name": "stderr",
     "output_type": "stream",
     "text": [
      "Epoch 205/300: 100%|██████████| 48/48 [00:00<00:00, 66.77it/s, loss=1.02]  \n",
      "\n"
     ]
    },
    {
     "name": "stdout",
     "output_type": "stream",
     "text": [
      "Epoch [205/300]\n",
      "Training Loss: 0.6125\n",
      "Validation Loss: 0.7091\n",
      "Test Accuracy: 79.86%\n",
      "Best Accuracy: 83.33%\n",
      "--------------------------------------------------\n"
     ]
    },
    {
     "name": "stderr",
     "output_type": "stream",
     "text": [
      "Epoch 206/300: 100%|██████████| 48/48 [00:00<00:00, 64.11it/s, loss=0.0592]\n",
      "\n"
     ]
    },
    {
     "name": "stdout",
     "output_type": "stream",
     "text": [
      "Epoch [206/300]\n",
      "Training Loss: 0.5022\n",
      "Validation Loss: 0.6906\n",
      "Test Accuracy: 78.82%\n",
      "Best Accuracy: 83.33%\n",
      "--------------------------------------------------\n"
     ]
    },
    {
     "name": "stderr",
     "output_type": "stream",
     "text": [
      "Epoch 207/300: 100%|██████████| 48/48 [00:00<00:00, 71.43it/s, loss=0.0453]\n",
      "\n"
     ]
    },
    {
     "name": "stdout",
     "output_type": "stream",
     "text": [
      "Epoch [207/300]\n",
      "Training Loss: 0.4046\n",
      "Validation Loss: 0.7791\n",
      "Test Accuracy: 78.82%\n",
      "Best Accuracy: 83.33%\n",
      "--------------------------------------------------\n"
     ]
    },
    {
     "name": "stderr",
     "output_type": "stream",
     "text": [
      "Epoch 208/300: 100%|██████████| 48/48 [00:00<00:00, 67.84it/s, loss=0.337] \n",
      "\n"
     ]
    },
    {
     "name": "stdout",
     "output_type": "stream",
     "text": [
      "Epoch [208/300]\n",
      "Training Loss: 0.5725\n",
      "Validation Loss: 0.6732\n",
      "Test Accuracy: 79.51%\n",
      "Best Accuracy: 83.33%\n",
      "--------------------------------------------------\n"
     ]
    },
    {
     "name": "stderr",
     "output_type": "stream",
     "text": [
      "Epoch 209/300: 100%|██████████| 48/48 [00:00<00:00, 68.98it/s, loss=1.4]   \n",
      "Epoch 209/300: 100%|██████████| 48/48 [00:00<00:00, 68.98it/s, loss=1.4]   \n"
     ]
    },
    {
     "name": "stdout",
     "output_type": "stream",
     "text": [
      "Epoch [209/300]\n",
      "Training Loss: 0.6534\n",
      "Validation Loss: 0.7156\n",
      "Test Accuracy: 79.86%\n",
      "Best Accuracy: 83.33%\n",
      "--------------------------------------------------\n"
     ]
    },
    {
     "name": "stderr",
     "output_type": "stream",
     "text": [
      "Epoch 210/300: 100%|██████████| 48/48 [00:00<00:00, 70.58it/s, loss=1.24]  \n",
      "\n"
     ]
    },
    {
     "name": "stdout",
     "output_type": "stream",
     "text": [
      "Epoch [210/300]\n",
      "Training Loss: 0.6498\n",
      "Validation Loss: 0.7028\n",
      "Test Accuracy: 78.82%\n",
      "Best Accuracy: 83.33%\n",
      "--------------------------------------------------\n"
     ]
    },
    {
     "name": "stderr",
     "output_type": "stream",
     "text": [
      "Epoch 211/300: 100%|██████████| 48/48 [00:00<00:00, 70.26it/s, loss=0.274] \n",
      "\n"
     ]
    },
    {
     "name": "stdout",
     "output_type": "stream",
     "text": [
      "Epoch [211/300]\n",
      "Training Loss: 0.5906\n",
      "Validation Loss: 0.7056\n",
      "Test Accuracy: 80.21%\n",
      "Best Accuracy: 83.33%\n",
      "--------------------------------------------------\n"
     ]
    },
    {
     "name": "stderr",
     "output_type": "stream",
     "text": [
      "Epoch 212/300: 100%|██████████| 48/48 [00:00<00:00, 64.78it/s, loss=0.415] \n",
      "\n"
     ]
    },
    {
     "name": "stdout",
     "output_type": "stream",
     "text": [
      "Epoch [212/300]\n",
      "Training Loss: 0.6574\n",
      "Validation Loss: 0.7138\n",
      "Test Accuracy: 79.51%\n",
      "Best Accuracy: 83.33%\n",
      "--------------------------------------------------\n"
     ]
    },
    {
     "name": "stderr",
     "output_type": "stream",
     "text": [
      "Epoch 213/300: 100%|██████████| 48/48 [00:00<00:00, 67.05it/s, loss=0.0443]\n",
      "\n"
     ]
    },
    {
     "name": "stdout",
     "output_type": "stream",
     "text": [
      "Epoch [213/300]\n",
      "Training Loss: 0.6041\n",
      "Validation Loss: 0.6942\n",
      "Test Accuracy: 78.12%\n",
      "Best Accuracy: 83.33%\n",
      "--------------------------------------------------\n"
     ]
    },
    {
     "name": "stderr",
     "output_type": "stream",
     "text": [
      "Epoch 214/300: 100%|██████████| 48/48 [00:00<00:00, 72.69it/s, loss=1]     \n",
      "\n"
     ]
    },
    {
     "name": "stdout",
     "output_type": "stream",
     "text": [
      "Epoch [214/300]\n",
      "Training Loss: 0.5350\n",
      "Validation Loss: 0.7262\n",
      "Test Accuracy: 79.17%\n",
      "Best Accuracy: 83.33%\n",
      "--------------------------------------------------\n"
     ]
    },
    {
     "name": "stderr",
     "output_type": "stream",
     "text": [
      "Epoch 215/300: 100%|██████████| 48/48 [00:00<00:00, 68.05it/s, loss=1.23]  \n",
      "\n"
     ]
    },
    {
     "name": "stdout",
     "output_type": "stream",
     "text": [
      "Epoch [215/300]\n",
      "Training Loss: 0.7103\n",
      "Validation Loss: 0.7223\n",
      "Test Accuracy: 80.56%\n",
      "Best Accuracy: 83.33%\n",
      "--------------------------------------------------\n"
     ]
    },
    {
     "name": "stderr",
     "output_type": "stream",
     "text": [
      "Epoch 216/300: 100%|██████████| 48/48 [00:00<00:00, 59.47it/s, loss=0.0369]\n",
      "Epoch 216/300: 100%|██████████| 48/48 [00:00<00:00, 59.47it/s, loss=0.0369]\n"
     ]
    },
    {
     "name": "stdout",
     "output_type": "stream",
     "text": [
      "Epoch [216/300]\n",
      "Training Loss: 0.5473\n",
      "Validation Loss: 0.7742\n",
      "Test Accuracy: 78.47%\n",
      "Best Accuracy: 83.33%\n",
      "--------------------------------------------------\n"
     ]
    },
    {
     "name": "stderr",
     "output_type": "stream",
     "text": [
      "Epoch 217/300: 100%|██████████| 48/48 [00:00<00:00, 68.67it/s, loss=0.857] \n",
      "\n"
     ]
    },
    {
     "name": "stdout",
     "output_type": "stream",
     "text": [
      "Epoch [217/300]\n",
      "Training Loss: 0.7319\n",
      "Validation Loss: 0.6962\n",
      "Test Accuracy: 79.17%\n",
      "Best Accuracy: 83.33%\n",
      "--------------------------------------------------\n"
     ]
    },
    {
     "name": "stderr",
     "output_type": "stream",
     "text": [
      "Epoch 218/300: 100%|██████████| 48/48 [00:00<00:00, 60.21it/s, loss=0.24]  \n",
      "\n"
     ]
    },
    {
     "name": "stdout",
     "output_type": "stream",
     "text": [
      "Epoch [218/300]\n",
      "Training Loss: 0.5756\n",
      "Validation Loss: 0.7012\n",
      "Test Accuracy: 79.51%\n",
      "Best Accuracy: 83.33%\n",
      "--------------------------------------------------\n"
     ]
    },
    {
     "name": "stderr",
     "output_type": "stream",
     "text": [
      "Epoch 219/300: 100%|██████████| 48/48 [00:00<00:00, 62.66it/s, loss=1.42]  \n",
      "Epoch 219/300: 100%|██████████| 48/48 [00:00<00:00, 62.66it/s, loss=1.42]  \n"
     ]
    },
    {
     "name": "stdout",
     "output_type": "stream",
     "text": [
      "Epoch [219/300]\n",
      "Training Loss: 0.5552\n",
      "Validation Loss: 0.6563\n",
      "Test Accuracy: 80.21%\n",
      "Best Accuracy: 83.33%\n",
      "--------------------------------------------------\n"
     ]
    },
    {
     "name": "stderr",
     "output_type": "stream",
     "text": [
      "Epoch 220/300: 100%|██████████| 48/48 [00:00<00:00, 64.88it/s, loss=0.256] \n",
      "\n"
     ]
    },
    {
     "name": "stdout",
     "output_type": "stream",
     "text": [
      "Epoch [220/300]\n",
      "Training Loss: 0.7027\n",
      "Validation Loss: 0.7221\n",
      "Test Accuracy: 78.82%\n",
      "Best Accuracy: 83.33%\n",
      "--------------------------------------------------\n"
     ]
    },
    {
     "name": "stderr",
     "output_type": "stream",
     "text": [
      "Epoch 221/300: 100%|██████████| 48/48 [00:00<00:00, 55.39it/s, loss=1.04]  \n",
      "\n"
     ]
    },
    {
     "name": "stdout",
     "output_type": "stream",
     "text": [
      "Epoch [221/300]\n",
      "Training Loss: 0.7257\n",
      "Validation Loss: 0.6532\n",
      "Test Accuracy: 81.60%\n",
      "Best Accuracy: 83.33%\n",
      "--------------------------------------------------\n"
     ]
    },
    {
     "name": "stderr",
     "output_type": "stream",
     "text": [
      "Epoch 222/300: 100%|██████████| 48/48 [00:00<00:00, 65.48it/s, loss=0.882] \n",
      "\n"
     ]
    },
    {
     "name": "stdout",
     "output_type": "stream",
     "text": [
      "Epoch [222/300]\n",
      "Training Loss: 0.6054\n",
      "Validation Loss: 0.6920\n",
      "Test Accuracy: 78.47%\n",
      "Best Accuracy: 83.33%\n",
      "--------------------------------------------------\n"
     ]
    },
    {
     "name": "stderr",
     "output_type": "stream",
     "text": [
      "Epoch 223/300: 100%|██████████| 48/48 [00:00<00:00, 59.95it/s, loss=0.115] \n",
      "\n"
     ]
    },
    {
     "name": "stdout",
     "output_type": "stream",
     "text": [
      "Epoch [223/300]\n",
      "Training Loss: 0.5359\n",
      "Validation Loss: 0.6743\n",
      "Test Accuracy: 80.90%\n",
      "Best Accuracy: 83.33%\n",
      "--------------------------------------------------\n"
     ]
    },
    {
     "name": "stderr",
     "output_type": "stream",
     "text": [
      "Epoch 224/300: 100%|██████████| 48/48 [00:00<00:00, 65.82it/s, loss=1.44]  \n",
      "\n"
     ]
    },
    {
     "name": "stdout",
     "output_type": "stream",
     "text": [
      "Epoch [224/300]\n",
      "Training Loss: 0.5595\n",
      "Validation Loss: 0.7052\n",
      "Test Accuracy: 77.78%\n",
      "Best Accuracy: 83.33%\n",
      "--------------------------------------------------\n"
     ]
    },
    {
     "name": "stderr",
     "output_type": "stream",
     "text": [
      "Epoch 225/300: 100%|██████████| 48/48 [00:00<00:00, 60.41it/s, loss=1.38]  \n",
      "\n"
     ]
    },
    {
     "name": "stdout",
     "output_type": "stream",
     "text": [
      "Epoch [225/300]\n",
      "Training Loss: 0.5930\n",
      "Validation Loss: 0.7265\n",
      "Test Accuracy: 78.82%\n",
      "Best Accuracy: 83.33%\n",
      "--------------------------------------------------\n"
     ]
    },
    {
     "name": "stderr",
     "output_type": "stream",
     "text": [
      "Epoch 226/300: 100%|██████████| 48/48 [00:00<00:00, 62.95it/s, loss=1.12]  \n",
      "\n"
     ]
    },
    {
     "name": "stdout",
     "output_type": "stream",
     "text": [
      "Epoch [226/300]\n",
      "Training Loss: 0.6171\n",
      "Validation Loss: 0.6897\n",
      "Test Accuracy: 79.51%\n",
      "Best Accuracy: 83.33%\n",
      "--------------------------------------------------\n"
     ]
    },
    {
     "name": "stderr",
     "output_type": "stream",
     "text": [
      "Epoch 227/300: 100%|██████████| 48/48 [00:00<00:00, 62.72it/s, loss=0.538] \n",
      "\n"
     ]
    },
    {
     "name": "stdout",
     "output_type": "stream",
     "text": [
      "Epoch [227/300]\n",
      "Training Loss: 0.6348\n",
      "Validation Loss: 0.7156\n",
      "Test Accuracy: 79.51%\n",
      "Best Accuracy: 83.33%\n",
      "--------------------------------------------------\n"
     ]
    },
    {
     "name": "stderr",
     "output_type": "stream",
     "text": [
      "Epoch 228/300: 100%|██████████| 48/48 [00:00<00:00, 61.61it/s, loss=1.15]  \n",
      "\n"
     ]
    },
    {
     "name": "stdout",
     "output_type": "stream",
     "text": [
      "Epoch [228/300]\n",
      "Training Loss: 0.6628\n",
      "Validation Loss: 0.6703\n",
      "Test Accuracy: 78.47%\n",
      "Best Accuracy: 83.33%\n",
      "--------------------------------------------------\n"
     ]
    },
    {
     "name": "stderr",
     "output_type": "stream",
     "text": [
      "Epoch 229/300: 100%|██████████| 48/48 [00:00<00:00, 62.52it/s, loss=1.11]  \n",
      "\n"
     ]
    },
    {
     "name": "stdout",
     "output_type": "stream",
     "text": [
      "Epoch [229/300]\n",
      "Training Loss: 0.5677\n",
      "Validation Loss: 0.6648\n",
      "Test Accuracy: 79.17%\n",
      "Best Accuracy: 83.33%\n",
      "--------------------------------------------------\n"
     ]
    },
    {
     "name": "stderr",
     "output_type": "stream",
     "text": [
      "Epoch 230/300: 100%|██████████| 48/48 [00:00<00:00, 60.77it/s, loss=0.259] \n",
      "\n"
     ]
    },
    {
     "name": "stdout",
     "output_type": "stream",
     "text": [
      "Epoch [230/300]\n",
      "Training Loss: 0.5486\n",
      "Validation Loss: 0.6707\n",
      "Test Accuracy: 79.51%\n",
      "Best Accuracy: 83.33%\n",
      "--------------------------------------------------\n"
     ]
    },
    {
     "name": "stderr",
     "output_type": "stream",
     "text": [
      "Epoch 231/300: 100%|██████████| 48/48 [00:00<00:00, 63.56it/s, loss=1.06]  \n",
      "\n"
     ]
    },
    {
     "name": "stdout",
     "output_type": "stream",
     "text": [
      "Epoch [231/300]\n",
      "Training Loss: 0.7195\n",
      "Validation Loss: 0.6752\n",
      "Test Accuracy: 80.21%\n",
      "Best Accuracy: 83.33%\n",
      "--------------------------------------------------\n"
     ]
    },
    {
     "name": "stderr",
     "output_type": "stream",
     "text": [
      "Epoch 232/300: 100%|██████████| 48/48 [00:00<00:00, 60.36it/s, loss=0.0735]\n",
      "\n"
     ]
    },
    {
     "name": "stdout",
     "output_type": "stream",
     "text": [
      "Epoch [232/300]\n",
      "Training Loss: 0.5559\n",
      "Validation Loss: 0.6468\n",
      "Test Accuracy: 80.90%\n",
      "Best Accuracy: 83.33%\n",
      "--------------------------------------------------\n"
     ]
    },
    {
     "name": "stderr",
     "output_type": "stream",
     "text": [
      "Epoch 233/300: 100%|██████████| 48/48 [00:00<00:00, 61.56it/s, loss=0.896] \n",
      "\n"
     ]
    },
    {
     "name": "stdout",
     "output_type": "stream",
     "text": [
      "Epoch [233/300]\n",
      "Training Loss: 0.5446\n",
      "Validation Loss: 0.6687\n",
      "Test Accuracy: 81.60%\n",
      "Best Accuracy: 83.33%\n",
      "--------------------------------------------------\n"
     ]
    },
    {
     "name": "stderr",
     "output_type": "stream",
     "text": [
      "Epoch 234/300: 100%|██████████| 48/48 [00:00<00:00, 59.83it/s, loss=1.03]  \n",
      "\n"
     ]
    },
    {
     "name": "stdout",
     "output_type": "stream",
     "text": [
      "Epoch [234/300]\n",
      "Training Loss: 0.5215\n",
      "Validation Loss: 0.7261\n",
      "Test Accuracy: 79.86%\n",
      "Best Accuracy: 83.33%\n",
      "--------------------------------------------------\n"
     ]
    },
    {
     "name": "stderr",
     "output_type": "stream",
     "text": [
      "Epoch 235/300: 100%|██████████| 48/48 [00:00<00:00, 58.56it/s, loss=0.158] \n",
      "Epoch 235/300: 100%|██████████| 48/48 [00:00<00:00, 58.56it/s, loss=0.158] \n"
     ]
    },
    {
     "name": "stdout",
     "output_type": "stream",
     "text": [
      "Epoch [235/300]\n",
      "Training Loss: 0.7118\n",
      "Validation Loss: 0.6396\n",
      "Test Accuracy: 80.90%\n",
      "Best Accuracy: 83.33%\n",
      "--------------------------------------------------\n"
     ]
    },
    {
     "name": "stderr",
     "output_type": "stream",
     "text": [
      "Epoch 236/300: 100%|██████████| 48/48 [00:00<00:00, 65.94it/s, loss=0.035] \n",
      "Epoch 236/300: 100%|██████████| 48/48 [00:00<00:00, 65.94it/s, loss=0.035]\n"
     ]
    },
    {
     "name": "stdout",
     "output_type": "stream",
     "text": [
      "Epoch [236/300]\n",
      "Training Loss: 0.6591\n",
      "Validation Loss: 0.6568\n",
      "Test Accuracy: 80.56%\n",
      "Best Accuracy: 83.33%\n",
      "--------------------------------------------------\n"
     ]
    },
    {
     "name": "stderr",
     "output_type": "stream",
     "text": [
      "Epoch 237/300: 100%|██████████| 48/48 [00:00<00:00, 52.14it/s, loss=0.359] \n",
      "\n"
     ]
    },
    {
     "name": "stdout",
     "output_type": "stream",
     "text": [
      "Epoch [237/300]\n",
      "Training Loss: 0.6301\n",
      "Validation Loss: 0.6481\n",
      "Test Accuracy: 81.60%\n",
      "Best Accuracy: 83.33%\n",
      "--------------------------------------------------\n"
     ]
    },
    {
     "name": "stderr",
     "output_type": "stream",
     "text": [
      "Epoch 238/300: 100%|██████████| 48/48 [00:00<00:00, 53.14it/s, loss=0.0328]\n",
      "Epoch 238/300: 100%|██████████| 48/48 [00:00<00:00, 53.14it/s, loss=0.0328]\n"
     ]
    },
    {
     "name": "stdout",
     "output_type": "stream",
     "text": [
      "Epoch [238/300]\n",
      "Training Loss: 0.6319\n",
      "Validation Loss: 0.6704\n",
      "Test Accuracy: 79.86%\n",
      "Best Accuracy: 83.33%\n",
      "--------------------------------------------------\n"
     ]
    },
    {
     "name": "stderr",
     "output_type": "stream",
     "text": [
      "Epoch 239/300: 100%|██████████| 48/48 [00:00<00:00, 60.14it/s, loss=0.426] \n",
      "Epoch 239/300: 100%|██████████| 48/48 [00:00<00:00, 60.14it/s, loss=0.426] \n"
     ]
    },
    {
     "name": "stdout",
     "output_type": "stream",
     "text": [
      "Epoch [239/300]\n",
      "Training Loss: 0.6563\n",
      "Validation Loss: 0.6369\n",
      "Test Accuracy: 82.29%\n",
      "Best Accuracy: 83.33%\n",
      "--------------------------------------------------\n"
     ]
    },
    {
     "name": "stderr",
     "output_type": "stream",
     "text": [
      "Epoch 240/300: 100%|██████████| 48/48 [00:00<00:00, 50.38it/s, loss=0.233] \n",
      "Epoch 240/300: 100%|██████████| 48/48 [00:00<00:00, 50.38it/s, loss=0.233] \n"
     ]
    },
    {
     "name": "stdout",
     "output_type": "stream",
     "text": [
      "Epoch [240/300]\n",
      "Training Loss: 0.6549\n",
      "Validation Loss: 0.6412\n",
      "Test Accuracy: 81.94%\n",
      "Best Accuracy: 83.33%\n",
      "--------------------------------------------------\n"
     ]
    },
    {
     "name": "stderr",
     "output_type": "stream",
     "text": [
      "Epoch 241/300: 100%|██████████| 48/48 [00:00<00:00, 58.03it/s, loss=0.767] \n",
      "\n"
     ]
    },
    {
     "name": "stdout",
     "output_type": "stream",
     "text": [
      "Epoch [241/300]\n",
      "Training Loss: 0.7334\n",
      "Validation Loss: 0.6590\n",
      "Test Accuracy: 81.60%\n",
      "Best Accuracy: 83.33%\n",
      "--------------------------------------------------\n"
     ]
    },
    {
     "name": "stderr",
     "output_type": "stream",
     "text": [
      "Epoch 242/300: 100%|██████████| 48/48 [00:00<00:00, 56.07it/s, loss=0.29]  \n",
      "\n"
     ]
    },
    {
     "name": "stdout",
     "output_type": "stream",
     "text": [
      "Epoch [242/300]\n",
      "Training Loss: 0.6037\n",
      "Validation Loss: 0.6626\n",
      "Test Accuracy: 80.90%\n",
      "Best Accuracy: 83.33%\n",
      "--------------------------------------------------\n"
     ]
    },
    {
     "name": "stderr",
     "output_type": "stream",
     "text": [
      "Epoch 243/300: 100%|██████████| 48/48 [00:00<00:00, 62.44it/s, loss=0.25]  \n",
      "\n"
     ]
    },
    {
     "name": "stdout",
     "output_type": "stream",
     "text": [
      "Epoch [243/300]\n",
      "Training Loss: 0.7853\n",
      "Validation Loss: 0.6644\n",
      "Test Accuracy: 81.25%\n",
      "Best Accuracy: 83.33%\n",
      "--------------------------------------------------\n"
     ]
    },
    {
     "name": "stderr",
     "output_type": "stream",
     "text": [
      "Epoch 244/300: 100%|██████████| 48/48 [00:00<00:00, 60.32it/s, loss=0.0759]\n",
      "\n"
     ]
    },
    {
     "name": "stdout",
     "output_type": "stream",
     "text": [
      "Epoch [244/300]\n",
      "Training Loss: 0.6246\n",
      "Validation Loss: 0.6061\n",
      "Test Accuracy: 82.29%\n",
      "Best Accuracy: 83.33%\n",
      "--------------------------------------------------\n"
     ]
    },
    {
     "name": "stderr",
     "output_type": "stream",
     "text": [
      "Epoch 245/300: 100%|██████████| 48/48 [00:00<00:00, 54.19it/s, loss=0.253] \n",
      "\n"
     ]
    },
    {
     "name": "stdout",
     "output_type": "stream",
     "text": [
      "Epoch [245/300]\n",
      "Training Loss: 0.6003\n",
      "Validation Loss: 0.6307\n",
      "Test Accuracy: 81.60%\n",
      "Best Accuracy: 83.33%\n",
      "--------------------------------------------------\n"
     ]
    },
    {
     "name": "stderr",
     "output_type": "stream",
     "text": [
      "Epoch 246/300: 100%|██████████| 48/48 [00:00<00:00, 72.70it/s, loss=0.444] \n",
      "\n"
     ]
    },
    {
     "name": "stdout",
     "output_type": "stream",
     "text": [
      "Epoch [246/300]\n",
      "Training Loss: 0.6402\n",
      "Validation Loss: 0.6346\n",
      "Test Accuracy: 81.60%\n",
      "Best Accuracy: 83.33%\n",
      "--------------------------------------------------\n"
     ]
    },
    {
     "name": "stderr",
     "output_type": "stream",
     "text": [
      "Epoch 247/300: 100%|██████████| 48/48 [00:00<00:00, 54.43it/s, loss=0.0829]\n",
      "\n"
     ]
    },
    {
     "name": "stdout",
     "output_type": "stream",
     "text": [
      "Epoch [247/300]\n",
      "Training Loss: 0.5931\n",
      "Validation Loss: 0.6228\n",
      "Test Accuracy: 82.64%\n",
      "Best Accuracy: 83.33%\n",
      "--------------------------------------------------\n"
     ]
    },
    {
     "name": "stderr",
     "output_type": "stream",
     "text": [
      "Epoch 248/300: 100%|██████████| 48/48 [00:00<00:00, 64.17it/s, loss=0.1]   \n",
      "\n"
     ]
    },
    {
     "name": "stdout",
     "output_type": "stream",
     "text": [
      "Epoch [248/300]\n",
      "Training Loss: 0.6820\n",
      "Validation Loss: 0.6689\n",
      "Test Accuracy: 81.25%\n",
      "Best Accuracy: 83.33%\n",
      "--------------------------------------------------\n"
     ]
    },
    {
     "name": "stderr",
     "output_type": "stream",
     "text": [
      "Epoch 249/300: 100%|██████████| 48/48 [00:00<00:00, 65.62it/s, loss=0.0484]\n",
      "\n"
     ]
    },
    {
     "name": "stdout",
     "output_type": "stream",
     "text": [
      "Epoch [249/300]\n",
      "Training Loss: 0.6223\n",
      "Validation Loss: 0.6689\n",
      "Test Accuracy: 81.25%\n",
      "Best Accuracy: 83.33%\n",
      "--------------------------------------------------\n"
     ]
    },
    {
     "name": "stderr",
     "output_type": "stream",
     "text": [
      "Epoch 250/300: 100%|██████████| 48/48 [00:00<00:00, 51.55it/s, loss=0.827] \n",
      "\n"
     ]
    },
    {
     "name": "stdout",
     "output_type": "stream",
     "text": [
      "Epoch [250/300]\n",
      "Training Loss: 0.6578\n",
      "Validation Loss: 0.6692\n",
      "Test Accuracy: 80.90%\n",
      "Best Accuracy: 83.33%\n",
      "--------------------------------------------------\n"
     ]
    },
    {
     "name": "stderr",
     "output_type": "stream",
     "text": [
      "Epoch 251/300: 100%|██████████| 48/48 [00:00<00:00, 65.72it/s, loss=0.0893]\n",
      "Epoch 251/300: 100%|██████████| 48/48 [00:00<00:00, 65.72it/s, loss=0.0893]\n"
     ]
    },
    {
     "name": "stdout",
     "output_type": "stream",
     "text": [
      "Epoch [251/300]\n",
      "Training Loss: 0.5582\n",
      "Validation Loss: 0.6560\n",
      "Test Accuracy: 81.60%\n",
      "Best Accuracy: 83.33%\n",
      "--------------------------------------------------\n"
     ]
    },
    {
     "name": "stderr",
     "output_type": "stream",
     "text": [
      "Epoch 252/300: 100%|██████████| 48/48 [00:00<00:00, 52.91it/s, loss=0.173] \n",
      "Epoch 252/300: 100%|██████████| 48/48 [00:00<00:00, 52.91it/s, loss=0.173]\n"
     ]
    },
    {
     "name": "stdout",
     "output_type": "stream",
     "text": [
      "Epoch [252/300]\n",
      "Training Loss: 0.5288\n",
      "Validation Loss: 0.6420\n",
      "Test Accuracy: 81.60%\n",
      "Best Accuracy: 83.33%\n",
      "--------------------------------------------------\n"
     ]
    },
    {
     "name": "stderr",
     "output_type": "stream",
     "text": [
      "Epoch 253/300: 100%|██████████| 48/48 [00:00<00:00, 58.01it/s, loss=0.646] \n",
      "\n"
     ]
    },
    {
     "name": "stdout",
     "output_type": "stream",
     "text": [
      "Epoch [253/300]\n",
      "Training Loss: 0.6526\n",
      "Validation Loss: 0.6685\n",
      "Test Accuracy: 81.94%\n",
      "Best Accuracy: 83.33%\n",
      "--------------------------------------------------\n"
     ]
    },
    {
     "name": "stderr",
     "output_type": "stream",
     "text": [
      "Epoch 254/300: 100%|██████████| 48/48 [00:00<00:00, 54.24it/s, loss=0.891] \n",
      "Epoch 254/300: 100%|██████████| 48/48 [00:00<00:00, 54.24it/s, loss=0.891] \n"
     ]
    },
    {
     "name": "stdout",
     "output_type": "stream",
     "text": [
      "Epoch [254/300]\n",
      "Training Loss: 0.5776\n",
      "Validation Loss: 0.6357\n",
      "Test Accuracy: 82.29%\n",
      "Best Accuracy: 83.33%\n",
      "--------------------------------------------------\n"
     ]
    },
    {
     "name": "stderr",
     "output_type": "stream",
     "text": [
      "Epoch 255/300: 100%|██████████| 48/48 [00:00<00:00, 60.98it/s, loss=0.68]  \n",
      "Epoch 255/300: 100%|██████████| 48/48 [00:00<00:00, 60.98it/s, loss=0.68]  \n"
     ]
    },
    {
     "name": "stdout",
     "output_type": "stream",
     "text": [
      "Epoch [255/300]\n",
      "Training Loss: 0.6533\n",
      "Validation Loss: 0.6179\n",
      "Test Accuracy: 82.29%\n",
      "Best Accuracy: 83.33%\n",
      "--------------------------------------------------\n"
     ]
    },
    {
     "name": "stderr",
     "output_type": "stream",
     "text": [
      "Epoch 256/300: 100%|██████████| 48/48 [00:00<00:00, 65.27it/s, loss=0.853] \n",
      "Epoch 256/300: 100%|██████████| 48/48 [00:00<00:00, 65.27it/s, loss=0.853] \n"
     ]
    },
    {
     "name": "stdout",
     "output_type": "stream",
     "text": [
      "Epoch [256/300]\n",
      "Training Loss: 0.6245\n",
      "Validation Loss: 0.6734\n",
      "Test Accuracy: 80.90%\n",
      "Best Accuracy: 83.33%\n",
      "--------------------------------------------------\n"
     ]
    },
    {
     "name": "stderr",
     "output_type": "stream",
     "text": [
      "Epoch 257/300: 100%|██████████| 48/48 [00:00<00:00, 66.28it/s, loss=0.123] \n",
      "Epoch 257/300: 100%|██████████| 48/48 [00:00<00:00, 66.28it/s, loss=0.123] \n"
     ]
    },
    {
     "name": "stdout",
     "output_type": "stream",
     "text": [
      "Epoch [257/300]\n",
      "Training Loss: 0.6729\n",
      "Validation Loss: 0.6516\n",
      "Test Accuracy: 81.60%\n",
      "Best Accuracy: 83.33%\n",
      "--------------------------------------------------\n"
     ]
    },
    {
     "name": "stderr",
     "output_type": "stream",
     "text": [
      "Epoch 258/300: 100%|██████████| 48/48 [00:00<00:00, 70.62it/s, loss=1.64]  \n",
      "Epoch 258/300: 100%|██████████| 48/48 [00:00<00:00, 70.62it/s, loss=1.64]  \n"
     ]
    },
    {
     "name": "stdout",
     "output_type": "stream",
     "text": [
      "Epoch [258/300]\n",
      "Training Loss: 0.4691\n",
      "Validation Loss: 0.6155\n",
      "Test Accuracy: 82.99%\n",
      "Best Accuracy: 83.33%\n",
      "--------------------------------------------------\n"
     ]
    },
    {
     "name": "stderr",
     "output_type": "stream",
     "text": [
      "Epoch 259/300: 100%|██████████| 48/48 [00:00<00:00, 63.17it/s, loss=0.0382]\n",
      "Epoch 259/300: 100%|██████████| 48/48 [00:00<00:00, 63.17it/s, loss=0.0382]\n"
     ]
    },
    {
     "name": "stdout",
     "output_type": "stream",
     "text": [
      "Epoch [259/300]\n",
      "Training Loss: 0.5317\n",
      "Validation Loss: 0.6288\n",
      "Test Accuracy: 82.64%\n",
      "Best Accuracy: 83.33%\n",
      "--------------------------------------------------\n"
     ]
    },
    {
     "name": "stderr",
     "output_type": "stream",
     "text": [
      "Epoch 260/300: 100%|██████████| 48/48 [00:00<00:00, 71.17it/s, loss=0.22]  \n",
      "Epoch 260/300: 100%|██████████| 48/48 [00:00<00:00, 71.17it/s, loss=0.22]  \n"
     ]
    },
    {
     "name": "stdout",
     "output_type": "stream",
     "text": [
      "Epoch [260/300]\n",
      "Training Loss: 0.5873\n",
      "Validation Loss: 0.6237\n",
      "Test Accuracy: 81.94%\n",
      "Best Accuracy: 83.33%\n",
      "--------------------------------------------------\n"
     ]
    },
    {
     "name": "stderr",
     "output_type": "stream",
     "text": [
      "Epoch 261/300: 100%|██████████| 48/48 [00:00<00:00, 66.55it/s, loss=1.61]  \n",
      "Epoch 261/300: 100%|██████████| 48/48 [00:00<00:00, 66.55it/s, loss=1.61]  \n"
     ]
    },
    {
     "name": "stdout",
     "output_type": "stream",
     "text": [
      "Epoch [261/300]\n",
      "Training Loss: 0.6046\n",
      "Validation Loss: 0.6435\n",
      "Test Accuracy: 81.94%\n",
      "Best Accuracy: 83.33%\n",
      "--------------------------------------------------\n"
     ]
    },
    {
     "name": "stderr",
     "output_type": "stream",
     "text": [
      "Epoch 262/300: 100%|██████████| 48/48 [00:00<00:00, 69.13it/s, loss=0.0593]\n",
      "Epoch 262/300: 100%|██████████| 48/48 [00:00<00:00, 69.13it/s, loss=0.0593]\n"
     ]
    },
    {
     "name": "stdout",
     "output_type": "stream",
     "text": [
      "Epoch [262/300]\n",
      "Training Loss: 0.6422\n",
      "Validation Loss: 0.6521\n",
      "Test Accuracy: 80.90%\n",
      "Best Accuracy: 83.33%\n",
      "--------------------------------------------------\n"
     ]
    },
    {
     "name": "stderr",
     "output_type": "stream",
     "text": [
      "Epoch 263/300: 100%|██████████| 48/48 [00:00<00:00, 66.85it/s, loss=0.0441]\n",
      "Epoch 263/300: 100%|██████████| 48/48 [00:00<00:00, 66.85it/s, loss=0.0441]\n"
     ]
    },
    {
     "name": "stdout",
     "output_type": "stream",
     "text": [
      "Epoch [263/300]\n",
      "Training Loss: 0.7200\n",
      "Validation Loss: 0.6481\n",
      "Test Accuracy: 81.60%\n",
      "Best Accuracy: 83.33%\n",
      "--------------------------------------------------\n"
     ]
    },
    {
     "name": "stderr",
     "output_type": "stream",
     "text": [
      "Epoch 264/300: 100%|██████████| 48/48 [00:00<00:00, 71.01it/s, loss=0.0458]\n",
      "Epoch 264/300: 100%|██████████| 48/48 [00:00<00:00, 71.01it/s, loss=0.0458]\n"
     ]
    },
    {
     "name": "stdout",
     "output_type": "stream",
     "text": [
      "Epoch [264/300]\n",
      "Training Loss: 0.5972\n",
      "Validation Loss: 0.6550\n",
      "Test Accuracy: 80.56%\n",
      "Best Accuracy: 83.33%\n",
      "--------------------------------------------------\n"
     ]
    },
    {
     "name": "stderr",
     "output_type": "stream",
     "text": [
      "Epoch 265/300: 100%|██████████| 48/48 [00:00<00:00, 60.84it/s, loss=1.16]  \n",
      "Epoch 265/300: 100%|██████████| 48/48 [00:00<00:00, 60.84it/s, loss=1.16]  \n"
     ]
    },
    {
     "name": "stdout",
     "output_type": "stream",
     "text": [
      "Epoch [265/300]\n",
      "Training Loss: 0.6563\n",
      "Validation Loss: 0.6839\n",
      "Test Accuracy: 80.56%\n",
      "Best Accuracy: 83.33%\n",
      "--------------------------------------------------\n"
     ]
    },
    {
     "name": "stderr",
     "output_type": "stream",
     "text": [
      "Epoch 266/300: 100%|██████████| 48/48 [00:00<00:00, 70.11it/s, loss=0.985] \n",
      "Epoch 266/300: 100%|██████████| 48/48 [00:00<00:00, 70.11it/s, loss=0.985] \n"
     ]
    },
    {
     "name": "stdout",
     "output_type": "stream",
     "text": [
      "Epoch [266/300]\n",
      "Training Loss: 0.5016\n",
      "Validation Loss: 0.6348\n",
      "Test Accuracy: 81.25%\n",
      "Best Accuracy: 83.33%\n",
      "--------------------------------------------------\n"
     ]
    },
    {
     "name": "stderr",
     "output_type": "stream",
     "text": [
      "Epoch 267/300: 100%|██████████| 48/48 [00:00<00:00, 61.71it/s, loss=0.131] \n",
      "Epoch 267/300: 100%|██████████| 48/48 [00:00<00:00, 61.71it/s, loss=0.131] \n"
     ]
    },
    {
     "name": "stdout",
     "output_type": "stream",
     "text": [
      "Epoch [267/300]\n",
      "Training Loss: 0.5150\n",
      "Validation Loss: 0.6323\n",
      "Test Accuracy: 81.60%\n",
      "Best Accuracy: 83.33%\n",
      "--------------------------------------------------\n"
     ]
    },
    {
     "name": "stderr",
     "output_type": "stream",
     "text": [
      "Epoch 268/300: 100%|██████████| 48/48 [00:00<00:00, 70.52it/s, loss=1.35]  \n",
      "Epoch 268/300: 100%|██████████| 48/48 [00:00<00:00, 70.52it/s, loss=1.35]  \n"
     ]
    },
    {
     "name": "stdout",
     "output_type": "stream",
     "text": [
      "Epoch [268/300]\n",
      "Training Loss: 0.6212\n",
      "Validation Loss: 0.6231\n",
      "Test Accuracy: 82.64%\n",
      "Best Accuracy: 83.33%\n",
      "--------------------------------------------------\n"
     ]
    },
    {
     "name": "stderr",
     "output_type": "stream",
     "text": [
      "Epoch 269/300: 100%|██████████| 48/48 [00:00<00:00, 65.64it/s, loss=0.419] \n",
      "Epoch 269/300: 100%|██████████| 48/48 [00:00<00:00, 65.64it/s, loss=0.419] \n"
     ]
    },
    {
     "name": "stdout",
     "output_type": "stream",
     "text": [
      "Epoch [269/300]\n",
      "Training Loss: 0.7091\n",
      "Validation Loss: 0.6219\n",
      "Test Accuracy: 81.94%\n",
      "Best Accuracy: 83.33%\n",
      "--------------------------------------------------\n"
     ]
    },
    {
     "name": "stderr",
     "output_type": "stream",
     "text": [
      "Epoch 270/300: 100%|██████████| 48/48 [00:00<00:00, 68.76it/s, loss=0.417] \n",
      "Epoch 270/300: 100%|██████████| 48/48 [00:00<00:00, 68.76it/s, loss=0.417] \n"
     ]
    },
    {
     "name": "stdout",
     "output_type": "stream",
     "text": [
      "Epoch [270/300]\n",
      "Training Loss: 0.6993\n",
      "Validation Loss: 0.6726\n",
      "Test Accuracy: 80.21%\n",
      "Best Accuracy: 83.33%\n",
      "--------------------------------------------------\n"
     ]
    },
    {
     "name": "stderr",
     "output_type": "stream",
     "text": [
      "Epoch 271/300: 100%|██████████| 48/48 [00:00<00:00, 69.08it/s, loss=0.365] \n",
      "Epoch 271/300: 100%|██████████| 48/48 [00:00<00:00, 69.08it/s, loss=0.365] \n"
     ]
    },
    {
     "name": "stdout",
     "output_type": "stream",
     "text": [
      "Epoch [271/300]\n",
      "Training Loss: 0.4920\n",
      "Validation Loss: 0.6492\n",
      "Test Accuracy: 81.25%\n",
      "Best Accuracy: 83.33%\n",
      "--------------------------------------------------\n"
     ]
    },
    {
     "name": "stderr",
     "output_type": "stream",
     "text": [
      "Epoch 272/300: 100%|██████████| 48/48 [00:00<00:00, 65.63it/s, loss=1.11]  \n",
      "Epoch 272/300: 100%|██████████| 48/48 [00:00<00:00, 65.63it/s, loss=1.11]  \n"
     ]
    },
    {
     "name": "stdout",
     "output_type": "stream",
     "text": [
      "Epoch [272/300]\n",
      "Training Loss: 0.6643\n",
      "Validation Loss: 0.6548\n",
      "Test Accuracy: 81.25%\n",
      "Best Accuracy: 83.33%\n",
      "--------------------------------------------------\n"
     ]
    },
    {
     "name": "stderr",
     "output_type": "stream",
     "text": [
      "Epoch 273/300: 100%|██████████| 48/48 [00:00<00:00, 55.25it/s, loss=1.18]  \n",
      "Epoch 273/300: 100%|██████████| 48/48 [00:00<00:00, 55.25it/s, loss=1.18]  \n"
     ]
    },
    {
     "name": "stdout",
     "output_type": "stream",
     "text": [
      "Epoch [273/300]\n",
      "Training Loss: 0.7165\n",
      "Validation Loss: 0.6575\n",
      "Test Accuracy: 80.90%\n",
      "Best Accuracy: 83.33%\n",
      "--------------------------------------------------\n"
     ]
    },
    {
     "name": "stderr",
     "output_type": "stream",
     "text": [
      "Epoch 274/300: 100%|██████████| 48/48 [00:00<00:00, 60.58it/s, loss=1.31]  \n",
      "Epoch 274/300: 100%|██████████| 48/48 [00:00<00:00, 60.58it/s, loss=1.31]  \n"
     ]
    },
    {
     "name": "stdout",
     "output_type": "stream",
     "text": [
      "Epoch [274/300]\n",
      "Training Loss: 0.6925\n",
      "Validation Loss: 0.6704\n",
      "Test Accuracy: 81.25%\n",
      "Best Accuracy: 83.33%\n",
      "--------------------------------------------------\n"
     ]
    },
    {
     "name": "stderr",
     "output_type": "stream",
     "text": [
      "Epoch 275/300: 100%|██████████| 48/48 [00:00<00:00, 54.33it/s, loss=0.522] \n",
      "Epoch 275/300: 100%|██████████| 48/48 [00:00<00:00, 54.33it/s, loss=0.522] \n"
     ]
    },
    {
     "name": "stdout",
     "output_type": "stream",
     "text": [
      "Epoch [275/300]\n",
      "Training Loss: 0.6453\n",
      "Validation Loss: 0.6531\n",
      "Test Accuracy: 81.25%\n",
      "Best Accuracy: 83.33%\n",
      "--------------------------------------------------\n"
     ]
    },
    {
     "name": "stderr",
     "output_type": "stream",
     "text": [
      "Epoch 276/300: 100%|██████████| 48/48 [00:00<00:00, 54.88it/s, loss=0.0638]\n",
      "Epoch 276/300: 100%|██████████| 48/48 [00:00<00:00, 54.88it/s, loss=0.0638]\n"
     ]
    },
    {
     "name": "stdout",
     "output_type": "stream",
     "text": [
      "Epoch [276/300]\n",
      "Training Loss: 0.5760\n",
      "Validation Loss: 0.6470\n",
      "Test Accuracy: 81.94%\n",
      "Best Accuracy: 83.33%\n",
      "--------------------------------------------------\n"
     ]
    },
    {
     "name": "stderr",
     "output_type": "stream",
     "text": [
      "Epoch 277/300: 100%|██████████| 48/48 [00:00<00:00, 55.33it/s, loss=1.21]  \n",
      "Epoch 277/300: 100%|██████████| 48/48 [00:00<00:00, 55.33it/s, loss=1.21]  \n"
     ]
    },
    {
     "name": "stdout",
     "output_type": "stream",
     "text": [
      "Epoch [277/300]\n",
      "Training Loss: 0.6554\n",
      "Validation Loss: 0.6665\n",
      "Test Accuracy: 81.25%\n",
      "Best Accuracy: 83.33%\n",
      "--------------------------------------------------\n"
     ]
    },
    {
     "name": "stderr",
     "output_type": "stream",
     "text": [
      "Epoch 278/300: 100%|██████████| 48/48 [00:00<00:00, 55.28it/s, loss=0.175] \n",
      "Epoch 278/300: 100%|██████████| 48/48 [00:00<00:00, 55.28it/s, loss=0.175] \n"
     ]
    },
    {
     "name": "stdout",
     "output_type": "stream",
     "text": [
      "Epoch [278/300]\n",
      "Training Loss: 0.5463\n",
      "Validation Loss: 0.6304\n",
      "Test Accuracy: 81.60%\n",
      "Best Accuracy: 83.33%\n",
      "--------------------------------------------------\n"
     ]
    },
    {
     "name": "stderr",
     "output_type": "stream",
     "text": [
      "Epoch 279/300: 100%|██████████| 48/48 [00:00<00:00, 61.10it/s, loss=1.56]  \n",
      "Epoch 279/300: 100%|██████████| 48/48 [00:00<00:00, 61.10it/s, loss=1.56]  \n"
     ]
    },
    {
     "name": "stdout",
     "output_type": "stream",
     "text": [
      "Epoch [279/300]\n",
      "Training Loss: 0.7296\n",
      "Validation Loss: 0.6530\n",
      "Test Accuracy: 80.90%\n",
      "Best Accuracy: 83.33%\n",
      "--------------------------------------------------\n"
     ]
    },
    {
     "name": "stderr",
     "output_type": "stream",
     "text": [
      "Epoch 280/300: 100%|██████████| 48/48 [00:00<00:00, 60.64it/s, loss=0.105] \n",
      "Epoch 280/300: 100%|██████████| 48/48 [00:00<00:00, 60.64it/s, loss=0.105]\n"
     ]
    },
    {
     "name": "stdout",
     "output_type": "stream",
     "text": [
      "Epoch [280/300]\n",
      "Training Loss: 0.7523\n",
      "Validation Loss: 0.6454\n",
      "Test Accuracy: 81.60%\n",
      "Best Accuracy: 83.33%\n",
      "--------------------------------------------------\n"
     ]
    },
    {
     "name": "stderr",
     "output_type": "stream",
     "text": [
      "Epoch 281/300: 100%|██████████| 48/48 [00:00<00:00, 65.00it/s, loss=0.329] \n",
      "Epoch 281/300: 100%|██████████| 48/48 [00:00<00:00, 65.00it/s, loss=0.329]\n"
     ]
    },
    {
     "name": "stdout",
     "output_type": "stream",
     "text": [
      "Epoch [281/300]\n",
      "Training Loss: 0.6652\n",
      "Validation Loss: 0.6326\n",
      "Test Accuracy: 81.94%\n",
      "Best Accuracy: 83.33%\n",
      "--------------------------------------------------\n"
     ]
    },
    {
     "name": "stderr",
     "output_type": "stream",
     "text": [
      "Epoch 282/300: 100%|██████████| 48/48 [00:00<00:00, 62.72it/s, loss=0.644] \n",
      "Epoch 282/300: 100%|██████████| 48/48 [00:00<00:00, 62.72it/s, loss=0.644] \n"
     ]
    },
    {
     "name": "stdout",
     "output_type": "stream",
     "text": [
      "Epoch [282/300]\n",
      "Training Loss: 0.6359\n",
      "Validation Loss: 0.6232\n",
      "Test Accuracy: 81.94%\n",
      "Best Accuracy: 83.33%\n",
      "--------------------------------------------------\n"
     ]
    },
    {
     "name": "stderr",
     "output_type": "stream",
     "text": [
      "Epoch 283/300: 100%|██████████| 48/48 [00:00<00:00, 56.89it/s, loss=0.0626]\n",
      "Epoch 283/300: 100%|██████████| 48/48 [00:00<00:00, 56.89it/s, loss=0.0626]\n"
     ]
    },
    {
     "name": "stdout",
     "output_type": "stream",
     "text": [
      "Epoch [283/300]\n",
      "Training Loss: 0.5347\n",
      "Validation Loss: 0.6225\n",
      "Test Accuracy: 82.29%\n",
      "Best Accuracy: 83.33%\n",
      "--------------------------------------------------\n"
     ]
    },
    {
     "name": "stderr",
     "output_type": "stream",
     "text": [
      "Epoch 284/300: 100%|██████████| 48/48 [00:00<00:00, 67.08it/s, loss=1.26]  \n",
      "Epoch 284/300: 100%|██████████| 48/48 [00:00<00:00, 67.08it/s, loss=1.26] \n"
     ]
    },
    {
     "name": "stdout",
     "output_type": "stream",
     "text": [
      "Epoch [284/300]\n",
      "Training Loss: 0.5681\n",
      "Validation Loss: 0.6445\n",
      "Test Accuracy: 81.25%\n",
      "Best Accuracy: 83.33%\n",
      "--------------------------------------------------\n"
     ]
    },
    {
     "name": "stderr",
     "output_type": "stream",
     "text": [
      "Epoch 285/300: 100%|██████████| 48/48 [00:00<00:00, 58.01it/s, loss=1.44]  \n",
      "Epoch 285/300: 100%|██████████| 48/48 [00:00<00:00, 58.01it/s, loss=1.44]  \n"
     ]
    },
    {
     "name": "stdout",
     "output_type": "stream",
     "text": [
      "Epoch [285/300]\n",
      "Training Loss: 0.7009\n",
      "Validation Loss: 0.6453\n",
      "Test Accuracy: 81.25%\n",
      "Best Accuracy: 83.33%\n",
      "--------------------------------------------------\n"
     ]
    },
    {
     "name": "stderr",
     "output_type": "stream",
     "text": [
      "Epoch 286/300: 100%|██████████| 48/48 [00:00<00:00, 60.26it/s, loss=1.21]  \n",
      "Epoch 286/300: 100%|██████████| 48/48 [00:00<00:00, 60.26it/s, loss=1.21]  \n"
     ]
    },
    {
     "name": "stdout",
     "output_type": "stream",
     "text": [
      "Epoch [286/300]\n",
      "Training Loss: 0.6754\n",
      "Validation Loss: 0.6706\n",
      "Test Accuracy: 80.90%\n",
      "Best Accuracy: 83.33%\n",
      "--------------------------------------------------\n"
     ]
    },
    {
     "name": "stderr",
     "output_type": "stream",
     "text": [
      "Epoch 287/300: 100%|██████████| 48/48 [00:00<00:00, 71.69it/s, loss=1.2]   \n",
      "\n"
     ]
    },
    {
     "name": "stdout",
     "output_type": "stream",
     "text": [
      "Epoch [287/300]\n",
      "Training Loss: 0.6173\n",
      "Validation Loss: 0.6549\n",
      "Test Accuracy: 81.94%\n",
      "Best Accuracy: 83.33%\n",
      "--------------------------------------------------\n"
     ]
    },
    {
     "name": "stderr",
     "output_type": "stream",
     "text": [
      "Epoch 288/300: 100%|██████████| 48/48 [00:00<00:00, 61.20it/s, loss=1.46]  \n",
      "Epoch 288/300: 100%|██████████| 48/48 [00:00<00:00, 61.20it/s, loss=1.46]  \n"
     ]
    },
    {
     "name": "stdout",
     "output_type": "stream",
     "text": [
      "Epoch [288/300]\n",
      "Training Loss: 0.6601\n",
      "Validation Loss: 0.6600\n",
      "Test Accuracy: 81.25%\n",
      "Best Accuracy: 83.33%\n",
      "--------------------------------------------------\n"
     ]
    },
    {
     "name": "stderr",
     "output_type": "stream",
     "text": [
      "Epoch 289/300: 100%|██████████| 48/48 [00:00<00:00, 69.68it/s, loss=0.558] \n",
      "Epoch 289/300: 100%|██████████| 48/48 [00:00<00:00, 69.68it/s, loss=0.558] \n"
     ]
    },
    {
     "name": "stdout",
     "output_type": "stream",
     "text": [
      "Epoch [289/300]\n",
      "Training Loss: 0.5360\n",
      "Validation Loss: 0.6524\n",
      "Test Accuracy: 82.64%\n",
      "Best Accuracy: 83.33%\n",
      "--------------------------------------------------\n"
     ]
    },
    {
     "name": "stderr",
     "output_type": "stream",
     "text": [
      "Epoch 290/300: 100%|██████████| 48/48 [00:00<00:00, 64.39it/s, loss=0.0369]\n",
      "Epoch 290/300: 100%|██████████| 48/48 [00:00<00:00, 64.39it/s, loss=0.0369]\n"
     ]
    },
    {
     "name": "stdout",
     "output_type": "stream",
     "text": [
      "Epoch [290/300]\n",
      "Training Loss: 0.4811\n",
      "Validation Loss: 0.6356\n",
      "Test Accuracy: 81.25%\n",
      "Best Accuracy: 83.33%\n",
      "--------------------------------------------------\n"
     ]
    },
    {
     "name": "stderr",
     "output_type": "stream",
     "text": [
      "Epoch 291/300: 100%|██████████| 48/48 [00:00<00:00, 58.37it/s, loss=1.09]  \n",
      "Epoch 291/300: 100%|██████████| 48/48 [00:00<00:00, 58.37it/s, loss=1.09]  \n"
     ]
    },
    {
     "name": "stdout",
     "output_type": "stream",
     "text": [
      "Epoch [291/300]\n",
      "Training Loss: 0.7587\n",
      "Validation Loss: 0.6515\n",
      "Test Accuracy: 80.90%\n",
      "Best Accuracy: 83.33%\n",
      "--------------------------------------------------\n"
     ]
    },
    {
     "name": "stderr",
     "output_type": "stream",
     "text": [
      "Epoch 292/300: 100%|██████████| 48/48 [00:00<00:00, 68.63it/s, loss=0.365] \n",
      "Epoch 292/300: 100%|██████████| 48/48 [00:00<00:00, 68.63it/s, loss=0.365] \n"
     ]
    },
    {
     "name": "stdout",
     "output_type": "stream",
     "text": [
      "Epoch [292/300]\n",
      "Training Loss: 0.5208\n",
      "Validation Loss: 0.6476\n",
      "Test Accuracy: 81.25%\n",
      "Best Accuracy: 83.33%\n",
      "--------------------------------------------------\n"
     ]
    },
    {
     "name": "stderr",
     "output_type": "stream",
     "text": [
      "Epoch 293/300: 100%|██████████| 48/48 [00:00<00:00, 60.72it/s, loss=1.02]  \n",
      "Epoch 293/300: 100%|██████████| 48/48 [00:00<00:00, 60.72it/s, loss=1.02]  \n"
     ]
    },
    {
     "name": "stdout",
     "output_type": "stream",
     "text": [
      "Epoch [293/300]\n",
      "Training Loss: 0.6252\n",
      "Validation Loss: 0.6635\n",
      "Test Accuracy: 81.25%\n",
      "Best Accuracy: 83.33%\n",
      "--------------------------------------------------\n"
     ]
    },
    {
     "name": "stderr",
     "output_type": "stream",
     "text": [
      "Epoch 294/300: 100%|██████████| 48/48 [00:00<00:00, 66.06it/s, loss=1.46]  \n",
      "Epoch 294/300: 100%|██████████| 48/48 [00:00<00:00, 66.06it/s, loss=1.46]  \n"
     ]
    },
    {
     "name": "stdout",
     "output_type": "stream",
     "text": [
      "Epoch [294/300]\n",
      "Training Loss: 0.6849\n",
      "Validation Loss: 0.6724\n",
      "Test Accuracy: 80.90%\n",
      "Best Accuracy: 83.33%\n",
      "--------------------------------------------------\n"
     ]
    },
    {
     "name": "stderr",
     "output_type": "stream",
     "text": [
      "Epoch 295/300: 100%|██████████| 48/48 [00:00<00:00, 72.68it/s, loss=0.22]  \n",
      "Epoch 295/300: 100%|██████████| 48/48 [00:00<00:00, 72.68it/s, loss=0.22]  \n"
     ]
    },
    {
     "name": "stdout",
     "output_type": "stream",
     "text": [
      "Epoch [295/300]\n",
      "Training Loss: 0.5745\n",
      "Validation Loss: 0.6399\n",
      "Test Accuracy: 81.60%\n",
      "Best Accuracy: 83.33%\n",
      "--------------------------------------------------\n"
     ]
    },
    {
     "name": "stderr",
     "output_type": "stream",
     "text": [
      "Epoch 296/300: 100%|██████████| 48/48 [00:00<00:00, 60.77it/s, loss=0.0461]\n",
      "Epoch 296/300: 100%|██████████| 48/48 [00:00<00:00, 60.77it/s, loss=0.0461]\n"
     ]
    },
    {
     "name": "stdout",
     "output_type": "stream",
     "text": [
      "Epoch [296/300]\n",
      "Training Loss: 0.6267\n",
      "Validation Loss: 0.6371\n",
      "Test Accuracy: 82.29%\n",
      "Best Accuracy: 83.33%\n",
      "--------------------------------------------------\n"
     ]
    },
    {
     "name": "stderr",
     "output_type": "stream",
     "text": [
      "Epoch 297/300: 100%|██████████| 48/48 [00:00<00:00, 70.06it/s, loss=1.26]  \n",
      "Epoch 297/300: 100%|██████████| 48/48 [00:00<00:00, 70.06it/s, loss=1.26]  \n"
     ]
    },
    {
     "name": "stdout",
     "output_type": "stream",
     "text": [
      "Epoch [297/300]\n",
      "Training Loss: 0.5960\n",
      "Validation Loss: 0.6437\n",
      "Test Accuracy: 81.25%\n",
      "Best Accuracy: 83.33%\n",
      "--------------------------------------------------\n"
     ]
    },
    {
     "name": "stderr",
     "output_type": "stream",
     "text": [
      "Epoch 298/300: 100%|██████████| 48/48 [00:00<00:00, 72.16it/s, loss=0.44]  \n",
      "\n"
     ]
    },
    {
     "name": "stdout",
     "output_type": "stream",
     "text": [
      "Epoch [298/300]\n",
      "Training Loss: 0.5165\n",
      "Validation Loss: 0.6416\n",
      "Test Accuracy: 81.60%\n",
      "Best Accuracy: 83.33%\n",
      "--------------------------------------------------\n"
     ]
    },
    {
     "name": "stderr",
     "output_type": "stream",
     "text": [
      "Epoch 299/300: 100%|██████████| 48/48 [00:00<00:00, 61.13it/s, loss=0.657] \n",
      "Epoch 299/300: 100%|██████████| 48/48 [00:00<00:00, 61.13it/s, loss=0.657]\n"
     ]
    },
    {
     "name": "stdout",
     "output_type": "stream",
     "text": [
      "Epoch [299/300]\n",
      "Training Loss: 0.5982\n",
      "Validation Loss: 0.6438\n",
      "Test Accuracy: 81.25%\n",
      "Best Accuracy: 83.33%\n",
      "--------------------------------------------------\n"
     ]
    },
    {
     "name": "stderr",
     "output_type": "stream",
     "text": [
      "Epoch 300/300: 100%|██████████| 48/48 [00:00<00:00, 68.61it/s, loss=1.35]  \n",
      "Epoch 300/300: 100%|██████████| 48/48 [00:00<00:00, 68.61it/s, loss=1.35] \n"
     ]
    },
    {
     "name": "stdout",
     "output_type": "stream",
     "text": [
      "Epoch [300/300]\n",
      "Training Loss: 0.4895\n",
      "Validation Loss: 0.6617\n",
      "Test Accuracy: 80.90%\n",
      "Best Accuracy: 83.33%\n",
      "--------------------------------------------------\n",
      "\n",
      "Final Best Accuracy: 83.33%\n"
     ]
    }
   ],
   "source": [
    "# Training parameters\n",
    "import math\n",
    "\n",
    "num_epochs = 300\n",
    "batch_size = 24\n",
    "\n",
    "# Create data loaders\n",
    "train_loader = DataLoader(train_dataset, batch_size=batch_size, shuffle=True)\n",
    "test_loader = DataLoader(test_dataset, batch_size=batch_size)\n",
    "\n",
    "# Learning rate scheduler with warmup\n",
    "def get_cosine_schedule_with_warmup(optimizer, num_warmup_steps, num_training_steps, num_cycles=0.5):\n",
    "    def lr_lambda(current_step):\n",
    "        if current_step < num_warmup_steps:\n",
    "            return float(current_step) / float(max(1, num_warmup_steps))\n",
    "        progress = float(current_step - num_warmup_steps) / float(max(1, num_training_steps - num_warmup_steps))\n",
    "        return max(0.0, 0.5 * (1.0 + math.cos(math.pi * progress)))\n",
    "\n",
    "    return torch.optim.lr_scheduler.LambdaLR(optimizer, lr_lambda)\n",
    "\n",
    "# Calculate total steps for scheduler\n",
    "total_steps = num_epochs * len(train_loader)\n",
    "warmup_steps = total_steps // 10\n",
    "\n",
    "scheduler = get_cosine_schedule_with_warmup(\n",
    "    optimizer,\n",
    "    num_warmup_steps=warmup_steps,\n",
    "    num_training_steps=total_steps\n",
    ")\n",
    "\n",
    "# Mixup augmentation function with adaptive alpha\n",
    "def mixup_data(x, y, epoch, num_epochs, alpha_start=0.2, alpha_end=0.4):\n",
    "    alpha = alpha_start + (alpha_end - alpha_start) * (epoch / num_epochs)\n",
    "    if alpha > 0:\n",
    "        lam = np.random.beta(alpha, alpha)\n",
    "    else:\n",
    "        lam = 1\n",
    "\n",
    "    batch_size = x[0].size()[0]\n",
    "    index = torch.randperm(batch_size).to(device)\n",
    "\n",
    "    mixed_x = (\n",
    "        lam * x[0] + (1 - lam) * x[0][index],\n",
    "        lam * x[1] + (1 - lam) * x[1][index]\n",
    "    )\n",
    "    y_a, y_b = y, y[index]\n",
    "    return mixed_x, y_a, y_b, lam\n",
    "\n",
    "# Training loop\n",
    "train_losses = []\n",
    "test_accuracies = []\n",
    "best_accuracy = 0\n",
    "best_model_state = None\n",
    "\n",
    "for epoch in range(num_epochs):\n",
    "    model.train()\n",
    "    total_loss = 0\n",
    "    \n",
    "    # Training phase\n",
    "    with tqdm(train_loader, desc=f'Epoch {epoch+1}/{num_epochs}') as pbar:\n",
    "        for (mfcc_x, prosody_x), batch_y in pbar:\n",
    "            mfcc_x = mfcc_x.to(device)\n",
    "            prosody_x = prosody_x.to(device)\n",
    "            batch_y = batch_y.to(device)\n",
    "            \n",
    "            # Apply mixup with adaptive alpha\n",
    "            mixed_X, y_a, y_b, lam = mixup_data((mfcc_x, prosody_x), batch_y, epoch, num_epochs)\n",
    "            \n",
    "            optimizer.zero_grad()\n",
    "            outputs = model(mixed_X)\n",
    "            \n",
    "            loss = mixup_criterion(criterion, outputs, y_a, y_b, lam)\n",
    "            loss.backward()\n",
    "            \n",
    "            # Gradient clipping\n",
    "            torch.nn.utils.clip_grad_norm_(model.parameters(), max_norm=1.0)\n",
    "            \n",
    "            optimizer.step()\n",
    "            scheduler.step()\n",
    "            \n",
    "            total_loss += loss.item()\n",
    "            pbar.set_postfix({'loss': loss.item()})\n",
    "    \n",
    "    # Validation phase\n",
    "    model.eval()\n",
    "    correct = 0\n",
    "    total = 0\n",
    "    all_predictions = []\n",
    "    all_targets = []\n",
    "    val_losses = []\n",
    "    \n",
    "    with torch.no_grad():\n",
    "        for (mfcc_x, prosody_x), batch_y in test_loader:\n",
    "            mfcc_x = mfcc_x.to(device)\n",
    "            prosody_x = prosody_x.to(device)\n",
    "            batch_y = batch_y.to(device)\n",
    "            \n",
    "            outputs = model((mfcc_x, prosody_x))\n",
    "            \n",
    "            val_loss = criterion(outputs, batch_y)\n",
    "            val_losses.append(val_loss.item())\n",
    "            \n",
    "            _, predicted = torch.max(outputs.data, 1)\n",
    "            total += batch_y.size(0)\n",
    "            correct += (predicted == batch_y).sum().item()\n",
    "            \n",
    "            all_predictions.extend(predicted.cpu().numpy())\n",
    "            all_targets.extend(batch_y.cpu().numpy())\n",
    "    \n",
    "    accuracy = 100 * correct / total\n",
    "    test_accuracies.append(accuracy)\n",
    "    train_losses.append(total_loss / len(train_loader))\n",
    "    \n",
    "    # Save best model\n",
    "    if accuracy > best_accuracy:\n",
    "        best_accuracy = accuracy\n",
    "        best_model_state = model.state_dict().copy()\n",
    "        epoch_predictions = all_predictions\n",
    "        epoch_targets = all_targets\n",
    "        \n",
    "        # Save model checkpoint\n",
    "        torch.save({\n",
    "            'epoch': epoch,\n",
    "            'model_state_dict': model.state_dict(),\n",
    "            'optimizer_state_dict': optimizer.state_dict(),\n",
    "            'accuracy': accuracy,\n",
    "        }, 'best_multimodal_model.pth')\n",
    "    \n",
    "    print(f'Epoch [{epoch+1}/{num_epochs}]')\n",
    "    print(f'Training Loss: {train_losses[-1]:.4f}')\n",
    "    print(f'Validation Loss: {np.mean(val_losses):.4f}')\n",
    "    print(f'Test Accuracy: {accuracy:.2f}%')\n",
    "    print(f'Best Accuracy: {best_accuracy:.2f}%')\n",
    "    print('-' * 50)\n",
    "\n",
    "# Load best model\n",
    "model.load_state_dict(best_model_state)\n",
    "print(f'\\nFinal Best Accuracy: {best_accuracy:.2f}%')"
   ]
  },
  {
   "cell_type": "markdown",
   "id": "3664242b",
   "metadata": {},
   "source": [
    "## Training Progress and Metrics\n",
    "\n",
    "The training progress shows:\n",
    "- Loss: The training loss per epoch (lower is better)\n",
    "- Test Accuracy: Overall accuracy on the test set\n",
    "- Detailed classification report every 10 epochs including:\n",
    "  - Precision: Ratio of true positives to all predicted positives\n",
    "  - Recall: Ratio of true positives to all actual positives\n",
    "  - F1-score: Harmonic mean of precision and recall\n",
    "  - Support: Number of samples for each class"
   ]
  },
  {
   "cell_type": "code",
   "execution_count": 7,
   "id": "d2987712",
   "metadata": {},
   "outputs": [
    {
     "name": "stdout",
     "output_type": "stream",
     "text": [
      "Final Classification Report:\n",
      "              precision    recall  f1-score   support\n",
      "\n",
      "     neutral       0.85      0.55      0.67        20\n",
      "        calm       0.80      1.00      0.89        44\n",
      "       happy       0.73      0.88      0.80        34\n",
      "         sad       0.70      0.85      0.77        39\n",
      "       angry       1.00      0.86      0.92        42\n",
      "     fearful       0.84      0.66      0.74        32\n",
      "     disgust       0.90      0.88      0.89        32\n",
      "   surprised       0.93      0.82      0.87        45\n",
      "\n",
      "    accuracy                           0.83       288\n",
      "   macro avg       0.84      0.81      0.82       288\n",
      "weighted avg       0.85      0.83      0.83       288\n",
      "\n"
     ]
    }
   ],
   "source": [
    "# Generate final classification report\n",
    "emotion_labels = ['neutral', 'calm', 'happy', 'sad', 'angry', 'fearful', 'disgust', 'surprised']\n",
    "\n",
    "print('Final Classification Report:')\n",
    "print(classification_report(epoch_targets, epoch_predictions, target_names=emotion_labels))"
   ]
  },
  {
   "cell_type": "markdown",
   "id": "6c480645",
   "metadata": {},
   "source": [
    "## Classification Report\n",
    "\n",
    "The classification report shows the model's performance for each emotion:\n",
    "- **Precision**: How many of the predictions for each emotion were correct\n",
    "- **Recall**: How many of the actual instances of each emotion were correctly identified\n",
    "- **F1-score**: The harmonic mean of precision and recall\n",
    "- **Support**: Number of samples for each emotion in the test set\n",
    "\n",
    "A score closer to 1.0 indicates better performance."
   ]
  },
  {
   "cell_type": "code",
   "execution_count": 11,
   "id": "825c5d0d",
   "metadata": {},
   "outputs": [
    {
     "data": {
      "image/png": "[encoded data removed]",
      "text/plain": [
       "<Figure size 1500x500 with 2 Axes>"
      ]
     },
     "metadata": {},
     "output_type": "display_data"
    },
    {
     "name": "stdout",
     "output_type": "stream",
     "text": [
      "\n",
      "Final Results:\n",
      "Best Validation Accuracy: 83.33%\n",
      "Final Training Loss: 0.4895\n"
     ]
    }
   ],
   "source": [
    "# Plot training loss and validation accuracy\n",
    "plt.figure(figsize=(15, 5))\n",
    "\n",
    "# Plot training loss\n",
    "plt.subplot(1, 2, 1)\n",
    "plt.plot(train_losses, 'b-', label='Training Loss')\n",
    "plt.title('Training Loss Over Epochs')\n",
    "plt.xlabel('Epoch')\n",
    "plt.ylabel('Loss')\n",
    "plt.grid(True)\n",
    "plt.legend()\n",
    "\n",
    "# Plot validation accuracy\n",
    "plt.subplot(1, 2, 2)\n",
    "plt.plot(test_accuracies, 'r-', label='Validation Accuracy')\n",
    "plt.title('Validation Accuracy Over Epochs')\n",
    "plt.xlabel('Epoch')\n",
    "plt.ylabel('Accuracy (%)')\n",
    "plt.grid(True)\n",
    "plt.legend()\n",
    "\n",
    "plt.tight_layout()\n",
    "plt.show()\n",
    "\n",
    "# Print final metrics\n",
    "print(f\"\\nFinal Results:\")\n",
    "print(f\"Best Validation Accuracy: {max(test_accuracies):.2f}%\")\n",
    "print(f\"Final Training Loss: {train_losses[-1]:.4f}\")"
   ]
  },
  {
   "cell_type": "markdown",
   "id": "1a4a0365",
   "metadata": {},
   "source": [
    "## Confusion Matrix\n",
    "\n",
    "The confusion matrix shows:\n",
    "- Rows: True emotions\n",
    "- Columns: Predicted emotions\n",
    "- Numbers: Count of predictions\n",
    "- Diagonal: Correct predictions\n",
    "- Off-diagonal: Misclassifications\n",
    "\n",
    "This helps identify which emotions are commonly confused with each other."
   ]
  },
  {
   "cell_type": "code",
   "execution_count": 9,
   "id": "fe7635aa",
   "metadata": {},
   "outputs": [
    {
     "data": {
      "image/png": "[encoded data removed]",
      "text/plain": [
       "<Figure size 1200x1000 with 2 Axes>"
      ]
     },
     "metadata": {},
     "output_type": "display_data"
    },
    {
     "name": "stdout",
     "output_type": "stream",
     "text": [
      "\n",
      "Confusion Matrix Analysis:\n",
      "Total Correct Predictions: 240\n",
      "Total Samples: 288\n",
      "Overall Accuracy: 83.33%\n",
      "\n",
      "Per-class Accuracy:\n",
      "neutral: 55.00%\n",
      "calm: 100.00%\n",
      "happy: 88.24%\n",
      "sad: 84.62%\n",
      "angry: 85.71%\n",
      "fearful: 65.62%\n",
      "disgust: 87.50%\n",
      "surprised: 82.22%\n"
     ]
    }
   ],
   "source": [
    "# Create and plot confusion matrix\n",
    "from sklearn.metrics import confusion_matrix\n",
    "import seaborn as sns\n",
    "\n",
    "# Compute confusion matrix\n",
    "cm = confusion_matrix(epoch_targets, epoch_predictions)\n",
    "\n",
    "# Create confusion matrix plot\n",
    "plt.figure(figsize=(12, 10))\n",
    "sns.heatmap(cm, annot=True, fmt='d', cmap='Blues',\n",
    "            xticklabels=emotion_labels,\n",
    "            yticklabels=emotion_labels)\n",
    "plt.title('Confusion Matrix')\n",
    "plt.xlabel('Predicted Emotion')\n",
    "plt.ylabel('True Emotion')\n",
    "plt.xticks(rotation=45)\n",
    "plt.yticks(rotation=45)\n",
    "plt.tight_layout()\n",
    "plt.show()\n",
    "\n",
    "# Print overall metrics\n",
    "total_correct = np.sum(np.diag(cm))\n",
    "total_samples = np.sum(cm)\n",
    "print(f\"\\nConfusion Matrix Analysis:\")\n",
    "print(f\"Total Correct Predictions: {total_correct}\")\n",
    "print(f\"Total Samples: {total_samples}\")\n",
    "print(f\"Overall Accuracy: {100 * total_correct / total_samples:.2f}%\")\n",
    "\n",
    "# Calculate per-class accuracy\n",
    "print(\"\\nPer-class Accuracy:\")\n",
    "for i, emotion in enumerate(emotion_labels):\n",
    "    class_correct = cm[i, i]\n",
    "    class_total = np.sum(cm[i, :])\n",
    "    if class_total > 0:\n",
    "        class_accuracy = 100 * class_correct / class_total\n",
    "        print(f\"{emotion}: {class_accuracy:.2f}%\")"
   ]
  }
 ],
 "metadata": {
  "kernelspec": {
   "display_name": "gpu",
   "language": "python",
   "name": "python3"
  },
  "language_info": {
   "codemirror_mode": {
    "name": "ipython",
    "version": 3
   },
   "file_extension": ".py",
   "mimetype": "text/x-python",
   "name": "python",
   "nbconvert_exporter": "python",
   "pygments_lexer": "ipython3",
   "version": "3.12.11"
  }
 },
 "nbformat": 4,
 "nbformat_minor": 5
}
