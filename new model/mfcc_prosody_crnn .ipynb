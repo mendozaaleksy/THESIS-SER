{
 "cells": [
  {
   "cell_type": "markdown",
   "id": "4af0be38",
   "metadata": {},
   "source": [
    "# MFCC-based CNN Model for Speech Emotion Recognition\n",
    "\n",
    "This notebook implements a CNN model for speech emotion recognition using the RAVDESS dataset. The model aims to achieve 85.82% accuracy using MFCC features."
   ]
  },
  {
   "cell_type": "code",
   "execution_count": 7,
   "id": "d443c062",
   "metadata": {},
   "outputs": [
    {
     "name": "stdout",
     "output_type": "stream",
     "text": [
      "Using device: cuda\n"
     ]
    }
   ],
   "source": [
    "import numpy as np\n",
    "import pandas as pd\n",
    "import torch\n",
    "import torch.nn as nn\n",
    "import torch.optim as optim\n",
    "from torch.utils.data import Dataset, DataLoader\n",
    "import librosa\n",
    "import os\n",
    "from sklearn.model_selection import train_test_split\n",
    "from sklearn.preprocessing import LabelEncoder\n",
    "from sklearn.metrics import classification_report\n",
    "import matplotlib.pyplot as plt\n",
    "from tqdm import tqdm\n",
    "\n",
    "# Set random seeds for reproducibility\n",
    "torch.manual_seed(42)\n",
    "np.random.seed(42)\n",
    "\n",
    "# Check if CUDA is available\n",
    "device = torch.device('cuda' if torch.cuda.is_available() else 'cpu')\n",
    "print(f\"Using device: {device}\")"
   ]
  },
  {
   "cell_type": "markdown",
   "id": "a82a85de",
   "metadata": {},
   "source": [
    "## Data Loading and Preprocessing"
   ]
  },
  {
   "cell_type": "code",
   "execution_count": 8,
   "id": "12ff6ea3",
   "metadata": {},
   "outputs": [
    {
     "name": "stdout",
     "output_type": "stream",
     "text": [
      "Total samples: 1440\n",
      "\n",
      "Emotion distribution:\n",
      "emotion\n",
      "1    192\n",
      "2    192\n",
      "3    192\n",
      "4    192\n",
      "6    192\n",
      "5    192\n",
      "7    192\n",
      "0     96\n",
      "Name: count, dtype: int64\n"
     ]
    }
   ],
   "source": [
    "def extract_prosodic_features(file_path):\n",
    "    try:\n",
    "        # Load audio file\n",
    "        y, sr = librosa.load(file_path, duration=3)\n",
    "        \n",
    "        # Ensure consistent length\n",
    "        if len(y) < sr * 3:\n",
    "            y = np.pad(y, (0, sr * 3 - len(y)))\n",
    "        else:\n",
    "            y = y[:sr * 3]\n",
    "        \n",
    "        # 1. Pitch Features\n",
    "        # Extract fundamental frequency (F0)\n",
    "        hop_length = 512\n",
    "        frame_length = 2048\n",
    "        f0, voiced_flag, voiced_probs = librosa.pyin(\n",
    "            y, \n",
    "            fmin=librosa.note_to_hz('C2'), \n",
    "            fmax=librosa.note_to_hz('C7'),\n",
    "            sr=sr,\n",
    "            hop_length=hop_length\n",
    "        )\n",
    "        f0 = np.nan_to_num(f0)  # Replace NaN with 0\n",
    "        \n",
    "        # Calculate pitch statistics in sliding windows\n",
    "        # Ensure f0 has more than one value before calculating diff\n",
    "        if len(f0) > 1:\n",
    "            pitch_var = np.abs(np.diff(f0, axis=0))\n",
    "            pitch_var = np.pad(pitch_var, (0, 1), mode='edge')  # Pad to match original length\n",
    "        else:\n",
    "            pitch_var = np.zeros_like(f0)\n",
    "        \n",
    "        # 2. Stress/Intensity Features\n",
    "        # Root Mean Square Energy\n",
    "        rms = librosa.feature.rms(\n",
    "            y=y,\n",
    "            frame_length=frame_length,\n",
    "            hop_length=hop_length\n",
    "        )[0]\n",
    "        \n",
    "        # Energy variation (stress patterns)\n",
    "        if len(rms) > 1:\n",
    "            energy_var = np.abs(np.diff(rms, axis=0))\n",
    "            energy_var = np.pad(energy_var, (0, 1), mode='edge')\n",
    "        else:\n",
    "            energy_var = np.zeros_like(rms)\n",
    "        \n",
    "        # 3. Speech Rate Features\n",
    "        # Onset strength for rhythm\n",
    "        onset_env = librosa.onset.onset_strength(\n",
    "            y=y, \n",
    "            sr=sr,\n",
    "            hop_length=hop_length\n",
    "        )\n",
    "        \n",
    "        # Local speech rate estimation using onset strength\n",
    "        tempo, beats = librosa.beat.beat_track(\n",
    "            onset_envelope=onset_env,\n",
    "            sr=sr,\n",
    "            hop_length=hop_length\n",
    "        )\n",
    "        \n",
    "        # Create frame-wise tempo feature\n",
    "        tempo_frames = np.zeros_like(onset_env)\n",
    "        if len(beats) > 0:\n",
    "            tempo_frames[beats] = 1.0\n",
    "        \n",
    "        # Calculate speech rate variation\n",
    "        if len(onset_env) > 1:\n",
    "            rate_var = np.abs(np.diff(onset_env, axis=0))\n",
    "            rate_var = np.pad(rate_var, (0, 1), mode='edge')\n",
    "        else:\n",
    "            rate_var = np.zeros_like(onset_env)\n",
    "        \n",
    "        # Ensure all features have the same length\n",
    "        min_length = min(len(f0), len(pitch_var), len(rms), \n",
    "                        len(energy_var), len(rate_var), len(tempo_frames))\n",
    "        \n",
    "        # Truncate all features to the minimum length\n",
    "        f0 = f0[:min_length]\n",
    "        pitch_var = pitch_var[:min_length]\n",
    "        rms = rms[:min_length]\n",
    "        energy_var = energy_var[:min_length]\n",
    "        rate_var = rate_var[:min_length]\n",
    "        tempo_frames = tempo_frames[:min_length]\n",
    "        \n",
    "        # Stack all prosodic features\n",
    "        prosodic_features = np.vstack([\n",
    "            f0,                # Raw pitch\n",
    "            pitch_var,         # Pitch variation\n",
    "            rms,              # Intensity\n",
    "            energy_var,       # Stress patterns\n",
    "            rate_var,         # Speech rate variation\n",
    "            tempo_frames      # Speech rate (beats)\n",
    "        ])\n",
    "        \n",
    "        # Normalize features (only if they contain non-zero values)\n",
    "        for i in range(prosodic_features.shape[0]):\n",
    "            if np.any(prosodic_features[i]):  # Check if not all zeros\n",
    "                prosodic_features[i] = (prosodic_features[i] - np.mean(prosodic_features[i])) / (np.std(prosodic_features[i]) + 1e-8)\n",
    "        \n",
    "        return prosodic_features\n",
    "    except Exception as e:\n",
    "        print(f\"Error processing {file_path}: {str(e)}\")\n",
    "        return None\n",
    "\n",
    "def load_ravdess_data(data_path):\n",
    "    data = []\n",
    "    for actor in os.listdir(data_path):\n",
    "        if actor.startswith('Actor'):\n",
    "            actor_path = os.path.join(data_path, actor)\n",
    "            for filename in os.listdir(actor_path):\n",
    "                file_path = os.path.join(actor_path, filename)\n",
    "                # Parse filename for labels (format: 03-01-01-01-01-01-01.wav)\n",
    "                parts = filename.split('-')\n",
    "                emotion = int(parts[2]) - 1  # Convert to 0-based index\n",
    "                data.append({\n",
    "                    'path': file_path,\n",
    "                    'emotion': emotion,\n",
    "                    'actor': actor\n",
    "                })\n",
    "    return pd.DataFrame(data)\n",
    "\n",
    "def extract_mfcc(file_path, n_mfcc=40):\n",
    "    try:\n",
    "        # Load audio file\n",
    "        y, sr = librosa.load(file_path, duration=3)\n",
    "        \n",
    "        # Ensure consistent length\n",
    "        if len(y) < sr * 3:\n",
    "            y = np.pad(y, (0, sr * 3 - len(y)))\n",
    "        else:\n",
    "            y = y[:sr * 3]\n",
    "        \n",
    "        # Extract MFCC features\n",
    "        mfcc = librosa.feature.mfcc(y=y, sr=sr, n_mfcc=n_mfcc)\n",
    "        return mfcc\n",
    "    except Exception as e:\n",
    "        print(f\"Error processing {file_path}: {str(e)}\")\n",
    "        return None\n",
    "\n",
    "# Load data\n",
    "data_path = \"data/ravdess_actors\"\n",
    "df = load_ravdess_data(data_path)\n",
    "print(f\"Total samples: {len(df)}\")\n",
    "print(\"\\nEmotion distribution:\")\n",
    "print(df['emotion'].value_counts())"
   ]
  },
  {
   "cell_type": "code",
   "execution_count": 9,
   "id": "85201dc4",
   "metadata": {},
   "outputs": [
    {
     "name": "stdout",
     "output_type": "stream",
     "text": [
      "Extracting MFCC and prosodic features...\n"
     ]
    },
    {
     "name": "stderr",
     "output_type": "stream",
     "text": [
      "100%|██████████| 1440/1440 [16:05<00:00,  1.49it/s]"
     ]
    },
    {
     "name": "stdout",
     "output_type": "stream",
     "text": [
      "MFCC features shape: (1440, 130, 40)\n",
      "Prosodic features shape: (1440, 130, 6)\n",
      "Labels shape: (1440,)\n",
      "\n",
      "Training set shapes:\n",
      "MFCC: torch.Size([1152, 40, 130])\n",
      "Prosody: torch.Size([1152, 6, 130])\n",
      "Test set shapes:\n",
      "MFCC: torch.Size([288, 40, 130])\n",
      "Prosody: torch.Size([288, 6, 130])\n",
      "Number of training samples: 1152\n",
      "Number of test samples: 288\n"
     ]
    },
    {
     "name": "stderr",
     "output_type": "stream",
     "text": [
      "\n"
     ]
    }
   ],
   "source": [
    "# Extract MFCC and prosodic features for all audio files\n",
    "print(\"Extracting MFCC and prosodic features...\")\n",
    "X_mfcc = []\n",
    "X_prosody = []\n",
    "y = []\n",
    "\n",
    "for _, row in tqdm(df.iterrows(), total=len(df)):\n",
    "    mfcc = extract_mfcc(row['path'])\n",
    "    prosody = extract_prosodic_features(row['path'])\n",
    "    \n",
    "    if mfcc is not None and prosody is not None:\n",
    "        # Process MFCC features\n",
    "        mfcc = mfcc.T  # Shape becomes (time_steps, n_mfcc)\n",
    "        \n",
    "        # Process prosodic features\n",
    "        prosody = prosody.T  # Shape becomes (time_steps, n_prosodic_features)\n",
    "        \n",
    "        # Ensure same temporal dimension for both features\n",
    "        min_length = min(mfcc.shape[0], prosody.shape[0])\n",
    "        mfcc = mfcc[:min_length]\n",
    "        prosody = prosody[:min_length]\n",
    "        \n",
    "        X_mfcc.append(mfcc)\n",
    "        X_prosody.append(prosody)\n",
    "        y.append(row['emotion'])\n",
    "\n",
    "# Convert to numpy arrays\n",
    "X_mfcc = np.array(X_mfcc)\n",
    "X_prosody = np.array(X_prosody)\n",
    "y = np.array(y)\n",
    "\n",
    "print(f\"MFCC features shape: {X_mfcc.shape}\")\n",
    "print(f\"Prosodic features shape: {X_prosody.shape}\")\n",
    "print(f\"Labels shape: {y.shape}\")\n",
    "\n",
    "# Split the data\n",
    "X_mfcc_train, X_mfcc_test, X_prosody_train, X_prosody_test, y_train, y_test = train_test_split(\n",
    "    X_mfcc, X_prosody, y, test_size=0.2, random_state=42\n",
    ")\n",
    "\n",
    "# Convert to torch tensors\n",
    "X_mfcc_train = torch.FloatTensor(X_mfcc_train).transpose(1, 2)\n",
    "X_mfcc_test = torch.FloatTensor(X_mfcc_test).transpose(1, 2)\n",
    "X_prosody_train = torch.FloatTensor(X_prosody_train).transpose(1, 2)\n",
    "X_prosody_test = torch.FloatTensor(X_prosody_test).transpose(1, 2)\n",
    "y_train = torch.LongTensor(y_train)\n",
    "y_test = torch.LongTensor(y_test)\n",
    "\n",
    "print(\"\\nTraining set shapes:\")\n",
    "print(f\"MFCC: {X_mfcc_train.shape}\")\n",
    "print(f\"Prosody: {X_prosody_train.shape}\")\n",
    "print(f\"Test set shapes:\")\n",
    "print(f\"MFCC: {X_mfcc_test.shape}\")\n",
    "print(f\"Prosody: {X_prosody_test.shape}\")\n",
    "print(f\"Number of training samples: {len(y_train)}\")\n",
    "print(f\"Number of test samples: {len(y_test)}\")\n",
    "\n",
    "# Create custom dataset class for multiple inputs\n",
    "class MultiModalDataset(Dataset):\n",
    "    def __init__(self, mfcc_features, prosody_features, labels):\n",
    "        self.mfcc_features = mfcc_features\n",
    "        self.prosody_features = prosody_features\n",
    "        self.labels = labels\n",
    "        \n",
    "    def __len__(self):\n",
    "        return len(self.labels)\n",
    "    \n",
    "    def __getitem__(self, idx):\n",
    "        return (self.mfcc_features[idx], self.prosody_features[idx]), self.labels[idx]\n",
    "\n",
    "# Create datasets\n",
    "train_dataset = MultiModalDataset(X_mfcc_train, X_prosody_train, y_train)\n",
    "test_dataset = MultiModalDataset(X_mfcc_test, X_prosody_test, y_test)"
   ]
  },
  {
   "cell_type": "markdown",
   "id": "c0fc816f",
   "metadata": {},
   "source": [
    "## Model Architecture\n",
    "Here's the CNN model architecture that achieves 85.82% accuracy using MFCC features:"
   ]
  },
  {
   "cell_type": "code",
   "execution_count": 10,
   "id": "9d16d987",
   "metadata": {},
   "outputs": [
    {
     "name": "stdout",
     "output_type": "stream",
     "text": [
      "EmotionCRNN(\n",
      "  (mfcc_conv1): Sequential(\n",
      "    (0): Conv1d(40, 64, kernel_size=(3,), stride=(1,), padding=same)\n",
      "    (1): BatchNorm1d(64, eps=1e-05, momentum=0.1, affine=True, track_running_stats=True)\n",
      "    (2): ReLU()\n",
      "    (3): Conv1d(64, 64, kernel_size=(3,), stride=(1,), padding=same)\n",
      "    (4): BatchNorm1d(64, eps=1e-05, momentum=0.1, affine=True, track_running_stats=True)\n",
      "    (5): ReLU()\n",
      "    (6): MaxPool1d(kernel_size=2, stride=2, padding=0, dilation=1, ceil_mode=False)\n",
      "    (7): Dropout(p=0.2, inplace=False)\n",
      "  )\n",
      "  (mfcc_conv2): Sequential(\n",
      "    (0): Conv1d(64, 128, kernel_size=(3,), stride=(1,), padding=same)\n",
      "    (1): BatchNorm1d(128, eps=1e-05, momentum=0.1, affine=True, track_running_stats=True)\n",
      "    (2): ReLU()\n",
      "    (3): Conv1d(128, 128, kernel_size=(3,), stride=(1,), padding=same)\n",
      "    (4): BatchNorm1d(128, eps=1e-05, momentum=0.1, affine=True, track_running_stats=True)\n",
      "    (5): ReLU()\n",
      "    (6): MaxPool1d(kernel_size=2, stride=2, padding=0, dilation=1, ceil_mode=False)\n",
      "    (7): Dropout(p=0.3, inplace=False)\n",
      "  )\n",
      "  (prosody_conv1): Sequential(\n",
      "    (0): Conv1d(6, 32, kernel_size=(3,), stride=(1,), padding=same)\n",
      "    (1): BatchNorm1d(32, eps=1e-05, momentum=0.1, affine=True, track_running_stats=True)\n",
      "    (2): ReLU()\n",
      "    (3): Conv1d(32, 32, kernel_size=(3,), stride=(1,), padding=same)\n",
      "    (4): BatchNorm1d(32, eps=1e-05, momentum=0.1, affine=True, track_running_stats=True)\n",
      "    (5): ReLU()\n",
      "    (6): MaxPool1d(kernel_size=2, stride=2, padding=0, dilation=1, ceil_mode=False)\n",
      "    (7): Dropout(p=0.2, inplace=False)\n",
      "  )\n",
      "  (prosody_conv2): Sequential(\n",
      "    (0): Conv1d(32, 64, kernel_size=(3,), stride=(1,), padding=same)\n",
      "    (1): BatchNorm1d(64, eps=1e-05, momentum=0.1, affine=True, track_running_stats=True)\n",
      "    (2): ReLU()\n",
      "    (3): Conv1d(64, 64, kernel_size=(3,), stride=(1,), padding=same)\n",
      "    (4): BatchNorm1d(64, eps=1e-05, momentum=0.1, affine=True, track_running_stats=True)\n",
      "    (5): ReLU()\n",
      "    (6): MaxPool1d(kernel_size=2, stride=2, padding=0, dilation=1, ceil_mode=False)\n",
      "    (7): Dropout(p=0.3, inplace=False)\n",
      "  )\n",
      "  (shared_conv): Sequential(\n",
      "    (0): Conv1d(192, 256, kernel_size=(3,), stride=(1,), padding=same)\n",
      "    (1): BatchNorm1d(256, eps=1e-05, momentum=0.1, affine=True, track_running_stats=True)\n",
      "    (2): ReLU()\n",
      "    (3): Conv1d(256, 256, kernel_size=(3,), stride=(1,), padding=same)\n",
      "    (4): BatchNorm1d(256, eps=1e-05, momentum=0.1, affine=True, track_running_stats=True)\n",
      "    (5): ReLU()\n",
      "    (6): MaxPool1d(kernel_size=2, stride=2, padding=0, dilation=1, ceil_mode=False)\n",
      "    (7): Dropout(p=0.4, inplace=False)\n",
      "  )\n",
      "  (lstm1): LSTM(256, 128, batch_first=True, bidirectional=True)\n",
      "  (lstm_dropout1): Dropout(p=0.4, inplace=False)\n",
      "  (lstm2): LSTM(256, 128, batch_first=True, bidirectional=True)\n",
      "  (lstm_dropout2): Dropout(p=0.4, inplace=False)\n",
      "  (attention): Sequential(\n",
      "    (0): Linear(in_features=256, out_features=64, bias=True)\n",
      "    (1): Tanh()\n",
      "    (2): Linear(in_features=64, out_features=1, bias=True)\n",
      "  )\n",
      "  (fc1): Linear(in_features=256, out_features=128, bias=True)\n",
      "  (fc_bn): BatchNorm1d(128, eps=1e-05, momentum=0.1, affine=True, track_running_stats=True)\n",
      "  (fc_relu): ReLU()\n",
      "  (fc_dropout): Dropout(p=0.5, inplace=False)\n",
      "  (fc2): Linear(in_features=128, out_features=8, bias=True)\n",
      ")\n"
     ]
    }
   ],
   "source": [
    "class EmotionCRNN(nn.Module):\n",
    "    def __init__(self, num_classes=8):\n",
    "        super(EmotionCRNN, self).__init__()\n",
    "        \n",
    "        # MFCC branch\n",
    "        self.mfcc_conv1 = nn.Sequential(\n",
    "            nn.Conv1d(40, 64, kernel_size=3, padding='same'),\n",
    "            nn.BatchNorm1d(64),\n",
    "            nn.ReLU(),\n",
    "            nn.Conv1d(64, 64, kernel_size=3, padding='same'),\n",
    "            nn.BatchNorm1d(64),\n",
    "            nn.ReLU(),\n",
    "            nn.MaxPool1d(kernel_size=2),\n",
    "            nn.Dropout(0.2)\n",
    "        )\n",
    "        \n",
    "        self.mfcc_conv2 = nn.Sequential(\n",
    "            nn.Conv1d(64, 128, kernel_size=3, padding='same'),\n",
    "            nn.BatchNorm1d(128),\n",
    "            nn.ReLU(),\n",
    "            nn.Conv1d(128, 128, kernel_size=3, padding='same'),\n",
    "            nn.BatchNorm1d(128),\n",
    "            nn.ReLU(),\n",
    "            nn.MaxPool1d(kernel_size=2),\n",
    "            nn.Dropout(0.3)\n",
    "        )\n",
    "        \n",
    "        # Prosody branch\n",
    "        self.prosody_conv1 = nn.Sequential(\n",
    "            nn.Conv1d(6, 32, kernel_size=3, padding='same'),\n",
    "            nn.BatchNorm1d(32),\n",
    "            nn.ReLU(),\n",
    "            nn.Conv1d(32, 32, kernel_size=3, padding='same'),\n",
    "            nn.BatchNorm1d(32),\n",
    "            nn.ReLU(),\n",
    "            nn.MaxPool1d(kernel_size=2),\n",
    "            nn.Dropout(0.2)\n",
    "        )\n",
    "        \n",
    "        self.prosody_conv2 = nn.Sequential(\n",
    "            nn.Conv1d(32, 64, kernel_size=3, padding='same'),\n",
    "            nn.BatchNorm1d(64),\n",
    "            nn.ReLU(),\n",
    "            nn.Conv1d(64, 64, kernel_size=3, padding='same'),\n",
    "            nn.BatchNorm1d(64),\n",
    "            nn.ReLU(),\n",
    "            nn.MaxPool1d(kernel_size=2),\n",
    "            nn.Dropout(0.3)\n",
    "        )\n",
    "        \n",
    "        # Shared layers (128 + 64 = 192 channels after concatenation)\n",
    "        self.shared_conv = nn.Sequential(\n",
    "            nn.Conv1d(192, 256, kernel_size=3, padding='same'),\n",
    "            nn.BatchNorm1d(256),\n",
    "            nn.ReLU(),\n",
    "            nn.Conv1d(256, 256, kernel_size=3, padding='same'),\n",
    "            nn.BatchNorm1d(256),\n",
    "            nn.ReLU(),\n",
    "            nn.MaxPool1d(kernel_size=2),\n",
    "            nn.Dropout(0.4)\n",
    "        )\n",
    "        \n",
    "        # Bidirectional LSTM layers\n",
    "        self.lstm1 = nn.LSTM(256, 128, bidirectional=True, batch_first=True)\n",
    "        self.lstm_dropout1 = nn.Dropout(0.4)\n",
    "        self.lstm2 = nn.LSTM(256, 128, bidirectional=True, batch_first=True)\n",
    "        self.lstm_dropout2 = nn.Dropout(0.4)\n",
    "        \n",
    "        # Attention mechanism\n",
    "        self.attention = nn.Sequential(\n",
    "            nn.Linear(256, 64),\n",
    "            nn.Tanh(),\n",
    "            nn.Linear(64, 1)\n",
    "        )\n",
    "        \n",
    "        # Fully connected layers\n",
    "        self.fc1 = nn.Linear(256, 128)\n",
    "        self.fc_bn = nn.BatchNorm1d(128)\n",
    "        self.fc_relu = nn.ReLU()\n",
    "        self.fc_dropout = nn.Dropout(0.5)\n",
    "        self.fc2 = nn.Linear(128, num_classes)\n",
    "        \n",
    "    def attention_net(self, lstm_output):\n",
    "        attention_weights = self.attention(lstm_output)\n",
    "        attention_weights = torch.softmax(attention_weights, dim=1)\n",
    "        context = torch.sum(attention_weights * lstm_output, dim=1)\n",
    "        return context\n",
    "        \n",
    "    def forward(self, inputs):\n",
    "        mfcc_input, prosody_input = inputs\n",
    "        \n",
    "        # Process MFCC branch\n",
    "        mfcc = self.mfcc_conv1(mfcc_input)\n",
    "        mfcc = self.mfcc_conv2(mfcc)\n",
    "        \n",
    "        # Process Prosody branch\n",
    "        prosody = self.prosody_conv1(prosody_input)\n",
    "        prosody = self.prosody_conv2(prosody)\n",
    "        \n",
    "        # Concatenate features along the channel dimension\n",
    "        x = torch.cat([mfcc, prosody], dim=1)  # dim=1 is the channel dimension\n",
    "        \n",
    "        # Shared processing\n",
    "        x = self.shared_conv(x)\n",
    "        \n",
    "        # Prepare for LSTM (B, C, T) -> (B, T, C)\n",
    "        x = x.transpose(1, 2)\n",
    "        \n",
    "        # Bidirectional LSTM layers\n",
    "        lstm_out1, _ = self.lstm1(x)\n",
    "        lstm_out1 = self.lstm_dropout1(lstm_out1)\n",
    "        lstm_out2, _ = self.lstm2(lstm_out1)\n",
    "        lstm_out2 = self.lstm_dropout2(lstm_out2)\n",
    "        \n",
    "        # Attention mechanism\n",
    "        attended = self.attention_net(lstm_out2)\n",
    "        \n",
    "        # Fully connected layers\n",
    "        x = self.fc1(attended)\n",
    "        x = self.fc_bn(x)\n",
    "        x = self.fc_relu(x)\n",
    "        x = self.fc_dropout(x)\n",
    "        x = self.fc2(x)\n",
    "        \n",
    "        return x\n",
    "\n",
    "# Create the model instance\n",
    "model = EmotionCRNN().to(device)\n",
    "\n",
    "# Define loss function and optimizer\n",
    "criterion = nn.CrossEntropyLoss()\n",
    "optimizer = optim.AdamW(model.parameters(), lr=0.001, weight_decay=0.01)\n",
    "\n",
    "# Mixup criterion function (add this if it's not defined elsewhere)\n",
    "def mixup_criterion(criterion, pred, y_a, y_b, lam):\n",
    "    return lam * criterion(pred, y_a) + (1 - lam) * criterion(pred, y_b)\n",
    "\n",
    "print(model)"
   ]
  },
  {
   "cell_type": "markdown",
   "id": "4cbf57ec",
   "metadata": {},
   "source": [
    "## Training Configuration\n",
    "The model uses the following training parameters:\n",
    "- Batch size: 16\n",
    "- Number of epochs: 200\n",
    "- Learning rate: 0.00005\n",
    "- Optimizer: RMSprop\n",
    "- Loss function: CrossEntropyLoss\n",
    "- Dropout rate: 0.1"
   ]
  },
  {
   "cell_type": "code",
   "execution_count": 11,
   "id": "cb2e8bce",
   "metadata": {},
   "outputs": [
    {
     "name": "stderr",
     "output_type": "stream",
     "text": [
      "Epoch 1/150: 100%|██████████| 48/48 [00:01<00:00, 28.92it/s, loss=2.01]\n",
      "\n"
     ]
    },
    {
     "name": "stdout",
     "output_type": "stream",
     "text": [
      "Epoch [1/150]\n",
      "Training Loss: 2.2201\n",
      "Validation Loss: 2.0441\n",
      "Test Accuracy: 24.31%\n",
      "Best Accuracy: 24.31%\n",
      "--------------------------------------------------\n"
     ]
    },
    {
     "name": "stderr",
     "output_type": "stream",
     "text": [
      "Epoch 2/150: 100%|██████████| 48/48 [00:00<00:00, 81.24it/s, loss=1.93]\n",
      "\n"
     ]
    },
    {
     "name": "stdout",
     "output_type": "stream",
     "text": [
      "Epoch [2/150]\n",
      "Training Loss: 2.0853\n",
      "Validation Loss: 1.7409\n",
      "Test Accuracy: 31.25%\n",
      "Best Accuracy: 31.25%\n",
      "--------------------------------------------------\n"
     ]
    },
    {
     "name": "stderr",
     "output_type": "stream",
     "text": [
      "Epoch 3/150: 100%|██████████| 48/48 [00:00<00:00, 72.79it/s, loss=2.07]\n",
      "\n"
     ]
    },
    {
     "name": "stdout",
     "output_type": "stream",
     "text": [
      "Epoch [3/150]\n",
      "Training Loss: 1.9423\n",
      "Validation Loss: 1.5991\n",
      "Test Accuracy: 37.15%\n",
      "Best Accuracy: 37.15%\n",
      "--------------------------------------------------\n"
     ]
    },
    {
     "name": "stderr",
     "output_type": "stream",
     "text": [
      "Epoch 4/150: 100%|██████████| 48/48 [00:00<00:00, 79.13it/s, loss=1.85]\n",
      "\n"
     ]
    },
    {
     "name": "stdout",
     "output_type": "stream",
     "text": [
      "Epoch [4/150]\n",
      "Training Loss: 1.8273\n",
      "Validation Loss: 1.5369\n",
      "Test Accuracy: 42.01%\n",
      "Best Accuracy: 42.01%\n",
      "--------------------------------------------------\n"
     ]
    },
    {
     "name": "stderr",
     "output_type": "stream",
     "text": [
      "Epoch 5/150: 100%|██████████| 48/48 [00:00<00:00, 84.28it/s, loss=1.61]\n",
      "\n"
     ]
    },
    {
     "name": "stdout",
     "output_type": "stream",
     "text": [
      "Epoch [5/150]\n",
      "Training Loss: 1.7321\n",
      "Validation Loss: 1.4373\n",
      "Test Accuracy: 45.14%\n",
      "Best Accuracy: 45.14%\n",
      "--------------------------------------------------\n"
     ]
    },
    {
     "name": "stderr",
     "output_type": "stream",
     "text": [
      "Epoch 6/150: 100%|██████████| 48/48 [00:00<00:00, 86.44it/s, loss=1.66]\n",
      "\n"
     ]
    },
    {
     "name": "stdout",
     "output_type": "stream",
     "text": [
      "Epoch [6/150]\n",
      "Training Loss: 1.6054\n",
      "Validation Loss: 1.3766\n",
      "Test Accuracy: 48.26%\n",
      "Best Accuracy: 48.26%\n",
      "--------------------------------------------------\n"
     ]
    },
    {
     "name": "stderr",
     "output_type": "stream",
     "text": [
      "Epoch 7/150: 100%|██████████| 48/48 [00:00<00:00, 83.45it/s, loss=1.73]\n",
      "\n"
     ]
    },
    {
     "name": "stdout",
     "output_type": "stream",
     "text": [
      "Epoch [7/150]\n",
      "Training Loss: 1.5121\n",
      "Validation Loss: 1.2964\n",
      "Test Accuracy: 52.78%\n",
      "Best Accuracy: 52.78%\n",
      "--------------------------------------------------\n"
     ]
    },
    {
     "name": "stderr",
     "output_type": "stream",
     "text": [
      "Epoch 8/150: 100%|██████████| 48/48 [00:00<00:00, 81.04it/s, loss=1.34] \n",
      "\n"
     ]
    },
    {
     "name": "stdout",
     "output_type": "stream",
     "text": [
      "Epoch [8/150]\n",
      "Training Loss: 1.4685\n",
      "Validation Loss: 1.2206\n",
      "Test Accuracy: 52.08%\n",
      "Best Accuracy: 52.78%\n",
      "--------------------------------------------------\n"
     ]
    },
    {
     "name": "stderr",
     "output_type": "stream",
     "text": [
      "Epoch 9/150: 100%|██████████| 48/48 [00:00<00:00, 78.78it/s, loss=2.05] \n",
      "\n"
     ]
    },
    {
     "name": "stdout",
     "output_type": "stream",
     "text": [
      "Epoch [9/150]\n",
      "Training Loss: 1.4231\n",
      "Validation Loss: 1.2252\n",
      "Test Accuracy: 54.17%\n",
      "Best Accuracy: 54.17%\n",
      "--------------------------------------------------\n"
     ]
    },
    {
     "name": "stderr",
     "output_type": "stream",
     "text": [
      "Epoch 10/150: 100%|██████████| 48/48 [00:00<00:00, 75.70it/s, loss=1.08] \n",
      "\n"
     ]
    },
    {
     "name": "stdout",
     "output_type": "stream",
     "text": [
      "Epoch [10/150]\n",
      "Training Loss: 1.3197\n",
      "Validation Loss: 1.0862\n",
      "Test Accuracy: 60.42%\n",
      "Best Accuracy: 60.42%\n",
      "--------------------------------------------------\n"
     ]
    },
    {
     "name": "stderr",
     "output_type": "stream",
     "text": [
      "Epoch 11/150: 100%|██████████| 48/48 [00:00<00:00, 80.07it/s, loss=1.85] \n",
      "\n"
     ]
    },
    {
     "name": "stdout",
     "output_type": "stream",
     "text": [
      "Epoch [11/150]\n",
      "Training Loss: 1.2584\n",
      "Validation Loss: 1.0621\n",
      "Test Accuracy: 60.42%\n",
      "Best Accuracy: 60.42%\n",
      "--------------------------------------------------\n"
     ]
    },
    {
     "name": "stderr",
     "output_type": "stream",
     "text": [
      "Epoch 12/150: 100%|██████████| 48/48 [00:00<00:00, 84.58it/s, loss=1.47] \n",
      "\n"
     ]
    },
    {
     "name": "stdout",
     "output_type": "stream",
     "text": [
      "Epoch [12/150]\n",
      "Training Loss: 1.2353\n",
      "Validation Loss: 1.3408\n",
      "Test Accuracy: 52.43%\n",
      "Best Accuracy: 60.42%\n",
      "--------------------------------------------------\n"
     ]
    },
    {
     "name": "stderr",
     "output_type": "stream",
     "text": [
      "Epoch 13/150: 100%|██████████| 48/48 [00:00<00:00, 80.73it/s, loss=1.11] \n",
      "\n"
     ]
    },
    {
     "name": "stdout",
     "output_type": "stream",
     "text": [
      "Epoch [13/150]\n",
      "Training Loss: 1.2724\n",
      "Validation Loss: 1.3280\n",
      "Test Accuracy: 47.57%\n",
      "Best Accuracy: 60.42%\n",
      "--------------------------------------------------\n"
     ]
    },
    {
     "name": "stderr",
     "output_type": "stream",
     "text": [
      "Epoch 14/150: 100%|██████████| 48/48 [00:00<00:00, 87.04it/s, loss=1.04] \n",
      "\n"
     ]
    },
    {
     "name": "stdout",
     "output_type": "stream",
     "text": [
      "Epoch [14/150]\n",
      "Training Loss: 1.2487\n",
      "Validation Loss: 1.2632\n",
      "Test Accuracy: 50.69%\n",
      "Best Accuracy: 60.42%\n",
      "--------------------------------------------------\n"
     ]
    },
    {
     "name": "stderr",
     "output_type": "stream",
     "text": [
      "Epoch 15/150: 100%|██████████| 48/48 [00:00<00:00, 87.82it/s, loss=1.29] \n",
      "\n"
     ]
    },
    {
     "name": "stdout",
     "output_type": "stream",
     "text": [
      "Epoch [15/150]\n",
      "Training Loss: 1.3018\n",
      "Validation Loss: 1.7125\n",
      "Test Accuracy: 42.71%\n",
      "Best Accuracy: 60.42%\n",
      "--------------------------------------------------\n"
     ]
    },
    {
     "name": "stderr",
     "output_type": "stream",
     "text": [
      "Epoch 16/150: 100%|██████████| 48/48 [00:00<00:00, 86.40it/s, loss=1.53] \n",
      "\n"
     ]
    },
    {
     "name": "stdout",
     "output_type": "stream",
     "text": [
      "Epoch [16/150]\n",
      "Training Loss: 1.2139\n",
      "Validation Loss: 1.7069\n",
      "Test Accuracy: 45.14%\n",
      "Best Accuracy: 60.42%\n",
      "--------------------------------------------------\n"
     ]
    },
    {
     "name": "stderr",
     "output_type": "stream",
     "text": [
      "Epoch 17/150: 100%|██████████| 48/48 [00:00<00:00, 77.03it/s, loss=0.812]\n",
      "\n"
     ]
    },
    {
     "name": "stdout",
     "output_type": "stream",
     "text": [
      "Epoch [17/150]\n",
      "Training Loss: 1.0894\n",
      "Validation Loss: 1.2094\n",
      "Test Accuracy: 56.25%\n",
      "Best Accuracy: 60.42%\n",
      "--------------------------------------------------\n"
     ]
    },
    {
     "name": "stderr",
     "output_type": "stream",
     "text": [
      "Epoch 18/150: 100%|██████████| 48/48 [00:00<00:00, 77.56it/s, loss=1.44] \n",
      "\n"
     ]
    },
    {
     "name": "stdout",
     "output_type": "stream",
     "text": [
      "Epoch [18/150]\n",
      "Training Loss: 1.1524\n",
      "Validation Loss: 1.1785\n",
      "Test Accuracy: 53.82%\n",
      "Best Accuracy: 60.42%\n",
      "--------------------------------------------------\n"
     ]
    },
    {
     "name": "stderr",
     "output_type": "stream",
     "text": [
      "Epoch 19/150: 100%|██████████| 48/48 [00:00<00:00, 80.12it/s, loss=0.538]\n",
      "\n"
     ]
    },
    {
     "name": "stdout",
     "output_type": "stream",
     "text": [
      "Epoch [19/150]\n",
      "Training Loss: 1.1023\n",
      "Validation Loss: 1.4082\n",
      "Test Accuracy: 55.21%\n",
      "Best Accuracy: 60.42%\n",
      "--------------------------------------------------\n"
     ]
    },
    {
     "name": "stderr",
     "output_type": "stream",
     "text": [
      "Epoch 20/150: 100%|██████████| 48/48 [00:00<00:00, 82.26it/s, loss=0.916]\n",
      "\n"
     ]
    },
    {
     "name": "stdout",
     "output_type": "stream",
     "text": [
      "Epoch [20/150]\n",
      "Training Loss: 1.0945\n",
      "Validation Loss: 1.1830\n",
      "Test Accuracy: 60.07%\n",
      "Best Accuracy: 60.42%\n",
      "--------------------------------------------------\n"
     ]
    },
    {
     "name": "stderr",
     "output_type": "stream",
     "text": [
      "Epoch 21/150: 100%|██████████| 48/48 [00:00<00:00, 73.51it/s, loss=1.85] \n",
      "\n"
     ]
    },
    {
     "name": "stdout",
     "output_type": "stream",
     "text": [
      "Epoch [21/150]\n",
      "Training Loss: 1.0713\n",
      "Validation Loss: 1.1745\n",
      "Test Accuracy: 57.64%\n",
      "Best Accuracy: 60.42%\n",
      "--------------------------------------------------\n"
     ]
    },
    {
     "name": "stderr",
     "output_type": "stream",
     "text": [
      "Epoch 22/150: 100%|██████████| 48/48 [00:00<00:00, 78.70it/s, loss=1.83] \n",
      "\n"
     ]
    },
    {
     "name": "stdout",
     "output_type": "stream",
     "text": [
      "Epoch [22/150]\n",
      "Training Loss: 1.0427\n",
      "Validation Loss: 0.9960\n",
      "Test Accuracy: 64.93%\n",
      "Best Accuracy: 64.93%\n",
      "--------------------------------------------------\n"
     ]
    },
    {
     "name": "stderr",
     "output_type": "stream",
     "text": [
      "Epoch 23/150: 100%|██████████| 48/48 [00:00<00:00, 81.75it/s, loss=0.708]\n",
      "\n"
     ]
    },
    {
     "name": "stdout",
     "output_type": "stream",
     "text": [
      "Epoch [23/150]\n",
      "Training Loss: 0.9871\n",
      "Validation Loss: 0.8828\n",
      "Test Accuracy: 69.79%\n",
      "Best Accuracy: 69.79%\n",
      "--------------------------------------------------\n"
     ]
    },
    {
     "name": "stderr",
     "output_type": "stream",
     "text": [
      "Epoch 24/150: 100%|██████████| 48/48 [00:00<00:00, 80.23it/s, loss=0.811]\n",
      "\n"
     ]
    },
    {
     "name": "stdout",
     "output_type": "stream",
     "text": [
      "Epoch [24/150]\n",
      "Training Loss: 0.9173\n",
      "Validation Loss: 1.1406\n",
      "Test Accuracy: 60.07%\n",
      "Best Accuracy: 69.79%\n",
      "--------------------------------------------------\n"
     ]
    },
    {
     "name": "stderr",
     "output_type": "stream",
     "text": [
      "Epoch 25/150: 100%|██████████| 48/48 [00:00<00:00, 71.91it/s, loss=0.657]\n",
      "\n"
     ]
    },
    {
     "name": "stdout",
     "output_type": "stream",
     "text": [
      "Epoch [25/150]\n",
      "Training Loss: 1.0382\n",
      "Validation Loss: 0.8419\n",
      "Test Accuracy: 66.67%\n",
      "Best Accuracy: 69.79%\n",
      "--------------------------------------------------\n"
     ]
    },
    {
     "name": "stderr",
     "output_type": "stream",
     "text": [
      "Epoch 26/150: 100%|██████████| 48/48 [00:00<00:00, 87.17it/s, loss=1.56] \n",
      "\n"
     ]
    },
    {
     "name": "stdout",
     "output_type": "stream",
     "text": [
      "Epoch [26/150]\n",
      "Training Loss: 0.9689\n",
      "Validation Loss: 1.1259\n",
      "Test Accuracy: 60.76%\n",
      "Best Accuracy: 69.79%\n",
      "--------------------------------------------------\n"
     ]
    },
    {
     "name": "stderr",
     "output_type": "stream",
     "text": [
      "Epoch 27/150: 100%|██████████| 48/48 [00:00<00:00, 86.68it/s, loss=0.879]\n",
      "\n"
     ]
    },
    {
     "name": "stdout",
     "output_type": "stream",
     "text": [
      "Epoch [27/150]\n",
      "Training Loss: 0.9136\n",
      "Validation Loss: 1.0350\n",
      "Test Accuracy: 64.93%\n",
      "Best Accuracy: 69.79%\n",
      "--------------------------------------------------\n"
     ]
    },
    {
     "name": "stderr",
     "output_type": "stream",
     "text": [
      "Epoch 28/150: 100%|██████████| 48/48 [00:00<00:00, 76.76it/s, loss=0.739]\n",
      "\n"
     ]
    },
    {
     "name": "stdout",
     "output_type": "stream",
     "text": [
      "Epoch [28/150]\n",
      "Training Loss: 0.7758\n",
      "Validation Loss: 0.8686\n",
      "Test Accuracy: 69.79%\n",
      "Best Accuracy: 69.79%\n",
      "--------------------------------------------------\n"
     ]
    },
    {
     "name": "stderr",
     "output_type": "stream",
     "text": [
      "Epoch 29/150: 100%|██████████| 48/48 [00:00<00:00, 87.14it/s, loss=0.646]\n",
      "\n"
     ]
    },
    {
     "name": "stdout",
     "output_type": "stream",
     "text": [
      "Epoch [29/150]\n",
      "Training Loss: 0.8009\n",
      "Validation Loss: 0.8399\n",
      "Test Accuracy: 70.49%\n",
      "Best Accuracy: 70.49%\n",
      "--------------------------------------------------\n"
     ]
    },
    {
     "name": "stderr",
     "output_type": "stream",
     "text": [
      "Epoch 30/150: 100%|██████████| 48/48 [00:00<00:00, 87.82it/s, loss=0.465]\n",
      "\n"
     ]
    },
    {
     "name": "stdout",
     "output_type": "stream",
     "text": [
      "Epoch [30/150]\n",
      "Training Loss: 0.9138\n",
      "Validation Loss: 1.0350\n",
      "Test Accuracy: 63.54%\n",
      "Best Accuracy: 70.49%\n",
      "--------------------------------------------------\n"
     ]
    },
    {
     "name": "stderr",
     "output_type": "stream",
     "text": [
      "Epoch 31/150: 100%|██████████| 48/48 [00:00<00:00, 79.78it/s, loss=1.78] \n",
      "\n"
     ]
    },
    {
     "name": "stdout",
     "output_type": "stream",
     "text": [
      "Epoch [31/150]\n",
      "Training Loss: 0.9689\n",
      "Validation Loss: 1.1092\n",
      "Test Accuracy: 59.72%\n",
      "Best Accuracy: 70.49%\n",
      "--------------------------------------------------\n"
     ]
    },
    {
     "name": "stderr",
     "output_type": "stream",
     "text": [
      "Epoch 32/150: 100%|██████████| 48/48 [00:00<00:00, 86.18it/s, loss=1.78] \n",
      "\n"
     ]
    },
    {
     "name": "stdout",
     "output_type": "stream",
     "text": [
      "Epoch [32/150]\n",
      "Training Loss: 1.0160\n",
      "Validation Loss: 1.0143\n",
      "Test Accuracy: 62.85%\n",
      "Best Accuracy: 70.49%\n",
      "--------------------------------------------------\n"
     ]
    },
    {
     "name": "stderr",
     "output_type": "stream",
     "text": [
      "Epoch 33/150: 100%|██████████| 48/48 [00:00<00:00, 83.45it/s, loss=0.89] \n",
      "\n"
     ]
    },
    {
     "name": "stdout",
     "output_type": "stream",
     "text": [
      "Epoch [33/150]\n",
      "Training Loss: 0.8848\n",
      "Validation Loss: 0.8966\n",
      "Test Accuracy: 70.49%\n",
      "Best Accuracy: 70.49%\n",
      "--------------------------------------------------\n"
     ]
    },
    {
     "name": "stderr",
     "output_type": "stream",
     "text": [
      "Epoch 34/150: 100%|██████████| 48/48 [00:00<00:00, 79.58it/s, loss=0.476]\n",
      "\n"
     ]
    },
    {
     "name": "stdout",
     "output_type": "stream",
     "text": [
      "Epoch [34/150]\n",
      "Training Loss: 0.8712\n",
      "Validation Loss: 1.0421\n",
      "Test Accuracy: 63.54%\n",
      "Best Accuracy: 70.49%\n",
      "--------------------------------------------------\n"
     ]
    },
    {
     "name": "stderr",
     "output_type": "stream",
     "text": [
      "Epoch 35/150: 100%|██████████| 48/48 [00:00<00:00, 81.31it/s, loss=0.389]\n",
      "\n"
     ]
    },
    {
     "name": "stdout",
     "output_type": "stream",
     "text": [
      "Epoch [35/150]\n",
      "Training Loss: 0.8099\n",
      "Validation Loss: 1.0057\n",
      "Test Accuracy: 69.44%\n",
      "Best Accuracy: 70.49%\n",
      "--------------------------------------------------\n"
     ]
    },
    {
     "name": "stderr",
     "output_type": "stream",
     "text": [
      "Epoch 36/150: 100%|██████████| 48/48 [00:00<00:00, 86.44it/s, loss=0.835]\n",
      "\n"
     ]
    },
    {
     "name": "stdout",
     "output_type": "stream",
     "text": [
      "Epoch [36/150]\n",
      "Training Loss: 0.8149\n",
      "Validation Loss: 1.1118\n",
      "Test Accuracy: 65.28%\n",
      "Best Accuracy: 70.49%\n",
      "--------------------------------------------------\n"
     ]
    },
    {
     "name": "stderr",
     "output_type": "stream",
     "text": [
      "Epoch 37/150: 100%|██████████| 48/48 [00:00<00:00, 83.55it/s, loss=0.359]\n",
      "\n"
     ]
    },
    {
     "name": "stdout",
     "output_type": "stream",
     "text": [
      "Epoch [37/150]\n",
      "Training Loss: 0.7397\n",
      "Validation Loss: 1.1003\n",
      "Test Accuracy: 62.85%\n",
      "Best Accuracy: 70.49%\n",
      "--------------------------------------------------\n"
     ]
    },
    {
     "name": "stderr",
     "output_type": "stream",
     "text": [
      "Epoch 38/150: 100%|██████████| 48/48 [00:00<00:00, 86.52it/s, loss=0.47] \n",
      "\n"
     ]
    },
    {
     "name": "stdout",
     "output_type": "stream",
     "text": [
      "Epoch [38/150]\n",
      "Training Loss: 0.8269\n",
      "Validation Loss: 0.7857\n",
      "Test Accuracy: 74.31%\n",
      "Best Accuracy: 74.31%\n",
      "--------------------------------------------------\n"
     ]
    },
    {
     "name": "stderr",
     "output_type": "stream",
     "text": [
      "Epoch 39/150: 100%|██████████| 48/48 [00:00<00:00, 79.06it/s, loss=0.396]\n",
      "\n"
     ]
    },
    {
     "name": "stdout",
     "output_type": "stream",
     "text": [
      "Epoch [39/150]\n",
      "Training Loss: 0.7222\n",
      "Validation Loss: 0.8921\n",
      "Test Accuracy: 71.18%\n",
      "Best Accuracy: 74.31%\n",
      "--------------------------------------------------\n"
     ]
    },
    {
     "name": "stderr",
     "output_type": "stream",
     "text": [
      "Epoch 40/150: 100%|██████████| 48/48 [00:00<00:00, 85.56it/s, loss=1.58] \n",
      "\n"
     ]
    },
    {
     "name": "stdout",
     "output_type": "stream",
     "text": [
      "Epoch [40/150]\n",
      "Training Loss: 0.8782\n",
      "Validation Loss: 0.9192\n",
      "Test Accuracy: 68.75%\n",
      "Best Accuracy: 74.31%\n",
      "--------------------------------------------------\n"
     ]
    },
    {
     "name": "stderr",
     "output_type": "stream",
     "text": [
      "Epoch 41/150: 100%|██████████| 48/48 [00:00<00:00, 86.24it/s, loss=0.674]\n",
      "\n"
     ]
    },
    {
     "name": "stdout",
     "output_type": "stream",
     "text": [
      "Epoch [41/150]\n",
      "Training Loss: 0.8167\n",
      "Validation Loss: 0.7920\n",
      "Test Accuracy: 74.65%\n",
      "Best Accuracy: 74.65%\n",
      "--------------------------------------------------\n"
     ]
    },
    {
     "name": "stderr",
     "output_type": "stream",
     "text": [
      "Epoch 42/150: 100%|██████████| 48/48 [00:00<00:00, 70.61it/s, loss=1.66] \n",
      "\n"
     ]
    },
    {
     "name": "stdout",
     "output_type": "stream",
     "text": [
      "Epoch [42/150]\n",
      "Training Loss: 0.7965\n",
      "Validation Loss: 0.9499\n",
      "Test Accuracy: 69.79%\n",
      "Best Accuracy: 74.65%\n",
      "--------------------------------------------------\n"
     ]
    },
    {
     "name": "stderr",
     "output_type": "stream",
     "text": [
      "Epoch 43/150: 100%|██████████| 48/48 [00:00<00:00, 65.36it/s, loss=0.4]  \n",
      "\n"
     ]
    },
    {
     "name": "stdout",
     "output_type": "stream",
     "text": [
      "Epoch [43/150]\n",
      "Training Loss: 0.8441\n",
      "Validation Loss: 0.7933\n",
      "Test Accuracy: 74.31%\n",
      "Best Accuracy: 74.65%\n",
      "--------------------------------------------------\n"
     ]
    },
    {
     "name": "stderr",
     "output_type": "stream",
     "text": [
      "Epoch 44/150: 100%|██████████| 48/48 [00:00<00:00, 79.26it/s, loss=1.46] \n",
      "\n"
     ]
    },
    {
     "name": "stdout",
     "output_type": "stream",
     "text": [
      "Epoch [44/150]\n",
      "Training Loss: 0.8390\n",
      "Validation Loss: 0.9516\n",
      "Test Accuracy: 69.79%\n",
      "Best Accuracy: 74.65%\n",
      "--------------------------------------------------\n"
     ]
    },
    {
     "name": "stderr",
     "output_type": "stream",
     "text": [
      "Epoch 45/150: 100%|██████████| 48/48 [00:00<00:00, 85.08it/s, loss=1.1]  \n",
      "\n"
     ]
    },
    {
     "name": "stdout",
     "output_type": "stream",
     "text": [
      "Epoch [45/150]\n",
      "Training Loss: 0.8676\n",
      "Validation Loss: 0.8046\n",
      "Test Accuracy: 72.92%\n",
      "Best Accuracy: 74.65%\n",
      "--------------------------------------------------\n"
     ]
    },
    {
     "name": "stderr",
     "output_type": "stream",
     "text": [
      "Epoch 46/150: 100%|██████████| 48/48 [00:00<00:00, 83.72it/s, loss=0.414]\n",
      "\n"
     ]
    },
    {
     "name": "stdout",
     "output_type": "stream",
     "text": [
      "Epoch [46/150]\n",
      "Training Loss: 0.7912\n",
      "Validation Loss: 0.8929\n",
      "Test Accuracy: 69.44%\n",
      "Best Accuracy: 74.65%\n",
      "--------------------------------------------------\n"
     ]
    },
    {
     "name": "stderr",
     "output_type": "stream",
     "text": [
      "Epoch 47/150: 100%|██████████| 48/48 [00:00<00:00, 78.94it/s, loss=0.827]\n",
      "\n"
     ]
    },
    {
     "name": "stdout",
     "output_type": "stream",
     "text": [
      "Epoch [47/150]\n",
      "Training Loss: 0.7736\n",
      "Validation Loss: 0.7814\n",
      "Test Accuracy: 74.31%\n",
      "Best Accuracy: 74.65%\n",
      "--------------------------------------------------\n"
     ]
    },
    {
     "name": "stderr",
     "output_type": "stream",
     "text": [
      "Epoch 48/150: 100%|██████████| 48/48 [00:00<00:00, 85.73it/s, loss=0.289] \n",
      "\n"
     ]
    },
    {
     "name": "stdout",
     "output_type": "stream",
     "text": [
      "Epoch [48/150]\n",
      "Training Loss: 0.6428\n",
      "Validation Loss: 0.9803\n",
      "Test Accuracy: 69.44%\n",
      "Best Accuracy: 74.65%\n",
      "--------------------------------------------------\n"
     ]
    },
    {
     "name": "stderr",
     "output_type": "stream",
     "text": [
      "Epoch 49/150: 100%|██████████| 48/48 [00:00<00:00, 82.04it/s, loss=1.04] \n",
      "\n"
     ]
    },
    {
     "name": "stdout",
     "output_type": "stream",
     "text": [
      "Epoch [49/150]\n",
      "Training Loss: 0.7858\n",
      "Validation Loss: 0.8594\n",
      "Test Accuracy: 71.53%\n",
      "Best Accuracy: 74.65%\n",
      "--------------------------------------------------\n"
     ]
    },
    {
     "name": "stderr",
     "output_type": "stream",
     "text": [
      "Epoch 50/150: 100%|██████████| 48/48 [00:00<00:00, 75.75it/s, loss=0.753]\n",
      "\n"
     ]
    },
    {
     "name": "stdout",
     "output_type": "stream",
     "text": [
      "Epoch [50/150]\n",
      "Training Loss: 0.7893\n",
      "Validation Loss: 0.9640\n",
      "Test Accuracy: 66.67%\n",
      "Best Accuracy: 74.65%\n",
      "--------------------------------------------------\n"
     ]
    },
    {
     "name": "stderr",
     "output_type": "stream",
     "text": [
      "Epoch 51/150: 100%|██████████| 48/48 [00:00<00:00, 85.84it/s, loss=0.315]\n",
      "\n"
     ]
    },
    {
     "name": "stdout",
     "output_type": "stream",
     "text": [
      "Epoch [51/150]\n",
      "Training Loss: 0.6297\n",
      "Validation Loss: 0.9668\n",
      "Test Accuracy: 70.49%\n",
      "Best Accuracy: 74.65%\n",
      "--------------------------------------------------\n"
     ]
    },
    {
     "name": "stderr",
     "output_type": "stream",
     "text": [
      "Epoch 52/150: 100%|██████████| 48/48 [00:00<00:00, 84.04it/s, loss=0.185]\n",
      "\n"
     ]
    },
    {
     "name": "stdout",
     "output_type": "stream",
     "text": [
      "Epoch [52/150]\n",
      "Training Loss: 0.6954\n",
      "Validation Loss: 0.7553\n",
      "Test Accuracy: 76.74%\n",
      "Best Accuracy: 76.74%\n",
      "--------------------------------------------------\n"
     ]
    },
    {
     "name": "stderr",
     "output_type": "stream",
     "text": [
      "Epoch 53/150: 100%|██████████| 48/48 [00:00<00:00, 78.53it/s, loss=0.272]\n",
      "\n"
     ]
    },
    {
     "name": "stdout",
     "output_type": "stream",
     "text": [
      "Epoch [53/150]\n",
      "Training Loss: 0.7168\n",
      "Validation Loss: 0.8218\n",
      "Test Accuracy: 73.26%\n",
      "Best Accuracy: 76.74%\n",
      "--------------------------------------------------\n"
     ]
    },
    {
     "name": "stderr",
     "output_type": "stream",
     "text": [
      "Epoch 54/150: 100%|██████████| 48/48 [00:00<00:00, 85.39it/s, loss=1.24] \n",
      "\n"
     ]
    },
    {
     "name": "stdout",
     "output_type": "stream",
     "text": [
      "Epoch [54/150]\n",
      "Training Loss: 0.6902\n",
      "Validation Loss: 0.8809\n",
      "Test Accuracy: 72.22%\n",
      "Best Accuracy: 76.74%\n",
      "--------------------------------------------------\n"
     ]
    },
    {
     "name": "stderr",
     "output_type": "stream",
     "text": [
      "Epoch 55/150: 100%|██████████| 48/48 [00:00<00:00, 76.66it/s, loss=0.184] \n",
      "\n"
     ]
    },
    {
     "name": "stdout",
     "output_type": "stream",
     "text": [
      "Epoch [55/150]\n",
      "Training Loss: 0.8094\n",
      "Validation Loss: 1.0426\n",
      "Test Accuracy: 71.18%\n",
      "Best Accuracy: 76.74%\n",
      "--------------------------------------------------\n"
     ]
    },
    {
     "name": "stderr",
     "output_type": "stream",
     "text": [
      "Epoch 56/150: 100%|██████████| 48/48 [00:00<00:00, 78.72it/s, loss=0.585]\n",
      "\n"
     ]
    },
    {
     "name": "stdout",
     "output_type": "stream",
     "text": [
      "Epoch [56/150]\n",
      "Training Loss: 0.8033\n",
      "Validation Loss: 0.8658\n",
      "Test Accuracy: 74.65%\n",
      "Best Accuracy: 76.74%\n",
      "--------------------------------------------------\n"
     ]
    },
    {
     "name": "stderr",
     "output_type": "stream",
     "text": [
      "Epoch 57/150: 100%|██████████| 48/48 [00:00<00:00, 85.64it/s, loss=0.38]  \n",
      "\n"
     ]
    },
    {
     "name": "stdout",
     "output_type": "stream",
     "text": [
      "Epoch [57/150]\n",
      "Training Loss: 0.5850\n",
      "Validation Loss: 0.8548\n",
      "Test Accuracy: 75.35%\n",
      "Best Accuracy: 76.74%\n",
      "--------------------------------------------------\n"
     ]
    },
    {
     "name": "stderr",
     "output_type": "stream",
     "text": [
      "Epoch 58/150: 100%|██████████| 48/48 [00:00<00:00, 81.21it/s, loss=1.92] \n",
      "\n"
     ]
    },
    {
     "name": "stdout",
     "output_type": "stream",
     "text": [
      "Epoch [58/150]\n",
      "Training Loss: 0.8328\n",
      "Validation Loss: 0.8132\n",
      "Test Accuracy: 76.04%\n",
      "Best Accuracy: 76.74%\n",
      "--------------------------------------------------\n"
     ]
    },
    {
     "name": "stderr",
     "output_type": "stream",
     "text": [
      "Epoch 59/150: 100%|██████████| 48/48 [00:00<00:00, 81.69it/s, loss=0.225] \n",
      "\n"
     ]
    },
    {
     "name": "stdout",
     "output_type": "stream",
     "text": [
      "Epoch [59/150]\n",
      "Training Loss: 0.6662\n",
      "Validation Loss: 0.8205\n",
      "Test Accuracy: 76.04%\n",
      "Best Accuracy: 76.74%\n",
      "--------------------------------------------------\n"
     ]
    },
    {
     "name": "stderr",
     "output_type": "stream",
     "text": [
      "Epoch 60/150: 100%|██████████| 48/48 [00:00<00:00, 87.19it/s, loss=0.281] \n",
      "\n"
     ]
    },
    {
     "name": "stdout",
     "output_type": "stream",
     "text": [
      "Epoch [60/150]\n",
      "Training Loss: 0.6966\n",
      "Validation Loss: 0.8543\n",
      "Test Accuracy: 76.04%\n",
      "Best Accuracy: 76.74%\n",
      "--------------------------------------------------\n"
     ]
    },
    {
     "name": "stderr",
     "output_type": "stream",
     "text": [
      "Epoch 61/150: 100%|██████████| 48/48 [00:00<00:00, 86.70it/s, loss=1.5]   \n",
      "\n"
     ]
    },
    {
     "name": "stdout",
     "output_type": "stream",
     "text": [
      "Epoch [61/150]\n",
      "Training Loss: 0.7747\n",
      "Validation Loss: 0.8708\n",
      "Test Accuracy: 73.61%\n",
      "Best Accuracy: 76.74%\n",
      "--------------------------------------------------\n"
     ]
    },
    {
     "name": "stderr",
     "output_type": "stream",
     "text": [
      "Epoch 62/150: 100%|██████████| 48/48 [00:00<00:00, 81.46it/s, loss=1.46] \n",
      "\n"
     ]
    },
    {
     "name": "stdout",
     "output_type": "stream",
     "text": [
      "Epoch [62/150]\n",
      "Training Loss: 0.7458\n",
      "Validation Loss: 1.1973\n",
      "Test Accuracy: 67.36%\n",
      "Best Accuracy: 76.74%\n",
      "--------------------------------------------------\n"
     ]
    },
    {
     "name": "stderr",
     "output_type": "stream",
     "text": [
      "Epoch 63/150: 100%|██████████| 48/48 [00:00<00:00, 87.65it/s, loss=0.19]  \n",
      "Epoch 63/150: 100%|██████████| 48/48 [00:00<00:00, 87.65it/s, loss=0.19]\n"
     ]
    },
    {
     "name": "stdout",
     "output_type": "stream",
     "text": [
      "Epoch [63/150]\n",
      "Training Loss: 0.7119\n",
      "Validation Loss: 0.8526\n",
      "Test Accuracy: 73.26%\n",
      "Best Accuracy: 76.74%\n",
      "--------------------------------------------------\n"
     ]
    },
    {
     "name": "stderr",
     "output_type": "stream",
     "text": [
      "Epoch 64/150: 100%|██████████| 48/48 [00:00<00:00, 86.06it/s, loss=0.222] \n",
      "\n"
     ]
    },
    {
     "name": "stdout",
     "output_type": "stream",
     "text": [
      "Epoch [64/150]\n",
      "Training Loss: 0.5900\n",
      "Validation Loss: 0.7893\n",
      "Test Accuracy: 75.69%\n",
      "Best Accuracy: 76.74%\n",
      "--------------------------------------------------\n"
     ]
    },
    {
     "name": "stderr",
     "output_type": "stream",
     "text": [
      "Epoch 65/150: 100%|██████████| 48/48 [00:00<00:00, 72.83it/s, loss=0.364]\n",
      "\n"
     ]
    },
    {
     "name": "stdout",
     "output_type": "stream",
     "text": [
      "Epoch [65/150]\n",
      "Training Loss: 0.7627\n",
      "Validation Loss: 0.9160\n",
      "Test Accuracy: 75.00%\n",
      "Best Accuracy: 76.74%\n",
      "--------------------------------------------------\n"
     ]
    },
    {
     "name": "stderr",
     "output_type": "stream",
     "text": [
      "Epoch 66/150: 100%|██████████| 48/48 [00:00<00:00, 76.72it/s, loss=0.169] \n",
      "\n"
     ]
    },
    {
     "name": "stdout",
     "output_type": "stream",
     "text": [
      "Epoch [66/150]\n",
      "Training Loss: 0.6424\n",
      "Validation Loss: 0.7416\n",
      "Test Accuracy: 78.12%\n",
      "Best Accuracy: 78.12%\n",
      "--------------------------------------------------\n"
     ]
    },
    {
     "name": "stderr",
     "output_type": "stream",
     "text": [
      "Epoch 67/150: 100%|██████████| 48/48 [00:00<00:00, 78.79it/s, loss=1.77]  \n",
      "\n"
     ]
    },
    {
     "name": "stdout",
     "output_type": "stream",
     "text": [
      "Epoch [67/150]\n",
      "Training Loss: 0.6539\n",
      "Validation Loss: 0.7746\n",
      "Test Accuracy: 76.74%\n",
      "Best Accuracy: 78.12%\n",
      "--------------------------------------------------\n"
     ]
    },
    {
     "name": "stderr",
     "output_type": "stream",
     "text": [
      "Epoch 68/150: 100%|██████████| 48/48 [00:00<00:00, 71.70it/s, loss=0.38]  \n",
      "\n"
     ]
    },
    {
     "name": "stdout",
     "output_type": "stream",
     "text": [
      "Epoch [68/150]\n",
      "Training Loss: 0.6702\n",
      "Validation Loss: 0.7544\n",
      "Test Accuracy: 77.78%\n",
      "Best Accuracy: 78.12%\n",
      "--------------------------------------------------\n"
     ]
    },
    {
     "name": "stderr",
     "output_type": "stream",
     "text": [
      "Epoch 69/150: 100%|██████████| 48/48 [00:00<00:00, 78.19it/s, loss=2.02]  \n",
      "Epoch 69/150: 100%|██████████| 48/48 [00:00<00:00, 78.19it/s, loss=2.02] \n"
     ]
    },
    {
     "name": "stdout",
     "output_type": "stream",
     "text": [
      "Epoch [69/150]\n",
      "Training Loss: 0.8044\n",
      "Validation Loss: 0.8040\n",
      "Test Accuracy: 75.35%\n",
      "Best Accuracy: 78.12%\n",
      "--------------------------------------------------\n"
     ]
    },
    {
     "name": "stderr",
     "output_type": "stream",
     "text": [
      "Epoch 70/150: 100%|██████████| 48/48 [00:00<00:00, 77.22it/s, loss=1.52]  \n",
      "\n"
     ]
    },
    {
     "name": "stdout",
     "output_type": "stream",
     "text": [
      "Epoch [70/150]\n",
      "Training Loss: 0.6480\n",
      "Validation Loss: 0.9097\n",
      "Test Accuracy: 70.83%\n",
      "Best Accuracy: 78.12%\n",
      "--------------------------------------------------\n"
     ]
    },
    {
     "name": "stderr",
     "output_type": "stream",
     "text": [
      "Epoch 71/150: 100%|██████████| 48/48 [00:00<00:00, 78.66it/s, loss=0.393] \n",
      "\n"
     ]
    },
    {
     "name": "stdout",
     "output_type": "stream",
     "text": [
      "Epoch [71/150]\n",
      "Training Loss: 0.5578\n",
      "Validation Loss: 0.7977\n",
      "Test Accuracy: 75.69%\n",
      "Best Accuracy: 78.12%\n",
      "--------------------------------------------------\n"
     ]
    },
    {
     "name": "stderr",
     "output_type": "stream",
     "text": [
      "Epoch 72/150: 100%|██████████| 48/48 [00:00<00:00, 82.40it/s, loss=0.259] \n",
      "\n"
     ]
    },
    {
     "name": "stdout",
     "output_type": "stream",
     "text": [
      "Epoch [72/150]\n",
      "Training Loss: 0.6861\n",
      "Validation Loss: 0.9053\n",
      "Test Accuracy: 72.92%\n",
      "Best Accuracy: 78.12%\n",
      "--------------------------------------------------\n"
     ]
    },
    {
     "name": "stderr",
     "output_type": "stream",
     "text": [
      "Epoch 73/150: 100%|██████████| 48/48 [00:00<00:00, 87.20it/s, loss=0.819] \n",
      "\n"
     ]
    },
    {
     "name": "stdout",
     "output_type": "stream",
     "text": [
      "Epoch [73/150]\n",
      "Training Loss: 0.8317\n",
      "Validation Loss: 0.7287\n",
      "Test Accuracy: 78.47%\n",
      "Best Accuracy: 78.47%\n",
      "--------------------------------------------------\n"
     ]
    },
    {
     "name": "stderr",
     "output_type": "stream",
     "text": [
      "Epoch 74/150: 100%|██████████| 48/48 [00:00<00:00, 85.33it/s, loss=0.233] \n",
      "\n"
     ]
    },
    {
     "name": "stdout",
     "output_type": "stream",
     "text": [
      "Epoch [74/150]\n",
      "Training Loss: 0.7941\n",
      "Validation Loss: 0.7306\n",
      "Test Accuracy: 78.82%\n",
      "Best Accuracy: 78.82%\n",
      "--------------------------------------------------\n"
     ]
    },
    {
     "name": "stderr",
     "output_type": "stream",
     "text": [
      "Epoch 75/150: 100%|██████████| 48/48 [00:00<00:00, 89.06it/s, loss=0.108] \n",
      "\n"
     ]
    },
    {
     "name": "stdout",
     "output_type": "stream",
     "text": [
      "Epoch [75/150]\n",
      "Training Loss: 0.7968\n",
      "Validation Loss: 0.8975\n",
      "Test Accuracy: 73.26%\n",
      "Best Accuracy: 78.82%\n",
      "--------------------------------------------------\n"
     ]
    },
    {
     "name": "stderr",
     "output_type": "stream",
     "text": [
      "Epoch 76/150: 100%|██████████| 48/48 [00:00<00:00, 90.81it/s, loss=0.214] \n",
      "Epoch 76/150: 100%|██████████| 48/48 [00:00<00:00, 90.81it/s, loss=0.214]\n"
     ]
    },
    {
     "name": "stdout",
     "output_type": "stream",
     "text": [
      "Epoch [76/150]\n",
      "Training Loss: 0.5239\n",
      "Validation Loss: 0.7703\n",
      "Test Accuracy: 77.43%\n",
      "Best Accuracy: 78.82%\n",
      "--------------------------------------------------\n"
     ]
    },
    {
     "name": "stderr",
     "output_type": "stream",
     "text": [
      "Epoch 77/150: 100%|██████████| 48/48 [00:00<00:00, 80.31it/s, loss=0.111] \n",
      "\n"
     ]
    },
    {
     "name": "stdout",
     "output_type": "stream",
     "text": [
      "Epoch [77/150]\n",
      "Training Loss: 0.6122\n",
      "Validation Loss: 0.6808\n",
      "Test Accuracy: 81.60%\n",
      "Best Accuracy: 81.60%\n",
      "--------------------------------------------------\n"
     ]
    },
    {
     "name": "stderr",
     "output_type": "stream",
     "text": [
      "Epoch 78/150: 100%|██████████| 48/48 [00:00<00:00, 85.76it/s, loss=0.677] \n",
      "\n"
     ]
    },
    {
     "name": "stdout",
     "output_type": "stream",
     "text": [
      "Epoch [78/150]\n",
      "Training Loss: 0.6925\n",
      "Validation Loss: 0.7706\n",
      "Test Accuracy: 77.78%\n",
      "Best Accuracy: 81.60%\n",
      "--------------------------------------------------\n"
     ]
    },
    {
     "name": "stderr",
     "output_type": "stream",
     "text": [
      "Epoch 79/150: 100%|██████████| 48/48 [00:00<00:00, 86.96it/s, loss=0.436] \n",
      "\n"
     ]
    },
    {
     "name": "stdout",
     "output_type": "stream",
     "text": [
      "Epoch [79/150]\n",
      "Training Loss: 0.7989\n",
      "Validation Loss: 0.7559\n",
      "Test Accuracy: 80.90%\n",
      "Best Accuracy: 81.60%\n",
      "--------------------------------------------------\n"
     ]
    },
    {
     "name": "stderr",
     "output_type": "stream",
     "text": [
      "Epoch 80/150: 100%|██████████| 48/48 [00:00<00:00, 83.67it/s, loss=1.44]  \n",
      "\n"
     ]
    },
    {
     "name": "stdout",
     "output_type": "stream",
     "text": [
      "Epoch [80/150]\n",
      "Training Loss: 0.5167\n",
      "Validation Loss: 0.8086\n",
      "Test Accuracy: 76.04%\n",
      "Best Accuracy: 81.60%\n",
      "--------------------------------------------------\n"
     ]
    },
    {
     "name": "stderr",
     "output_type": "stream",
     "text": [
      "Epoch 81/150: 100%|██████████| 48/48 [00:00<00:00, 88.81it/s, loss=0.734] \n",
      "\n"
     ]
    },
    {
     "name": "stdout",
     "output_type": "stream",
     "text": [
      "Epoch [81/150]\n",
      "Training Loss: 0.6571\n",
      "Validation Loss: 0.7869\n",
      "Test Accuracy: 76.39%\n",
      "Best Accuracy: 81.60%\n",
      "--------------------------------------------------\n"
     ]
    },
    {
     "name": "stderr",
     "output_type": "stream",
     "text": [
      "Epoch 82/150: 100%|██████████| 48/48 [00:00<00:00, 84.44it/s, loss=0.0815]\n",
      "\n"
     ]
    },
    {
     "name": "stdout",
     "output_type": "stream",
     "text": [
      "Epoch [82/150]\n",
      "Training Loss: 0.6942\n",
      "Validation Loss: 0.8740\n",
      "Test Accuracy: 75.35%\n",
      "Best Accuracy: 81.60%\n",
      "--------------------------------------------------\n"
     ]
    },
    {
     "name": "stderr",
     "output_type": "stream",
     "text": [
      "Epoch 83/150: 100%|██████████| 48/48 [00:00<00:00, 88.86it/s, loss=2.16]  \n",
      "\n"
     ]
    },
    {
     "name": "stdout",
     "output_type": "stream",
     "text": [
      "Epoch [83/150]\n",
      "Training Loss: 0.6393\n",
      "Validation Loss: 0.7798\n",
      "Test Accuracy: 76.39%\n",
      "Best Accuracy: 81.60%\n",
      "--------------------------------------------------\n"
     ]
    },
    {
     "name": "stderr",
     "output_type": "stream",
     "text": [
      "Epoch 84/150: 100%|██████████| 48/48 [00:00<00:00, 89.30it/s, loss=0.306] \n",
      "\n"
     ]
    },
    {
     "name": "stdout",
     "output_type": "stream",
     "text": [
      "Epoch [84/150]\n",
      "Training Loss: 0.7550\n",
      "Validation Loss: 0.7312\n",
      "Test Accuracy: 77.78%\n",
      "Best Accuracy: 81.60%\n",
      "--------------------------------------------------\n"
     ]
    },
    {
     "name": "stderr",
     "output_type": "stream",
     "text": [
      "Epoch 85/150: 100%|██████████| 48/48 [00:00<00:00, 78.62it/s, loss=0.122] \n",
      "\n"
     ]
    },
    {
     "name": "stdout",
     "output_type": "stream",
     "text": [
      "Epoch [85/150]\n",
      "Training Loss: 0.7056\n",
      "Validation Loss: 0.7097\n",
      "Test Accuracy: 78.47%\n",
      "Best Accuracy: 81.60%\n",
      "--------------------------------------------------\n"
     ]
    },
    {
     "name": "stderr",
     "output_type": "stream",
     "text": [
      "Epoch 86/150: 100%|██████████| 48/48 [00:00<00:00, 91.11it/s, loss=1.68]  \n",
      "\n"
     ]
    },
    {
     "name": "stdout",
     "output_type": "stream",
     "text": [
      "Epoch [86/150]\n",
      "Training Loss: 0.7073\n",
      "Validation Loss: 0.7195\n",
      "Test Accuracy: 77.08%\n",
      "Best Accuracy: 81.60%\n",
      "--------------------------------------------------\n"
     ]
    },
    {
     "name": "stderr",
     "output_type": "stream",
     "text": [
      "Epoch 87/150: 100%|██████████| 48/48 [00:00<00:00, 83.14it/s, loss=0.136] \n",
      "\n"
     ]
    },
    {
     "name": "stdout",
     "output_type": "stream",
     "text": [
      "Epoch [87/150]\n",
      "Training Loss: 0.6946\n",
      "Validation Loss: 0.7874\n",
      "Test Accuracy: 78.82%\n",
      "Best Accuracy: 81.60%\n",
      "--------------------------------------------------\n"
     ]
    },
    {
     "name": "stderr",
     "output_type": "stream",
     "text": [
      "Epoch 88/150: 100%|██████████| 48/48 [00:00<00:00, 89.83it/s, loss=1.02] \n",
      "\n"
     ]
    },
    {
     "name": "stdout",
     "output_type": "stream",
     "text": [
      "Epoch [88/150]\n",
      "Training Loss: 0.7973\n",
      "Validation Loss: 0.7192\n",
      "Test Accuracy: 78.47%\n",
      "Best Accuracy: 81.60%\n",
      "--------------------------------------------------\n"
     ]
    },
    {
     "name": "stderr",
     "output_type": "stream",
     "text": [
      "Epoch 89/150: 100%|██████████| 48/48 [00:00<00:00, 90.93it/s, loss=0.623]\n",
      "\n"
     ]
    },
    {
     "name": "stdout",
     "output_type": "stream",
     "text": [
      "Epoch [89/150]\n",
      "Training Loss: 0.7033\n",
      "Validation Loss: 0.6994\n",
      "Test Accuracy: 78.82%\n",
      "Best Accuracy: 81.60%\n",
      "--------------------------------------------------\n"
     ]
    },
    {
     "name": "stderr",
     "output_type": "stream",
     "text": [
      "Epoch 90/150: 100%|██████████| 48/48 [00:00<00:00, 86.78it/s, loss=0.318] \n",
      "\n"
     ]
    },
    {
     "name": "stdout",
     "output_type": "stream",
     "text": [
      "Epoch [90/150]\n",
      "Training Loss: 0.7585\n",
      "Validation Loss: 0.6934\n",
      "Test Accuracy: 80.21%\n",
      "Best Accuracy: 81.60%\n",
      "--------------------------------------------------\n"
     ]
    },
    {
     "name": "stderr",
     "output_type": "stream",
     "text": [
      "Epoch 91/150: 100%|██████████| 48/48 [00:00<00:00, 91.78it/s, loss=0.978]\n",
      "\n"
     ]
    },
    {
     "name": "stdout",
     "output_type": "stream",
     "text": [
      "Epoch [91/150]\n",
      "Training Loss: 0.7678\n",
      "Validation Loss: 0.6599\n",
      "Test Accuracy: 80.90%\n",
      "Best Accuracy: 81.60%\n",
      "--------------------------------------------------\n"
     ]
    },
    {
     "name": "stderr",
     "output_type": "stream",
     "text": [
      "Epoch 92/150: 100%|██████████| 48/48 [00:00<00:00, 91.78it/s, loss=1.05]  \n",
      "\n"
     ]
    },
    {
     "name": "stdout",
     "output_type": "stream",
     "text": [
      "Epoch [92/150]\n",
      "Training Loss: 0.5993\n",
      "Validation Loss: 0.7368\n",
      "Test Accuracy: 77.08%\n",
      "Best Accuracy: 81.60%\n",
      "--------------------------------------------------\n"
     ]
    },
    {
     "name": "stderr",
     "output_type": "stream",
     "text": [
      "Epoch 93/150: 100%|██████████| 48/48 [00:00<00:00, 85.87it/s, loss=0.138] \n",
      "\n"
     ]
    },
    {
     "name": "stdout",
     "output_type": "stream",
     "text": [
      "Epoch [93/150]\n",
      "Training Loss: 0.7449\n",
      "Validation Loss: 0.7406\n",
      "Test Accuracy: 77.78%\n",
      "Best Accuracy: 81.60%\n",
      "--------------------------------------------------\n"
     ]
    },
    {
     "name": "stderr",
     "output_type": "stream",
     "text": [
      "Epoch 94/150: 100%|██████████| 48/48 [00:00<00:00, 84.99it/s, loss=0.327] \n",
      "\n"
     ]
    },
    {
     "name": "stdout",
     "output_type": "stream",
     "text": [
      "Epoch [94/150]\n",
      "Training Loss: 0.7701\n",
      "Validation Loss: 0.7086\n",
      "Test Accuracy: 78.12%\n",
      "Best Accuracy: 81.60%\n",
      "--------------------------------------------------\n"
     ]
    },
    {
     "name": "stderr",
     "output_type": "stream",
     "text": [
      "Epoch 95/150: 100%|██████████| 48/48 [00:00<00:00, 78.47it/s, loss=0.38]  \n",
      "\n"
     ]
    },
    {
     "name": "stdout",
     "output_type": "stream",
     "text": [
      "Epoch [95/150]\n",
      "Training Loss: 0.7279\n",
      "Validation Loss: 0.7308\n",
      "Test Accuracy: 81.25%\n",
      "Best Accuracy: 81.60%\n",
      "--------------------------------------------------\n"
     ]
    },
    {
     "name": "stderr",
     "output_type": "stream",
     "text": [
      "Epoch 96/150: 100%|██████████| 48/48 [00:00<00:00, 84.35it/s, loss=0.297] \n",
      "\n"
     ]
    },
    {
     "name": "stdout",
     "output_type": "stream",
     "text": [
      "Epoch [96/150]\n",
      "Training Loss: 0.7605\n",
      "Validation Loss: 0.6934\n",
      "Test Accuracy: 79.17%\n",
      "Best Accuracy: 81.60%\n",
      "--------------------------------------------------\n"
     ]
    },
    {
     "name": "stderr",
     "output_type": "stream",
     "text": [
      "Epoch 97/150: 100%|██████████| 48/48 [00:00<00:00, 85.43it/s, loss=0.0874]\n",
      "\n"
     ]
    },
    {
     "name": "stdout",
     "output_type": "stream",
     "text": [
      "Epoch [97/150]\n",
      "Training Loss: 0.6722\n",
      "Validation Loss: 0.6391\n",
      "Test Accuracy: 81.60%\n",
      "Best Accuracy: 81.60%\n",
      "--------------------------------------------------\n"
     ]
    },
    {
     "name": "stderr",
     "output_type": "stream",
     "text": [
      "Epoch 98/150: 100%|██████████| 48/48 [00:00<00:00, 77.84it/s, loss=1.52]  \n",
      "\n"
     ]
    },
    {
     "name": "stdout",
     "output_type": "stream",
     "text": [
      "Epoch [98/150]\n",
      "Training Loss: 0.6548\n",
      "Validation Loss: 0.7524\n",
      "Test Accuracy: 78.47%\n",
      "Best Accuracy: 81.60%\n",
      "--------------------------------------------------\n"
     ]
    },
    {
     "name": "stderr",
     "output_type": "stream",
     "text": [
      "Epoch 99/150: 100%|██████████| 48/48 [00:00<00:00, 80.03it/s, loss=0.333] \n",
      "\n"
     ]
    },
    {
     "name": "stdout",
     "output_type": "stream",
     "text": [
      "Epoch [99/150]\n",
      "Training Loss: 0.7799\n",
      "Validation Loss: 0.7360\n",
      "Test Accuracy: 80.21%\n",
      "Best Accuracy: 81.60%\n",
      "--------------------------------------------------\n"
     ]
    },
    {
     "name": "stderr",
     "output_type": "stream",
     "text": [
      "Epoch 100/150: 100%|██████████| 48/48 [00:00<00:00, 71.54it/s, loss=0.154] \n",
      "\n"
     ]
    },
    {
     "name": "stdout",
     "output_type": "stream",
     "text": [
      "Epoch [100/150]\n",
      "Training Loss: 0.7010\n",
      "Validation Loss: 0.7665\n",
      "Test Accuracy: 79.86%\n",
      "Best Accuracy: 81.60%\n",
      "--------------------------------------------------\n"
     ]
    },
    {
     "name": "stderr",
     "output_type": "stream",
     "text": [
      "Epoch 101/150: 100%|██████████| 48/48 [00:00<00:00, 79.37it/s, loss=1.27]  \n",
      "Epoch 101/150: 100%|██████████| 48/48 [00:00<00:00, 79.37it/s, loss=1.27]\n"
     ]
    },
    {
     "name": "stdout",
     "output_type": "stream",
     "text": [
      "Epoch [101/150]\n",
      "Training Loss: 0.7045\n",
      "Validation Loss: 0.7519\n",
      "Test Accuracy: 77.78%\n",
      "Best Accuracy: 81.60%\n",
      "--------------------------------------------------\n"
     ]
    },
    {
     "name": "stderr",
     "output_type": "stream",
     "text": [
      "Epoch 102/150: 100%|██████████| 48/48 [00:00<00:00, 77.60it/s, loss=0.522] \n",
      "\n"
     ]
    },
    {
     "name": "stdout",
     "output_type": "stream",
     "text": [
      "Epoch [102/150]\n",
      "Training Loss: 0.7963\n",
      "Validation Loss: 0.7123\n",
      "Test Accuracy: 79.86%\n",
      "Best Accuracy: 81.60%\n",
      "--------------------------------------------------\n"
     ]
    },
    {
     "name": "stderr",
     "output_type": "stream",
     "text": [
      "Epoch 103/150: 100%|██████████| 48/48 [00:00<00:00, 83.16it/s, loss=0.825] \n",
      "\n"
     ]
    },
    {
     "name": "stdout",
     "output_type": "stream",
     "text": [
      "Epoch [103/150]\n",
      "Training Loss: 0.8861\n",
      "Validation Loss: 0.7242\n",
      "Test Accuracy: 77.43%\n",
      "Best Accuracy: 81.60%\n",
      "--------------------------------------------------\n"
     ]
    },
    {
     "name": "stderr",
     "output_type": "stream",
     "text": [
      "Epoch 104/150: 100%|██████████| 48/48 [00:00<00:00, 78.29it/s, loss=1.52]  \n",
      "\n"
     ]
    },
    {
     "name": "stdout",
     "output_type": "stream",
     "text": [
      "Epoch [104/150]\n",
      "Training Loss: 0.6237\n",
      "Validation Loss: 0.7772\n",
      "Test Accuracy: 78.47%\n",
      "Best Accuracy: 81.60%\n",
      "--------------------------------------------------\n"
     ]
    },
    {
     "name": "stderr",
     "output_type": "stream",
     "text": [
      "Epoch 105/150: 100%|██████████| 48/48 [00:00<00:00, 83.33it/s, loss=1.56]  \n",
      "\n"
     ]
    },
    {
     "name": "stdout",
     "output_type": "stream",
     "text": [
      "Epoch [105/150]\n",
      "Training Loss: 0.6535\n",
      "Validation Loss: 0.7305\n",
      "Test Accuracy: 78.82%\n",
      "Best Accuracy: 81.60%\n",
      "--------------------------------------------------\n"
     ]
    },
    {
     "name": "stderr",
     "output_type": "stream",
     "text": [
      "Epoch 106/150: 100%|██████████| 48/48 [00:00<00:00, 74.20it/s, loss=0.0947]\n",
      "\n"
     ]
    },
    {
     "name": "stdout",
     "output_type": "stream",
     "text": [
      "Epoch [106/150]\n",
      "Training Loss: 0.5953\n",
      "Validation Loss: 0.6790\n",
      "Test Accuracy: 80.90%\n",
      "Best Accuracy: 81.60%\n",
      "--------------------------------------------------\n"
     ]
    },
    {
     "name": "stderr",
     "output_type": "stream",
     "text": [
      "Epoch 107/150: 100%|██████████| 48/48 [00:00<00:00, 80.23it/s, loss=0.0869]\n",
      "\n"
     ]
    },
    {
     "name": "stdout",
     "output_type": "stream",
     "text": [
      "Epoch [107/150]\n",
      "Training Loss: 0.6588\n",
      "Validation Loss: 0.6880\n",
      "Test Accuracy: 81.60%\n",
      "Best Accuracy: 81.60%\n",
      "--------------------------------------------------\n"
     ]
    },
    {
     "name": "stderr",
     "output_type": "stream",
     "text": [
      "Epoch 108/150: 100%|██████████| 48/48 [00:00<00:00, 75.20it/s, loss=0.0992]\n",
      "\n"
     ]
    },
    {
     "name": "stdout",
     "output_type": "stream",
     "text": [
      "Epoch [108/150]\n",
      "Training Loss: 0.6503\n",
      "Validation Loss: 0.6252\n",
      "Test Accuracy: 82.99%\n",
      "Best Accuracy: 82.99%\n",
      "--------------------------------------------------\n"
     ]
    },
    {
     "name": "stderr",
     "output_type": "stream",
     "text": [
      "Epoch 109/150: 100%|██████████| 48/48 [00:00<00:00, 84.06it/s, loss=0.192] \n",
      "Epoch 109/150: 100%|██████████| 48/48 [00:00<00:00, 84.06it/s, loss=0.192]\n"
     ]
    },
    {
     "name": "stdout",
     "output_type": "stream",
     "text": [
      "Epoch [109/150]\n",
      "Training Loss: 0.5998\n",
      "Validation Loss: 0.6506\n",
      "Test Accuracy: 82.29%\n",
      "Best Accuracy: 82.99%\n",
      "--------------------------------------------------\n"
     ]
    },
    {
     "name": "stderr",
     "output_type": "stream",
     "text": [
      "Epoch 110/150: 100%|██████████| 48/48 [00:00<00:00, 76.68it/s, loss=0.88]  \n",
      "\n"
     ]
    },
    {
     "name": "stdout",
     "output_type": "stream",
     "text": [
      "Epoch [110/150]\n",
      "Training Loss: 0.5479\n",
      "Validation Loss: 0.6421\n",
      "Test Accuracy: 82.64%\n",
      "Best Accuracy: 82.99%\n",
      "--------------------------------------------------\n"
     ]
    },
    {
     "name": "stderr",
     "output_type": "stream",
     "text": [
      "Epoch 111/150: 100%|██████████| 48/48 [00:00<00:00, 77.08it/s, loss=0.0865]\n",
      "\n"
     ]
    },
    {
     "name": "stdout",
     "output_type": "stream",
     "text": [
      "Epoch [111/150]\n",
      "Training Loss: 0.6190\n",
      "Validation Loss: 0.7055\n",
      "Test Accuracy: 82.99%\n",
      "Best Accuracy: 82.99%\n",
      "--------------------------------------------------\n"
     ]
    },
    {
     "name": "stderr",
     "output_type": "stream",
     "text": [
      "Epoch 112/150: 100%|██████████| 48/48 [00:00<00:00, 69.20it/s, loss=0.0704]\n",
      "\n"
     ]
    },
    {
     "name": "stdout",
     "output_type": "stream",
     "text": [
      "Epoch [112/150]\n",
      "Training Loss: 0.6258\n",
      "Validation Loss: 0.6383\n",
      "Test Accuracy: 81.94%\n",
      "Best Accuracy: 82.99%\n",
      "--------------------------------------------------\n"
     ]
    },
    {
     "name": "stderr",
     "output_type": "stream",
     "text": [
      "Epoch 113/150: 100%|██████████| 48/48 [00:00<00:00, 70.45it/s, loss=0.172] \n",
      "\n"
     ]
    },
    {
     "name": "stdout",
     "output_type": "stream",
     "text": [
      "Epoch [113/150]\n",
      "Training Loss: 0.7541\n",
      "Validation Loss: 0.6273\n",
      "Test Accuracy: 83.68%\n",
      "Best Accuracy: 83.68%\n",
      "--------------------------------------------------\n"
     ]
    },
    {
     "name": "stderr",
     "output_type": "stream",
     "text": [
      "Epoch 114/150: 100%|██████████| 48/48 [00:00<00:00, 72.12it/s, loss=0.794] \n",
      "\n"
     ]
    },
    {
     "name": "stdout",
     "output_type": "stream",
     "text": [
      "Epoch [114/150]\n",
      "Training Loss: 0.6315\n",
      "Validation Loss: 0.6657\n",
      "Test Accuracy: 80.56%\n",
      "Best Accuracy: 83.68%\n",
      "--------------------------------------------------\n"
     ]
    },
    {
     "name": "stderr",
     "output_type": "stream",
     "text": [
      "Epoch 115/150: 100%|██████████| 48/48 [00:00<00:00, 71.36it/s, loss=1.26]  \n",
      "\n"
     ]
    },
    {
     "name": "stdout",
     "output_type": "stream",
     "text": [
      "Epoch [115/150]\n",
      "Training Loss: 0.6176\n",
      "Validation Loss: 0.6540\n",
      "Test Accuracy: 81.25%\n",
      "Best Accuracy: 83.68%\n",
      "--------------------------------------------------\n"
     ]
    },
    {
     "name": "stderr",
     "output_type": "stream",
     "text": [
      "Epoch 116/150: 100%|██████████| 48/48 [00:00<00:00, 69.90it/s, loss=1.52]  \n",
      "\n"
     ]
    },
    {
     "name": "stdout",
     "output_type": "stream",
     "text": [
      "Epoch [116/150]\n",
      "Training Loss: 0.6053\n",
      "Validation Loss: 0.6383\n",
      "Test Accuracy: 82.99%\n",
      "Best Accuracy: 83.68%\n",
      "--------------------------------------------------\n"
     ]
    },
    {
     "name": "stderr",
     "output_type": "stream",
     "text": [
      "Epoch 117/150: 100%|██████████| 48/48 [00:00<00:00, 73.66it/s, loss=0.886] \n",
      "\n"
     ]
    },
    {
     "name": "stdout",
     "output_type": "stream",
     "text": [
      "Epoch [117/150]\n",
      "Training Loss: 0.6610\n",
      "Validation Loss: 0.7101\n",
      "Test Accuracy: 81.94%\n",
      "Best Accuracy: 83.68%\n",
      "--------------------------------------------------\n"
     ]
    },
    {
     "name": "stderr",
     "output_type": "stream",
     "text": [
      "Epoch 118/150: 100%|██████████| 48/48 [00:00<00:00, 65.92it/s, loss=0.673] \n",
      "\n"
     ]
    },
    {
     "name": "stdout",
     "output_type": "stream",
     "text": [
      "Epoch [118/150]\n",
      "Training Loss: 0.7637\n",
      "Validation Loss: 0.6995\n",
      "Test Accuracy: 80.56%\n",
      "Best Accuracy: 83.68%\n",
      "--------------------------------------------------\n"
     ]
    },
    {
     "name": "stderr",
     "output_type": "stream",
     "text": [
      "Epoch 119/150: 100%|██████████| 48/48 [00:00<00:00, 82.09it/s, loss=0.273] \n",
      "\n"
     ]
    },
    {
     "name": "stdout",
     "output_type": "stream",
     "text": [
      "Epoch [119/150]\n",
      "Training Loss: 0.5446\n",
      "Validation Loss: 0.6949\n",
      "Test Accuracy: 82.29%\n",
      "Best Accuracy: 83.68%\n",
      "--------------------------------------------------\n"
     ]
    },
    {
     "name": "stderr",
     "output_type": "stream",
     "text": [
      "Epoch 120/150: 100%|██████████| 48/48 [00:00<00:00, 76.66it/s, loss=0.739] \n",
      "\n"
     ]
    },
    {
     "name": "stdout",
     "output_type": "stream",
     "text": [
      "Epoch [120/150]\n",
      "Training Loss: 0.6494\n",
      "Validation Loss: 0.6731\n",
      "Test Accuracy: 80.90%\n",
      "Best Accuracy: 83.68%\n",
      "--------------------------------------------------\n"
     ]
    },
    {
     "name": "stderr",
     "output_type": "stream",
     "text": [
      "Epoch 121/150: 100%|██████████| 48/48 [00:00<00:00, 76.67it/s, loss=1.15]  \n",
      "\n"
     ]
    },
    {
     "name": "stdout",
     "output_type": "stream",
     "text": [
      "Epoch [121/150]\n",
      "Training Loss: 0.7307\n",
      "Validation Loss: 0.6962\n",
      "Test Accuracy: 79.86%\n",
      "Best Accuracy: 83.68%\n",
      "--------------------------------------------------\n"
     ]
    },
    {
     "name": "stderr",
     "output_type": "stream",
     "text": [
      "Epoch 122/150: 100%|██████████| 48/48 [00:00<00:00, 76.77it/s, loss=0.395] \n",
      "\n"
     ]
    },
    {
     "name": "stdout",
     "output_type": "stream",
     "text": [
      "Epoch [122/150]\n",
      "Training Loss: 0.8248\n",
      "Validation Loss: 0.7354\n",
      "Test Accuracy: 80.21%\n",
      "Best Accuracy: 83.68%\n",
      "--------------------------------------------------\n"
     ]
    },
    {
     "name": "stderr",
     "output_type": "stream",
     "text": [
      "Epoch 123/150: 100%|██████████| 48/48 [00:00<00:00, 75.01it/s, loss=1.03]  \n",
      "\n"
     ]
    },
    {
     "name": "stdout",
     "output_type": "stream",
     "text": [
      "Epoch [123/150]\n",
      "Training Loss: 0.7266\n",
      "Validation Loss: 0.6748\n",
      "Test Accuracy: 83.68%\n",
      "Best Accuracy: 83.68%\n",
      "--------------------------------------------------\n"
     ]
    },
    {
     "name": "stderr",
     "output_type": "stream",
     "text": [
      "Epoch 124/150: 100%|██████████| 48/48 [00:00<00:00, 81.28it/s, loss=0.539] \n",
      "\n"
     ]
    },
    {
     "name": "stdout",
     "output_type": "stream",
     "text": [
      "Epoch [124/150]\n",
      "Training Loss: 0.7798\n",
      "Validation Loss: 0.6220\n",
      "Test Accuracy: 81.25%\n",
      "Best Accuracy: 83.68%\n",
      "--------------------------------------------------\n"
     ]
    },
    {
     "name": "stderr",
     "output_type": "stream",
     "text": [
      "Epoch 125/150: 100%|██████████| 48/48 [00:00<00:00, 72.10it/s, loss=0.282] \n",
      "\n"
     ]
    },
    {
     "name": "stdout",
     "output_type": "stream",
     "text": [
      "Epoch [125/150]\n",
      "Training Loss: 0.5424\n",
      "Validation Loss: 0.6480\n",
      "Test Accuracy: 81.60%\n",
      "Best Accuracy: 83.68%\n",
      "--------------------------------------------------\n"
     ]
    },
    {
     "name": "stderr",
     "output_type": "stream",
     "text": [
      "Epoch 126/150: 100%|██████████| 48/48 [00:00<00:00, 80.26it/s, loss=1.04]  \n",
      "\n"
     ]
    },
    {
     "name": "stdout",
     "output_type": "stream",
     "text": [
      "Epoch [126/150]\n",
      "Training Loss: 0.6202\n",
      "Validation Loss: 0.7160\n",
      "Test Accuracy: 80.56%\n",
      "Best Accuracy: 83.68%\n",
      "--------------------------------------------------\n"
     ]
    },
    {
     "name": "stderr",
     "output_type": "stream",
     "text": [
      "Epoch 127/150: 100%|██████████| 48/48 [00:00<00:00, 76.00it/s, loss=0.0611]\n",
      "Epoch 127/150: 100%|██████████| 48/48 [00:00<00:00, 76.00it/s, loss=0.0611]\n"
     ]
    },
    {
     "name": "stdout",
     "output_type": "stream",
     "text": [
      "Epoch [127/150]\n",
      "Training Loss: 0.6207\n",
      "Validation Loss: 0.6593\n",
      "Test Accuracy: 82.29%\n",
      "Best Accuracy: 83.68%\n",
      "--------------------------------------------------\n"
     ]
    },
    {
     "name": "stderr",
     "output_type": "stream",
     "text": [
      "Epoch 128/150: 100%|██████████| 48/48 [00:00<00:00, 75.71it/s, loss=0.246] \n",
      "\n"
     ]
    },
    {
     "name": "stdout",
     "output_type": "stream",
     "text": [
      "Epoch [128/150]\n",
      "Training Loss: 0.7021\n",
      "Validation Loss: 0.6964\n",
      "Test Accuracy: 81.25%\n",
      "Best Accuracy: 83.68%\n",
      "--------------------------------------------------\n"
     ]
    },
    {
     "name": "stderr",
     "output_type": "stream",
     "text": [
      "Epoch 129/150: 100%|██████████| 48/48 [00:00<00:00, 76.68it/s, loss=0.119] \n",
      "\n"
     ]
    },
    {
     "name": "stdout",
     "output_type": "stream",
     "text": [
      "Epoch [129/150]\n",
      "Training Loss: 0.5863\n",
      "Validation Loss: 0.6542\n",
      "Test Accuracy: 81.94%\n",
      "Best Accuracy: 83.68%\n",
      "--------------------------------------------------\n"
     ]
    },
    {
     "name": "stderr",
     "output_type": "stream",
     "text": [
      "Epoch 130/150: 100%|██████████| 48/48 [00:00<00:00, 82.16it/s, loss=0.97]  \n",
      "\n"
     ]
    },
    {
     "name": "stdout",
     "output_type": "stream",
     "text": [
      "Epoch [130/150]\n",
      "Training Loss: 0.7010\n",
      "Validation Loss: 0.6725\n",
      "Test Accuracy: 81.25%\n",
      "Best Accuracy: 83.68%\n",
      "--------------------------------------------------\n"
     ]
    },
    {
     "name": "stderr",
     "output_type": "stream",
     "text": [
      "Epoch 131/150: 100%|██████████| 48/48 [00:00<00:00, 73.72it/s, loss=1.53]  \n",
      "\n"
     ]
    },
    {
     "name": "stdout",
     "output_type": "stream",
     "text": [
      "Epoch [131/150]\n",
      "Training Loss: 0.7937\n",
      "Validation Loss: 0.6535\n",
      "Test Accuracy: 82.64%\n",
      "Best Accuracy: 83.68%\n",
      "--------------------------------------------------\n"
     ]
    },
    {
     "name": "stderr",
     "output_type": "stream",
     "text": [
      "Epoch 132/150: 100%|██████████| 48/48 [00:00<00:00, 75.90it/s, loss=1.03]  \n",
      "\n"
     ]
    },
    {
     "name": "stdout",
     "output_type": "stream",
     "text": [
      "Epoch [132/150]\n",
      "Training Loss: 0.6915\n",
      "Validation Loss: 0.6250\n",
      "Test Accuracy: 82.64%\n",
      "Best Accuracy: 83.68%\n",
      "--------------------------------------------------\n"
     ]
    },
    {
     "name": "stderr",
     "output_type": "stream",
     "text": [
      "Epoch 133/150: 100%|██████████| 48/48 [00:00<00:00, 82.83it/s, loss=0.161] \n",
      "\n"
     ]
    },
    {
     "name": "stdout",
     "output_type": "stream",
     "text": [
      "Epoch [133/150]\n",
      "Training Loss: 0.6336\n",
      "Validation Loss: 0.6358\n",
      "Test Accuracy: 83.33%\n",
      "Best Accuracy: 83.68%\n",
      "--------------------------------------------------\n"
     ]
    },
    {
     "name": "stderr",
     "output_type": "stream",
     "text": [
      "Epoch 134/150: 100%|██████████| 48/48 [00:00<00:00, 70.96it/s, loss=0.19]  \n",
      "\n"
     ]
    },
    {
     "name": "stdout",
     "output_type": "stream",
     "text": [
      "Epoch [134/150]\n",
      "Training Loss: 0.6632\n",
      "Validation Loss: 0.6443\n",
      "Test Accuracy: 82.29%\n",
      "Best Accuracy: 83.68%\n",
      "--------------------------------------------------\n"
     ]
    },
    {
     "name": "stderr",
     "output_type": "stream",
     "text": [
      "Epoch 135/150: 100%|██████████| 48/48 [00:00<00:00, 77.18it/s, loss=0.857] \n",
      "\n"
     ]
    },
    {
     "name": "stdout",
     "output_type": "stream",
     "text": [
      "Epoch [135/150]\n",
      "Training Loss: 0.6912\n",
      "Validation Loss: 0.6226\n",
      "Test Accuracy: 83.33%\n",
      "Best Accuracy: 83.68%\n",
      "--------------------------------------------------\n"
     ]
    },
    {
     "name": "stderr",
     "output_type": "stream",
     "text": [
      "Epoch 136/150: 100%|██████████| 48/48 [00:00<00:00, 67.19it/s, loss=0.275] \n",
      "\n"
     ]
    },
    {
     "name": "stdout",
     "output_type": "stream",
     "text": [
      "Epoch [136/150]\n",
      "Training Loss: 0.6046\n",
      "Validation Loss: 0.6340\n",
      "Test Accuracy: 82.64%\n",
      "Best Accuracy: 83.68%\n",
      "--------------------------------------------------\n"
     ]
    },
    {
     "name": "stderr",
     "output_type": "stream",
     "text": [
      "Epoch 137/150: 100%|██████████| 48/48 [00:00<00:00, 57.59it/s, loss=1.45]  \n",
      "\n"
     ]
    },
    {
     "name": "stdout",
     "output_type": "stream",
     "text": [
      "Epoch [137/150]\n",
      "Training Loss: 0.6708\n",
      "Validation Loss: 0.6393\n",
      "Test Accuracy: 82.64%\n",
      "Best Accuracy: 83.68%\n",
      "--------------------------------------------------\n"
     ]
    },
    {
     "name": "stderr",
     "output_type": "stream",
     "text": [
      "Epoch 138/150: 100%|██████████| 48/48 [00:00<00:00, 81.62it/s, loss=0.426] \n",
      "\n"
     ]
    },
    {
     "name": "stdout",
     "output_type": "stream",
     "text": [
      "Epoch [138/150]\n",
      "Training Loss: 0.6580\n",
      "Validation Loss: 0.6476\n",
      "Test Accuracy: 82.99%\n",
      "Best Accuracy: 83.68%\n",
      "--------------------------------------------------\n"
     ]
    },
    {
     "name": "stderr",
     "output_type": "stream",
     "text": [
      "Epoch 139/150: 100%|██████████| 48/48 [00:00<00:00, 77.06it/s, loss=0.452] \n",
      "\n"
     ]
    },
    {
     "name": "stdout",
     "output_type": "stream",
     "text": [
      "Epoch [139/150]\n",
      "Training Loss: 0.8625\n",
      "Validation Loss: 0.6500\n",
      "Test Accuracy: 82.64%\n",
      "Best Accuracy: 83.68%\n",
      "--------------------------------------------------\n"
     ]
    },
    {
     "name": "stderr",
     "output_type": "stream",
     "text": [
      "Epoch 140/150: 100%|██████████| 48/48 [00:00<00:00, 70.76it/s, loss=0.711] \n",
      "\n"
     ]
    },
    {
     "name": "stdout",
     "output_type": "stream",
     "text": [
      "Epoch [140/150]\n",
      "Training Loss: 0.6327\n",
      "Validation Loss: 0.6347\n",
      "Test Accuracy: 82.29%\n",
      "Best Accuracy: 83.68%\n",
      "--------------------------------------------------\n"
     ]
    },
    {
     "name": "stderr",
     "output_type": "stream",
     "text": [
      "Epoch 141/150: 100%|██████████| 48/48 [00:00<00:00, 81.66it/s, loss=0.275] \n",
      "\n"
     ]
    },
    {
     "name": "stdout",
     "output_type": "stream",
     "text": [
      "Epoch [141/150]\n",
      "Training Loss: 0.7799\n",
      "Validation Loss: 0.6215\n",
      "Test Accuracy: 83.68%\n",
      "Best Accuracy: 83.68%\n",
      "--------------------------------------------------\n"
     ]
    },
    {
     "name": "stderr",
     "output_type": "stream",
     "text": [
      "Epoch 142/150: 100%|██████████| 48/48 [00:00<00:00, 81.02it/s, loss=1.4]   \n",
      "\n"
     ]
    },
    {
     "name": "stdout",
     "output_type": "stream",
     "text": [
      "Epoch [142/150]\n",
      "Training Loss: 0.7140\n",
      "Validation Loss: 0.6445\n",
      "Test Accuracy: 82.64%\n",
      "Best Accuracy: 83.68%\n",
      "--------------------------------------------------\n"
     ]
    },
    {
     "name": "stderr",
     "output_type": "stream",
     "text": [
      "Epoch 143/150: 100%|██████████| 48/48 [00:00<00:00, 75.50it/s, loss=1.69]  \n",
      "\n"
     ]
    },
    {
     "name": "stdout",
     "output_type": "stream",
     "text": [
      "Epoch [143/150]\n",
      "Training Loss: 0.6006\n",
      "Validation Loss: 0.6158\n",
      "Test Accuracy: 83.33%\n",
      "Best Accuracy: 83.68%\n",
      "--------------------------------------------------\n"
     ]
    },
    {
     "name": "stderr",
     "output_type": "stream",
     "text": [
      "Epoch 144/150: 100%|██████████| 48/48 [00:00<00:00, 72.32it/s, loss=1.42]  \n",
      "\n"
     ]
    },
    {
     "name": "stdout",
     "output_type": "stream",
     "text": [
      "Epoch [144/150]\n",
      "Training Loss: 0.7051\n",
      "Validation Loss: 0.6641\n",
      "Test Accuracy: 81.94%\n",
      "Best Accuracy: 83.68%\n",
      "--------------------------------------------------\n"
     ]
    },
    {
     "name": "stderr",
     "output_type": "stream",
     "text": [
      "Epoch 145/150: 100%|██████████| 48/48 [00:00<00:00, 80.02it/s, loss=0.0957]\n",
      "\n"
     ]
    },
    {
     "name": "stdout",
     "output_type": "stream",
     "text": [
      "Epoch [145/150]\n",
      "Training Loss: 0.5916\n",
      "Validation Loss: 0.6422\n",
      "Test Accuracy: 82.64%\n",
      "Best Accuracy: 83.68%\n",
      "--------------------------------------------------\n"
     ]
    },
    {
     "name": "stderr",
     "output_type": "stream",
     "text": [
      "Epoch 146/150: 100%|██████████| 48/48 [00:00<00:00, 81.64it/s, loss=0.152] \n",
      "\n"
     ]
    },
    {
     "name": "stdout",
     "output_type": "stream",
     "text": [
      "Epoch [146/150]\n",
      "Training Loss: 0.5670\n",
      "Validation Loss: 0.6500\n",
      "Test Accuracy: 82.64%\n",
      "Best Accuracy: 83.68%\n",
      "--------------------------------------------------\n"
     ]
    },
    {
     "name": "stderr",
     "output_type": "stream",
     "text": [
      "Epoch 147/150: 100%|██████████| 48/48 [00:00<00:00, 72.38it/s, loss=1.13]  \n",
      "\n"
     ]
    },
    {
     "name": "stdout",
     "output_type": "stream",
     "text": [
      "Epoch [147/150]\n",
      "Training Loss: 0.6657\n",
      "Validation Loss: 0.6345\n",
      "Test Accuracy: 82.99%\n",
      "Best Accuracy: 83.68%\n",
      "--------------------------------------------------\n"
     ]
    },
    {
     "name": "stderr",
     "output_type": "stream",
     "text": [
      "Epoch 148/150: 100%|██████████| 48/48 [00:00<00:00, 83.75it/s, loss=0.0852]\n",
      "\n"
     ]
    },
    {
     "name": "stdout",
     "output_type": "stream",
     "text": [
      "Epoch [148/150]\n",
      "Training Loss: 0.7320\n",
      "Validation Loss: 0.6284\n",
      "Test Accuracy: 83.68%\n",
      "Best Accuracy: 83.68%\n",
      "--------------------------------------------------\n"
     ]
    },
    {
     "name": "stderr",
     "output_type": "stream",
     "text": [
      "Epoch 149/150: 100%|██████████| 48/48 [00:00<00:00, 79.44it/s, loss=0.107] \n",
      "\n"
     ]
    },
    {
     "name": "stdout",
     "output_type": "stream",
     "text": [
      "Epoch [149/150]\n",
      "Training Loss: 0.5537\n",
      "Validation Loss: 0.6353\n",
      "Test Accuracy: 82.64%\n",
      "Best Accuracy: 83.68%\n",
      "--------------------------------------------------\n"
     ]
    },
    {
     "name": "stderr",
     "output_type": "stream",
     "text": [
      "Epoch 150/150: 100%|██████████| 48/48 [00:00<00:00, 84.25it/s, loss=0.219] \n",
      "\n"
     ]
    },
    {
     "name": "stdout",
     "output_type": "stream",
     "text": [
      "Epoch [150/150]\n",
      "Training Loss: 0.6830\n",
      "Validation Loss: 0.6340\n",
      "Test Accuracy: 82.99%\n",
      "Best Accuracy: 83.68%\n",
      "--------------------------------------------------\n",
      "\n",
      "Final Best Accuracy: 83.68%\n"
     ]
    }
   ],
   "source": [
    "# Training parameters\n",
    "import math\n",
    "\n",
    "num_epochs = 150\n",
    "batch_size = 24\n",
    "\n",
    "# Create data loaders\n",
    "train_loader = DataLoader(train_dataset, batch_size=batch_size, shuffle=True)\n",
    "test_loader = DataLoader(test_dataset, batch_size=batch_size)\n",
    "\n",
    "# Learning rate scheduler with warmup\n",
    "def get_cosine_schedule_with_warmup(optimizer, num_warmup_steps, num_training_steps, num_cycles=0.5):\n",
    "    def lr_lambda(current_step):\n",
    "        if current_step < num_warmup_steps:\n",
    "            return float(current_step) / float(max(1, num_warmup_steps))\n",
    "        progress = float(current_step - num_warmup_steps) / float(max(1, num_training_steps - num_warmup_steps))\n",
    "        return max(0.0, 0.5 * (1.0 + math.cos(math.pi * progress)))\n",
    "\n",
    "    return torch.optim.lr_scheduler.LambdaLR(optimizer, lr_lambda)\n",
    "\n",
    "# Calculate total steps for scheduler\n",
    "total_steps = num_epochs * len(train_loader)\n",
    "warmup_steps = total_steps // 10\n",
    "\n",
    "scheduler = get_cosine_schedule_with_warmup(\n",
    "    optimizer,\n",
    "    num_warmup_steps=warmup_steps,\n",
    "    num_training_steps=total_steps\n",
    ")\n",
    "\n",
    "# Mixup augmentation function with adaptive alpha\n",
    "def mixup_data(x, y, epoch, num_epochs, alpha_start=0.2, alpha_end=0.4):\n",
    "    alpha = alpha_start + (alpha_end - alpha_start) * (epoch / num_epochs)\n",
    "    if alpha > 0:\n",
    "        lam = np.random.beta(alpha, alpha)\n",
    "    else:\n",
    "        lam = 1\n",
    "\n",
    "    batch_size = x[0].size()[0]\n",
    "    index = torch.randperm(batch_size).to(device)\n",
    "\n",
    "    mixed_x = (\n",
    "        lam * x[0] + (1 - lam) * x[0][index],\n",
    "        lam * x[1] + (1 - lam) * x[1][index]\n",
    "    )\n",
    "    y_a, y_b = y, y[index]\n",
    "    return mixed_x, y_a, y_b, lam\n",
    "\n",
    "# Training loop\n",
    "train_losses = []\n",
    "test_accuracies = []\n",
    "best_accuracy = 0\n",
    "best_model_state = None\n",
    "\n",
    "for epoch in range(num_epochs):\n",
    "    model.train()\n",
    "    total_loss = 0\n",
    "    \n",
    "    # Training phase\n",
    "    with tqdm(train_loader, desc=f'Epoch {epoch+1}/{num_epochs}') as pbar:\n",
    "        for (mfcc_x, prosody_x), batch_y in pbar:\n",
    "            mfcc_x = mfcc_x.to(device)\n",
    "            prosody_x = prosody_x.to(device)\n",
    "            batch_y = batch_y.to(device)\n",
    "            \n",
    "            # Apply mixup with adaptive alpha\n",
    "            mixed_X, y_a, y_b, lam = mixup_data((mfcc_x, prosody_x), batch_y, epoch, num_epochs)\n",
    "            \n",
    "            optimizer.zero_grad()\n",
    "            outputs = model(mixed_X)\n",
    "            \n",
    "            loss = mixup_criterion(criterion, outputs, y_a, y_b, lam)\n",
    "            loss.backward()\n",
    "            \n",
    "            # Gradient clipping\n",
    "            torch.nn.utils.clip_grad_norm_(model.parameters(), max_norm=1.0)\n",
    "            \n",
    "            optimizer.step()\n",
    "            scheduler.step()\n",
    "            \n",
    "            total_loss += loss.item()\n",
    "            pbar.set_postfix({'loss': loss.item()})\n",
    "    \n",
    "    # Validation phase\n",
    "    model.eval()\n",
    "    correct = 0\n",
    "    total = 0\n",
    "    all_predictions = []\n",
    "    all_targets = []\n",
    "    val_losses = []\n",
    "    \n",
    "    with torch.no_grad():\n",
    "        for (mfcc_x, prosody_x), batch_y in test_loader:\n",
    "            mfcc_x = mfcc_x.to(device)\n",
    "            prosody_x = prosody_x.to(device)\n",
    "            batch_y = batch_y.to(device)\n",
    "            \n",
    "            outputs = model((mfcc_x, prosody_x))\n",
    "            \n",
    "            val_loss = criterion(outputs, batch_y)\n",
    "            val_losses.append(val_loss.item())\n",
    "            \n",
    "            _, predicted = torch.max(outputs.data, 1)\n",
    "            total += batch_y.size(0)\n",
    "            correct += (predicted == batch_y).sum().item()\n",
    "            \n",
    "            all_predictions.extend(predicted.cpu().numpy())\n",
    "            all_targets.extend(batch_y.cpu().numpy())\n",
    "    \n",
    "    accuracy = 100 * correct / total\n",
    "    test_accuracies.append(accuracy)\n",
    "    train_losses.append(total_loss / len(train_loader))\n",
    "    \n",
    "    # Save best model\n",
    "    if accuracy > best_accuracy:\n",
    "        best_accuracy = accuracy\n",
    "        best_model_state = model.state_dict().copy()\n",
    "        epoch_predictions = all_predictions\n",
    "        epoch_targets = all_targets\n",
    "        \n",
    "        # Save model checkpoint\n",
    "        torch.save({\n",
    "            'epoch': epoch,\n",
    "            'model_state_dict': model.state_dict(),\n",
    "            'optimizer_state_dict': optimizer.state_dict(),\n",
    "            'accuracy': accuracy,\n",
    "        }, 'best_multimodal_model.pth')\n",
    "    \n",
    "    print(f'Epoch [{epoch+1}/{num_epochs}]')\n",
    "    print(f'Training Loss: {train_losses[-1]:.4f}')\n",
    "    print(f'Validation Loss: {np.mean(val_losses):.4f}')\n",
    "    print(f'Test Accuracy: {accuracy:.2f}%')\n",
    "    print(f'Best Accuracy: {best_accuracy:.2f}%')\n",
    "    print('-' * 50)\n",
    "\n",
    "# Load best model\n",
    "model.load_state_dict(best_model_state)\n",
    "print(f'\\nFinal Best Accuracy: {best_accuracy:.2f}%')"
   ]
  },
  {
   "cell_type": "markdown",
   "id": "3664242b",
   "metadata": {},
   "source": [
    "## Training Progress and Metrics\n",
    "\n",
    "The training progress shows:\n",
    "- Loss: The training loss per epoch (lower is better)\n",
    "- Test Accuracy: Overall accuracy on the test set\n",
    "- Detailed classification report every 10 epochs including:\n",
    "  - Precision: Ratio of true positives to all predicted positives\n",
    "  - Recall: Ratio of true positives to all actual positives\n",
    "  - F1-score: Harmonic mean of precision and recall\n",
    "  - Support: Number of samples for each class"
   ]
  },
  {
   "cell_type": "code",
   "execution_count": 12,
   "id": "d2987712",
   "metadata": {},
   "outputs": [
    {
     "name": "stdout",
     "output_type": "stream",
     "text": [
      "Final Classification Report:\n",
      "              precision    recall  f1-score   support\n",
      "\n",
      "     neutral       0.82      0.70      0.76        20\n",
      "        calm       0.83      0.91      0.87        44\n",
      "       happy       0.75      0.79      0.77        34\n",
      "         sad       0.79      0.77      0.78        39\n",
      "       angry       0.97      0.83      0.90        42\n",
      "     fearful       0.89      0.75      0.81        32\n",
      "     disgust       0.78      0.91      0.84        32\n",
      "   surprised       0.86      0.93      0.89        45\n",
      "\n",
      "    accuracy                           0.84       288\n",
      "   macro avg       0.84      0.82      0.83       288\n",
      "weighted avg       0.84      0.84      0.84       288\n",
      "\n"
     ]
    }
   ],
   "source": [
    "# Generate final classification report\n",
    "emotion_labels = ['neutral', 'calm', 'happy', 'sad', 'angry', 'fearful', 'disgust', 'surprised']\n",
    "\n",
    "print('Final Classification Report:')\n",
    "print(classification_report(epoch_targets, epoch_predictions, target_names=emotion_labels))"
   ]
  },
  {
   "cell_type": "markdown",
   "id": "6c480645",
   "metadata": {},
   "source": [
    "## Classification Report\n",
    "\n",
    "The classification report shows the model's performance for each emotion:\n",
    "- **Precision**: How many of the predictions for each emotion were correct\n",
    "- **Recall**: How many of the actual instances of each emotion were correctly identified\n",
    "- **F1-score**: The harmonic mean of precision and recall\n",
    "- **Support**: Number of samples for each emotion in the test set\n",
    "\n",
    "A score closer to 1.0 indicates better performance."
   ]
  },
  {
   "cell_type": "code",
   "execution_count": 13,
   "id": "825c5d0d",
   "metadata": {},
   "outputs": [
    {
     "data": {
      "image/png": "[encoded data removed]",
      "text/plain": [
       "<Figure size 1500x500 with 2 Axes>"
      ]
     },
     "metadata": {},
     "output_type": "display_data"
    },
    {
     "name": "stdout",
     "output_type": "stream",
     "text": [
      "\n",
      "Final Results:\n",
      "Best Validation Accuracy: 83.68%\n",
      "Final Training Loss: 0.6830\n"
     ]
    }
   ],
   "source": [
    "# Plot training loss and validation accuracy\n",
    "plt.figure(figsize=(15, 5))\n",
    "\n",
    "# Plot training loss\n",
    "plt.subplot(1, 2, 1)\n",
    "plt.plot(train_losses, 'b-', label='Training Loss')\n",
    "plt.title('Training Loss Over Epochs')\n",
    "plt.xlabel('Epoch')\n",
    "plt.ylabel('Loss')\n",
    "plt.grid(True)\n",
    "plt.legend()\n",
    "\n",
    "# Plot validation accuracy\n",
    "plt.subplot(1, 2, 2)\n",
    "plt.plot(test_accuracies, 'r-', label='Validation Accuracy')\n",
    "plt.title('Validation Accuracy Over Epochs')\n",
    "plt.xlabel('Epoch')\n",
    "plt.ylabel('Accuracy (%)')\n",
    "plt.grid(True)\n",
    "plt.legend()\n",
    "\n",
    "plt.tight_layout()\n",
    "plt.show()\n",
    "\n",
    "# Print final metrics\n",
    "print(f\"\\nFinal Results:\")\n",
    "print(f\"Best Validation Accuracy: {max(test_accuracies):.2f}%\")\n",
    "print(f\"Final Training Loss: {train_losses[-1]:.4f}\")"
   ]
  },
  {
   "cell_type": "markdown",
   "id": "1a4a0365",
   "metadata": {},
   "source": [
    "## Confusion Matrix\n",
    "\n",
    "The confusion matrix shows:\n",
    "- Rows: True emotions\n",
    "- Columns: Predicted emotions\n",
    "- Numbers: Count of predictions\n",
    "- Diagonal: Correct predictions\n",
    "- Off-diagonal: Misclassifications\n",
    "\n",
    "This helps identify which emotions are commonly confused with each other."
   ]
  },
  {
   "cell_type": "code",
   "execution_count": 14,
   "id": "fe7635aa",
   "metadata": {},
   "outputs": [
    {
     "data": {
      "image/png": "[encoded data removed]",
      "text/plain": [
       "<Figure size 1200x1000 with 2 Axes>"
      ]
     },
     "metadata": {},
     "output_type": "display_data"
    },
    {
     "name": "stdout",
     "output_type": "stream",
     "text": [
      "\n",
      "Confusion Matrix Analysis:\n",
      "Total Correct Predictions: 241\n",
      "Total Samples: 288\n",
      "Overall Accuracy: 83.68%\n",
      "\n",
      "Per-class Accuracy:\n",
      "neutral: 70.00%\n",
      "calm: 90.91%\n",
      "happy: 79.41%\n",
      "sad: 76.92%\n",
      "angry: 83.33%\n",
      "fearful: 75.00%\n",
      "disgust: 90.62%\n",
      "surprised: 93.33%\n"
     ]
    }
   ],
   "source": [
    "# Create and plot confusion matrix\n",
    "from sklearn.metrics import confusion_matrix\n",
    "import seaborn as sns\n",
    "\n",
    "# Compute confusion matrix\n",
    "cm = confusion_matrix(epoch_targets, epoch_predictions)\n",
    "\n",
    "# Create confusion matrix plot\n",
    "plt.figure(figsize=(12, 10))\n",
    "sns.heatmap(cm, annot=True, fmt='d', cmap='Blues',\n",
    "            xticklabels=emotion_labels,\n",
    "            yticklabels=emotion_labels)\n",
    "plt.title('Confusion Matrix')\n",
    "plt.xlabel('Predicted Emotion')\n",
    "plt.ylabel('True Emotion')\n",
    "plt.xticks(rotation=45)\n",
    "plt.yticks(rotation=45)\n",
    "plt.tight_layout()\n",
    "plt.show()\n",
    "\n",
    "# Print overall metrics\n",
    "total_correct = np.sum(np.diag(cm))\n",
    "total_samples = np.sum(cm)\n",
    "print(f\"\\nConfusion Matrix Analysis:\")\n",
    "print(f\"Total Correct Predictions: {total_correct}\")\n",
    "print(f\"Total Samples: {total_samples}\")\n",
    "print(f\"Overall Accuracy: {100 * total_correct / total_samples:.2f}%\")\n",
    "\n",
    "# Calculate per-class accuracy\n",
    "print(\"\\nPer-class Accuracy:\")\n",
    "for i, emotion in enumerate(emotion_labels):\n",
    "    class_correct = cm[i, i]\n",
    "    class_total = np.sum(cm[i, :])\n",
    "    if class_total > 0:\n",
    "        class_accuracy = 100 * class_correct / class_total\n",
    "        print(f\"{emotion}: {class_accuracy:.2f}%\")"
   ]
  }
 ],
 "metadata": {
  "kernelspec": {
   "display_name": "gpu",
   "language": "python",
   "name": "python3"
  },
  "language_info": {
   "codemirror_mode": {
    "name": "ipython",
    "version": 3
   },
   "file_extension": ".py",
   "mimetype": "text/x-python",
   "name": "python",
   "nbconvert_exporter": "python",
   "pygments_lexer": "ipython3",
   "version": "3.12.11"
  }
 },
 "nbformat": 4,
 "nbformat_minor": 5
}
